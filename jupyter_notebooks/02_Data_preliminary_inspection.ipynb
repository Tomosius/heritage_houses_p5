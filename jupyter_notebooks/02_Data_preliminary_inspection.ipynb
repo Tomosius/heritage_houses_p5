{
 "cells": [
  {
   "metadata": {},
   "cell_type": "markdown",
   "source": "#  **Notebook 2: Housing Prices Correlation**",
   "id": "ceab8140a74cfb9c"
  },
  {
   "metadata": {},
   "cell_type": "markdown",
   "source": [
    "## Objectives\n",
    "* Client is interested in discovering how house attributes correlate with the sale price. \n",
    "* Create data Visualizations of correlated variables against sale prices\n",
    "\n",
    "## Inputs\n",
    "* outputs/datasets/raw/house-price-20211124T154130Z-001/house-price/house_prices_records.csv\n",
    "\n",
    "## Outputs\n",
    "* Overview all data and data types, so before we process to data cleaning, we have better understanding on dataset"
   ],
   "id": "b38688e7e9a6d33b"
  },
  {
   "metadata": {},
   "cell_type": "markdown",
   "source": [
    "## Change working directory\n",
    "In This section we will get location of current directory and move one step up, to parent folder, so App will be accessing project folder.\n",
    "\n",
    "We need to change the working directory from its current folder to its parent folder\n",
    "* We access the current directory with os.getcwd()"
   ],
   "id": "c10bf0c6ba1d68c1"
  },
  {
   "metadata": {
    "ExecuteTime": {
     "end_time": "2024-04-28T20:38:10.190773Z",
     "start_time": "2024-04-28T20:38:10.169136Z"
    }
   },
   "cell_type": "code",
   "source": [
    "import os\n",
    "current_dir = os.getcwd()\n",
    "current_dir"
   ],
   "id": "6b5080f06ed876bc",
   "execution_count": 1,
   "outputs": []
  },
  {
   "metadata": {},
   "cell_type": "markdown",
   "source": [
    "We want to make the parent of the current directory the new current directory\n",
    "* os.path.dirname() gets the parent directory\n",
    "* os.chdir() defines the new current directory"
   ],
   "id": "945e8f1d5e812a2e"
  },
  {
   "metadata": {
    "ExecuteTime": {
     "end_time": "2024-04-28T20:38:12.853919Z",
     "start_time": "2024-04-28T20:38:12.838518Z"
    }
   },
   "cell_type": "code",
   "source": [
    "os.chdir(os.path.dirname(current_dir))\n",
    "print(\"you have set a new current directory\")"
   ],
   "id": "3d0d4153652be50e",
   "execution_count": 2,
   "outputs": []
  },
  {
   "metadata": {},
   "cell_type": "markdown",
   "source": "Confirm new current directory",
   "id": "fa01e243920e7457"
  },
  {
   "metadata": {
    "ExecuteTime": {
     "end_time": "2024-04-28T20:38:15.886638Z",
     "start_time": "2024-04-28T20:38:15.865666Z"
    }
   },
   "cell_type": "code",
   "source": [
    "current_dir = os.getcwd()\n",
    "current_dir"
   ],
   "id": "3a93cc585b4dd3d2",
   "execution_count": 3,
   "outputs": []
  },
  {
   "metadata": {},
   "cell_type": "markdown",
   "source": "## Loading Dataset",
   "id": "9b95b9be99d41160"
  },
  {
   "metadata": {
    "ExecuteTime": {
     "end_time": "2024-04-28T20:38:20.460737Z",
     "start_time": "2024-04-28T20:38:18.121984Z"
    }
   },
   "cell_type": "code",
   "source": [
    "import pandas as pd\n",
    "\n",
    "df = pd.read_csv('outputs/datasets/collection/HousePricesRecords.csv')\n",
    "df.head()"
   ],
   "id": "efc195da0fe03376",
   "execution_count": 4,
   "outputs": []
  },
  {
   "metadata": {},
   "cell_type": "markdown",
   "source": "",
   "id": "8a56d5c6fd732c1e"
  },
  {
   "metadata": {},
   "cell_type": "markdown",
   "source": [
    "## Exploring the Given Data\n",
    "\n",
    "In our data exploration phase, we will utilize a **Profile Report** to comprehensively analyze the dataset provided. This report will help us understand various aspects of the data, which are crucial for further analysis and model building. Here’s what the Profile Report will include:\n",
    "\n",
    "### Feature Breakdown\n",
    "- **Overview of Each Feature**: The report will provide a detailed examination of each feature (column) in the dataset, including data types, unique values, and missing values. This helps in identifying features that require cleaning or transformation.\n",
    "\n",
    "### Distribution of Features\n",
    "- **Statistical Summary and Distributions**: For each numeric feature, the report will include statistics such as mean, median, range, and standard deviation, along with histograms to visualize the distribution. Categorical features will be summarized with frequency counts and bar charts, illustrating how observations are distributed among different categories.\n",
    "- **Correlations**: The report will also explore correlations between features, identifying potential relationships that could inform feature selection and engineering.\n",
    "\n",
    "### Missing Data Analysis\n",
    "- **Missing Values**: Identification and quantification of missing data within each feature. The report will highlight patterns of missing data, which are critical for deciding how to handle them—whether to impute, discard, or use techniques like modeling to estimate missing values.\n",
    "- **Impact of Missing Data**: Analysis of how missing values could affect analyses and potential biases they might introduce in the model.\n",
    "\n",
    "### Benefits of Profile Reporting\n",
    "- **Efficiency**: Quickly gain insights into the dataset without manually plotting each feature.\n",
    "- **Decision Support**: Empower data-driven decisions on preprocessing steps, such as feature scaling, encoding of categorical variables, and handling missing values.\n",
    "- **Model Readiness**: Ensure the data is well-understood and appropriately prepped before moving into predictive modeling.\n",
    "\n",
    "By generating a Profile Report, we aim to lay a solid foundation for all subsequent data handling and analytical tasks. This structured approach not only saves time but also highlights critical insights that drive the analytical strategy forward.\n"
   ],
   "id": "45701baff10dbb87"
  },
  {
   "metadata": {
    "ExecuteTime": {
     "end_time": "2024-04-28T20:38:50.506924Z",
     "start_time": "2024-04-28T20:38:27.263528Z"
    }
   },
   "cell_type": "code",
   "source": [
    "from ydata_profiling import ProfileReport\n",
    "\n",
    "pandas_report = ProfileReport(df, minimal=True)\n",
    "pandas_report.to_notebook_iframe()"
   ],
   "id": "a916ae003a9fe6a9",
   "execution_count": 5,
   "outputs": []
  },
  {
   "metadata": {},
   "cell_type": "markdown",
   "source": "",
   "id": "a1ca1bda97eb1f77"
  },
  {
   "metadata": {},
   "cell_type": "markdown",
   "source": "",
   "id": "ec56fe2674b550e1"
  },
  {
   "metadata": {},
   "cell_type": "markdown",
   "source": [
    "## Conclusions\n",
    "\n",
    "There is a lot of missing data, also it is possible lots of data will have mistakes.\n",
    "\n",
    "We will move to next notebook for Data Cleaning, then we will check correlations"
   ],
   "id": "e55e57cf9ea10f39"
  },
  {
   "metadata": {},
   "cell_type": "markdown",
   "source": "",
   "id": "9046e244213048cb"
  }
 ],
 "metadata": {
  "kernelspec": {
   "display_name": "Python 3",
   "language": "python",
   "name": "python3"
  },
  "language_info": {
   "codemirror_mode": {
    "name": "ipython",
    "version": 2
   },
   "file_extension": ".py",
   "mimetype": "text/x-python",
   "name": "python",
   "nbconvert_exporter": "python",
   "pygments_lexer": "ipython2",
   "version": "2.7.6"
  }
 },
 "nbformat": 4,
 "nbformat_minor": 5
}
