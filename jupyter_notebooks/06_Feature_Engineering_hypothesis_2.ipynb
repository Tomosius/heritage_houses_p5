{
 "cells": [
  {
   "cell_type": "markdown",
   "id": "a7875c24c43c0d1e",
   "metadata": {},
   "source": [
    "# Notebook 06 - Feature Engineering\n",
    "\n",
    "## Objectives\n",
    "\n",
    "Engineer Features for:\n",
    "* Classification\n",
    "* Regression\n",
    "* Clustering\n",
    "\n",
    "## Inputs\n",
    "* outputs/datasets/cleaned/train.parquet.gzip\n",
    "\n",
    "## Outcome:\n",
    "\n",
    "All Features and Transformations for them"
   ]
  },
  {
   "cell_type": "markdown",
   "id": "47a32a78833a8ea4",
   "metadata": {},
   "source": [
    "## Change working directory\n",
    "In This section we will get location of current directory and move one step up, to parent folder, so App will be accessing project folder.\n",
    "\n",
    "We need to change the working directory from its current folder to its parent folder\n",
    "* We access the current directory with os.getcwd()"
   ]
  },
  {
   "cell_type": "code",
   "id": "e9401ea48b42b5ff",
   "metadata": {},
   "source": [
    "import os\n",
    "\n",
    "current_dir = os.getcwd()\n",
    "current_dir"
   ],
   "outputs": [],
   "execution_count": null
  },
  {
   "cell_type": "markdown",
   "id": "af8ce4b5f364e90",
   "metadata": {},
   "source": [
    "We want to make the parent of the current directory the new current directory\n",
    "* os.path.dirname() gets the parent directory\n",
    "* os.chdir() defines the new current directory"
   ]
  },
  {
   "cell_type": "code",
   "id": "374d41e491f68f3c",
   "metadata": {},
   "source": [
    "os.chdir(os.path.dirname(current_dir))\n",
    "print(\"you have set a new current directory\")"
   ],
   "outputs": [],
   "execution_count": null
  },
  {
   "cell_type": "markdown",
   "id": "59f6db5b4d3b9e3b",
   "metadata": {},
   "source": [
    "Confirm new current directory"
   ]
  },
  {
   "cell_type": "code",
   "id": "7649dd275b271b0b",
   "metadata": {},
   "source": [
    "current_dir = os.getcwd()\n",
    "current_dir"
   ],
   "outputs": [],
   "execution_count": null
  },
  {
   "cell_type": "markdown",
   "id": "891d66d7edd5b491",
   "metadata": {},
   "source": [
    "## Loading Dataset"
   ]
  },
  {
   "cell_type": "code",
   "id": "d983f77e553443e0",
   "metadata": {},
   "source": [
    "import pandas as pd\n",
    "\n",
    "df = pd.read_parquet('outputs/datasets/cleaned/train.parquet.gzip')\n",
    "df.head()"
   ],
   "outputs": [],
   "execution_count": null
  },
  {
   "cell_type": "markdown",
   "id": "46a82af219cc1b93",
   "metadata": {},
   "source": [
    "## Data Exploration\n",
    "After FIASKO with Hypothesis 1, we need to explore all features.\n",
    "\n",
    "Issues: we have so many features to explore, what will be Hard to check, with all transformation.\n",
    "\n",
    "Goal: \n",
    "1. Encode all Categorical features with Ordinal Encoder\n",
    "2. Now all Features are numerical, so we will transform all of them with all numerical transformations\n",
    "3. Create functionality:\n",
    "* Filter all new transformed features by original name\n",
    "* In loop keep dropping new created features - transformations with not good parameters:\n",
    "    * Skewness\n",
    "    * Kurtosis\n",
    "    * Check if Correlation has changed to SalePrice and other features"
   ]
  },
  {
   "metadata": {},
   "cell_type": "markdown",
   "source": [
    "## Feature Engineering\n",
    "\n",
    "Functions for encoding, Plot functionality is removed to speed up process"
   ],
   "id": "467a753c543328df"
  },
  {
   "metadata": {},
   "cell_type": "code",
   "source": [
    "import pandas as pd\n",
    "from feature_engine import transformation as vt\n",
    "\n",
    "def feat_engineering_numerical(df_feat_eng):\n",
    "    \"\"\"\n",
    "    Applies various numerical transformations to all numerical columns in the DataFrame.\n",
    "    \n",
    "    Parameters:\n",
    "        df_feat_eng (pd.DataFrame): The DataFrame to transform.\n",
    "    \n",
    "    Returns:\n",
    "        pd.DataFrame: The DataFrame with original and transformed numerical columns.\n",
    "    \"\"\"\n",
    "    # Create a deep copy of the DataFrame to avoid SettingWithCopyWarning\n",
    "    df_feat_eng_copy = df_feat_eng.copy()\n",
    "\n",
    "    # Detect numerical columns in the DataFrame\n",
    "    numerical_columns = df_feat_eng_copy.select_dtypes(include='number').columns.tolist()\n",
    "\n",
    "    # Define transformations and their corresponding column suffixes\n",
    "    transformations = {\n",
    "        \"log_e\": vt.LogTransformer(),\n",
    "        \"log_10\": vt.LogTransformer(base='10'),\n",
    "        \"reciprocal\": vt.ReciprocalTransformer(),\n",
    "        \"power\": vt.PowerTransformer(),\n",
    "        \"box_cox\": vt.BoxCoxTransformer(),\n",
    "        \"yeo_johnson\": vt.YeoJohnsonTransformer()\n",
    "    }\n",
    "\n",
    "    # Iterate over each numerical column and apply each transformation\n",
    "    for column in numerical_columns:\n",
    "        for suffix, transformer in transformations.items():\n",
    "            new_column_name = f\"{column}_{suffix}\"\n",
    "            transformer.variables = [column]  # Set the variables attribute dynamically\n",
    "            try:\n",
    "                # Apply transformation and assign to new column in the copy DataFrame\n",
    "                df_feat_eng_copy[new_column_name] = transformer.fit_transform(df_feat_eng_copy[[column]])\n",
    "            except Exception as e:\n",
    "                # Print error message with details if transformation fails\n",
    "                print(f\"Error applying {transformer.__class__.__name__} to {new_column_name}: {e}\")\n",
    "\n",
    "    return df_feat_eng_copy"
   ],
   "id": "6c6f9111c00ff0ae",
   "outputs": [],
   "execution_count": null
  },
  {
   "metadata": {},
   "cell_type": "markdown",
   "source": "Getting List of Categorical Features",
   "id": "c780a0bf0678aca4"
  },
  {
   "metadata": {},
   "cell_type": "code",
   "source": [
    "categorical_features = df.select_dtypes(['object', 'category']).columns.tolist()\n",
    "categorical_features"
   ],
   "id": "11552e01b73dd070",
   "outputs": [],
   "execution_count": null
  },
  {
   "metadata": {},
   "cell_type": "markdown",
   "source": [
    "## Transformations\n",
    "\n",
    "Categorical Encoding"
   ],
   "id": "a83084c9a2353151"
  },
  {
   "metadata": {},
   "cell_type": "markdown",
   "source": "Checking if all columns are like from Original Dataset, if there is extra ones, we will drop them",
   "id": "a3940f1073ab48a3"
  },
  {
   "metadata": {},
   "cell_type": "code",
   "source": [
    "feat_compare = pd.read_csv('outputs/datasets/collection/HousePricesRecords.csv').columns.tolist()\n",
    "df = df[feat_compare]"
   ],
   "id": "e867618acfa14047",
   "outputs": [],
   "execution_count": null
  },
  {
   "metadata": {},
   "cell_type": "code",
   "source": "df.columns",
   "id": "68caab8708ded913",
   "outputs": [],
   "execution_count": null
  },
  {
   "metadata": {},
   "cell_type": "markdown",
   "source": "This is funny, what is that Unnamed: 0? let's check",
   "id": "24718582bdd30ea3"
  },
  {
   "metadata": {},
   "cell_type": "code",
   "source": "df['Unnamed: 0']",
   "id": "3f39db05869a7dbb",
   "outputs": [],
   "execution_count": null
  },
  {
   "metadata": {},
   "cell_type": "markdown",
   "source": [
    "Looks like a copy of Index. Yeah… CSV, as I mentioned in README.md - Noot good for storing, you either loose data or get too many :D\n",
    "Lets drop it"
   ],
   "id": "d8b6a5109b627dbb"
  },
  {
   "metadata": {},
   "cell_type": "code",
   "source": [
    "df = df.drop(columns=['Unnamed: 0'])\n",
    "orig_feat = df.columns.tolist()\n",
    "orig_feat"
   ],
   "id": "88450cf3705315cd",
   "outputs": [],
   "execution_count": null
  },
  {
   "metadata": {},
   "cell_type": "code",
   "source": [
    "import pandas as pd\n",
    "import warnings\n",
    "from feature_engine.encoding import OrdinalEncoder\n",
    "\n",
    "warnings.filterwarnings('ignore')\n",
    "\n",
    "\n",
    "def encode_categorical_features(df):\n",
    "    \"\"\"\n",
    "    Encodes only the categorical features in the DataFrame while leaving other features unchanged.\n",
    "    Assumes that categorical features are of type 'category' or 'object'.\n",
    "    \"\"\"\n",
    "    # Identify categorical columns in the DataFrame\n",
    "    categorical_cols = df.select_dtypes(include=['category', 'object']).columns.tolist()\n",
    "\n",
    "    # Apply ordinal encoding only to categorical columns\n",
    "    if categorical_cols:\n",
    "        encoder = OrdinalEncoder(encoding_method='arbitrary', variables=categorical_cols)\n",
    "        df = encoder.fit_transform(df)\n",
    "\n",
    "    return df\n",
    "\n",
    "\n",
    "df[categorical_features] = encode_categorical_features(df)[categorical_features]\n",
    "df.head()"
   ],
   "id": "4fcb9030b980c748",
   "outputs": [],
   "execution_count": null
  },
  {
   "metadata": {},
   "cell_type": "code",
   "source": [
    "df_train_numerical_transformed = feat_engineering_numerical(df)\n",
    "df_train_numerical_transformed.head()"
   ],
   "id": "2f7078ee90d0fc0e",
   "outputs": [],
   "execution_count": null
  },
  {
   "metadata": {},
   "cell_type": "markdown",
   "source": [
    "### Transformations Evaluation\n",
    "\n",
    "As in previous Hypothesis, I will plot all transformations"
   ],
   "id": "81028aec57449355"
  },
  {
   "metadata": {},
   "cell_type": "code",
   "source": [
    "import scipy.stats as stats\n",
    "import seaborn as sns\n",
    "import matplotlib.pyplot as plt\n",
    "\n",
    "def diagnostic_plots_numerical(df):\n",
    "    \"\"\"\n",
    "    Creates and displays diagnostic plots for all numerical features in the DataFrame,\n",
    "    and annotates skewness, kurtosis, and mean inside the plots.\n",
    "    \n",
    "    Parameters:\n",
    "        df (pd.DataFrame): The DataFrame containing the data.\n",
    "    \n",
    "    Returns:\n",
    "        None\n",
    "    \"\"\"\n",
    "    # Detect numerical columns in the DataFrame\n",
    "    numerical_columns = df.select_dtypes(include=['number']).columns.tolist()\n",
    "\n",
    "    for variable in numerical_columns:\n",
    "        # Calculate statistics\n",
    "        mean_val = df[variable].mean()\n",
    "        skew_val = df[variable].skew()\n",
    "        kurt_val = df[variable].kurtosis()\n",
    "\n",
    "        # Set up the plotting area with three subplots\n",
    "        fig, axes = plt.subplots(1, 3, figsize=(18, 6))  # Increased figure size for better readability\n",
    "\n",
    "        # Histogram with KDE\n",
    "        sns.histplot(data=df, x=variable, kde=True, element=\"step\", ax=axes[0], color='#1f77b4')\n",
    "        axes[0].set_title('Histogram', fontsize=15)\n",
    "        axes[0].set_xlabel(variable, fontsize=12)\n",
    "        axes[0].set_ylabel('Frequency', fontsize=12)\n",
    "        # Add text annotation\n",
    "        axes[0].text(0.95, 0.95, f'Mean: {mean_val:.2f}\\nSkew: {skew_val:.2f}\\nKurtosis: {kurt_val:.2f}',\n",
    "                     verticalalignment='top', horizontalalignment='right',\n",
    "                     transform=axes[0].transAxes, fontsize=12, bbox=dict(facecolor='white', alpha=0.8))\n",
    "\n",
    "        # QQ Plot\n",
    "        stats.probplot(df[variable], dist=\"norm\", plot=axes[1])\n",
    "        axes[1].get_lines()[1].set_color('#ff7f0e')  # Change the color of the QQ line\n",
    "        axes[1].set_title('QQ Plot', fontsize=15)\n",
    "        axes[1].set_xlabel('Theoretical Quantiles', fontsize=12)\n",
    "        axes[1].set_ylabel('Sample Quantiles', fontsize=12)\n",
    "\n",
    "\n",
    "        # Boxplot\n",
    "        sns.boxplot(x=df[variable], ax=axes[2], color='#2ca02c')\n",
    "        axes[2].set_title('Boxplot', fontsize=15)\n",
    "        axes[2].set_xlabel(variable, fontsize=12)\n",
    "\n",
    "\n",
    "        # Overall title for the figure\n",
    "        fig.suptitle(f\"Diagnostic Plots for {variable}\", fontsize=20, y=1.05)\n",
    "\n",
    "        # Adjust layout for better spacing\n",
    "        plt.tight_layout()\n",
    "        plt.subplots_adjust(top=0.85)  # Adjust top spacing to make room for the main title\n",
    "\n",
    "        # Display the plots\n",
    "        plt.show()\n",
    "        print(\"\\n\")  # Print a newline for spacing in console output\n",
    "\n",
    "diagnostic_plots_numerical(df_train_numerical_transformed)"
   ],
   "id": "e7e99895462b5a8b",
   "outputs": [],
   "execution_count": null
  },
  {
   "metadata": {},
   "cell_type": "markdown",
   "source": [
    "### Transformations Summary\n",
    "\n",
    "Based on Plots above, I have selected these transformations and further actions:\n",
    "\n",
    "1. 1stFlrSF - Yeo Johnson, test with removing outliers\n",
    "2. 2ndFlrSF -  Yeo Johnson\n",
    "3. BedroomAbcGr - Yeo Johnson, test with removing outliers\n",
    "4. BsmtExposure - Yeo Johnson\n",
    "5. BsmtFinSF1 - Power, test with scaling\n",
    "6. BsmtFinType1 - Yeo Johnson\n",
    "7. BsmtUnfSF - Power, test with scaling, might need removing outliers\n",
    "8. EnclosedPorch - Discard!!!\n",
    "9. GarageArea - test with scaling and removing outliers\n",
    "10. GarageFinish - Yeo Johnson, has some negative values\n",
    "11. GarageYrBlt - Log_10\n",
    "12. GrLivArea - Log_10, neets removing outliers before creating model\n",
    "13. KithenQual - Power, h as some negative values\n",
    "14. LotArea - Yeo Johnson, has lots of outliers, test with removing them or discarding feature\n",
    "15. LotFrontage - Box_Cox, lots our outliers, try removing\n",
    "16. MasVnrArea - Yeo Johnson, has some negative values\n",
    "17. OpenPorchSF - Yeo Johnson, has some negative values\n",
    "18. OverallCond - Box Cox, test removing outliers\n",
    "19. OverallQual - Yeo Johnson, test removing outliers\n",
    "20. TotalBsmtSF - Yeo Johnson, has negative values, test with scaling and removing outliers\n",
    "21. WoodDeckSF - Discard\n",
    "22. YearBuilt - Log_10\n",
    "23. YearRemodAdd - Log10, no furthers preprocessing needed\n",
    "24. SalePrice - Log_10, remove outliers\n"
   ],
   "id": "8ecd7951b1d6d180"
  },
  {
   "metadata": {},
   "cell_type": "markdown",
   "source": "Let's make a copy of our transformations and see how it will perform with removing outliers",
   "id": "a8ec297b2b98e393"
  },
  {
   "metadata": {},
   "cell_type": "code",
   "source": [
    "df_selected_transformations = df_train_numerical_transformed[\n",
    "    ['1stFlrSF_yeo_johnson', '2ndFlrSF_yeo_johnson', 'BedroomAbvGr_yeo_johnson', 'BsmtExposure_yeo_johnson',\n",
    "     'BsmtFinSF1_power', 'BsmtFinType1_yeo_johnson', 'BsmtUnfSF_power', 'GarageArea', 'GarageFinish_yeo_johnson',\n",
    "     'GarageYrBlt_log_10', 'GrLivArea_log_10', 'KitchenQual_power', 'LotArea_yeo_johnson', 'LotFrontage_box_cox',\n",
    "     'MasVnrArea_yeo_johnson', 'OpenPorchSF_yeo_johnson', 'OverallCond_yeo_johnson', 'OverallQual_yeo_johnson',\n",
    "     'TotalBsmtSF_yeo_johnson', 'YearBuilt_log_10', 'YearRemodAdd_log_10', 'SalePrice_log_10']]"
   ],
   "id": "46b847bfdbcbd57d",
   "outputs": [],
   "execution_count": null
  },
  {
   "metadata": {},
   "cell_type": "code",
   "source": [
    "from feature_engine.outliers import OutlierTrimmer\n",
    "\n",
    "outlier_trimmer = OutlierTrimmer(capping_method='iqr', tail='both', fold=1.5,\n",
    "                                 variables=['GrLivArea_log_10'])\n",
    "df_trimmed = outlier_trimmer.fit_transform(df_train_numerical_transformed)\n",
    "diagnostic_plots_numerical(df_trimmed[['GrLivArea_log_10']])"
   ],
   "id": "c197daca8279a453",
   "outputs": [],
   "execution_count": null
  },
  {
   "metadata": {},
   "cell_type": "markdown",
   "source": "Let's try out using Winsorizer, how it looks",
   "id": "372b2a3d6011b76"
  },
  {
   "metadata": {},
   "cell_type": "code",
   "source": [
    "# Import the necessary module\n",
    "from feature_engine.outliers import Winsorizer\n",
    "\n",
    "# Create a Winsorizer instance\n",
    "winsorizer = Winsorizer(capping_method='iqr', tail='both', fold=1.5, variables=['GrLivArea_log_10'])\n",
    "\n",
    "# Apply Winsorization\n",
    "df_winsorized = winsorizer.fit_transform(df_train_numerical_transformed)\n",
    "\n",
    "# Generate diagnostic plots\n",
    "diagnostic_plots_numerical(df_winsorized[['GrLivArea_log_10']])\n"
   ],
   "id": "43712281af811f95",
   "outputs": [],
   "execution_count": null
  },
  {
   "metadata": {},
   "cell_type": "markdown",
   "source": "Winsorizer also looks very good, and same time we can keep same quantity of features records.",
   "id": "6f51eb8994d1c9e7"
  },
  {
   "metadata": {},
   "cell_type": "markdown",
   "source": [
    "## Outcome\n",
    "\n",
    "We will be applying following transformations:\n",
    "\n",
    "### Yeo Johnson Transformation\n",
    "- **1stFlrSF**: Test with removing outliers.\n",
    "- **2ndFlrSF**\n",
    "- **BedroomAbcGr**: Test with removing outliers.\n",
    "- **BsmtExposure**\n",
    "- **BsmtFinType1**\n",
    "- **GarageFinish**\n",
    "- **LotArea**: Has lots of outliers, test with removing them or discarding feature.\n",
    "- **MasVnrArea**\n",
    "- **OpenPorchSF**\n",
    "- **OverallQual**: Test removing outliers.\n",
    "- **TotalBsmtSF**: Test with scaling and removing outliers.\n",
    "\n",
    "### Log Transformation\n",
    "- **GarageYrBlt**: Apply Log_10.\n",
    "- **GrLivArea**: Apply Log_10, needs removing outliers before creating model.\n",
    "- **YearBuilt**: Apply Log_10.\n",
    "- **YearRemodAdd**: Apply Log10\n",
    "\n",
    "### Box Cox Transformation\n",
    "- **LotFrontage**: Has lots of outliers, Might need discarding feature\n",
    "- **OverallCond**: Test removing outliers.\n",
    "\n",
    "### Power Transformation\n",
    "- **BsmtFinSF1**: Test with scaling.\n",
    "- **BsmtUnfSF**: Test with scaling, might need removing outliers.\n",
    "- **KithenQual**: Has some negative values.\n",
    "\n",
    "### Discard Features\n",
    "- **EnclosedPorch**\n",
    "- **WoodDeckSF**\n",
    "\n",
    "### Other Tests and Operations\n",
    "- **GarageArea**: Test with scaling and removing outliers.\n",
    "\n"
   ],
   "id": "de8971415c5fa0ca"
  }
 ],
 "metadata": {
  "kernelspec": {
   "display_name": "Python 3 (ipykernel)",
   "language": "python",
   "name": "python3"
  },
  "language_info": {
   "codemirror_mode": {
    "name": "ipython",
    "version": 3
   },
   "file_extension": ".py",
   "mimetype": "text/x-python",
   "name": "python",
   "nbconvert_exporter": "python",
   "pygments_lexer": "ipython3",
   "version": "3.11.9"
  }
 },
 "nbformat": 4,
 "nbformat_minor": 5
}
