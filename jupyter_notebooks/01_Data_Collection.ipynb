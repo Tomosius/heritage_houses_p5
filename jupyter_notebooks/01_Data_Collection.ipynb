{
 "cells": [
  {
   "metadata": {},
   "cell_type": "markdown",
   "source": "# **Notebook 1: Data Collection**"
  },
  {
   "metadata": {},
   "cell_type": "markdown",
   "source": [
    "## Objectives\n",
    "\n",
    "* Fetch (download) data from Kaggle and save it as raw data (inputs/datasets/raw)\n",
    "* Inspect Data and save it outputs/datasets/raw\n",
    "* Save Project and push to GitHub Repository\n",
    "\n",
    "## Inputs\n",
    "\n",
    "* Kaggle JSON file - Kaggle authentication token to download dataset \n",
    "\n",
    "## Outputs\n",
    "\n",
    "* Write here which files, code or artefacts you generate by the end of the notebook\n",
    "* Save Datasets in outputs/datasets/collection  "
   ]
  },
  {
   "metadata": {},
   "cell_type": "markdown",
   "source": "***"
  },
  {
   "metadata": {},
   "cell_type": "markdown",
   "source": "## Change working directory"
  },
  {
   "metadata": {},
   "cell_type": "markdown",
   "source": "In This section we will get location of current directory and move one step up, to parent folder, so App will be accessing project folder."
  },
  {
   "metadata": {},
   "cell_type": "markdown",
   "source": [
    "1. We need to change the working directory from its current folder to its parent folder\n",
    "    * We access the current directory with os.getcwd()"
   ]
  },
  {
   "metadata": {
    "ExecuteTime": {
     "end_time": "2024-04-28T19:50:36.817251Z",
     "start_time": "2024-04-28T19:50:36.798174Z"
    }
   },
   "cell_type": "code",
   "source": [
    "import os\n",
    "current_dir = os.getcwd()\n",
    "current_dir"
   ],
   "outputs": [
    {
     "data": {
      "text/plain": [
       "'/Users/pecukevicius/DataspellProjects/heritage_houses_p5/jupyter_notebooks'"
      ]
     },
     "execution_count": 1,
     "metadata": {},
     "output_type": "execute_result"
    }
   ],
   "execution_count": 1
  },
  {
   "metadata": {},
   "cell_type": "markdown",
   "source": [
    "2. We want to make the parent of the current directory the new current directory\n",
    "    * os.path.dirname() gets the parent directory\n",
    "    * os.chdir() defines the new current directory"
   ]
  },
  {
   "metadata": {
    "ExecuteTime": {
     "end_time": "2024-04-28T19:50:40.346145Z",
     "start_time": "2024-04-28T19:50:40.339230Z"
    }
   },
   "cell_type": "code",
   "source": [
    "os.chdir(os.path.dirname(current_dir))\n",
    "print(\"you have set a new current directory\")"
   ],
   "outputs": [
    {
     "name": "stdout",
     "output_type": "stream",
     "text": [
      "you have set a new current directory\n"
     ]
    }
   ],
   "execution_count": 2
  },
  {
   "metadata": {},
   "cell_type": "markdown",
   "source": "3. Confirm new current directory"
  },
  {
   "metadata": {
    "ExecuteTime": {
     "end_time": "2024-04-28T19:50:43.945606Z",
     "start_time": "2024-04-28T19:50:43.928560Z"
    }
   },
   "cell_type": "code",
   "source": [
    "current_dir = os.getcwd()\n",
    "current_dir"
   ],
   "outputs": [
    {
     "data": {
      "text/plain": [
       "'/Users/pecukevicius/DataspellProjects/heritage_houses_p5'"
      ]
     },
     "execution_count": 3,
     "metadata": {},
     "output_type": "execute_result"
    }
   ],
   "execution_count": 3
  },
  {
   "metadata": {},
   "cell_type": "markdown",
   "source": ""
  },
  {
   "metadata": {},
   "cell_type": "markdown",
   "source": "## Getting (fetching) data from  Kaggle"
  },
  {
   "metadata": {},
   "cell_type": "markdown",
   "source": "1. First we have to install Kaggle library"
  },
  {
   "metadata": {
    "ExecuteTime": {
     "end_time": "2024-04-28T19:51:46.166533Z",
     "start_time": "2024-04-28T19:51:39.249489Z"
    }
   },
   "cell_type": "code",
   "source": "! pip install kaggle==1.6.12",
   "outputs": [
    {
     "name": "stdout",
     "output_type": "stream",
     "text": [
      "Collecting kaggle==1.6.12\r\n",
      "  Using cached kaggle-1.6.12-py3-none-any.whl\r\n",
      "Requirement already satisfied: six>=1.10 in ./venv/lib/python3.12/site-packages (from kaggle==1.6.12) (1.16.0)\r\n",
      "Requirement already satisfied: certifi>=2023.7.22 in ./venv/lib/python3.12/site-packages (from kaggle==1.6.12) (2024.2.2)\r\n",
      "Requirement already satisfied: python-dateutil in ./venv/lib/python3.12/site-packages (from kaggle==1.6.12) (2.9.0.post0)\r\n",
      "Requirement already satisfied: requests in ./venv/lib/python3.12/site-packages (from kaggle==1.6.12) (2.31.0)\r\n",
      "Requirement already satisfied: tqdm in ./venv/lib/python3.12/site-packages (from kaggle==1.6.12) (4.66.2)\r\n",
      "Requirement already satisfied: python-slugify in ./venv/lib/python3.12/site-packages (from kaggle==1.6.12) (8.0.4)\r\n",
      "Requirement already satisfied: urllib3 in ./venv/lib/python3.12/site-packages (from kaggle==1.6.12) (2.2.1)\r\n",
      "Requirement already satisfied: bleach in ./venv/lib/python3.12/site-packages (from kaggle==1.6.12) (6.1.0)\r\n",
      "Requirement already satisfied: webencodings in ./venv/lib/python3.12/site-packages (from bleach->kaggle==1.6.12) (0.5.1)\r\n",
      "Requirement already satisfied: text-unidecode>=1.3 in ./venv/lib/python3.12/site-packages (from python-slugify->kaggle==1.6.12) (1.3)\r\n",
      "Requirement already satisfied: charset-normalizer<4,>=2 in ./venv/lib/python3.12/site-packages (from requests->kaggle==1.6.12) (3.3.2)\r\n",
      "Requirement already satisfied: idna<4,>=2.5 in ./venv/lib/python3.12/site-packages (from requests->kaggle==1.6.12) (3.7)\r\n",
      "Installing collected packages: kaggle\r\n",
      "Successfully installed kaggle-1.6.12\r\n"
     ]
    }
   ],
   "execution_count": 4
  },
  {
   "metadata": {},
   "cell_type": "markdown",
   "source": [
    "2. Download authentication token from Kaggle:\n",
    "    * You will require Kaggle authentication token 'kaggle.json', for that you will need to download it from Kaggle account settings, under API's (create new token)\n",
    "    * If you do not have Kaggle account, it is advised to create one and download kaggle.json token\n",
    "    * Once token is downloaded, put it in main project folder\n",
    "    * After thatt run cell below, to adjust permissions to handle the token"
   ]
  },
  {
   "metadata": {
    "ExecuteTime": {
     "end_time": "2024-04-28T19:51:50.889553Z",
     "start_time": "2024-04-28T19:51:50.729524Z"
    }
   },
   "cell_type": "code",
   "source": [
    "import os\n",
    "\n",
    "os.environ[\"KAGGLE_CONFIG_DIR\"] = os.getcwd()\n",
    "! chmod 600 kaggle.json"
   ],
   "outputs": [],
   "execution_count": 5
  },
  {
   "metadata": {},
   "cell_type": "markdown",
   "source": [
    "3. Fetching dataset from Kaggle\n",
    "    * We will be using dataset names \"House Prices\"\n",
    "    * We will define dataset destination\n",
    "    * Fetching dataset"
   ]
  },
  {
   "metadata": {
    "ExecuteTime": {
     "end_time": "2024-04-28T19:51:57.709670Z",
     "start_time": "2024-04-28T19:51:54.873550Z"
    }
   },
   "cell_type": "code",
   "source": [
    "Kaggle_dataset_name = \"codeinstitute/housing-prices-data\"\n",
    "Destination_folder = \"inputs/datasets/raw\"\n",
    "! kaggle datasets download -d {Kaggle_dataset_name} -p {Destination_folder}"
   ],
   "outputs": [
    {
     "name": "stdout",
     "output_type": "stream",
     "text": [
      "Dataset URL: https://www.kaggle.com/datasets/codeinstitute/housing-prices-data\r\n",
      "License(s): unknown\r\n",
      "Downloading housing-prices-data.zip to inputs/datasets/raw\r\n",
      "  0%|                                               | 0.00/49.6k [00:00<?, ?B/s]\r\n",
      "100%|██████████████████████████████████████| 49.6k/49.6k [00:00<00:00, 2.54MB/s]\r\n"
     ]
    }
   ],
   "execution_count": 6
  },
  {
   "metadata": {},
   "cell_type": "markdown",
   "source": [
    "4. Unzip downloaded file\n",
    "    * First we unzip downloaded file into destination folder\n",
    "    * After unziping we delete downloaded zip file\n",
    "    * Deleting kaggle token, as it will not be required anymore"
   ]
  },
  {
   "metadata": {
    "ExecuteTime": {
     "end_time": "2024-04-28T19:52:05.635102Z",
     "start_time": "2024-04-28T19:52:05.166275Z"
    }
   },
   "cell_type": "code",
   "source": [
    "! unzip {Destination_folder}/*.zip -d {Destination_folder}\n",
    "! rm {Destination_folder}/*.zip\n",
    "! rm kaggle.json"
   ],
   "outputs": [
    {
     "name": "stdout",
     "output_type": "stream",
     "text": [
      "Archive:  inputs/datasets/raw/housing-prices-data.zip\r\n",
      "  inflating: inputs/datasets/raw/house-metadata.txt  \r\n",
      "  inflating: inputs/datasets/raw/house-price-20211124T154130Z-001/house-price/house_prices_records.csv  \r\n",
      "  inflating: inputs/datasets/raw/house-price-20211124T154130Z-001/house-price/inherited_houses.csv  \r\n"
     ]
    }
   ],
   "execution_count": 7
  },
  {
   "metadata": {},
   "cell_type": "markdown",
   "source": "5. Kaggle library is not needed anymore, we will unnistal it"
  },
  {
   "metadata": {
    "ExecuteTime": {
     "end_time": "2024-04-28T19:52:12.705472Z",
     "start_time": "2024-04-28T19:52:10.577705Z"
    }
   },
   "cell_type": "code",
   "source": "! pip uninstall -y kaggle==1.6.12",
   "outputs": [
    {
     "name": "stdout",
     "output_type": "stream",
     "text": [
      "Found existing installation: kaggle 1.6.12\r\n",
      "Uninstalling kaggle-1.6.12:\r\n",
      "  Successfully uninstalled kaggle-1.6.12\r\n"
     ]
    }
   ],
   "execution_count": 8
  },
  {
   "metadata": {},
   "cell_type": "markdown",
   "source": "## Importing packages and setting environment variables"
  },
  {
   "metadata": {
    "ExecuteTime": {
     "end_time": "2024-04-28T19:52:43.524747Z",
     "start_time": "2024-04-28T19:52:16.635967Z"
    }
   },
   "cell_type": "code",
   "source": [
    "import pandas as pd\n",
    "\n",
    "pd.options.display.max_columns = None\n",
    "pd.options.display.max_rows = None"
   ],
   "outputs": [],
   "execution_count": 9
  },
  {
   "metadata": {},
   "cell_type": "markdown",
   "source": ""
  },
  {
   "metadata": {},
   "cell_type": "markdown",
   "source": [
    "## Loading and Inspecting Dataset Records\n",
    "* we will open dataset csv file into Pandas dataframe"
   ]
  },
  {
   "metadata": {
    "ExecuteTime": {
     "end_time": "2024-04-28T19:53:37.930478Z",
     "start_time": "2024-04-28T19:53:37.856144Z"
    }
   },
   "cell_type": "code",
   "source": [
    "df = pd.read_csv(f'inputs/datasets/raw/house-price-20211124T154130Z-001/house-price/house_prices_records.csv')\n",
    "print(df.shape)\n",
    "df.head()"
   ],
   "outputs": [
    {
     "name": "stdout",
     "output_type": "stream",
     "text": [
      "(1460, 24)\n"
     ]
    },
    {
     "data": {
      "text/plain": [
       "   1stFlrSF  2ndFlrSF  BedroomAbvGr BsmtExposure  BsmtFinSF1 BsmtFinType1  \\\n",
       "0       856     854.0           3.0           No         706          GLQ   \n",
       "1      1262       0.0           3.0           Gd         978          ALQ   \n",
       "2       920     866.0           3.0           Mn         486          GLQ   \n",
       "3       961       NaN           NaN           No         216          ALQ   \n",
       "4      1145       NaN           4.0           Av         655          GLQ   \n",
       "\n",
       "   BsmtUnfSF  EnclosedPorch  GarageArea GarageFinish  GarageYrBlt  GrLivArea  \\\n",
       "0        150            0.0         548          RFn       2003.0       1710   \n",
       "1        284            NaN         460          RFn       1976.0       1262   \n",
       "2        434            0.0         608          RFn       2001.0       1786   \n",
       "3        540            NaN         642          Unf       1998.0       1717   \n",
       "4        490            0.0         836          RFn       2000.0       2198   \n",
       "\n",
       "  KitchenQual  LotArea  LotFrontage  MasVnrArea  OpenPorchSF  OverallCond  \\\n",
       "0          Gd     8450         65.0       196.0           61            5   \n",
       "1          TA     9600         80.0         0.0            0            8   \n",
       "2          Gd    11250         68.0       162.0           42            5   \n",
       "3          Gd     9550         60.0         0.0           35            5   \n",
       "4          Gd    14260         84.0       350.0           84            5   \n",
       "\n",
       "   OverallQual  TotalBsmtSF  WoodDeckSF  YearBuilt  YearRemodAdd  SalePrice  \n",
       "0            7          856         0.0       2003          2003     208500  \n",
       "1            6         1262         NaN       1976          1976     181500  \n",
       "2            7          920         NaN       2001          2002     223500  \n",
       "3            7          756         NaN       1915          1970     140000  \n",
       "4            8         1145         NaN       2000          2000     250000  "
      ],
      "text/html": [
       "<div>\n",
       "<style scoped>\n",
       "    .dataframe tbody tr th:only-of-type {\n",
       "        vertical-align: middle;\n",
       "    }\n",
       "\n",
       "    .dataframe tbody tr th {\n",
       "        vertical-align: top;\n",
       "    }\n",
       "\n",
       "    .dataframe thead th {\n",
       "        text-align: right;\n",
       "    }\n",
       "</style>\n",
       "<table border=\"1\" class=\"dataframe\">\n",
       "  <thead>\n",
       "    <tr style=\"text-align: right;\">\n",
       "      <th></th>\n",
       "      <th>1stFlrSF</th>\n",
       "      <th>2ndFlrSF</th>\n",
       "      <th>BedroomAbvGr</th>\n",
       "      <th>BsmtExposure</th>\n",
       "      <th>BsmtFinSF1</th>\n",
       "      <th>BsmtFinType1</th>\n",
       "      <th>BsmtUnfSF</th>\n",
       "      <th>EnclosedPorch</th>\n",
       "      <th>GarageArea</th>\n",
       "      <th>GarageFinish</th>\n",
       "      <th>GarageYrBlt</th>\n",
       "      <th>GrLivArea</th>\n",
       "      <th>KitchenQual</th>\n",
       "      <th>LotArea</th>\n",
       "      <th>LotFrontage</th>\n",
       "      <th>MasVnrArea</th>\n",
       "      <th>OpenPorchSF</th>\n",
       "      <th>OverallCond</th>\n",
       "      <th>OverallQual</th>\n",
       "      <th>TotalBsmtSF</th>\n",
       "      <th>WoodDeckSF</th>\n",
       "      <th>YearBuilt</th>\n",
       "      <th>YearRemodAdd</th>\n",
       "      <th>SalePrice</th>\n",
       "    </tr>\n",
       "  </thead>\n",
       "  <tbody>\n",
       "    <tr>\n",
       "      <th>0</th>\n",
       "      <td>856</td>\n",
       "      <td>854.0</td>\n",
       "      <td>3.0</td>\n",
       "      <td>No</td>\n",
       "      <td>706</td>\n",
       "      <td>GLQ</td>\n",
       "      <td>150</td>\n",
       "      <td>0.0</td>\n",
       "      <td>548</td>\n",
       "      <td>RFn</td>\n",
       "      <td>2003.0</td>\n",
       "      <td>1710</td>\n",
       "      <td>Gd</td>\n",
       "      <td>8450</td>\n",
       "      <td>65.0</td>\n",
       "      <td>196.0</td>\n",
       "      <td>61</td>\n",
       "      <td>5</td>\n",
       "      <td>7</td>\n",
       "      <td>856</td>\n",
       "      <td>0.0</td>\n",
       "      <td>2003</td>\n",
       "      <td>2003</td>\n",
       "      <td>208500</td>\n",
       "    </tr>\n",
       "    <tr>\n",
       "      <th>1</th>\n",
       "      <td>1262</td>\n",
       "      <td>0.0</td>\n",
       "      <td>3.0</td>\n",
       "      <td>Gd</td>\n",
       "      <td>978</td>\n",
       "      <td>ALQ</td>\n",
       "      <td>284</td>\n",
       "      <td>NaN</td>\n",
       "      <td>460</td>\n",
       "      <td>RFn</td>\n",
       "      <td>1976.0</td>\n",
       "      <td>1262</td>\n",
       "      <td>TA</td>\n",
       "      <td>9600</td>\n",
       "      <td>80.0</td>\n",
       "      <td>0.0</td>\n",
       "      <td>0</td>\n",
       "      <td>8</td>\n",
       "      <td>6</td>\n",
       "      <td>1262</td>\n",
       "      <td>NaN</td>\n",
       "      <td>1976</td>\n",
       "      <td>1976</td>\n",
       "      <td>181500</td>\n",
       "    </tr>\n",
       "    <tr>\n",
       "      <th>2</th>\n",
       "      <td>920</td>\n",
       "      <td>866.0</td>\n",
       "      <td>3.0</td>\n",
       "      <td>Mn</td>\n",
       "      <td>486</td>\n",
       "      <td>GLQ</td>\n",
       "      <td>434</td>\n",
       "      <td>0.0</td>\n",
       "      <td>608</td>\n",
       "      <td>RFn</td>\n",
       "      <td>2001.0</td>\n",
       "      <td>1786</td>\n",
       "      <td>Gd</td>\n",
       "      <td>11250</td>\n",
       "      <td>68.0</td>\n",
       "      <td>162.0</td>\n",
       "      <td>42</td>\n",
       "      <td>5</td>\n",
       "      <td>7</td>\n",
       "      <td>920</td>\n",
       "      <td>NaN</td>\n",
       "      <td>2001</td>\n",
       "      <td>2002</td>\n",
       "      <td>223500</td>\n",
       "    </tr>\n",
       "    <tr>\n",
       "      <th>3</th>\n",
       "      <td>961</td>\n",
       "      <td>NaN</td>\n",
       "      <td>NaN</td>\n",
       "      <td>No</td>\n",
       "      <td>216</td>\n",
       "      <td>ALQ</td>\n",
       "      <td>540</td>\n",
       "      <td>NaN</td>\n",
       "      <td>642</td>\n",
       "      <td>Unf</td>\n",
       "      <td>1998.0</td>\n",
       "      <td>1717</td>\n",
       "      <td>Gd</td>\n",
       "      <td>9550</td>\n",
       "      <td>60.0</td>\n",
       "      <td>0.0</td>\n",
       "      <td>35</td>\n",
       "      <td>5</td>\n",
       "      <td>7</td>\n",
       "      <td>756</td>\n",
       "      <td>NaN</td>\n",
       "      <td>1915</td>\n",
       "      <td>1970</td>\n",
       "      <td>140000</td>\n",
       "    </tr>\n",
       "    <tr>\n",
       "      <th>4</th>\n",
       "      <td>1145</td>\n",
       "      <td>NaN</td>\n",
       "      <td>4.0</td>\n",
       "      <td>Av</td>\n",
       "      <td>655</td>\n",
       "      <td>GLQ</td>\n",
       "      <td>490</td>\n",
       "      <td>0.0</td>\n",
       "      <td>836</td>\n",
       "      <td>RFn</td>\n",
       "      <td>2000.0</td>\n",
       "      <td>2198</td>\n",
       "      <td>Gd</td>\n",
       "      <td>14260</td>\n",
       "      <td>84.0</td>\n",
       "      <td>350.0</td>\n",
       "      <td>84</td>\n",
       "      <td>5</td>\n",
       "      <td>8</td>\n",
       "      <td>1145</td>\n",
       "      <td>NaN</td>\n",
       "      <td>2000</td>\n",
       "      <td>2000</td>\n",
       "      <td>250000</td>\n",
       "    </tr>\n",
       "  </tbody>\n",
       "</table>\n",
       "</div>"
      ]
     },
     "execution_count": 10,
     "metadata": {},
     "output_type": "execute_result"
    }
   ],
   "execution_count": 10
  },
  {
   "metadata": {},
   "cell_type": "markdown",
   "source": ""
  },
  {
   "metadata": {},
   "cell_type": "markdown",
   "source": [
    "## Dataframe Summary\n",
    "* We will get dataset summary using method .info()"
   ]
  },
  {
   "metadata": {
    "ExecuteTime": {
     "end_time": "2024-04-28T19:53:44.252971Z",
     "start_time": "2024-04-28T19:53:44.229804Z"
    }
   },
   "cell_type": "code",
   "source": "df.info()",
   "outputs": [
    {
     "name": "stdout",
     "output_type": "stream",
     "text": [
      "<class 'pandas.core.frame.DataFrame'>\n",
      "RangeIndex: 1460 entries, 0 to 1459\n",
      "Data columns (total 24 columns):\n",
      " #   Column         Non-Null Count  Dtype  \n",
      "---  ------         --------------  -----  \n",
      " 0   1stFlrSF       1460 non-null   int64  \n",
      " 1   2ndFlrSF       1374 non-null   float64\n",
      " 2   BedroomAbvGr   1361 non-null   float64\n",
      " 3   BsmtExposure   1460 non-null   object \n",
      " 4   BsmtFinSF1     1460 non-null   int64  \n",
      " 5   BsmtFinType1   1346 non-null   object \n",
      " 6   BsmtUnfSF      1460 non-null   int64  \n",
      " 7   EnclosedPorch  136 non-null    float64\n",
      " 8   GarageArea     1460 non-null   int64  \n",
      " 9   GarageFinish   1298 non-null   object \n",
      " 10  GarageYrBlt    1379 non-null   float64\n",
      " 11  GrLivArea      1460 non-null   int64  \n",
      " 12  KitchenQual    1460 non-null   object \n",
      " 13  LotArea        1460 non-null   int64  \n",
      " 14  LotFrontage    1201 non-null   float64\n",
      " 15  MasVnrArea     1452 non-null   float64\n",
      " 16  OpenPorchSF    1460 non-null   int64  \n",
      " 17  OverallCond    1460 non-null   int64  \n",
      " 18  OverallQual    1460 non-null   int64  \n",
      " 19  TotalBsmtSF    1460 non-null   int64  \n",
      " 20  WoodDeckSF     155 non-null    float64\n",
      " 21  YearBuilt      1460 non-null   int64  \n",
      " 22  YearRemodAdd   1460 non-null   int64  \n",
      " 23  SalePrice      1460 non-null   int64  \n",
      "dtypes: float64(7), int64(13), object(4)\n",
      "memory usage: 273.9+ KB\n"
     ]
    }
   ],
   "execution_count": 11
  },
  {
   "metadata": {},
   "cell_type": "markdown",
   "source": "* we can see that there is no Customer ID or any other fields with ID, so there is no need to check for duplicated data"
  },
  {
   "metadata": {},
   "cell_type": "markdown",
   "source": "## Open and read Inherited houses dataset into Pandas dataframe"
  },
  {
   "metadata": {
    "ExecuteTime": {
     "end_time": "2024-04-28T19:53:48.552945Z",
     "start_time": "2024-04-28T19:53:48.503332Z"
    }
   },
   "cell_type": "code",
   "source": [
    "df_inherited = pd.read_csv(f\"inputs/datasets/raw/house-price-20211124T154130Z-001/house-price/inherited_houses.csv\")\n",
    "print(df_inherited.shape)\n",
    "df_inherited"
   ],
   "outputs": [
    {
     "name": "stdout",
     "output_type": "stream",
     "text": [
      "(4, 23)\n"
     ]
    },
    {
     "data": {
      "text/plain": [
       "   1stFlrSF  2ndFlrSF  BedroomAbvGr BsmtExposure  BsmtFinSF1 BsmtFinType1  \\\n",
       "0       896         0             2           No       468.0          Rec   \n",
       "1      1329         0             3           No       923.0          ALQ   \n",
       "2       928       701             3           No       791.0          GLQ   \n",
       "3       926       678             3           No       602.0          GLQ   \n",
       "\n",
       "   BsmtUnfSF  EnclosedPorch  GarageArea GarageFinish  GarageYrBlt  GrLivArea  \\\n",
       "0      270.0              0       730.0          Unf       1961.0        896   \n",
       "1      406.0              0       312.0          Unf       1958.0       1329   \n",
       "2      137.0              0       482.0          Fin       1997.0       1629   \n",
       "3      324.0              0       470.0          Fin       1998.0       1604   \n",
       "\n",
       "  KitchenQual  LotArea  LotFrontage  MasVnrArea  OpenPorchSF  OverallCond  \\\n",
       "0          TA    11622         80.0         0.0            0            6   \n",
       "1          Gd    14267         81.0       108.0           36            6   \n",
       "2          TA    13830         74.0         0.0           34            5   \n",
       "3          Gd     9978         78.0        20.0           36            6   \n",
       "\n",
       "   OverallQual  TotalBsmtSF  WoodDeckSF  YearBuilt  YearRemodAdd  \n",
       "0            5        882.0         140       1961          1961  \n",
       "1            6       1329.0         393       1958          1958  \n",
       "2            5        928.0         212       1997          1998  \n",
       "3            6        926.0         360       1998          1998  "
      ],
      "text/html": [
       "<div>\n",
       "<style scoped>\n",
       "    .dataframe tbody tr th:only-of-type {\n",
       "        vertical-align: middle;\n",
       "    }\n",
       "\n",
       "    .dataframe tbody tr th {\n",
       "        vertical-align: top;\n",
       "    }\n",
       "\n",
       "    .dataframe thead th {\n",
       "        text-align: right;\n",
       "    }\n",
       "</style>\n",
       "<table border=\"1\" class=\"dataframe\">\n",
       "  <thead>\n",
       "    <tr style=\"text-align: right;\">\n",
       "      <th></th>\n",
       "      <th>1stFlrSF</th>\n",
       "      <th>2ndFlrSF</th>\n",
       "      <th>BedroomAbvGr</th>\n",
       "      <th>BsmtExposure</th>\n",
       "      <th>BsmtFinSF1</th>\n",
       "      <th>BsmtFinType1</th>\n",
       "      <th>BsmtUnfSF</th>\n",
       "      <th>EnclosedPorch</th>\n",
       "      <th>GarageArea</th>\n",
       "      <th>GarageFinish</th>\n",
       "      <th>GarageYrBlt</th>\n",
       "      <th>GrLivArea</th>\n",
       "      <th>KitchenQual</th>\n",
       "      <th>LotArea</th>\n",
       "      <th>LotFrontage</th>\n",
       "      <th>MasVnrArea</th>\n",
       "      <th>OpenPorchSF</th>\n",
       "      <th>OverallCond</th>\n",
       "      <th>OverallQual</th>\n",
       "      <th>TotalBsmtSF</th>\n",
       "      <th>WoodDeckSF</th>\n",
       "      <th>YearBuilt</th>\n",
       "      <th>YearRemodAdd</th>\n",
       "    </tr>\n",
       "  </thead>\n",
       "  <tbody>\n",
       "    <tr>\n",
       "      <th>0</th>\n",
       "      <td>896</td>\n",
       "      <td>0</td>\n",
       "      <td>2</td>\n",
       "      <td>No</td>\n",
       "      <td>468.0</td>\n",
       "      <td>Rec</td>\n",
       "      <td>270.0</td>\n",
       "      <td>0</td>\n",
       "      <td>730.0</td>\n",
       "      <td>Unf</td>\n",
       "      <td>1961.0</td>\n",
       "      <td>896</td>\n",
       "      <td>TA</td>\n",
       "      <td>11622</td>\n",
       "      <td>80.0</td>\n",
       "      <td>0.0</td>\n",
       "      <td>0</td>\n",
       "      <td>6</td>\n",
       "      <td>5</td>\n",
       "      <td>882.0</td>\n",
       "      <td>140</td>\n",
       "      <td>1961</td>\n",
       "      <td>1961</td>\n",
       "    </tr>\n",
       "    <tr>\n",
       "      <th>1</th>\n",
       "      <td>1329</td>\n",
       "      <td>0</td>\n",
       "      <td>3</td>\n",
       "      <td>No</td>\n",
       "      <td>923.0</td>\n",
       "      <td>ALQ</td>\n",
       "      <td>406.0</td>\n",
       "      <td>0</td>\n",
       "      <td>312.0</td>\n",
       "      <td>Unf</td>\n",
       "      <td>1958.0</td>\n",
       "      <td>1329</td>\n",
       "      <td>Gd</td>\n",
       "      <td>14267</td>\n",
       "      <td>81.0</td>\n",
       "      <td>108.0</td>\n",
       "      <td>36</td>\n",
       "      <td>6</td>\n",
       "      <td>6</td>\n",
       "      <td>1329.0</td>\n",
       "      <td>393</td>\n",
       "      <td>1958</td>\n",
       "      <td>1958</td>\n",
       "    </tr>\n",
       "    <tr>\n",
       "      <th>2</th>\n",
       "      <td>928</td>\n",
       "      <td>701</td>\n",
       "      <td>3</td>\n",
       "      <td>No</td>\n",
       "      <td>791.0</td>\n",
       "      <td>GLQ</td>\n",
       "      <td>137.0</td>\n",
       "      <td>0</td>\n",
       "      <td>482.0</td>\n",
       "      <td>Fin</td>\n",
       "      <td>1997.0</td>\n",
       "      <td>1629</td>\n",
       "      <td>TA</td>\n",
       "      <td>13830</td>\n",
       "      <td>74.0</td>\n",
       "      <td>0.0</td>\n",
       "      <td>34</td>\n",
       "      <td>5</td>\n",
       "      <td>5</td>\n",
       "      <td>928.0</td>\n",
       "      <td>212</td>\n",
       "      <td>1997</td>\n",
       "      <td>1998</td>\n",
       "    </tr>\n",
       "    <tr>\n",
       "      <th>3</th>\n",
       "      <td>926</td>\n",
       "      <td>678</td>\n",
       "      <td>3</td>\n",
       "      <td>No</td>\n",
       "      <td>602.0</td>\n",
       "      <td>GLQ</td>\n",
       "      <td>324.0</td>\n",
       "      <td>0</td>\n",
       "      <td>470.0</td>\n",
       "      <td>Fin</td>\n",
       "      <td>1998.0</td>\n",
       "      <td>1604</td>\n",
       "      <td>Gd</td>\n",
       "      <td>9978</td>\n",
       "      <td>78.0</td>\n",
       "      <td>20.0</td>\n",
       "      <td>36</td>\n",
       "      <td>6</td>\n",
       "      <td>6</td>\n",
       "      <td>926.0</td>\n",
       "      <td>360</td>\n",
       "      <td>1998</td>\n",
       "      <td>1998</td>\n",
       "    </tr>\n",
       "  </tbody>\n",
       "</table>\n",
       "</div>"
      ]
     },
     "execution_count": 12,
     "metadata": {},
     "output_type": "execute_result"
    }
   ],
   "execution_count": 12
  },
  {
   "metadata": {},
   "cell_type": "markdown",
   "source": ""
  },
  {
   "metadata": {},
   "cell_type": "markdown",
   "source": "# Save datasets to output folder and push files to GitHub"
  },
  {
   "metadata": {
    "ExecuteTime": {
     "end_time": "2024-04-28T19:53:55.356291Z",
     "start_time": "2024-04-28T19:53:55.310026Z"
    }
   },
   "cell_type": "code",
   "source": [
    "import os\n",
    "\n",
    "try:\n",
    "    # create outputs folder\n",
    "    os.makedirs(name='outputs/datasets/collection')\n",
    "except Exception as e:\n",
    "    print(e)\n",
    "df.to_csv(f'outputs/datasets/collection/HousePricesRecords.csv')\n",
    "df_inherited.to_csv(f'outputs/datasets/collection/InheritedHouses.csv')"
   ],
   "outputs": [],
   "execution_count": 13
  },
  {
   "metadata": {},
   "cell_type": "markdown",
   "source": [
    "# Outcome and Next Steps \n",
    "* Both datasets are different (house prices and inherited houses)\n",
    "* House Prices dataset is a mix of INT and FLOAT type features\n",
    "* Inherited houses do not have price in dataset\n",
    "* Next steps will be cleaning given data"
   ]
  }
 ],
 "metadata": {
  "accelerator": "GPU",
  "colab": {
   "name": "Data Practitioner Jupyter Notebook.ipynb",
   "provenance": [],
   "toc_visible": true
  },
  "interpreter": {
   "hash": "8b8334dab9339717f727a1deaf837b322d7a41c20d15cc86be99a8e69ceec8ce"
  },
  "kernelspec": {
   "display_name": "Python 3 (ipykernel)",
   "name": "python3",
   "language": "python"
  },
  "language_info": {
   "codemirror_mode": {
    "name": "ipython",
    "version": 3
   },
   "file_extension": ".py",
   "mimetype": "text/x-python",
   "name": "python",
   "nbconvert_exporter": "python",
   "pygments_lexer": "ipython3",
   "version": "3.8.12"
  },
  "orig_nbformat": 2
 },
 "nbformat": 4,
 "nbformat_minor": 2
}
