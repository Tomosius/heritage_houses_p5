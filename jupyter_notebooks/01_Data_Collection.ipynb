{
 "cells": [
  {
   "metadata": {},
   "cell_type": "markdown",
   "source": "# **Notebook 1: Data Collection**"
  },
  {
   "metadata": {},
   "cell_type": "markdown",
   "source": [
    "## Objectives\n",
    "\n",
    "* Fetch (download) data from Kaggle and save it as raw data (inputs/datasets/raw)\n",
    "* Inspect Data and save it outputs/datasets/raw\n",
    "* Save Project and push to GitHub Repository\n",
    "\n",
    "## Inputs\n",
    "\n",
    "* Kaggle JSON file - Kaggle authentication token to download dataset \n",
    "\n",
    "## Outputs\n",
    "\n",
    "* Write here which files, code or artefacts you generate by the end of the notebook\n",
    "* Save Datasets in outputs/datasets/collection  "
   ]
  },
  {
   "metadata": {},
   "cell_type": "markdown",
   "source": "***"
  },
  {
   "metadata": {},
   "cell_type": "markdown",
   "source": "## Change working directory"
  },
  {
   "metadata": {},
   "cell_type": "markdown",
   "source": "In This section we will get location of current directory and move one step up, to parent folder, so App will be accessing project folder."
  },
  {
   "metadata": {},
   "cell_type": "markdown",
   "source": [
    "1. We need to change the working directory from its current folder to its parent folder\n",
    "    * We access the current directory with os.getcwd()"
   ]
  },
  {
   "metadata": {},
   "cell_type": "code",
   "source": [
    "import os\n",
    "\n",
    "current_dir = os.getcwd()\n",
    "current_dir"
   ],
   "outputs": [],
   "execution_count": null
  },
  {
   "metadata": {},
   "cell_type": "markdown",
   "source": [
    "2. We want to make the parent of the current directory the new current directory\n",
    "    * os.path.dirname() gets the parent directory\n",
    "    * os.chdir() defines the new current directory"
   ]
  },
  {
   "metadata": {},
   "cell_type": "code",
   "source": [
    "os.chdir(os.path.dirname(current_dir))\n",
    "print(\"you have set a new current directory\")"
   ],
   "outputs": [],
   "execution_count": null
  },
  {
   "metadata": {},
   "cell_type": "markdown",
   "source": "3. Confirm new current directory"
  },
  {
   "metadata": {},
   "cell_type": "code",
   "source": [
    "current_dir = os.getcwd()\n",
    "current_dir"
   ],
   "outputs": [],
   "execution_count": null
  },
  {
   "metadata": {},
   "cell_type": "markdown",
   "source": "## Getting (fetching) data from  Kaggle"
  },
  {
   "metadata": {},
   "cell_type": "markdown",
   "source": "1. First we have to install Kaggle library"
  },
  {
   "metadata": {},
   "cell_type": "code",
   "source": "! pip install kaggle==1.6.12",
   "outputs": [],
   "execution_count": null
  },
  {
   "metadata": {},
   "cell_type": "markdown",
   "source": [
    "2. Download authentication token from Kaggle:\n",
    "    * You will require Kaggle authentication token 'kaggle.json', for that you will need to download it from Kaggle account settings, under APIs (create new token)\n",
    "    * If you do not have Kaggle account, it is advised to create one and download kaggle.json token\n",
    "    * Once token is downloaded, put it in main project folder\n",
    "    * After that run cell below, to adjust permissions to handle the token"
   ]
  },
  {
   "metadata": {},
   "cell_type": "code",
   "source": [
    "import os\n",
    "\n",
    "os.environ[\"KAGGLE_CONFIG_DIR\"] = os.getcwd()\n",
    "! chmod 600 kaggle.json"
   ],
   "outputs": [],
   "execution_count": null
  },
  {
   "metadata": {},
   "cell_type": "markdown",
   "source": [
    "3. Fetching dataset from Kaggle\n",
    "    * We will be using dataset names \"House Prices\"\n",
    "    * We will define dataset destination\n",
    "    * Fetching dataset"
   ]
  },
  {
   "metadata": {},
   "cell_type": "code",
   "source": [
    "Kaggle_dataset_name = \"codeinstitute/housing-prices-data\"\n",
    "Destination_folder = \"inputs/datasets/raw\"\n",
    "! kaggle datasets download -d {Kaggle_dataset_name} -p {Destination_folder}"
   ],
   "outputs": [],
   "execution_count": null
  },
  {
   "metadata": {},
   "cell_type": "markdown",
   "source": [
    "4. Unzip downloaded file\n",
    "    * First we unzip downloaded file into destination folder\n",
    "    * After unzipping we delete downloaded zip file\n",
    "    * Deleting kaggle token, as it will not be required anymore"
   ]
  },
  {
   "metadata": {},
   "cell_type": "code",
   "source": [
    "! unzip {Destination_folder}/*.zip -d {Destination_folder}\n",
    "! rm {Destination_folder}/*.zip\n",
    "! rm kaggle.json"
   ],
   "outputs": [],
   "execution_count": null
  },
  {
   "metadata": {},
   "cell_type": "markdown",
   "source": "5. Kaggle library is not needed anymore, we will uninstall it"
  },
  {
   "metadata": {},
   "cell_type": "code",
   "source": "! pip uninstall -y kaggle==1.6.12",
   "outputs": [],
   "execution_count": null
  },
  {
   "metadata": {},
   "cell_type": "markdown",
   "source": "## Importing packages and setting environment variables"
  },
  {
   "metadata": {},
   "cell_type": "code",
   "source": [
    "import pandas as pd\n",
    "\n",
    "pd.options.display.max_columns = None\n",
    "pd.options.display.max_rows = None"
   ],
   "outputs": [],
   "execution_count": null
  },
  {
   "metadata": {},
   "cell_type": "markdown",
   "source": [
    "## Loading and Inspecting Dataset Records\n",
    "* we will open dataset csv file into Pandas dataframe"
   ]
  },
  {
   "metadata": {},
   "cell_type": "code",
   "source": [
    "df = pd.read_csv(f'inputs/datasets/raw/house-price-20211124T154130Z-001/house-price/house_prices_records.csv')\n",
    "print(df.shape)\n",
    "df.head()"
   ],
   "outputs": [],
   "execution_count": null
  },
  {
   "metadata": {},
   "cell_type": "markdown",
   "source": [
    "## Dataframe Summary\n",
    "* We will get dataset summary using method .info()"
   ]
  },
  {
   "metadata": {},
   "cell_type": "code",
   "source": "df.info()",
   "outputs": [],
   "execution_count": null
  },
  {
   "metadata": {},
   "cell_type": "markdown",
   "source": "* we can see that there is no Customer ID or any other fields with ID, so there is no need to check for duplicated data"
  },
  {
   "metadata": {},
   "cell_type": "markdown",
   "source": "## Open and read Inherited houses dataset into Pandas dataframe"
  },
  {
   "metadata": {},
   "cell_type": "code",
   "source": [
    "df_inherited = pd.read_csv(f\"inputs/datasets/raw/house-price-20211124T154130Z-001/house-price/inherited_houses.csv\")\n",
    "print(df_inherited.shape)\n",
    "df_inherited"
   ],
   "outputs": [],
   "execution_count": null
  },
  {
   "metadata": {},
   "cell_type": "markdown",
   "source": "# Save datasets to output folder and push files to GitHub"
  },
  {
   "metadata": {},
   "cell_type": "code",
   "source": [
    "import os\n",
    "\n",
    "try:\n",
    "    # create outputs folder\n",
    "    os.makedirs(name='outputs/datasets/collection')\n",
    "except Exception as e:\n",
    "    print(e)\n",
    "df.to_csv(f'outputs/datasets/collection/HousePricesRecords.csv')\n",
    "df_inherited.to_csv(f'outputs/datasets/collection/InheritedHouses.csv')"
   ],
   "outputs": [],
   "execution_count": null
  },
  {
   "metadata": {},
   "cell_type": "markdown",
   "source": [
    "# Outcome and Next Steps \n",
    "* Both datasets are different (house prices and inherited houses)\n",
    "* House Prices dataset is a mix of INT and FLOAT type features\n",
    "* Inherited houses do not have price in dataset\n",
    "* Next steps will be cleaning given data"
   ]
  }
 ],
 "metadata": {
  "accelerator": "GPU",
  "colab": {
   "name": "Data Practitioner Jupyter Notebook.ipynb",
   "provenance": [],
   "toc_visible": true
  },
  "interpreter": {
   "hash": "8b8334dab9339717f727a1deaf837b322d7a41c20d15cc86be99a8e69ceec8ce"
  },
  "kernelspec": {
   "display_name": "Python 3 (ipykernel)",
   "name": "python3",
   "language": "python"
  },
  "language_info": {
   "codemirror_mode": {
    "name": "ipython",
    "version": 3
   },
   "file_extension": ".py",
   "mimetype": "text/x-python",
   "name": "python",
   "nbconvert_exporter": "python",
   "pygments_lexer": "ipython3",
   "version": "3.8.12"
  },
  "orig_nbformat": 2
 },
 "nbformat": 4,
 "nbformat_minor": 2
}
