{
 "cells": [
  {
   "cell_type": "markdown",
   "id": "a7875c24c43c0d1e",
   "metadata": {},
   "source": [
    "# Notebook 04 - Feature Engineering\n",
    "\n",
    "## Objectives\n",
    "\n",
    "Engineer Features for:\n",
    "* Classification\n",
    "* Regression\n",
    "* Clustering\n",
    "\n",
    "## Inputs\n",
    "* outputs/datasets/cleaned/train.parquet.gzip\n",
    "\n",
    "## Outcome:\n",
    "\n",
    "Selected Features and Transformations for them"
   ]
  },
  {
   "cell_type": "markdown",
   "id": "47a32a78833a8ea4",
   "metadata": {},
   "source": [
    "## Change working directory\n",
    "In This section we will get location of current directory and move one step up, to parent folder, so App will be accessing project folder.\n",
    "\n",
    "We need to change the working directory from its current folder to its parent folder\n",
    "* We access the current directory with os.getcwd()"
   ]
  },
  {
   "cell_type": "code",
   "id": "e9401ea48b42b5ff",
   "metadata": {},
   "source": [
    "import os\n",
    "\n",
    "current_dir = os.getcwd()\n",
    "current_dir"
   ],
   "outputs": [],
   "execution_count": null
  },
  {
   "cell_type": "markdown",
   "id": "af8ce4b5f364e90",
   "metadata": {},
   "source": [
    "We want to make the parent of the current directory the new current directory\n",
    "* os.path.dirname() gets the parent directory\n",
    "* os.chdir() defines the new current directory"
   ]
  },
  {
   "cell_type": "code",
   "id": "374d41e491f68f3c",
   "metadata": {},
   "source": [
    "os.chdir(os.path.dirname(current_dir))\n",
    "print(\"you have set a new current directory\")"
   ],
   "outputs": [],
   "execution_count": null
  },
  {
   "cell_type": "markdown",
   "id": "59f6db5b4d3b9e3b",
   "metadata": {},
   "source": [
    "Confirm new current directory"
   ]
  },
  {
   "cell_type": "code",
   "id": "7649dd275b271b0b",
   "metadata": {},
   "source": [
    "current_dir = os.getcwd()\n",
    "current_dir"
   ],
   "outputs": [],
   "execution_count": null
  },
  {
   "cell_type": "markdown",
   "id": "891d66d7edd5b491",
   "metadata": {},
   "source": [
    "## Loading Dataset"
   ]
  },
  {
   "cell_type": "code",
   "id": "d983f77e553443e0",
   "metadata": {},
   "source": [
    "import pandas as pd\n",
    "\n",
    "df_train = pd.read_parquet('outputs/datasets/cleaned/train.parquet.gzip')\n",
    "df_train.head()"
   ],
   "outputs": [],
   "execution_count": null
  },
  {
   "cell_type": "markdown",
   "id": "46a82af219cc1b93",
   "metadata": {},
   "source": [
    "## Data Exploration\n",
    "Before exploring data and doing transformations, as we decided earlier, we will select these features:"
   ]
  },
  {
   "cell_type": "code",
   "id": "f456f5b5f611ac9c",
   "metadata": {},
   "source": [
    "hypothesis_1_features= [\"BsmtFinType1\", \"KitchenQual\", \"OverallQual\", \"GarageFinish\", \"BsmtExposure\", \"GrLivArea\", \"GarageArea\", \"YearBuilt\", \"1stFlrSF\", \"TotalBsmtSF\", \"SalePrice\"]\n",
    "# In dataframe keeping just selected features\n",
    "df_train = df_train[hypothesis_1_features]\n",
    "df_train.head()"
   ],
   "outputs": [],
   "execution_count": null
  },
  {
   "cell_type": "markdown",
   "id": "cb176202ca1c18bc",
   "metadata": {},
   "source": [
    "## Features Engineering"
   ]
  },
  {
   "cell_type": "markdown",
   "id": "ab8c25b90e16423d",
   "metadata": {},
   "source": [
    "### Functions for transforming\n",
    "\n",
    "We have added extra feature - results\n",
    "It will be printed out on each analysis, also at the end of FeatureEngineeringAnalysis it will be returned to us, so we can analyze it bit easier."
   ]
  },
  {
   "metadata": {},
   "cell_type": "code",
   "source": [
    "from feature_engine.encoding import OrdinalEncoder\n",
    "\n",
    "def feat_engineering_categorical_encoder(df_feat_eng):\n",
    "    \"\"\"\n",
    "    Applies ordinal encoding to all categorical columns in the DataFrame.\n",
    "    \n",
    "    Parameters:\n",
    "        df_feat_eng (pd.DataFrame): The DataFrame to transform.\n",
    "    \n",
    "    Returns:\n",
    "        pd.DataFrame: The transformed DataFrame.\n",
    "    \"\"\"\n",
    "    # Detect categorical columns in the DataFrame\n",
    "    categorical_columns = df_feat_eng.select_dtypes(include=['object', 'category']).columns.tolist()\n",
    "\n",
    "    # Apply ordinal encoding to each categorical column\n",
    "    encoder = OrdinalEncoder(encoding_method='arbitrary', variables=categorical_columns)\n",
    "    try:\n",
    "        df_feat_eng = encoder.fit_transform(df_feat_eng)\n",
    "    except Exception as e:\n",
    "        print(f\"Error encoding columns {categorical_columns}: {e}\")\n",
    "        # In case of failure, drop the columns intended for encoding\n",
    "        df_feat_eng.drop(columns=categorical_columns, inplace=True)\n",
    "\n",
    "    return df_feat_eng"
   ],
   "id": "ce5fed77dd65fde4",
   "outputs": [],
   "execution_count": null
  },
  {
   "metadata": {},
   "cell_type": "code",
   "source": [
    "def apply_transformation(transformer, df, column_name):\n",
    "    \"\"\"\n",
    "    Applies a given transformer to the DataFrame and handles exceptions.\n",
    "    \n",
    "    Parameters:\n",
    "        transformer (vt.BaseNumericalTransformer): The transformer to apply.\n",
    "        df (pd.DataFrame): The DataFrame to transform.\n",
    "        column_name (str): The name of the column to transform.\n",
    "    \n",
    "    Returns:\n",
    "        pd.DataFrame: The transformed DataFrame.\n",
    "        bool: Whether the transformation was successful.\n",
    "    \"\"\"\n",
    "    try:\n",
    "        df = transformer.fit_transform(df)\n",
    "        return df, True\n",
    "    except Exception as e:\n",
    "        if column_name in df.columns:\n",
    "            df.drop([column_name], axis=1, inplace=True)\n",
    "        return df, False\n",
    "\n",
    "def feat_engineering_numerical(df_feat_eng, columns=None):\n",
    "    \"\"\"\n",
    "    Applies various numerical transformations to given columns or the entire DataFrame.\n",
    "    \n",
    "    Parameters:\n",
    "        df_feat_eng (pd.DataFrame): The DataFrame to transform.\n",
    "        columns (list or None): The list of columns to transform. If None, transforms all numerical columns.\n",
    "    \n",
    "    Returns:\n",
    "        pd.DataFrame: The transformed DataFrame.\n",
    "    \"\"\"\n",
    "    if columns is None:\n",
    "        # If no columns are specified, transform all numerical columns\n",
    "        columns = df_feat_eng.select_dtypes(include='number').columns.tolist()\n",
    "\n",
    "    # Define transformations and their corresponding column suffixes\n",
    "    transformations = {\n",
    "        \"log_e\": vt.LogTransformer,\n",
    "        \"log_10\": lambda: vt.LogTransformer(base='10'),\n",
    "        \"reciprocal\": vt.ReciprocalTransformer,\n",
    "        \"power\": vt.PowerTransformer,\n",
    "        \"box_cox\": vt.BoxCoxTransformer,\n",
    "        \"yeo_johnson\": vt.YeoJohnsonTransformer\n",
    "    }\n",
    "\n",
    "    # Apply each transformation to each column\n",
    "    for column in columns:\n",
    "        for suffix, transformer_class in transformations.items():\n",
    "            column_name = f\"{column}_{suffix}\"\n",
    "            transformer = transformer_class(variables=[column_name])\n",
    "            df_feat_eng, _ = apply_transformation(transformer, df_feat_eng, column_name)\n",
    "\n",
    "    return df_feat_eng"
   ],
   "id": "e8b0a13144466876",
   "outputs": [],
   "execution_count": null
  },
  {
   "cell_type": "markdown",
   "id": "4621fd4535ff3809",
   "metadata": {},
   "source": [
    "## Categorical Encoding\n",
    "\n",
    "Before We proceed with Deeper analysis, first we have to do:\n",
    "1. Get list of features that are categorical\n",
    "2. Get list of features that are numerical"
   ]
  },
  {
   "metadata": {},
   "cell_type": "markdown",
   "source": "Quick peek to Categorical Features",
   "id": "6ae4b1f88285a7c1"
  },
  {
   "metadata": {},
   "cell_type": "code",
   "source": [
    "import seaborn as sns\n",
    "import matplotlib.pyplot as plt\n",
    "\n",
    "def diagnostic_plots_categories(df):\n",
    "    \"\"\"\n",
    "    Creates and displays diagnostic plots for all categorical features in the DataFrame.\n",
    "    \n",
    "    Parameters:\n",
    "        df (pd.DataFrame): The DataFrame containing the data.\n",
    "    \n",
    "    Returns:\n",
    "        None\n",
    "    \"\"\"\n",
    "    # Detect categorical columns in the DataFrame\n",
    "    categorical_columns = df.select_dtypes(include=['object', 'category']).columns.tolist()\n",
    "\n",
    "    for col in categorical_columns:\n",
    "        # Determine the number of unique categories in the column\n",
    "        num_categories = df[col].nunique()\n",
    "\n",
    "        # Generate a palette with different colors for each category\n",
    "        palette = sns.color_palette(\"husl\", num_categories)\n",
    "\n",
    "        plt.figure(figsize=(10, 6))  # Set up the plotting area\n",
    "        sns.countplot(\n",
    "            data=df,\n",
    "            x=col,\n",
    "            palette=palette,  # Use the generated palette\n",
    "            order=df[col].value_counts().index\n",
    "        )\n",
    "        plt.xticks(rotation=90)  # Rotate x-axis labels for better readability\n",
    "        plt.title(f\"{col}\", fontsize=20, y=1.05)  # Add a title with increased font size\n",
    "        plt.show()  # Display the plot\n",
    "        print(\"\\n\")  # Print a newline for spacing in console output\n",
    "\n",
    "diagnostic_plots_categories(df_train)\n"
   ],
   "id": "feaa78b17994e527",
   "outputs": [],
   "execution_count": null
  },
  {
   "cell_type": "code",
   "id": "d0ecb6493360abf6",
   "metadata": {},
   "source": [
    "# Getting list of categorical features\n",
    "\n",
    "categorical_features = df_train.select_dtypes(include=['object', 'category']).columns.tolist()\n",
    "categorical_features"
   ],
   "outputs": [],
   "execution_count": null
  },
  {
   "cell_type": "code",
   "id": "178e90e9fddfe2b4",
   "metadata": {},
   "source": [
    "# Getting list of numerical features\n",
    "numerical_features = df_train.select_dtypes(include=['int', 'float']).columns.tolist()\n",
    "numerical_features"
   ],
   "outputs": [],
   "execution_count": null
  },
  {
   "cell_type": "markdown",
   "id": "c4634a6d04eefcb7",
   "metadata": {},
   "source": [
    "#### Encoding Categorical Features and exploring distribution"
   ]
  },
  {
   "metadata": {},
   "cell_type": "code",
   "source": [
    "df_train_categorical_encoded = feat_engineering_categorical_encoder(df_train[categorical_features])\n",
    "df_train_categorical_encoded"
   ],
   "id": "4dd23a5e019e82cd",
   "outputs": [],
   "execution_count": null
  },
  {
   "metadata": {},
   "cell_type": "markdown",
   "source": "Lets take a look how categorical after Encoding",
   "id": "7afe0e03ee35b5a1"
  },
  {
   "metadata": {},
   "cell_type": "code",
   "source": [
    "import scipy.stats as stats\n",
    "\n",
    "def diagnostic_plots_numerical(df):\n",
    "    \"\"\"\n",
    "    Creates and displays diagnostic plots for all numerical features in the DataFrame,\n",
    "    and annotates skewness, kurtosis, and mean inside the plots.\n",
    "    \n",
    "    Parameters:\n",
    "        df (pd.DataFrame): The DataFrame containing the data.\n",
    "    \n",
    "    Returns:\n",
    "        None\n",
    "    \"\"\"\n",
    "    # Detect numerical columns in the DataFrame\n",
    "    numerical_columns = df.select_dtypes(include=['number']).columns.tolist()\n",
    "\n",
    "    for variable in numerical_columns:\n",
    "        # Calculate statistics\n",
    "        mean_val = df[variable].mean()\n",
    "        skew_val = df[variable].skew()\n",
    "        kurt_val = df[variable].kurtosis()\n",
    "\n",
    "        # Set up the plotting area with three subplots\n",
    "        fig, axes = plt.subplots(1, 3, figsize=(18, 6))  # Increased figure size for better readability\n",
    "\n",
    "        # Histogram with KDE\n",
    "        sns.histplot(data=df, x=variable, kde=True, element=\"step\", ax=axes[0], color='#1f77b4')\n",
    "        axes[0].set_title('Histogram', fontsize=15)\n",
    "        axes[0].set_xlabel(variable, fontsize=12)\n",
    "        axes[0].set_ylabel('Frequency', fontsize=12)\n",
    "        # Add text annotation\n",
    "        axes[0].text(0.95, 0.95, f'Mean: {mean_val:.2f}\\nSkew: {skew_val:.2f}\\nKurtosis: {kurt_val:.2f}',\n",
    "                     verticalalignment='top', horizontalalignment='right',\n",
    "                     transform=axes[0].transAxes, fontsize=12, bbox=dict(facecolor='white', alpha=0.8))\n",
    "\n",
    "        # QQ Plot\n",
    "        stats.probplot(df[variable], dist=\"norm\", plot=axes[1])\n",
    "        axes[1].get_lines()[1].set_color('#ff7f0e')  # Change the color of the QQ line\n",
    "        axes[1].set_title('QQ Plot', fontsize=15)\n",
    "        axes[1].set_xlabel('Theoretical Quantiles', fontsize=12)\n",
    "        axes[1].set_ylabel('Sample Quantiles', fontsize=12)\n",
    "        \n",
    "\n",
    "        # Boxplot\n",
    "        sns.boxplot(x=df[variable], ax=axes[2], color='#2ca02c')\n",
    "        axes[2].set_title('Boxplot', fontsize=15)\n",
    "        axes[2].set_xlabel(variable, fontsize=12)\n",
    "        \n",
    "\n",
    "        # Overall title for the figure\n",
    "        fig.suptitle(f\"Diagnostic Plots for {variable}\", fontsize=20, y=1.05)\n",
    "\n",
    "        # Adjust layout for better spacing\n",
    "        plt.tight_layout()\n",
    "        plt.subplots_adjust(top=0.85)  # Adjust top spacing to make room for the main title\n",
    "\n",
    "        # Display the plots\n",
    "        plt.show()\n",
    "        print(\"\\n\")  # Print a newline for spacing in console output\n",
    "\n",
    "diagnostic_plots_numerical(df_train_categorical_encoded)"
   ],
   "id": "93733a3aab316a6b",
   "outputs": [],
   "execution_count": null
  },
  {
   "cell_type": "markdown",
   "id": "cb5c1e3b0c766975",
   "metadata": {},
   "source": [
    "We can not notice anything extraordinary, all looks pretty normal."
   ]
  },
  {
   "cell_type": "markdown",
   "id": "43bd957b0e3c25cf",
   "metadata": {},
   "source": [
    "#### Inspecting dataframe Numerical Features\n",
    "\n",
    "Transformations for numerical Features\n"
   ]
  },
  {
   "metadata": {},
   "cell_type": "code",
   "source": [
    "import pandas as pd\n",
    "from feature_engine import transformation as vt\n",
    "\n",
    "def feat_engineering_numerical(df_feat_eng):\n",
    "    \"\"\"\n",
    "    Applies various numerical transformations to all numerical columns in the DataFrame.\n",
    "    \n",
    "    Parameters:\n",
    "        df_feat_eng (pd.DataFrame): The DataFrame to transform.\n",
    "    \n",
    "    Returns:\n",
    "        pd.DataFrame: The DataFrame with original and transformed numerical columns.\n",
    "    \"\"\"\n",
    "    # Create a deep copy of the DataFrame to avoid SettingWithCopyWarning\n",
    "    df_feat_eng_copy = df_feat_eng.copy()\n",
    "\n",
    "    # Detect numerical columns in the DataFrame\n",
    "    numerical_columns = df_feat_eng_copy.select_dtypes(include='number').columns.tolist()\n",
    "\n",
    "    # Define transformations and their corresponding column suffixes\n",
    "    transformations = {\n",
    "        \"log_e\": vt.LogTransformer(),\n",
    "        \"log_10\": vt.LogTransformer(base='10'),\n",
    "        \"reciprocal\": vt.ReciprocalTransformer(),\n",
    "        \"power\": vt.PowerTransformer(),\n",
    "        \"box_cox\": vt.BoxCoxTransformer(),\n",
    "        \"yeo_johnson\": vt.YeoJohnsonTransformer()\n",
    "    }\n",
    "\n",
    "    # Iterate over each numerical column and apply each transformation\n",
    "    for column in numerical_columns:\n",
    "        for suffix, transformer in transformations.items():\n",
    "            new_column_name = f\"{column}_{suffix}\"\n",
    "            transformer.variables = [column]  # Set the variables attribute dynamically\n",
    "            try:\n",
    "                # Apply transformation and assign to new column in the copy DataFrame\n",
    "                df_feat_eng_copy[new_column_name] = transformer.fit_transform(df_feat_eng_copy[[column]])\n",
    "            except Exception as e:\n",
    "                # Print error message with details if transformation fails\n",
    "                print(f\"Error applying {transformer.__class__.__name__} to {new_column_name}: {e}\")\n",
    "\n",
    "    return df_feat_eng_copy"
   ],
   "id": "a11ec9c119423c35",
   "outputs": [],
   "execution_count": null
  },
  {
   "metadata": {},
   "cell_type": "code",
   "source": [
    "df_train_numerical_transformed = feat_engineering_numerical(df_train[numerical_features])\n",
    "df_train_numerical_transformed"
   ],
   "id": "87b2d2ef2ab75bea",
   "outputs": [],
   "execution_count": null
  },
  {
   "cell_type": "code",
   "id": "5f38744012df06c7",
   "metadata": {},
   "source": "diagnostic_plots_numerical(df_train_numerical_transformed)",
   "outputs": [],
   "execution_count": null
  },
  {
   "cell_type": "markdown",
   "id": "5f34d232d4bfa29e",
   "metadata": {},
   "source": [
    "### Based on plots above we can select best transformations for each feature:\n",
    "\n",
    "1. OverallQual: Log-e, Power, Original Values\n",
    "2. GrLivArea: Log-e, Box Cox, Yeo Johnson, Original Values\n",
    "3. 1stFlrSF: Log-e, Box_Cox, Yeo Johnson, Power, Original Values\n",
    "4. TotalBsmtSF: Power, Yeo Johnson\n",
    "5. GarageArea: Power, Original Values\n",
    "6. YearBuilt: Log-e, Power, Box Cox"
   ]
  },
  {
   "cell_type": "markdown",
   "id": "7e50b0eb107b6455",
   "metadata": {},
   "source": [
    "### Selection of Transformations and further actions\n",
    "\n",
    "To make an easier decision, we will use ydata profiling see all information we need\n",
    "for that we will make a list of Features we want to explore"
   ]
  },
  {
   "metadata": {},
   "cell_type": "code",
   "source": "selected_items = ['OverallQual', 'OverallQual_log_e', 'OverallQual_power', 'GrLivArea', 'GrLivArea_log_e', 'GrLivArea_box_cox', 'GrLivArea_yeo_johnson', '1stFlrSF', '1stFlrSF_log_e', '1stFlrSF_power', '1stFlrSF_box_cox', '1stFlrSF_yeo_johnson', 'TotalBsmtSF_power', 'TotalBsmtSF_yeo_johnson', 'GarageArea', 'GarageArea_power', 'YearBuilt_box_cox', 'YearBuilt_log_e', 'YearBuilt_power', 'SalePrice', 'SalePrice_log_e', 'SalePrice_log_10', 'SalePrice_box_cox', 'SalePrice_yeo_johnson']",
   "id": "21daf434bbf82f10",
   "outputs": [],
   "execution_count": null
  },
  {
   "metadata": {},
   "cell_type": "code",
   "source": [
    "from ydata_profiling import ProfileReport\n",
    "\n",
    "hypothesis_1_transformations_profile = ProfileReport(df_train_numerical_transformed[selected_items], minimal=True)\n",
    "hypothesis_1_transformations_profile.to_notebook_iframe()"
   ],
   "id": "7ffd1f842c94ecd0",
   "outputs": [],
   "execution_count": null
  },
  {
   "metadata": {},
   "cell_type": "markdown",
   "source": [
    "### Final selection of transformation for features:\n",
    "\n",
    "First lets check, maybe our target needs transformations:\n",
    "\n",
    "Features:\n",
    "1. OverallQual - Original Values. Somehow in Profile Report, OverallQual after transformations, skew values are different from plots we have observed. At this point i will trust more Profile Report than my coding for transformations.\n",
    "2. GrLivArea - Box Cox. Kurtosis. Skewness = 0.0007368103, kurtosis = 0.12902342, overall distribution looks good and no extreme values\n",
    "3. 1sfFlrSF - Yeo Johnson. Skewness is just 0.00060557042, while kurtosis is not inspiring = -0.11443746, extreme values not noticed\n",
    "4. TotalBsmtSF - Yeo Johnson. Skewness -0.028003628, kurtosis 1.7998654, we have a bit of wide range of values from 0 and 49.42 up to 752.46. might need normalization \n",
    "5. GarageArea - Original Values, skewness is just 0.11419629 and kurtosis 0.8197573, also noticed extreme values from 0 till 1390\n",
    "6. YearBuilt - Box Cox, skewness -0.13552187 and kurtosis is still negative -1.2199092. We have very high values, lowest is with e69, highest with e70, we will simply divide it by 1e69"
   ],
   "id": "423aea3e561e81a7"
  },
  {
   "metadata": {},
   "cell_type": "markdown",
   "source": [
    "## Outcome\n",
    "\n",
    "* Ordinal Encoder: ['BsmtFinType1', 'KitchenQual', 'BsmtExposure', 'GarageFinish']\n",
    "* Numerical transformations:\n",
    "    * Box Cox: ['GrLivArea', 'YearBuilt', 'SalePrice']\n",
    "    * Yeo Johnson: ['1stFlrSF', TotalBsmtSF']\n",
    "    *  'YearBuilt' divide by 1e69\n",
    "* Original Values: ['OverallQual', 'GarageArea']\n"
   ],
   "id": "189c8f273a4ad91e"
  }
 ],
 "metadata": {
  "kernelspec": {
   "display_name": "Python 3 (ipykernel)",
   "language": "python",
   "name": "python3"
  },
  "language_info": {
   "codemirror_mode": {
    "name": "ipython",
    "version": 3
   },
   "file_extension": ".py",
   "mimetype": "text/x-python",
   "name": "python",
   "nbconvert_exporter": "python",
   "pygments_lexer": "ipython3",
   "version": "3.11.9"
  }
 },
 "nbformat": 4,
 "nbformat_minor": 5
}
