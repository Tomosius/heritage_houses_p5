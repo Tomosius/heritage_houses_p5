{
 "cells": [
  {
   "metadata": {},
   "cell_type": "markdown",
   "source": [
    "# Notebook 07 - Masonry veneer area and porch areas data cleaning and fixing\n",
    "\n",
    "## Objectives\n",
    "* Clean data\n",
    "* Evaluate and process missing data\n",
    "* Fix potential issues with data in features (MasVnrArea, EnclosedPorch, OpenPorch)\n",
    "\n",
    "## Inputs\n",
    "* inputs/datasets/cleaning/lot_features.csv\n",
    "\n",
    "## Outputs\n",
    "* Clean and fix (missing and potentially wrong) data in given column\n",
    "* After cleaning is completed, we will save current dataset in inputs/datasets/cleaning/masonry_and_porch.csv"
   ],
   "id": "a7875c24c43c0d1e"
  },
  {
   "metadata": {},
   "cell_type": "markdown",
   "source": [
    "## Change working directory\n",
    "In This section we will get location of current directory and move one step up, to parent folder, so App will be accessing project folder.\n",
    "\n",
    "We need to change the working directory from its current folder to its parent folder\n",
    "* We access the current directory with os.getcwd()"
   ],
   "id": "cb656678d593177e"
  },
  {
   "metadata": {
    "ExecuteTime": {
     "end_time": "2024-04-29T22:24:03.900360Z",
     "start_time": "2024-04-29T22:24:03.881159Z"
    }
   },
   "cell_type": "code",
   "source": [
    "import os\n",
    "current_dir = os.getcwd()\n",
    "current_dir"
   ],
   "id": "aebc2a0372b47511",
   "execution_count": 1,
   "outputs": []
  },
  {
   "metadata": {},
   "cell_type": "markdown",
   "source": [
    "We want to make the parent of the current directory the new current directory\n",
    "* os.path.dirname() gets the parent directory\n",
    "* os.chdir() defines the new current directory"
   ],
   "id": "61376d0e5ecf487c"
  },
  {
   "metadata": {
    "ExecuteTime": {
     "end_time": "2024-04-29T22:24:03.913194Z",
     "start_time": "2024-04-29T22:24:03.905969Z"
    }
   },
   "cell_type": "code",
   "source": [
    "os.chdir(os.path.dirname(current_dir))\n",
    "print(\"you have set a new current directory\")"
   ],
   "id": "ad55fa3d2f5db8d0",
   "execution_count": 2,
   "outputs": []
  },
  {
   "metadata": {},
   "cell_type": "markdown",
   "source": "Confirm new current directory",
   "id": "2ef02ca3ee0c6a3c"
  },
  {
   "metadata": {
    "ExecuteTime": {
     "end_time": "2024-04-29T22:24:03.930059Z",
     "start_time": "2024-04-29T22:24:03.917992Z"
    }
   },
   "cell_type": "code",
   "source": [
    "current_dir = os.getcwd()\n",
    "current_dir"
   ],
   "id": "a4c9d92dbb8cc3a9",
   "execution_count": 3,
   "outputs": []
  },
  {
   "metadata": {},
   "cell_type": "markdown",
   "source": "We need to check current working directory",
   "id": "22e5c3d0ef0ef283"
  },
  {
   "metadata": {
    "ExecuteTime": {
     "end_time": "2024-04-29T22:24:03.942533Z",
     "start_time": "2024-04-29T22:24:03.933575Z"
    }
   },
   "cell_type": "code",
   "source": "current_dir",
   "id": "ba1df529a54df2f3",
   "execution_count": 4,
   "outputs": []
  },
  {
   "metadata": {},
   "cell_type": "markdown",
   "source": [
    "We can see that current is **jupyter_notebooks**, as current notebook is in subfolder. We will go one step up to parent directory, what will be our project main directory.\n",
    "Print out to confirm working directory"
   ],
   "id": "36cb42d41d3602a4"
  },
  {
   "metadata": {
    "ExecuteTime": {
     "end_time": "2024-04-29T22:24:03.956952Z",
     "start_time": "2024-04-29T22:24:03.947850Z"
    }
   },
   "cell_type": "code",
   "source": [
    "os.chdir(os.path.dirname(current_dir))\n",
    "current_dir = os.getcwd()\n",
    "current_dir"
   ],
   "id": "14a35895387aca00",
   "execution_count": 5,
   "outputs": []
  },
  {
   "metadata": {},
   "cell_type": "markdown",
   "source": "",
   "id": "9c67382aa77af8a3"
  },
  {
   "metadata": {},
   "cell_type": "markdown",
   "source": "## Loading Dataset",
   "id": "891d66d7edd5b491"
  },
  {
   "metadata": {
    "ExecuteTime": {
     "end_time": "2024-04-29T22:24:04.989336Z",
     "start_time": "2024-04-29T22:24:03.959759Z"
    }
   },
   "cell_type": "code",
   "source": [
    "import pandas as pd\n",
    "\n",
    "df = pd.read_csv(\"inputs/datasets/cleaning/lot_features.csv\")\n",
    "df.head()"
   ],
   "id": "d983f77e553443e0",
   "execution_count": 6,
   "outputs": []
  },
  {
   "metadata": {},
   "cell_type": "markdown",
   "source": [
    "## Exploring Data\n",
    "\n",
    "We will get all features that are missing data as a list"
   ],
   "id": "957218d717e97c5c"
  },
  {
   "metadata": {
    "ExecuteTime": {
     "end_time": "2024-04-29T22:24:05.006342Z",
     "start_time": "2024-04-29T22:24:04.992004Z"
    }
   },
   "cell_type": "code",
   "source": [
    "print(\"Masonry veneer missing values are: \",df['MasVnrArea'].isnull().sum())\n",
    "print(\"Enclosed Porch missing values are: \",df['EnclosedPorch'].isnull().sum())\n",
    "print(\"Open Porch missing values are: \",df['OpenPorchSF'].isnull().sum())"
   ],
   "id": "92fcbe7ec7e9b468",
   "execution_count": 7,
   "outputs": []
  },
  {
   "metadata": {},
   "cell_type": "markdown",
   "source": [
    "We can see that there are missing values on Masonry Veneer and Enclosed Porch.\n",
    "\n",
    "Enclosed Porch missing values we will replace with 0, as it is majority missing, this is why we believe it should be 0 - no enclosed porches\n",
    "\n",
    "Masonry Veneer is missing just 8 values, for curiosity we will check what is mean, and how many "
   ],
   "id": "36e3773acdaa040d"
  },
  {
   "metadata": {
    "ExecuteTime": {
     "end_time": "2024-04-29T22:24:05.066005Z",
     "start_time": "2024-04-29T22:24:05.009632Z"
    }
   },
   "cell_type": "code",
   "source": [
    "df.loc[:, 'EnclosedPorch'] = df['LotFrontage'].fillna(value=0)\n",
    "print(\"Masonry veneer mean number is: \",df['MasVnrArea'].mean())\n",
    "print(\"Total amount of houses which have Masonry Veneer is: \", (df['MasVnrArea'] > 0).sum())"
   ],
   "id": "b1621d7231e22682",
   "execution_count": 8,
   "outputs": []
  },
  {
   "metadata": {},
   "cell_type": "markdown",
   "source": [
    "We can see that just about third of houses has Veneer, and even then it is about 103 square feet.\n",
    "We will replace missing values with 0"
   ],
   "id": "49dd6f64c619c609"
  },
  {
   "metadata": {},
   "cell_type": "markdown",
   "source": "",
   "id": "344255c8c3658391"
  },
  {
   "metadata": {
    "ExecuteTime": {
     "end_time": "2024-04-29T22:24:05.095880Z",
     "start_time": "2024-04-29T22:24:05.089192Z"
    }
   },
   "cell_type": "code",
   "source": "df.loc[:, 'MasVnrArea'] = df['MasVnrArea'].fillna(value=0)",
   "id": "c6123d6a26afd23",
   "execution_count": 9,
   "outputs": []
  },
  {
   "metadata": {},
   "cell_type": "markdown",
   "source": "We will check data types for our current features",
   "id": "6cc6c8515fa0e02d"
  },
  {
   "metadata": {
    "ExecuteTime": {
     "end_time": "2024-04-29T22:24:05.112759Z",
     "start_time": "2024-04-29T22:24:05.099258Z"
    }
   },
   "cell_type": "code",
   "source": "df[['MasVnrArea', 'EnclosedPorch', 'OpenPorchSF']].dtypes",
   "id": "5ba6fbdc2ca54377",
   "execution_count": 10,
   "outputs": []
  },
  {
   "metadata": {},
   "cell_type": "markdown",
   "source": "We need converting MasVnrArea and EnclosedPorch to int",
   "id": "4c08413783e53255"
  },
  {
   "metadata": {
    "ExecuteTime": {
     "end_time": "2024-04-29T22:24:05.131283Z",
     "start_time": "2024-04-29T22:24:05.121551Z"
    }
   },
   "cell_type": "code",
   "source": "df[['MasVnrArea', 'EnclosedPorch']] = df[['MasVnrArea', 'EnclosedPorch']].astype(int)",
   "id": "a69dfa451703d641",
   "execution_count": 11,
   "outputs": []
  },
  {
   "metadata": {},
   "cell_type": "markdown",
   "source": [
    "## Saving current dataset\n",
    "\n",
    "We will save current dataset as inputs/datasets/cleaning/masonry_and_porch.csv"
   ],
   "id": "f1c7cc1730302c2a"
  },
  {
   "metadata": {
    "ExecuteTime": {
     "end_time": "2024-04-29T22:24:05.178277Z",
     "start_time": "2024-04-29T22:24:05.135867Z"
    }
   },
   "cell_type": "code",
   "source": "df.to_csv('inputs/datasets/cleaning/masonry_and_porch.csv', index=False)",
   "id": "75243e3bb74813c9",
   "execution_count": 12,
   "outputs": []
  },
  {
   "metadata": {},
   "cell_type": "markdown",
   "source": "## Next step is cleaning Overall Quality and Condition of house-cleaning and fixing data in garages",
   "id": "dfc9eb8e51e258ce"
  }
 ],
 "metadata": {
  "kernelspec": {
   "display_name": "Python 3",
   "language": "python",
   "name": "python3"
  },
  "language_info": {
   "codemirror_mode": {
    "name": "ipython",
    "version": 2
   },
   "file_extension": ".py",
   "mimetype": "text/x-python",
   "name": "python",
   "nbconvert_exporter": "python",
   "pygments_lexer": "ipython2",
   "version": "2.7.6"
  }
 },
 "nbformat": 4,
 "nbformat_minor": 5
}
