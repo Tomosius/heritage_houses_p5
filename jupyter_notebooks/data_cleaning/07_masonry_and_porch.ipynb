{
 "cells": [
  {
   "metadata": {},
   "cell_type": "markdown",
   "source": [
    "# Notebook 07 - Masonry veneer area and porch areas data cleaning and fixing\n",
    "\n",
    "## Objectives\n",
    "* Clean data\n",
    "* Evaluate and process missing data\n",
    "* Fix potential issues with data in features (MasVnrArea, EnclosedPorch, OpenPorch)\n",
    "\n",
    "## Inputs\n",
    "* inputs/datasets/cleaning/lot_features.parquet.gzip\n",
    "\n",
    "## Outputs\n",
    "* Clean and fix (missing and potentially wrong) data in given column\n",
    "* After cleaning is completed, we will save current dataset in inputs/datasets/cleaning/masonry_and_porch.parquet.gzip"
   ],
   "id": "a7875c24c43c0d1e"
  },
  {
   "metadata": {},
   "cell_type": "markdown",
   "source": [
    "## Change working directory\n",
    "In This section we will get location of current directory and move one step up, to parent folder, so App will be accessing project folder.\n",
    "\n",
    "We need to change the working directory from its current folder to its parent folder\n",
    "* We access the current directory with os.getcwd()"
   ],
   "id": "cb656678d593177e"
  },
  {
   "metadata": {},
   "cell_type": "code",
   "source": [
    "import os\n",
    "\n",
    "current_dir = os.getcwd()\n",
    "current_dir"
   ],
   "id": "aebc2a0372b47511",
   "execution_count": null,
   "outputs": []
  },
  {
   "metadata": {},
   "cell_type": "markdown",
   "source": [
    "We want to make the parent of the current directory the new current directory\n",
    "* os.path.dirname() gets the parent directory\n",
    "* os.chdir() defines the new current directory"
   ],
   "id": "61376d0e5ecf487c"
  },
  {
   "metadata": {},
   "cell_type": "code",
   "source": [
    "os.chdir(os.path.dirname(current_dir))\n",
    "print(\"you have set a new current directory\")"
   ],
   "id": "ad55fa3d2f5db8d0",
   "execution_count": null,
   "outputs": []
  },
  {
   "metadata": {},
   "cell_type": "markdown",
   "source": "Confirm new current directory",
   "id": "2ef02ca3ee0c6a3c"
  },
  {
   "metadata": {},
   "cell_type": "code",
   "source": [
    "current_dir = os.getcwd()\n",
    "current_dir"
   ],
   "id": "a4c9d92dbb8cc3a9",
   "execution_count": null,
   "outputs": []
  },
  {
   "metadata": {},
   "cell_type": "markdown",
   "source": "We need to check current working directory",
   "id": "22e5c3d0ef0ef283"
  },
  {
   "metadata": {},
   "cell_type": "code",
   "source": "current_dir",
   "id": "ba1df529a54df2f3",
   "execution_count": null,
   "outputs": []
  },
  {
   "metadata": {},
   "cell_type": "markdown",
   "source": [
    "We can see that current is **jupyter_notebooks**, as current notebook is in subfolder. We will go one step up to parent directory, what will be our project main directory.\n",
    "Print out to confirm working directory"
   ],
   "id": "36cb42d41d3602a4"
  },
  {
   "metadata": {},
   "cell_type": "code",
   "source": [
    "os.chdir(os.path.dirname(current_dir))\n",
    "current_dir = os.getcwd()\n",
    "current_dir"
   ],
   "id": "14a35895387aca00",
   "execution_count": null,
   "outputs": []
  },
  {
   "metadata": {},
   "cell_type": "markdown",
   "source": "## Loading Dataset",
   "id": "891d66d7edd5b491"
  },
  {
   "metadata": {},
   "cell_type": "code",
   "source": [
    "import pandas as pd\n",
    "\n",
    "df = pd.read_parquet(\"inputs/datasets/cleaning/lot_features.parquet.gzip\")\n",
    "df.head()"
   ],
   "id": "d983f77e553443e0",
   "execution_count": null,
   "outputs": []
  },
  {
   "metadata": {},
   "cell_type": "markdown",
   "source": [
    "## Exploring Data\n",
    "\n",
    "We will get all features that are missing data as a list"
   ],
   "id": "957218d717e97c5c"
  },
  {
   "metadata": {},
   "cell_type": "code",
   "source": [
    "print(\"Masonry veneer missing values are: \", df['MasVnrArea'].isnull().sum())\n",
    "print(\"Enclosed Porch missing values are: \", df['EnclosedPorch'].isnull().sum())\n",
    "print(\"Open Porch missing values are: \", df['OpenPorchSF'].isnull().sum())"
   ],
   "id": "92fcbe7ec7e9b468",
   "execution_count": null,
   "outputs": []
  },
  {
   "metadata": {},
   "cell_type": "markdown",
   "source": [
    "We can see that there are missing values on Masonry Veneer and Enclosed Porch.\n",
    "\n",
    "Enclosed Porch missing values we will replace with 0, as it is majority missing, this is why we believe it should be 0 - no enclosed porches\n",
    "\n",
    "Masonry Veneer is missing just 8 values, for curiosity we will check what is mean, and how many "
   ],
   "id": "36e3773acdaa040d"
  },
  {
   "metadata": {},
   "cell_type": "code",
   "source": [
    "df.loc[:, 'EnclosedPorch'] = df['EnclosedPorch'].fillna(value=0)\n",
    "print(\"Masonry veneer mean number is: \", df['MasVnrArea'].mean())\n",
    "print(\"Total amount of houses which have Masonry Veneer is: \", (df['MasVnrArea'] > 0).sum())"
   ],
   "id": "b1621d7231e22682",
   "execution_count": null,
   "outputs": []
  },
  {
   "metadata": {},
   "cell_type": "markdown",
   "source": [
    "We can see that just about third of houses has Veneer, and even then it is about 103 square feet.\n",
    "We will replace missing values with 0"
   ],
   "id": "49dd6f64c619c609"
  },
  {
   "metadata": {},
   "cell_type": "code",
   "source": "df.loc[:, 'MasVnrArea'] = df['MasVnrArea'].fillna(value=0)",
   "id": "c6123d6a26afd23",
   "execution_count": null,
   "outputs": []
  },
  {
   "metadata": {},
   "cell_type": "markdown",
   "source": "We will check data types for our current features",
   "id": "6cc6c8515fa0e02d"
  },
  {
   "metadata": {},
   "cell_type": "code",
   "source": "df[['MasVnrArea', 'EnclosedPorch', 'OpenPorchSF']].dtypes",
   "id": "5ba6fbdc2ca54377",
   "execution_count": null,
   "outputs": []
  },
  {
   "metadata": {},
   "cell_type": "markdown",
   "source": "We need converting MasVnrArea and EnclosedPorch to int",
   "id": "4c08413783e53255"
  },
  {
   "metadata": {},
   "cell_type": "code",
   "source": "df[['MasVnrArea', 'EnclosedPorch']] = df[['MasVnrArea', 'EnclosedPorch']].astype(int)",
   "id": "a69dfa451703d641",
   "execution_count": null,
   "outputs": []
  },
  {
   "metadata": {},
   "cell_type": "markdown",
   "source": [
    "## Saving current dataset\n",
    "\n",
    "We will save current dataset as inputs/datasets/cleaning/masonry_and_porch.parquet.gzip"
   ],
   "id": "f1c7cc1730302c2a"
  },
  {
   "metadata": {},
   "cell_type": "code",
   "source": "df.to_parquet('inputs/datasets/cleaning/masonry_and_porch.parquet.gzip', compression='gzip')",
   "id": "75243e3bb74813c9",
   "execution_count": null,
   "outputs": []
  },
  {
   "metadata": {},
   "cell_type": "markdown",
   "source": [
    "### Adding cleaning code to Pipeline\n",
    "```python\n",
    "# Fill missing values and immediately convert to integers for specified columns\n",
    "df['EnclosedPorch'] = df['EnclosedPorch'].fillna(0).astype(int)\n",
    "df['MasVnrArea'] = df['MasVnrArea'].fillna(0).astype(int)\n",
    "\n",
    "```"
   ],
   "id": "75c82b369f30318a"
  },
  {
   "metadata": {},
   "cell_type": "markdown",
   "source": "## Next step is cleaning Overall Quality and Condition of house-cleaning and fixing data in garages",
   "id": "dfc9eb8e51e258ce"
  }
 ],
 "metadata": {
  "kernelspec": {
   "display_name": "Python 3",
   "language": "python",
   "name": "python3"
  },
  "language_info": {
   "codemirror_mode": {
    "name": "ipython",
    "version": 2
   },
   "file_extension": ".py",
   "mimetype": "text/x-python",
   "name": "python",
   "nbconvert_exporter": "python",
   "pygments_lexer": "ipython2",
   "version": "2.7.6"
  }
 },
 "nbformat": 4,
 "nbformat_minor": 5
}
