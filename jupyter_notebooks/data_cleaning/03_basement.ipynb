{
 "cells": [
  {
   "metadata": {},
   "cell_type": "markdown",
   "source": [
    "# Notebook 03 - Basement all features data cleaning and fixing\n",
    "\n",
    "## Objectives\n",
    "* Clean data\n",
    "* Evaluate and process missing data\n",
    "* Fix potential issues with data in given features:\n",
    "    * BsmtExposure - Refers to walkouts or garden level walls\n",
    "    * BsmtFinType1 - Rating of basement finished area\n",
    "    * BsmtFinSF1 - Type 1 finished square feet (we believe it is finished basement area)\n",
    "    * BsmtUnfSF - Unfinished square feet of basement area\n",
    "    * TotalBsmtSF - Total square feet of basement area\n",
    "\n",
    "## Inputs\n",
    "* inputs/datasets/cleaning/bedrooms.csv\n",
    "\n",
    "## Outputs\n",
    "* Clean and fix (missing and potentially wrong) data in given features\n",
    "* After cleaning is completed, we will save current dataset in inputs/datasets/cleaning/basement.csv"
   ],
   "id": "a7875c24c43c0d1e"
  },
  {
   "metadata": {},
   "cell_type": "markdown",
   "source": [
    "## Change working directory\n",
    "In This section we will get location of current directory and move one step up, to parent folder, so App will be accessing project folder.\n",
    "\n",
    "We need to change the working directory from its current folder to its parent folder\n",
    "* We access the current directory with os.getcwd()"
   ],
   "id": "cb656678d593177e"
  },
  {
   "metadata": {
    "ExecuteTime": {
     "end_time": "2024-05-01T11:02:32.682556Z",
     "start_time": "2024-05-01T11:02:32.670773Z"
    }
   },
   "cell_type": "code",
   "source": [
    "import os\n",
    "current_dir = os.getcwd()\n",
    "current_dir"
   ],
   "id": "aebc2a0372b47511",
   "outputs": [
    {
     "data": {
      "text/plain": [
       "'/Users/pecukevicius/DataspellProjects/heritage_houses_p5/jupyter_notebooks/data_cleaning'"
      ]
     },
     "execution_count": 1,
     "metadata": {},
     "output_type": "execute_result"
    }
   ],
   "execution_count": 1
  },
  {
   "metadata": {},
   "cell_type": "markdown",
   "source": [
    "We want to make the parent of the current directory the new current directory\n",
    "* os.path.dirname() gets the parent directory\n",
    "* os.chdir() defines the new current directory"
   ],
   "id": "61376d0e5ecf487c"
  },
  {
   "metadata": {
    "ExecuteTime": {
     "end_time": "2024-05-01T11:02:32.690424Z",
     "start_time": "2024-05-01T11:02:32.684933Z"
    }
   },
   "cell_type": "code",
   "source": [
    "os.chdir(os.path.dirname(current_dir))\n",
    "print(\"you have set a new current directory\")"
   ],
   "id": "ad55fa3d2f5db8d0",
   "outputs": [
    {
     "name": "stdout",
     "output_type": "stream",
     "text": [
      "you have set a new current directory\n"
     ]
    }
   ],
   "execution_count": 2
  },
  {
   "metadata": {},
   "cell_type": "markdown",
   "source": "Confirm new current directory",
   "id": "2ef02ca3ee0c6a3c"
  },
  {
   "metadata": {
    "ExecuteTime": {
     "end_time": "2024-05-01T11:02:32.704348Z",
     "start_time": "2024-05-01T11:02:32.698189Z"
    }
   },
   "cell_type": "code",
   "source": [
    "current_dir = os.getcwd()\n",
    "current_dir"
   ],
   "id": "a4c9d92dbb8cc3a9",
   "outputs": [
    {
     "data": {
      "text/plain": [
       "'/Users/pecukevicius/DataspellProjects/heritage_houses_p5/jupyter_notebooks'"
      ]
     },
     "execution_count": 3,
     "metadata": {},
     "output_type": "execute_result"
    }
   ],
   "execution_count": 3
  },
  {
   "metadata": {},
   "cell_type": "markdown",
   "source": "We need to check current working directory",
   "id": "22e5c3d0ef0ef283"
  },
  {
   "metadata": {
    "ExecuteTime": {
     "end_time": "2024-05-01T11:02:32.715382Z",
     "start_time": "2024-05-01T11:02:32.707426Z"
    }
   },
   "cell_type": "code",
   "source": "current_dir",
   "id": "ba1df529a54df2f3",
   "outputs": [
    {
     "data": {
      "text/plain": [
       "'/Users/pecukevicius/DataspellProjects/heritage_houses_p5/jupyter_notebooks'"
      ]
     },
     "execution_count": 4,
     "metadata": {},
     "output_type": "execute_result"
    }
   ],
   "execution_count": 4
  },
  {
   "metadata": {},
   "cell_type": "markdown",
   "source": [
    "We can see that current is **jupyter_notebooks**, as current notebook is in subfolder. We will go one step up to parent directory, what will be our project main directory.\n",
    "Print out to confirm working directory"
   ],
   "id": "36cb42d41d3602a4"
  },
  {
   "metadata": {
    "ExecuteTime": {
     "end_time": "2024-05-01T11:02:32.730155Z",
     "start_time": "2024-05-01T11:02:32.718921Z"
    }
   },
   "cell_type": "code",
   "source": [
    "os.chdir(os.path.dirname(current_dir))\n",
    "current_dir = os.getcwd()\n",
    "current_dir"
   ],
   "id": "14a35895387aca00",
   "outputs": [
    {
     "data": {
      "text/plain": [
       "'/Users/pecukevicius/DataspellProjects/heritage_houses_p5'"
      ]
     },
     "execution_count": 5,
     "metadata": {},
     "output_type": "execute_result"
    }
   ],
   "execution_count": 5
  },
  {
   "metadata": {},
   "cell_type": "markdown",
   "source": "",
   "id": "9c67382aa77af8a3"
  },
  {
   "metadata": {},
   "cell_type": "markdown",
   "source": "## Loading Dataset",
   "id": "891d66d7edd5b491"
  },
  {
   "metadata": {
    "ExecuteTime": {
     "end_time": "2024-05-01T11:02:32.775598Z",
     "start_time": "2024-05-01T11:02:32.733308Z"
    }
   },
   "cell_type": "code",
   "source": [
    "import pandas as pd\n",
    "\n",
    "df = pd.read_csv(\"inputs/datasets/cleaning/bedrooms.csv\")\n",
    "df.head()"
   ],
   "id": "d983f77e553443e0",
   "outputs": [
    {
     "data": {
      "text/plain": [
       "   Unnamed: 0  1stFlrSF  2ndFlrSF  BedroomAbvGr BsmtExposure  BsmtFinSF1  \\\n",
       "0           0       856       854             3           No         706   \n",
       "1           1      1262         0             3           Gd         978   \n",
       "2           2       920       866             3           Mn         486   \n",
       "3           3       961         0             2           No         216   \n",
       "4           4      1145         0             4           Av         655   \n",
       "\n",
       "  BsmtFinType1  BsmtUnfSF  EnclosedPorch  GarageArea  ... LotFrontage  \\\n",
       "0          GLQ        150            0.0         548  ...        65.0   \n",
       "1          ALQ        284            NaN         460  ...        80.0   \n",
       "2          GLQ        434            0.0         608  ...        68.0   \n",
       "3          ALQ        540            NaN         642  ...        60.0   \n",
       "4          GLQ        490            0.0         836  ...        84.0   \n",
       "\n",
       "   MasVnrArea  OpenPorchSF OverallCond  OverallQual  TotalBsmtSF  WoodDeckSF  \\\n",
       "0       196.0           61           5            7          856         0.0   \n",
       "1         0.0            0           8            6         1262         NaN   \n",
       "2       162.0           42           5            7          920         NaN   \n",
       "3         0.0           35           5            7          756         NaN   \n",
       "4       350.0           84           5            8         1145         NaN   \n",
       "\n",
       "   YearBuilt  YearRemodAdd  SalePrice  \n",
       "0       2003          2003     208500  \n",
       "1       1976          1976     181500  \n",
       "2       2001          2002     223500  \n",
       "3       1915          1970     140000  \n",
       "4       2000          2000     250000  \n",
       "\n",
       "[5 rows x 25 columns]"
      ],
      "text/html": [
       "<div>\n",
       "<style scoped>\n",
       "    .dataframe tbody tr th:only-of-type {\n",
       "        vertical-align: middle;\n",
       "    }\n",
       "\n",
       "    .dataframe tbody tr th {\n",
       "        vertical-align: top;\n",
       "    }\n",
       "\n",
       "    .dataframe thead th {\n",
       "        text-align: right;\n",
       "    }\n",
       "</style>\n",
       "<table border=\"1\" class=\"dataframe\">\n",
       "  <thead>\n",
       "    <tr style=\"text-align: right;\">\n",
       "      <th></th>\n",
       "      <th>Unnamed: 0</th>\n",
       "      <th>1stFlrSF</th>\n",
       "      <th>2ndFlrSF</th>\n",
       "      <th>BedroomAbvGr</th>\n",
       "      <th>BsmtExposure</th>\n",
       "      <th>BsmtFinSF1</th>\n",
       "      <th>BsmtFinType1</th>\n",
       "      <th>BsmtUnfSF</th>\n",
       "      <th>EnclosedPorch</th>\n",
       "      <th>GarageArea</th>\n",
       "      <th>...</th>\n",
       "      <th>LotFrontage</th>\n",
       "      <th>MasVnrArea</th>\n",
       "      <th>OpenPorchSF</th>\n",
       "      <th>OverallCond</th>\n",
       "      <th>OverallQual</th>\n",
       "      <th>TotalBsmtSF</th>\n",
       "      <th>WoodDeckSF</th>\n",
       "      <th>YearBuilt</th>\n",
       "      <th>YearRemodAdd</th>\n",
       "      <th>SalePrice</th>\n",
       "    </tr>\n",
       "  </thead>\n",
       "  <tbody>\n",
       "    <tr>\n",
       "      <th>0</th>\n",
       "      <td>0</td>\n",
       "      <td>856</td>\n",
       "      <td>854</td>\n",
       "      <td>3</td>\n",
       "      <td>No</td>\n",
       "      <td>706</td>\n",
       "      <td>GLQ</td>\n",
       "      <td>150</td>\n",
       "      <td>0.0</td>\n",
       "      <td>548</td>\n",
       "      <td>...</td>\n",
       "      <td>65.0</td>\n",
       "      <td>196.0</td>\n",
       "      <td>61</td>\n",
       "      <td>5</td>\n",
       "      <td>7</td>\n",
       "      <td>856</td>\n",
       "      <td>0.0</td>\n",
       "      <td>2003</td>\n",
       "      <td>2003</td>\n",
       "      <td>208500</td>\n",
       "    </tr>\n",
       "    <tr>\n",
       "      <th>1</th>\n",
       "      <td>1</td>\n",
       "      <td>1262</td>\n",
       "      <td>0</td>\n",
       "      <td>3</td>\n",
       "      <td>Gd</td>\n",
       "      <td>978</td>\n",
       "      <td>ALQ</td>\n",
       "      <td>284</td>\n",
       "      <td>NaN</td>\n",
       "      <td>460</td>\n",
       "      <td>...</td>\n",
       "      <td>80.0</td>\n",
       "      <td>0.0</td>\n",
       "      <td>0</td>\n",
       "      <td>8</td>\n",
       "      <td>6</td>\n",
       "      <td>1262</td>\n",
       "      <td>NaN</td>\n",
       "      <td>1976</td>\n",
       "      <td>1976</td>\n",
       "      <td>181500</td>\n",
       "    </tr>\n",
       "    <tr>\n",
       "      <th>2</th>\n",
       "      <td>2</td>\n",
       "      <td>920</td>\n",
       "      <td>866</td>\n",
       "      <td>3</td>\n",
       "      <td>Mn</td>\n",
       "      <td>486</td>\n",
       "      <td>GLQ</td>\n",
       "      <td>434</td>\n",
       "      <td>0.0</td>\n",
       "      <td>608</td>\n",
       "      <td>...</td>\n",
       "      <td>68.0</td>\n",
       "      <td>162.0</td>\n",
       "      <td>42</td>\n",
       "      <td>5</td>\n",
       "      <td>7</td>\n",
       "      <td>920</td>\n",
       "      <td>NaN</td>\n",
       "      <td>2001</td>\n",
       "      <td>2002</td>\n",
       "      <td>223500</td>\n",
       "    </tr>\n",
       "    <tr>\n",
       "      <th>3</th>\n",
       "      <td>3</td>\n",
       "      <td>961</td>\n",
       "      <td>0</td>\n",
       "      <td>2</td>\n",
       "      <td>No</td>\n",
       "      <td>216</td>\n",
       "      <td>ALQ</td>\n",
       "      <td>540</td>\n",
       "      <td>NaN</td>\n",
       "      <td>642</td>\n",
       "      <td>...</td>\n",
       "      <td>60.0</td>\n",
       "      <td>0.0</td>\n",
       "      <td>35</td>\n",
       "      <td>5</td>\n",
       "      <td>7</td>\n",
       "      <td>756</td>\n",
       "      <td>NaN</td>\n",
       "      <td>1915</td>\n",
       "      <td>1970</td>\n",
       "      <td>140000</td>\n",
       "    </tr>\n",
       "    <tr>\n",
       "      <th>4</th>\n",
       "      <td>4</td>\n",
       "      <td>1145</td>\n",
       "      <td>0</td>\n",
       "      <td>4</td>\n",
       "      <td>Av</td>\n",
       "      <td>655</td>\n",
       "      <td>GLQ</td>\n",
       "      <td>490</td>\n",
       "      <td>0.0</td>\n",
       "      <td>836</td>\n",
       "      <td>...</td>\n",
       "      <td>84.0</td>\n",
       "      <td>350.0</td>\n",
       "      <td>84</td>\n",
       "      <td>5</td>\n",
       "      <td>8</td>\n",
       "      <td>1145</td>\n",
       "      <td>NaN</td>\n",
       "      <td>2000</td>\n",
       "      <td>2000</td>\n",
       "      <td>250000</td>\n",
       "    </tr>\n",
       "  </tbody>\n",
       "</table>\n",
       "<p>5 rows × 25 columns</p>\n",
       "</div>"
      ]
     },
     "execution_count": 6,
     "metadata": {},
     "output_type": "execute_result"
    }
   ],
   "execution_count": 6
  },
  {
   "metadata": {},
   "cell_type": "markdown",
   "source": [
    "## Exploring Data\n",
    "\n",
    "We will get all features that are missing data as a list, first we get given features datatypes"
   ],
   "id": "273e298ac770d848"
  },
  {
   "metadata": {
    "ExecuteTime": {
     "end_time": "2024-05-01T11:02:32.787966Z",
     "start_time": "2024-05-01T11:02:32.779067Z"
    }
   },
   "cell_type": "code",
   "source": [
    "columns_of_interest = ['BsmtExposure', 'BsmtFinType1', 'BsmtFinSF1', 'BsmtUnfSF', 'TotalBsmtSF']\n",
    "column_types = df[columns_of_interest].dtypes\n",
    "\n",
    "# Display the data types of these columns\n",
    "print(\"Data types of the specified columns:\")\n",
    "print(column_types)"
   ],
   "id": "f9896b00178d5c21",
   "outputs": [
    {
     "name": "stdout",
     "output_type": "stream",
     "text": [
      "Data types of the specified columns:\n",
      "BsmtExposure    object\n",
      "BsmtFinType1    object\n",
      "BsmtFinSF1       int64\n",
      "BsmtUnfSF        int64\n",
      "TotalBsmtSF      int64\n",
      "dtype: object\n"
     ]
    }
   ],
   "execution_count": 7
  },
  {
   "metadata": {},
   "cell_type": "markdown",
   "source": "### Checking if there is any missing values in given column",
   "id": "8b8593878246a3ee"
  },
  {
   "metadata": {
    "ExecuteTime": {
     "end_time": "2024-05-01T11:02:32.802256Z",
     "start_time": "2024-05-01T11:02:32.791273Z"
    }
   },
   "cell_type": "code",
   "source": [
    "# Check if there are any  missing values in these columns\n",
    "missing_features = df[['BsmtExposure', 'BsmtFinType1', 'BsmtFinSF1', 'BsmtUnfSF', 'TotalBsmtSF']].isnull().sum()\n",
    "\n",
    "# Display the number of missing values per column after filling\n",
    "print(\"Missing values per column:\")\n",
    "print(missing_features)"
   ],
   "id": "23365b9ed400d04c",
   "outputs": [
    {
     "name": "stdout",
     "output_type": "stream",
     "text": [
      "Missing values per column:\n",
      "BsmtExposure     38\n",
      "BsmtFinType1    145\n",
      "BsmtFinSF1        0\n",
      "BsmtUnfSF         0\n",
      "TotalBsmtSF       0\n",
      "dtype: int64\n"
     ]
    }
   ],
   "execution_count": 8
  },
  {
   "metadata": {},
   "cell_type": "markdown",
   "source": [
    "We can see that 2 features has missing values - BsmtExposure and BsmtType1\n",
    "\n",
    "We will fill all missing values with None, as it is object type (None in our dataset refers to No Basement). We will inspect later if all values are correct"
   ],
   "id": "b7ad03dd6d8882ac"
  },
  {
   "metadata": {},
   "cell_type": "markdown",
   "source": "",
   "id": "4b0555aa1a0458b3"
  },
  {
   "metadata": {
    "ExecuteTime": {
     "end_time": "2024-05-01T11:02:32.817011Z",
     "start_time": "2024-05-01T11:02:32.806094Z"
    }
   },
   "cell_type": "code",
   "source": [
    "df['BsmtExposure'] = df['BsmtExposure'].fillna('None')\n",
    "df['BsmtFinType1'] = df['BsmtFinType1'].fillna('None')"
   ],
   "id": "14bc76a63e4737a0",
   "outputs": [],
   "execution_count": 9
  },
  {
   "metadata": {},
   "cell_type": "markdown",
   "source": "For easy of code use wi will define current features as a list",
   "id": "ce4bf46530f8ada3"
  },
  {
   "metadata": {
    "ExecuteTime": {
     "end_time": "2024-05-01T11:02:32.855922Z",
     "start_time": "2024-05-01T11:02:32.819839Z"
    }
   },
   "cell_type": "code",
   "source": [
    "# Define a list of basement-related features\n",
    "basement_features = ['BsmtExposure', 'BsmtFinType1', 'BsmtFinSF1', 'BsmtUnfSF', 'TotalBsmtSF']"
   ],
   "id": "c3e76577b5d9b692",
   "outputs": [],
   "execution_count": 10
  },
  {
   "metadata": {},
   "cell_type": "markdown",
   "source": [
    "### Basement Consistency checking\n",
    "\n",
    "As we have filled with None missing values of BsmtFinType1, we need to explore how consistent data is between all basement features.\n",
    "\n",
    "We will create function, which one will compare given feature to remaining ones, if data is consistent:"
   ],
   "id": "3f2406e7f4b98d72"
  },
  {
   "metadata": {
    "ExecuteTime": {
     "end_time": "2024-05-01T11:02:32.866152Z",
     "start_time": "2024-05-01T11:02:32.858319Z"
    }
   },
   "cell_type": "code",
   "source": [
    "def check_consistency(df, primary_feature):\n",
    "    \"\"\"\n",
    "    Checks consistency of a primary feature against a set of expected values for related features.\n",
    "    \n",
    "    Parameters:\n",
    "        df (pd.DataFrame): The DataFrame containing the data.\n",
    "        primary_feature (str): The primary feature to be checked.\n",
    "    \n",
    "    Returns:\n",
    "        None: Outputs inconsistency results directly.\n",
    "    \"\"\"\n",
    "    # Directly define features and their values indicating 'no presence' in a dictionary\n",
    "    features_and_values = {\n",
    "        \"BsmtExposure\": \"None\",\n",
    "        \"BsmtFinType1\": \"None\",\n",
    "        \"BsmtFinSF1\": 0,\n",
    "        \"BsmtUnfSF\": 0,\n",
    "        \"TotalBsmtSF\": 0\n",
    "    }\n",
    "\n",
    "    # Ensure primary feature is valid\n",
    "    if primary_feature not in features_and_values:\n",
    "        print(f\"Feature {primary_feature} not defined in feature settings.\")\n",
    "        return\n",
    "\n",
    "    # Determine the primary value to check against\n",
    "    primary_value = features_and_values[primary_feature]\n",
    "\n",
    "    # Check each feature against the primary feature's condition\n",
    "    df['Consistency'] = df.apply(\n",
    "        lambda row: True if row[primary_feature] != primary_value else all(\n",
    "            row[feature] == value for feature, value in features_and_values.items() if feature != primary_feature\n",
    "        ), axis=1\n",
    "    )\n",
    "\n",
    "    # Filter and display inconsistent records\n",
    "    inconsistent_records = df[df['Consistency'] == False]\n",
    "    return inconsistent_records"
   ],
   "id": "471d47a3f7faa11b",
   "outputs": [],
   "execution_count": 11
  },
  {
   "metadata": {},
   "cell_type": "markdown",
   "source": "We loop through each feature and print the results",
   "id": "89eeb1d8fbae6a46"
  },
  {
   "metadata": {
    "ExecuteTime": {
     "end_time": "2024-05-01T11:02:32.964379Z",
     "start_time": "2024-05-01T11:02:32.876230Z"
    }
   },
   "cell_type": "code",
   "source": [
    "def loop_check_consistency(df, basement_features):\n",
    "    for feature in basement_features:\n",
    "        errors = check_consistency(df, feature)\n",
    "        error_count = errors.shape[0]  # Get the number of rows in the errors DataFrame\n",
    "        print(f\"Feature {feature} has {error_count} inconsistent rows.\")\n",
    "\n",
    "# Run the loop check consistency function\n",
    "loop_check_consistency(df, basement_features)"
   ],
   "id": "b5395fdbf452c4a5",
   "outputs": [
    {
     "name": "stdout",
     "output_type": "stream",
     "text": [
      "Feature BsmtExposure has 1 inconsistent rows.\n",
      "Feature BsmtFinType1 has 108 inconsistent rows.\n",
      "Feature BsmtFinSF1 has 430 inconsistent rows.\n",
      "Feature BsmtUnfSF has 81 inconsistent rows.\n",
      "Feature TotalBsmtSF has 0 inconsistent rows.\n"
     ]
    }
   ],
   "execution_count": 12
  },
  {
   "metadata": {},
   "cell_type": "markdown",
   "source": [
    "## Consistency inspection and fixing\n",
    "\n",
    "Given dataset gives a lot of inconsistency, so we will have to address each feature separately"
   ],
   "id": "c8816f548dce5085"
  },
  {
   "metadata": {
    "ExecuteTime": {
     "end_time": "2024-05-01T11:02:33.000605Z",
     "start_time": "2024-05-01T11:02:32.967539Z"
    }
   },
   "cell_type": "code",
   "source": [
    "BsmtExposure = check_consistency(df, 'BsmtExposure')\n",
    "BsmtExposure[basement_features]"
   ],
   "id": "cbf8abccd5fe7eea",
   "outputs": [
    {
     "data": {
      "text/plain": [
       "    BsmtExposure BsmtFinType1  BsmtFinSF1  BsmtUnfSF  TotalBsmtSF\n",
       "948         None          Unf           0        936          936"
      ],
      "text/html": [
       "<div>\n",
       "<style scoped>\n",
       "    .dataframe tbody tr th:only-of-type {\n",
       "        vertical-align: middle;\n",
       "    }\n",
       "\n",
       "    .dataframe tbody tr th {\n",
       "        vertical-align: top;\n",
       "    }\n",
       "\n",
       "    .dataframe thead th {\n",
       "        text-align: right;\n",
       "    }\n",
       "</style>\n",
       "<table border=\"1\" class=\"dataframe\">\n",
       "  <thead>\n",
       "    <tr style=\"text-align: right;\">\n",
       "      <th></th>\n",
       "      <th>BsmtExposure</th>\n",
       "      <th>BsmtFinType1</th>\n",
       "      <th>BsmtFinSF1</th>\n",
       "      <th>BsmtUnfSF</th>\n",
       "      <th>TotalBsmtSF</th>\n",
       "    </tr>\n",
       "  </thead>\n",
       "  <tbody>\n",
       "    <tr>\n",
       "      <th>948</th>\n",
       "      <td>None</td>\n",
       "      <td>Unf</td>\n",
       "      <td>0</td>\n",
       "      <td>936</td>\n",
       "      <td>936</td>\n",
       "    </tr>\n",
       "  </tbody>\n",
       "</table>\n",
       "</div>"
      ]
     },
     "execution_count": 13,
     "metadata": {},
     "output_type": "execute_result"
    }
   ],
   "execution_count": 13
  },
  {
   "metadata": {},
   "cell_type": "markdown",
   "source": [
    "If there is any basement in other columns, it means there is basement, and there was a mistake on data entering.\n",
    "\n",
    "We will check replace all wrong data (None) to most frequent value of given feature in whole set"
   ],
   "id": "d85588c5711d5d1b"
  },
  {
   "metadata": {
    "ExecuteTime": {
     "end_time": "2024-05-01T11:02:33.013796Z",
     "start_time": "2024-05-01T11:02:33.003673Z"
    }
   },
   "cell_type": "code",
   "source": [
    "mode_value = df['BsmtExposure'].mode()[0]  # mode() returns a Series; [0] accesses the first mode\n",
    "df.loc[BsmtExposure.index, 'BsmtExposure'] = mode_value"
   ],
   "id": "cec29ea87bb58bed",
   "outputs": [],
   "execution_count": 14
  },
  {
   "metadata": {},
   "cell_type": "markdown",
   "source": "Now we will check BsmtExposure again for any inconsistencies",
   "id": "75a2b13c2c5f4210"
  },
  {
   "metadata": {
    "ExecuteTime": {
     "end_time": "2024-05-01T11:02:33.055837Z",
     "start_time": "2024-05-01T11:02:33.017252Z"
    }
   },
   "cell_type": "code",
   "source": [
    "BsmtExposure = check_consistency(df, 'BsmtExposure')\n",
    "BsmtExposure[basement_features]"
   ],
   "id": "182f6908df5cb781",
   "outputs": [
    {
     "data": {
      "text/plain": [
       "Empty DataFrame\n",
       "Columns: [BsmtExposure, BsmtFinType1, BsmtFinSF1, BsmtUnfSF, TotalBsmtSF]\n",
       "Index: []"
      ],
      "text/html": [
       "<div>\n",
       "<style scoped>\n",
       "    .dataframe tbody tr th:only-of-type {\n",
       "        vertical-align: middle;\n",
       "    }\n",
       "\n",
       "    .dataframe tbody tr th {\n",
       "        vertical-align: top;\n",
       "    }\n",
       "\n",
       "    .dataframe thead th {\n",
       "        text-align: right;\n",
       "    }\n",
       "</style>\n",
       "<table border=\"1\" class=\"dataframe\">\n",
       "  <thead>\n",
       "    <tr style=\"text-align: right;\">\n",
       "      <th></th>\n",
       "      <th>BsmtExposure</th>\n",
       "      <th>BsmtFinType1</th>\n",
       "      <th>BsmtFinSF1</th>\n",
       "      <th>BsmtUnfSF</th>\n",
       "      <th>TotalBsmtSF</th>\n",
       "    </tr>\n",
       "  </thead>\n",
       "  <tbody>\n",
       "  </tbody>\n",
       "</table>\n",
       "</div>"
      ]
     },
     "execution_count": 15,
     "metadata": {},
     "output_type": "execute_result"
    }
   ],
   "execution_count": 15
  },
  {
   "metadata": {},
   "cell_type": "markdown",
   "source": "We have no mistakes in Basement Exposure",
   "id": "98b231f4fe872dbb"
  },
  {
   "metadata": {},
   "cell_type": "markdown",
   "source": "### BsmtFinType1 Inconsistency",
   "id": "39756652c3b57d50"
  },
  {
   "metadata": {
    "ExecuteTime": {
     "end_time": "2024-05-01T11:02:33.095100Z",
     "start_time": "2024-05-01T11:02:33.059169Z"
    }
   },
   "cell_type": "code",
   "source": [
    "BsmtFinType1 = check_consistency(df, 'BsmtFinType1')\n",
    "BsmtFinType1[basement_features]"
   ],
   "id": "6e7c2f0dfb92d29a",
   "outputs": [
    {
     "data": {
      "text/plain": [
       "     BsmtExposure BsmtFinType1  BsmtFinSF1  BsmtUnfSF  TotalBsmtSF\n",
       "11             No         None         998        177         1175\n",
       "22             No         None           0       1777         1777\n",
       "26             Mn         None         234        180          900\n",
       "55             No         None         490        935         1425\n",
       "89             No         None         588        402          990\n",
       "...           ...          ...         ...        ...          ...\n",
       "1415           No         None         988        398         1386\n",
       "1423           Av         None           0        697          697\n",
       "1435           No         None           0       1319         1319\n",
       "1446           No         None         593        595         1188\n",
       "1458           Mn         None          49          0         1078\n",
       "\n",
       "[108 rows x 5 columns]"
      ],
      "text/html": [
       "<div>\n",
       "<style scoped>\n",
       "    .dataframe tbody tr th:only-of-type {\n",
       "        vertical-align: middle;\n",
       "    }\n",
       "\n",
       "    .dataframe tbody tr th {\n",
       "        vertical-align: top;\n",
       "    }\n",
       "\n",
       "    .dataframe thead th {\n",
       "        text-align: right;\n",
       "    }\n",
       "</style>\n",
       "<table border=\"1\" class=\"dataframe\">\n",
       "  <thead>\n",
       "    <tr style=\"text-align: right;\">\n",
       "      <th></th>\n",
       "      <th>BsmtExposure</th>\n",
       "      <th>BsmtFinType1</th>\n",
       "      <th>BsmtFinSF1</th>\n",
       "      <th>BsmtUnfSF</th>\n",
       "      <th>TotalBsmtSF</th>\n",
       "    </tr>\n",
       "  </thead>\n",
       "  <tbody>\n",
       "    <tr>\n",
       "      <th>11</th>\n",
       "      <td>No</td>\n",
       "      <td>None</td>\n",
       "      <td>998</td>\n",
       "      <td>177</td>\n",
       "      <td>1175</td>\n",
       "    </tr>\n",
       "    <tr>\n",
       "      <th>22</th>\n",
       "      <td>No</td>\n",
       "      <td>None</td>\n",
       "      <td>0</td>\n",
       "      <td>1777</td>\n",
       "      <td>1777</td>\n",
       "    </tr>\n",
       "    <tr>\n",
       "      <th>26</th>\n",
       "      <td>Mn</td>\n",
       "      <td>None</td>\n",
       "      <td>234</td>\n",
       "      <td>180</td>\n",
       "      <td>900</td>\n",
       "    </tr>\n",
       "    <tr>\n",
       "      <th>55</th>\n",
       "      <td>No</td>\n",
       "      <td>None</td>\n",
       "      <td>490</td>\n",
       "      <td>935</td>\n",
       "      <td>1425</td>\n",
       "    </tr>\n",
       "    <tr>\n",
       "      <th>89</th>\n",
       "      <td>No</td>\n",
       "      <td>None</td>\n",
       "      <td>588</td>\n",
       "      <td>402</td>\n",
       "      <td>990</td>\n",
       "    </tr>\n",
       "    <tr>\n",
       "      <th>...</th>\n",
       "      <td>...</td>\n",
       "      <td>...</td>\n",
       "      <td>...</td>\n",
       "      <td>...</td>\n",
       "      <td>...</td>\n",
       "    </tr>\n",
       "    <tr>\n",
       "      <th>1415</th>\n",
       "      <td>No</td>\n",
       "      <td>None</td>\n",
       "      <td>988</td>\n",
       "      <td>398</td>\n",
       "      <td>1386</td>\n",
       "    </tr>\n",
       "    <tr>\n",
       "      <th>1423</th>\n",
       "      <td>Av</td>\n",
       "      <td>None</td>\n",
       "      <td>0</td>\n",
       "      <td>697</td>\n",
       "      <td>697</td>\n",
       "    </tr>\n",
       "    <tr>\n",
       "      <th>1435</th>\n",
       "      <td>No</td>\n",
       "      <td>None</td>\n",
       "      <td>0</td>\n",
       "      <td>1319</td>\n",
       "      <td>1319</td>\n",
       "    </tr>\n",
       "    <tr>\n",
       "      <th>1446</th>\n",
       "      <td>No</td>\n",
       "      <td>None</td>\n",
       "      <td>593</td>\n",
       "      <td>595</td>\n",
       "      <td>1188</td>\n",
       "    </tr>\n",
       "    <tr>\n",
       "      <th>1458</th>\n",
       "      <td>Mn</td>\n",
       "      <td>None</td>\n",
       "      <td>49</td>\n",
       "      <td>0</td>\n",
       "      <td>1078</td>\n",
       "    </tr>\n",
       "  </tbody>\n",
       "</table>\n",
       "<p>108 rows × 5 columns</p>\n",
       "</div>"
      ]
     },
     "execution_count": 16,
     "metadata": {},
     "output_type": "execute_result"
    }
   ],
   "execution_count": 16
  },
  {
   "metadata": {},
   "cell_type": "markdown",
   "source": [
    "We have 108 invalid records, also there is a chance, there is same mistake as with exposure.\n",
    "Will apply same mistakes fixing style"
   ],
   "id": "810cf5089cadfea6"
  },
  {
   "metadata": {
    "ExecuteTime": {
     "end_time": "2024-05-01T11:02:33.105655Z",
     "start_time": "2024-05-01T11:02:33.097292Z"
    }
   },
   "cell_type": "code",
   "source": [
    "mode_value = df['BsmtFinType1'].mode()[0]  # mode() returns a Series; [0] accesses the first mode\n",
    "df.loc[BsmtFinType1.index, 'BsmtFinType1'] = mode_value"
   ],
   "id": "3d057c3e4845cecf",
   "outputs": [],
   "execution_count": 17
  },
  {
   "metadata": {},
   "cell_type": "markdown",
   "source": "",
   "id": "d515896e0ced6eb3"
  },
  {
   "metadata": {},
   "cell_type": "markdown",
   "source": "Checking again for any mistakes in BsmtFinType1",
   "id": "55880a14e1de6734"
  },
  {
   "metadata": {},
   "cell_type": "markdown",
   "source": "",
   "id": "8870d1032cf74b57"
  },
  {
   "metadata": {
    "ExecuteTime": {
     "end_time": "2024-05-01T11:02:33.140956Z",
     "start_time": "2024-05-01T11:02:33.108230Z"
    }
   },
   "cell_type": "code",
   "source": [
    "BsmtFinType1 = check_consistency(df, 'BsmtFinType1')\n",
    "BsmtFinType1[basement_features]"
   ],
   "id": "6f59b096b78f5bde",
   "outputs": [
    {
     "data": {
      "text/plain": [
       "Empty DataFrame\n",
       "Columns: [BsmtExposure, BsmtFinType1, BsmtFinSF1, BsmtUnfSF, TotalBsmtSF]\n",
       "Index: []"
      ],
      "text/html": [
       "<div>\n",
       "<style scoped>\n",
       "    .dataframe tbody tr th:only-of-type {\n",
       "        vertical-align: middle;\n",
       "    }\n",
       "\n",
       "    .dataframe tbody tr th {\n",
       "        vertical-align: top;\n",
       "    }\n",
       "\n",
       "    .dataframe thead th {\n",
       "        text-align: right;\n",
       "    }\n",
       "</style>\n",
       "<table border=\"1\" class=\"dataframe\">\n",
       "  <thead>\n",
       "    <tr style=\"text-align: right;\">\n",
       "      <th></th>\n",
       "      <th>BsmtExposure</th>\n",
       "      <th>BsmtFinType1</th>\n",
       "      <th>BsmtFinSF1</th>\n",
       "      <th>BsmtUnfSF</th>\n",
       "      <th>TotalBsmtSF</th>\n",
       "    </tr>\n",
       "  </thead>\n",
       "  <tbody>\n",
       "  </tbody>\n",
       "</table>\n",
       "</div>"
      ]
     },
     "execution_count": 18,
     "metadata": {},
     "output_type": "execute_result"
    }
   ],
   "execution_count": 18
  },
  {
   "metadata": {},
   "cell_type": "markdown",
   "source": "We can see there is no mistakes at the moment",
   "id": "998f0e45854d8b92"
  },
  {
   "metadata": {},
   "cell_type": "markdown",
   "source": [
    "### BsmtFinSF1, BsmtUnfSF, TotalBsmtSF Inconsistency\n",
    "\n",
    "This feature represents Unfinished area of basement. \n",
    "\n",
    "Previous Cells have showed, that if there is basement, they are displayed on BsmtExposure and BsmtFinType1, where they can not be None\n",
    "\n",
    "In current cell we can have 0, as it might be correct value, as all basement is finished and are equals to 0\n",
    "But before we proceed further, we need to check, is it a correct value:\n",
    "BsmtFinSF1 + BsmtUnfSF = TotalBsmtSF"
   ],
   "id": "789e8d98d85025d7"
  },
  {
   "metadata": {
    "ExecuteTime": {
     "end_time": "2024-05-01T11:02:33.157182Z",
     "start_time": "2024-05-01T11:02:33.144423Z"
    }
   },
   "cell_type": "code",
   "source": [
    "df['BsmtAreaCheck'] = (df['BsmtFinSF1'] + df['BsmtUnfSF'] == df['TotalBsmtSF'])\n",
    "inconsistencies = df['BsmtAreaCheck'].value_counts()[False] if False in df['BsmtAreaCheck'].value_counts() else 0\n",
    "inconsistencies"
   ],
   "id": "723a53be98781f46",
   "outputs": [
    {
     "data": {
      "text/plain": [
       "167"
      ]
     },
     "execution_count": 19,
     "metadata": {},
     "output_type": "execute_result"
    }
   ],
   "execution_count": 19
  },
  {
   "metadata": {},
   "cell_type": "markdown",
   "source": [
    "We can see that there are 167 incorrect values, This is why we will perform:\n",
    "* if BsmtUnfSF == 0, we will replace it with TotalBsmtSF - BsmtFinSF1\n",
    "* if BsmtFinSF1 == 0, we will replace it with TotalBsmtSF - BsmtUnfSF\n",
    "* if totalBsmtSF == 0, we will replace it with BsmtFinSF1 + BsmtUnfSF\n",
    "\n",
    "After that we will check for inconsistencies again\n",
    "\n",
    "also we will add part of this code to cleaning pipeline"
   ],
   "id": "c69b344c90a86948"
  },
  {
   "metadata": {
    "ExecuteTime": {
     "end_time": "2024-05-01T11:02:33.188699Z",
     "start_time": "2024-05-01T11:02:33.160076Z"
    }
   },
   "cell_type": "code",
   "source": [
    "import pandas as pd\n",
    "\n",
    "# Correcting BsmtUnfSF when it is erroneously zero\n",
    "df.loc[(df['BsmtUnfSF'] == 0), 'BsmtUnfSF'] = df['TotalBsmtSF'] - df['BsmtFinSF1']\n",
    "\n",
    "# Correcting BsmtFinSF1 when it is erroneously zero\n",
    "df.loc[(df['BsmtFinSF1'] == 0), 'BsmtFinSF1'] = df['TotalBsmtSF'] - df['BsmtUnfSF']\n",
    "\n",
    "# Correcting TotalBsmtSF when it is erroneously zero\n",
    "df.loc[(df['TotalBsmtSF'] == 0), 'TotalBsmtSF'] = df['BsmtUnfSF'] + df['BsmtFinSF1']\n",
    "\n",
    "# Adding a consistency check to verify corrections\n",
    "df['BsmtAreaCheck'] = (df['BsmtFinSF1'] + df['BsmtUnfSF'] == df['TotalBsmtSF'])\n",
    "\n",
    "# Counting and displaying inconsistencies\n",
    "inconsistencies = df['BsmtAreaCheck'].value_counts().get(False, 0)\n",
    "print(f\"Number of inconsistencies after corrections: {inconsistencies}\")\n",
    "\n",
    "df[df['BsmtAreaCheck'] == False][['BsmtFinSF1', 'BsmtUnfSF', 'TotalBsmtSF', 'BsmtAreaCheck']]\n",
    "\n"
   ],
   "id": "b7fe7fcbd68a1a1f",
   "outputs": [
    {
     "name": "stdout",
     "output_type": "stream",
     "text": [
      "Number of inconsistencies after corrections: 129\n"
     ]
    },
    {
     "data": {
      "text/plain": [
       "      BsmtFinSF1  BsmtUnfSF  TotalBsmtSF  BsmtAreaCheck\n",
       "7            859        216         1107          False\n",
       "24           188        204         1060          False\n",
       "26           234        180          900          False\n",
       "43           280        167          938          False\n",
       "44           179        465         1150          False\n",
       "...          ...        ...          ...            ...\n",
       "1418          25        247         1144          False\n",
       "1424         457        193         1024          False\n",
       "1439         315        114          539          False\n",
       "1456         790        589         1542          False\n",
       "1459         830        136         1256          False\n",
       "\n",
       "[129 rows x 4 columns]"
      ],
      "text/html": [
       "<div>\n",
       "<style scoped>\n",
       "    .dataframe tbody tr th:only-of-type {\n",
       "        vertical-align: middle;\n",
       "    }\n",
       "\n",
       "    .dataframe tbody tr th {\n",
       "        vertical-align: top;\n",
       "    }\n",
       "\n",
       "    .dataframe thead th {\n",
       "        text-align: right;\n",
       "    }\n",
       "</style>\n",
       "<table border=\"1\" class=\"dataframe\">\n",
       "  <thead>\n",
       "    <tr style=\"text-align: right;\">\n",
       "      <th></th>\n",
       "      <th>BsmtFinSF1</th>\n",
       "      <th>BsmtUnfSF</th>\n",
       "      <th>TotalBsmtSF</th>\n",
       "      <th>BsmtAreaCheck</th>\n",
       "    </tr>\n",
       "  </thead>\n",
       "  <tbody>\n",
       "    <tr>\n",
       "      <th>7</th>\n",
       "      <td>859</td>\n",
       "      <td>216</td>\n",
       "      <td>1107</td>\n",
       "      <td>False</td>\n",
       "    </tr>\n",
       "    <tr>\n",
       "      <th>24</th>\n",
       "      <td>188</td>\n",
       "      <td>204</td>\n",
       "      <td>1060</td>\n",
       "      <td>False</td>\n",
       "    </tr>\n",
       "    <tr>\n",
       "      <th>26</th>\n",
       "      <td>234</td>\n",
       "      <td>180</td>\n",
       "      <td>900</td>\n",
       "      <td>False</td>\n",
       "    </tr>\n",
       "    <tr>\n",
       "      <th>43</th>\n",
       "      <td>280</td>\n",
       "      <td>167</td>\n",
       "      <td>938</td>\n",
       "      <td>False</td>\n",
       "    </tr>\n",
       "    <tr>\n",
       "      <th>44</th>\n",
       "      <td>179</td>\n",
       "      <td>465</td>\n",
       "      <td>1150</td>\n",
       "      <td>False</td>\n",
       "    </tr>\n",
       "    <tr>\n",
       "      <th>...</th>\n",
       "      <td>...</td>\n",
       "      <td>...</td>\n",
       "      <td>...</td>\n",
       "      <td>...</td>\n",
       "    </tr>\n",
       "    <tr>\n",
       "      <th>1418</th>\n",
       "      <td>25</td>\n",
       "      <td>247</td>\n",
       "      <td>1144</td>\n",
       "      <td>False</td>\n",
       "    </tr>\n",
       "    <tr>\n",
       "      <th>1424</th>\n",
       "      <td>457</td>\n",
       "      <td>193</td>\n",
       "      <td>1024</td>\n",
       "      <td>False</td>\n",
       "    </tr>\n",
       "    <tr>\n",
       "      <th>1439</th>\n",
       "      <td>315</td>\n",
       "      <td>114</td>\n",
       "      <td>539</td>\n",
       "      <td>False</td>\n",
       "    </tr>\n",
       "    <tr>\n",
       "      <th>1456</th>\n",
       "      <td>790</td>\n",
       "      <td>589</td>\n",
       "      <td>1542</td>\n",
       "      <td>False</td>\n",
       "    </tr>\n",
       "    <tr>\n",
       "      <th>1459</th>\n",
       "      <td>830</td>\n",
       "      <td>136</td>\n",
       "      <td>1256</td>\n",
       "      <td>False</td>\n",
       "    </tr>\n",
       "  </tbody>\n",
       "</table>\n",
       "<p>129 rows × 4 columns</p>\n",
       "</div>"
      ]
     },
     "execution_count": 20,
     "metadata": {},
     "output_type": "execute_result"
    }
   ],
   "execution_count": 20
  },
  {
   "metadata": {},
   "cell_type": "markdown",
   "source": [
    "Now we have discrepancies in basement areas between Finished and unfinished, where areas do not add up to total area.\n",
    "\n",
    "To Go further, we will get overall ratio of all dataset between finished and unfinished basements, but only for records where sum of areas matches total"
   ],
   "id": "f2e2d7acac57a231"
  },
  {
   "metadata": {
    "ExecuteTime": {
     "end_time": "2024-05-01T11:02:33.207146Z",
     "start_time": "2024-05-01T11:02:33.192570Z"
    }
   },
   "cell_type": "code",
   "source": [
    "# Step 1: Filter for consistent records\n",
    "consistent_records = df[df['BsmtFinSF1'] + df['BsmtUnfSF'] == df['TotalBsmtSF']]\n",
    "\n",
    "# Step 2: Calculate the ratio of finished to unfinished areas\n",
    "# Avoid division by zero by ensuring 'BsmtUnfSF' is not zero\n",
    "consistent_records = consistent_records[consistent_records['BsmtUnfSF'] != 0]\n",
    "consistent_records['Fin_Unf_Ratio'] = consistent_records['BsmtFinSF1'] / consistent_records['BsmtUnfSF']\n",
    "\n",
    "# Step 3: Compute the overall average ratio\n",
    "# This will give us the mean ratio of finished to unfinished basement areas\n",
    "overall_ratio = consistent_records['Fin_Unf_Ratio'].mean()\n",
    "overall_ratio"
   ],
   "id": "b6133e763e6a16f3",
   "outputs": [
    {
     "data": {
      "text/plain": [
       "2.0626378723346837"
      ]
     },
     "execution_count": 21,
     "metadata": {},
     "output_type": "execute_result"
    }
   ],
   "execution_count": 21
  },
  {
   "metadata": {},
   "cell_type": "markdown",
   "source": "We can now adjust Finished and Unfinished areas with given ratio, so sum of areas ads up",
   "id": "28fbbc69d18ba056"
  },
  {
   "metadata": {
    "ExecuteTime": {
     "end_time": "2024-05-01T11:02:33.246658Z",
     "start_time": "2024-05-01T11:02:33.210362Z"
    }
   },
   "cell_type": "code",
   "source": [
    "# Step 1: Filter for inconsistent records\n",
    "inconsistent_records = df[df['BsmtFinSF1'] + df['BsmtUnfSF'] != df['TotalBsmtSF']]\n",
    "\n",
    "# Step 2: Adjust using the overall ratio\n",
    "for index, row in inconsistent_records.iterrows():\n",
    "    total_bsmt_sf = row['TotalBsmtSF']\n",
    "    # Calculate new values based on the overall ratio\n",
    "    new_unf_sf = int(total_bsmt_sf / (overall_ratio + 1))\n",
    "    new_fin_sf = total_bsmt_sf - new_unf_sf               \n",
    "\n",
    "    # Assign the new values back to the DataFrame\n",
    "    df.at[index, 'BsmtUnfSF'] = new_unf_sf\n",
    "    df.at[index, 'BsmtFinSF1'] = new_fin_sf\n",
    "\n",
    "# Step 3: Re-check consistency\n",
    "df['ConsistencyCheck'] = (df['BsmtFinSF1'] + df['BsmtUnfSF'] == df['TotalBsmtSF'])\n",
    "inconsistencies_after_adjustment = df['ConsistencyCheck'].value_counts().get(False, 0)\n",
    "print(f\"Number of inconsistencies after adjustments: {inconsistencies_after_adjustment}\")\n"
   ],
   "id": "604391f6d7ec36fa",
   "outputs": [
    {
     "name": "stdout",
     "output_type": "stream",
     "text": [
      "Number of inconsistencies after adjustments: 0\n"
     ]
    }
   ],
   "execution_count": 22
  },
  {
   "metadata": {},
   "cell_type": "markdown",
   "source": "We have completed Basement data Fixing, all we need is now to check all values are correct, adds up and are consistent",
   "id": "9073128faedc9fe2"
  },
  {
   "metadata": {
    "ExecuteTime": {
     "end_time": "2024-05-01T11:02:33.341527Z",
     "start_time": "2024-05-01T11:02:33.249673Z"
    }
   },
   "cell_type": "code",
   "source": [
    "loop_check_consistency(df, basement_features)\n",
    "df['BsmtAreaCheck'] = (df['BsmtFinSF1'] + df['BsmtUnfSF'] == df['TotalBsmtSF'])\n",
    "\n",
    "inconsistencies = df['BsmtAreaCheck'].value_counts()[False] if False in df['BsmtAreaCheck'].value_counts() else 0\n",
    "print()\n",
    "print(\"Total number where areas of basement do not add up: \", inconsistencies)"
   ],
   "id": "7b84d6130dfd0054",
   "outputs": [
    {
     "name": "stdout",
     "output_type": "stream",
     "text": [
      "Feature BsmtExposure has 0 inconsistent rows.\n",
      "Feature BsmtFinType1 has 0 inconsistent rows.\n",
      "Feature BsmtFinSF1 has 430 inconsistent rows.\n",
      "Feature BsmtUnfSF has 43 inconsistent rows.\n",
      "Feature TotalBsmtSF has 0 inconsistent rows.\n",
      "\n",
      "Total number where areas of basement do not add up:  0\n"
     ]
    }
   ],
   "execution_count": 23
  },
  {
   "metadata": {},
   "cell_type": "markdown",
   "source": [
    "We can ignore following rows:\n",
    "Feature BsmtFinSF1 has 430 inconsistent rows.\n",
    "Feature BsmtUnfSF has 43 inconsistent rows.\n",
    "Feature TotalBsmtSF has 0 inconsistent rows.\n",
    "\n",
    "They were used just for checking BsmtExposure and BsmtFinType1, as they can be zero, based on how much basement is finished or not"
   ],
   "id": "181e9bb26f626b5b"
  },
  {
   "metadata": {},
   "cell_type": "markdown",
   "source": [
    "## We have found no issues with given features\n",
    "\n",
    "We will save given dataset as outputs/data_cleaning/04_basement.csv\n",
    "Before saving, we will:\n",
    "1. Remove Columns that do not belong to given dataset\n",
    "2. Encode columns BsmtExposure and BsmtFinType1 as numbers:\n",
    "* Create file for managing all encodings encoders.py\n",
    "* create file all_encodings.json\n",
    "* encode given features\n",
    "* save encoding dictionaries in file all_encodings.json\n",
    " \n",
    "Export dataset as inputs/datasets/cleaning/basement.csv"
   ],
   "id": "79595ebee8961283"
  },
  {
   "metadata": {
    "ExecuteTime": {
     "end_time": "2024-05-01T11:02:33.386087Z",
     "start_time": "2024-05-01T11:02:33.344171Z"
    }
   },
   "cell_type": "code",
   "source": [
    "# Removing Extra columns that originally do not belong to dataset, as we have created them\n",
    "\n",
    "df_original_features = pd.read_csv(\"outputs/datasets/collection/HousePricesRecords.csv\")\n",
    "import pandas as pd\n",
    "\n",
    "# Identify columns in df that are also in df_original\n",
    "common_columns = df.columns.intersection(df_original_features.columns)\n",
    "\n",
    "# Filter df to only include those common columns\n",
    "df = df[common_columns]\n",
    "\n",
    "df.head()\n"
   ],
   "id": "e6f16e4d55d91bfe",
   "outputs": [
    {
     "data": {
      "text/plain": [
       "   Unnamed: 0  1stFlrSF  2ndFlrSF  BedroomAbvGr BsmtExposure  BsmtFinSF1  \\\n",
       "0           0       856       854             3           No         706   \n",
       "1           1      1262         0             3           Gd         978   \n",
       "2           2       920       866             3           Mn         486   \n",
       "3           3       961         0             2           No         216   \n",
       "4           4      1145         0             4           Av         655   \n",
       "\n",
       "  BsmtFinType1  BsmtUnfSF  EnclosedPorch  GarageArea  ... LotFrontage  \\\n",
       "0          GLQ        150            0.0         548  ...        65.0   \n",
       "1          ALQ        284            NaN         460  ...        80.0   \n",
       "2          GLQ        434            0.0         608  ...        68.0   \n",
       "3          ALQ        540            NaN         642  ...        60.0   \n",
       "4          GLQ        490            0.0         836  ...        84.0   \n",
       "\n",
       "   MasVnrArea  OpenPorchSF OverallCond  OverallQual  TotalBsmtSF  WoodDeckSF  \\\n",
       "0       196.0           61           5            7          856         0.0   \n",
       "1         0.0            0           8            6         1262         NaN   \n",
       "2       162.0           42           5            7          920         NaN   \n",
       "3         0.0           35           5            7          756         NaN   \n",
       "4       350.0           84           5            8         1145         NaN   \n",
       "\n",
       "   YearBuilt  YearRemodAdd  SalePrice  \n",
       "0       2003          2003     208500  \n",
       "1       1976          1976     181500  \n",
       "2       2001          2002     223500  \n",
       "3       1915          1970     140000  \n",
       "4       2000          2000     250000  \n",
       "\n",
       "[5 rows x 25 columns]"
      ],
      "text/html": [
       "<div>\n",
       "<style scoped>\n",
       "    .dataframe tbody tr th:only-of-type {\n",
       "        vertical-align: middle;\n",
       "    }\n",
       "\n",
       "    .dataframe tbody tr th {\n",
       "        vertical-align: top;\n",
       "    }\n",
       "\n",
       "    .dataframe thead th {\n",
       "        text-align: right;\n",
       "    }\n",
       "</style>\n",
       "<table border=\"1\" class=\"dataframe\">\n",
       "  <thead>\n",
       "    <tr style=\"text-align: right;\">\n",
       "      <th></th>\n",
       "      <th>Unnamed: 0</th>\n",
       "      <th>1stFlrSF</th>\n",
       "      <th>2ndFlrSF</th>\n",
       "      <th>BedroomAbvGr</th>\n",
       "      <th>BsmtExposure</th>\n",
       "      <th>BsmtFinSF1</th>\n",
       "      <th>BsmtFinType1</th>\n",
       "      <th>BsmtUnfSF</th>\n",
       "      <th>EnclosedPorch</th>\n",
       "      <th>GarageArea</th>\n",
       "      <th>...</th>\n",
       "      <th>LotFrontage</th>\n",
       "      <th>MasVnrArea</th>\n",
       "      <th>OpenPorchSF</th>\n",
       "      <th>OverallCond</th>\n",
       "      <th>OverallQual</th>\n",
       "      <th>TotalBsmtSF</th>\n",
       "      <th>WoodDeckSF</th>\n",
       "      <th>YearBuilt</th>\n",
       "      <th>YearRemodAdd</th>\n",
       "      <th>SalePrice</th>\n",
       "    </tr>\n",
       "  </thead>\n",
       "  <tbody>\n",
       "    <tr>\n",
       "      <th>0</th>\n",
       "      <td>0</td>\n",
       "      <td>856</td>\n",
       "      <td>854</td>\n",
       "      <td>3</td>\n",
       "      <td>No</td>\n",
       "      <td>706</td>\n",
       "      <td>GLQ</td>\n",
       "      <td>150</td>\n",
       "      <td>0.0</td>\n",
       "      <td>548</td>\n",
       "      <td>...</td>\n",
       "      <td>65.0</td>\n",
       "      <td>196.0</td>\n",
       "      <td>61</td>\n",
       "      <td>5</td>\n",
       "      <td>7</td>\n",
       "      <td>856</td>\n",
       "      <td>0.0</td>\n",
       "      <td>2003</td>\n",
       "      <td>2003</td>\n",
       "      <td>208500</td>\n",
       "    </tr>\n",
       "    <tr>\n",
       "      <th>1</th>\n",
       "      <td>1</td>\n",
       "      <td>1262</td>\n",
       "      <td>0</td>\n",
       "      <td>3</td>\n",
       "      <td>Gd</td>\n",
       "      <td>978</td>\n",
       "      <td>ALQ</td>\n",
       "      <td>284</td>\n",
       "      <td>NaN</td>\n",
       "      <td>460</td>\n",
       "      <td>...</td>\n",
       "      <td>80.0</td>\n",
       "      <td>0.0</td>\n",
       "      <td>0</td>\n",
       "      <td>8</td>\n",
       "      <td>6</td>\n",
       "      <td>1262</td>\n",
       "      <td>NaN</td>\n",
       "      <td>1976</td>\n",
       "      <td>1976</td>\n",
       "      <td>181500</td>\n",
       "    </tr>\n",
       "    <tr>\n",
       "      <th>2</th>\n",
       "      <td>2</td>\n",
       "      <td>920</td>\n",
       "      <td>866</td>\n",
       "      <td>3</td>\n",
       "      <td>Mn</td>\n",
       "      <td>486</td>\n",
       "      <td>GLQ</td>\n",
       "      <td>434</td>\n",
       "      <td>0.0</td>\n",
       "      <td>608</td>\n",
       "      <td>...</td>\n",
       "      <td>68.0</td>\n",
       "      <td>162.0</td>\n",
       "      <td>42</td>\n",
       "      <td>5</td>\n",
       "      <td>7</td>\n",
       "      <td>920</td>\n",
       "      <td>NaN</td>\n",
       "      <td>2001</td>\n",
       "      <td>2002</td>\n",
       "      <td>223500</td>\n",
       "    </tr>\n",
       "    <tr>\n",
       "      <th>3</th>\n",
       "      <td>3</td>\n",
       "      <td>961</td>\n",
       "      <td>0</td>\n",
       "      <td>2</td>\n",
       "      <td>No</td>\n",
       "      <td>216</td>\n",
       "      <td>ALQ</td>\n",
       "      <td>540</td>\n",
       "      <td>NaN</td>\n",
       "      <td>642</td>\n",
       "      <td>...</td>\n",
       "      <td>60.0</td>\n",
       "      <td>0.0</td>\n",
       "      <td>35</td>\n",
       "      <td>5</td>\n",
       "      <td>7</td>\n",
       "      <td>756</td>\n",
       "      <td>NaN</td>\n",
       "      <td>1915</td>\n",
       "      <td>1970</td>\n",
       "      <td>140000</td>\n",
       "    </tr>\n",
       "    <tr>\n",
       "      <th>4</th>\n",
       "      <td>4</td>\n",
       "      <td>1145</td>\n",
       "      <td>0</td>\n",
       "      <td>4</td>\n",
       "      <td>Av</td>\n",
       "      <td>655</td>\n",
       "      <td>GLQ</td>\n",
       "      <td>490</td>\n",
       "      <td>0.0</td>\n",
       "      <td>836</td>\n",
       "      <td>...</td>\n",
       "      <td>84.0</td>\n",
       "      <td>350.0</td>\n",
       "      <td>84</td>\n",
       "      <td>5</td>\n",
       "      <td>8</td>\n",
       "      <td>1145</td>\n",
       "      <td>NaN</td>\n",
       "      <td>2000</td>\n",
       "      <td>2000</td>\n",
       "      <td>250000</td>\n",
       "    </tr>\n",
       "  </tbody>\n",
       "</table>\n",
       "<p>5 rows × 25 columns</p>\n",
       "</div>"
      ]
     },
     "execution_count": 24,
     "metadata": {},
     "output_type": "execute_result"
    }
   ],
   "execution_count": 24
  },
  {
   "metadata": {},
   "cell_type": "markdown",
   "source": "### Encoding BsmtExposure as numbers",
   "id": "a3db3e7a54190191"
  },
  {
   "metadata": {
    "ExecuteTime": {
     "end_time": "2024-05-01T11:02:33.609682Z",
     "start_time": "2024-05-01T11:02:33.388786Z"
    }
   },
   "cell_type": "code",
   "source": [
    "# Encoding given features as numbers, will reduce dataset size, what would potentially increase future calculations with dataset\n",
    "from sklearn.preprocessing import LabelEncoder\n",
    "import joblib\n",
    "\n",
    "# Creating an instance of LabelEncoder\n",
    "label_encoder = LabelEncoder()\n",
    "\n",
    "# Fitting and transforming the column to encode\n",
    "df['BsmtExposure'] = label_encoder.fit_transform(df['BsmtExposure'])\n",
    "\n",
    "# Showing the mapping\n",
    "mapping = dict(zip(label_encoder.classes_, label_encoder.transform(label_encoder.classes_)))\n",
    "print(\"Current encoding: \", mapping)\n",
    "\n",
    "# saving encoder settings\n",
    "joblib.dump(label_encoder, 'models/joblib/bsmt_exposure_encoder.joblib')\n"
   ],
   "id": "20a6ace43c3f0377",
   "outputs": [
    {
     "name": "stdout",
     "output_type": "stream",
     "text": [
      "Current encoding:  {'Av': 0, 'Gd': 1, 'Mn': 2, 'No': 3, 'None': 4}\n"
     ]
    },
    {
     "data": {
      "text/plain": [
       "['models/joblib/bsmt_exposure_encoder.joblib']"
      ]
     },
     "execution_count": 25,
     "metadata": {},
     "output_type": "execute_result"
    }
   ],
   "execution_count": 25
  },
  {
   "metadata": {},
   "cell_type": "markdown",
   "source": "### Encoding BsmtFinType1 as numbers",
   "id": "44b0641278a544b3"
  },
  {
   "metadata": {
    "ExecuteTime": {
     "end_time": "2024-05-01T11:02:33.626396Z",
     "start_time": "2024-05-01T11:02:33.611948Z"
    }
   },
   "cell_type": "code",
   "source": [
    "# Encoding given features as numbers, will reduce dataset size, what would potentially increase future calculations with dataset\n",
    "from sklearn.preprocessing import LabelEncoder\n",
    "\n",
    "# Creating an instance of LabelEncoder\n",
    "label_encoder = LabelEncoder()\n",
    "\n",
    "# Fitting and transforming the column to encode\n",
    "df['BsmtFinType1'] = label_encoder.fit_transform(df['BsmtFinType1'])\n",
    "\n",
    "# Showing the mapping\n",
    "mapping = dict(zip(label_encoder.classes_, label_encoder.transform(label_encoder.classes_)))\n",
    "print(\"Current encoding: \", mapping)\n",
    "\n",
    "joblib.dump(label_encoder, 'models/joblib/bsm_fin_type_1_encoder.joblib')"
   ],
   "id": "8c4317e0938ca493",
   "outputs": [
    {
     "name": "stdout",
     "output_type": "stream",
     "text": [
      "Current encoding:  {'ALQ': 0, 'BLQ': 1, 'GLQ': 2, 'LwQ': 3, 'None': 4, 'Rec': 5, 'Unf': 6}\n"
     ]
    },
    {
     "data": {
      "text/plain": [
       "['models/joblib/bsm_fin_type_1_encoder.joblib']"
      ]
     },
     "execution_count": 26,
     "metadata": {},
     "output_type": "execute_result"
    }
   ],
   "execution_count": 26
  },
  {
   "metadata": {},
   "cell_type": "markdown",
   "source": [
    "## Saving current dataset\n",
    "\n",
    "We will save current dataset as inputs/datasets/cleaning/04_basement.csv"
   ],
   "id": "13078753fd3e7fe5"
  },
  {
   "metadata": {
    "ExecuteTime": {
     "end_time": "2024-05-01T11:02:33.660738Z",
     "start_time": "2024-05-01T11:02:33.628629Z"
    }
   },
   "cell_type": "code",
   "source": "df.to_csv('inputs/datasets/cleaning/basement.csv', index=False)",
   "id": "b4402d0f6b15e98d",
   "outputs": [],
   "execution_count": 27
  },
  {
   "metadata": {},
   "cell_type": "markdown",
   "source": [
    "### Adding Basement Cleaning code Pipeline\n",
    "\n",
    "```python\n",
    "import pandas as pd\n",
    "from sklearn.preprocessing import LabelEncoder\n",
    "import joblib\n",
    "\n",
    "def fill_missing_values(df, column_name, method='mode'):\n",
    "    \"\"\"\n",
    "    Fills missing values in a DataFrame column using the specified method.\n",
    "    \n",
    "    Args:\n",
    "    df (DataFrame): The DataFrame containing the column.\n",
    "    column_name (str): The column to fill missing values in.\n",
    "    method (str): Method to use for filling, defaults to 'mode'.\n",
    "    \n",
    "    Returns:\n",
    "    DataFrame: The DataFrame with filled values.\n",
    "    \"\"\"\n",
    "    if method == 'mode':\n",
    "        mode_value = df[column_name].mode()[0]\n",
    "        df.loc[df[column_name].isnull(), column_name] = mode_value\n",
    "    return df\n",
    "\n",
    "def correct_basement_area(df):\n",
    "    \"\"\"\n",
    "    Corrects basement area calculations where any of the basement area fields might be zero.\n",
    "    \n",
    "    Args:\n",
    "    df (DataFrame): The DataFrame to correct.\n",
    "    \n",
    "    Returns:\n",
    "    DataFrame: The corrected DataFrame.\n",
    "    \"\"\"\n",
    "    conditions = {\n",
    "        'BsmtUnfSF': (df['BsmtUnfSF'] == 0),\n",
    "        'BsmtFinSF1': (df['BsmtFinSF1'] == 0),\n",
    "        'TotalBsmtSF': (df['TotalBsmtSF'] == 0)\n",
    "    }\n",
    "\n",
    "    for column, condition in conditions.items():\n",
    "        df.loc[condition, column] = df['TotalBsmtSF'] - df['BsmtFinSF1'] - df['BsmtUnfSF']\n",
    "\n",
    "    return df\n",
    "\n",
    "def calculate_fin_unf_ratio(df):\n",
    "    \"\"\"\n",
    "    Calculates the ratio of finished to unfinished basement areas.\n",
    "    \n",
    "    Args:\n",
    "    df (DataFrame): The DataFrame to calculate ratios in.\n",
    "    \n",
    "    Returns:\n",
    "    DataFrame: The DataFrame with a new column 'Fin_Unf_Ratio' for the ratio.\n",
    "    \"\"\"\n",
    "    df = df[df['BsmtUnfSF'] != 0]\n",
    "    df['Fin_Unf_Ratio'] = df['BsmtFinSF1'] / df['BsmtUnfSF']\n",
    "    return df\n",
    "\n",
    "def encode_features(df, column_names):\n",
    "    \"\"\"\n",
    "    Encodes categorical features using LabelEncoder and saves the encoders.\n",
    "    \n",
    "    Args:\n",
    "    df (DataFrame): The DataFrame containing the features to encode.\n",
    "    column_names (list): List of column names to encode.\n",
    "    \n",
    "    Returns:\n",
    "    DataFrame: The DataFrame with encoded features.\n",
    "    \"\"\"\n",
    "    for column in column_names:\n",
    "        le = LabelEncoder()\n",
    "        df[column] = le.fit_transform(df[column])\n",
    "        joblib.dump(le, f'models/joblib/{column}_encoder.joblib')\n",
    "        print(f\"Encoding for {column}: \", dict(zip(le.classes_, le.transform(le.classes_))))\n",
    "    return df\n",
    "\n",
    "# Main operations\n",
    "columns_of_interest = ['BsmtExposure', 'BsmtFinType1', 'BsmtFinSF1', 'BsmtUnfSF', 'TotalBsmtSF']\n",
    "df = fill_missing_values(df, 'BsmtExposure')\n",
    "df = fill_missing_values(df, 'BsmtFinType1')\n",
    "df = correct_basement_area(df)\n",
    "\n",
    "# Data type inspection\n",
    "column_types = df[columns_of_interest].dtypes\n",
    "print(\"Data types of the specified columns:\")\n",
    "print(column_types)\n",
    "\n",
    "# Consistency checks\n",
    "df['BsmtAreaCheck'] = (df['BsmtFinSF1'] + df['BsmtUnfSF'] == df['TotalBsmtSF'])\n",
    "inconsistencies = df['BsmtAreaCheck'].value_counts().get(False, 0)\n",
    "print(f\"Number of inconsistencies: {inconsistencies}\")\n",
    "\n",
    "# Encode features\n",
    "df = encode_features(df, ['BsmtExposure', 'BsmtFinType1'])\n",
    "```"
   ],
   "id": "326c25d0039104f3"
  },
  {
   "metadata": {},
   "cell_type": "markdown",
   "source": "## Next step is cleaning Garages - cleaning and fixing data in garages",
   "id": "ad050493d009d619"
  }
 ],
 "metadata": {
  "kernelspec": {
   "display_name": "Python 3",
   "language": "python",
   "name": "python3"
  },
  "language_info": {
   "codemirror_mode": {
    "name": "ipython",
    "version": 2
   },
   "file_extension": ".py",
   "mimetype": "text/x-python",
   "name": "python",
   "nbconvert_exporter": "python",
   "pygments_lexer": "ipython2",
   "version": "2.7.6"
  }
 },
 "nbformat": 4,
 "nbformat_minor": 5
}
