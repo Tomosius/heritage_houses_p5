{
 "cells": [
  {
   "metadata": {},
   "cell_type": "markdown",
   "source": [
    "# Notebook 01 - Building 1st and 2nd floor data cleaning and fixing\n",
    "\n",
    "## Objectives\n",
    "* Clean data\n",
    "* Evaluate and process missing data\n",
    "* Fix potential issues with data in features (1stFlrSF and 2ndFlrSF)\n",
    "\n",
    "## Inputs\n",
    "* outputs/datasets/collection/HousePricesRecords.csv\n",
    "\n",
    "## Outputs\n",
    "* Clean and fix (missing and potentially wrong) data in given column\n",
    "* After cleaning is completed, we will save current dataset in inputs/datasets/cleaning/floors.csv"
   ],
   "id": "a7875c24c43c0d1e"
  },
  {
   "metadata": {},
   "cell_type": "markdown",
   "source": [
    "## Change working directory\n",
    "In This section we will get location of current directory and move one step up, to parent folder, so App will be accessing project folder.\n",
    "\n",
    "We need to change the working directory from its current folder to its parent folder\n",
    "* We access the current directory with os.getcwd()"
   ],
   "id": "cb656678d593177e"
  },
  {
   "metadata": {
    "ExecuteTime": {
     "end_time": "2024-05-02T16:28:49.677532Z",
     "start_time": "2024-05-02T16:28:49.648159Z"
    }
   },
   "cell_type": "code",
   "source": [
    "import os\n",
    "current_dir = os.getcwd()\n",
    "current_dir"
   ],
   "id": "aebc2a0372b47511",
   "outputs": [
    {
     "data": {
      "text/plain": [
       "'/Users/pecukevicius/DataspellProjects/heritage_houses_p5/jupyter_notebooks/data_cleaning'"
      ]
     },
     "execution_count": 1,
     "metadata": {},
     "output_type": "execute_result"
    }
   ],
   "execution_count": 1
  },
  {
   "metadata": {},
   "cell_type": "markdown",
   "source": [
    "We want to make the parent of the current directory the new current directory\n",
    "* os.path.dirname() gets the parent directory\n",
    "* os.chdir() defines the new current directory"
   ],
   "id": "61376d0e5ecf487c"
  },
  {
   "metadata": {
    "ExecuteTime": {
     "end_time": "2024-05-02T16:29:09.448743Z",
     "start_time": "2024-05-02T16:29:09.436537Z"
    }
   },
   "cell_type": "code",
   "source": [
    "os.chdir(os.path.dirname(current_dir))\n",
    "print(\"you have set a new current directory\")"
   ],
   "id": "ad55fa3d2f5db8d0",
   "outputs": [
    {
     "name": "stdout",
     "output_type": "stream",
     "text": [
      "you have set a new current directory\n"
     ]
    }
   ],
   "execution_count": 2
  },
  {
   "metadata": {},
   "cell_type": "markdown",
   "source": "Confirm new current directory",
   "id": "2ef02ca3ee0c6a3c"
  },
  {
   "metadata": {
    "ExecuteTime": {
     "end_time": "2024-05-02T16:29:12.300011Z",
     "start_time": "2024-05-02T16:29:12.289029Z"
    }
   },
   "cell_type": "code",
   "source": [
    "current_dir = os.getcwd()\n",
    "current_dir"
   ],
   "id": "a4c9d92dbb8cc3a9",
   "outputs": [
    {
     "data": {
      "text/plain": [
       "'/Users/pecukevicius/DataspellProjects/heritage_houses_p5/jupyter_notebooks'"
      ]
     },
     "execution_count": 3,
     "metadata": {},
     "output_type": "execute_result"
    }
   ],
   "execution_count": 3
  },
  {
   "metadata": {},
   "cell_type": "markdown",
   "source": "We need to check current working directory",
   "id": "22e5c3d0ef0ef283"
  },
  {
   "metadata": {
    "ExecuteTime": {
     "end_time": "2024-05-02T16:29:13.983384Z",
     "start_time": "2024-05-02T16:29:13.976891Z"
    }
   },
   "cell_type": "code",
   "source": "current_dir",
   "id": "ba1df529a54df2f3",
   "outputs": [
    {
     "data": {
      "text/plain": [
       "'/Users/pecukevicius/DataspellProjects/heritage_houses_p5/jupyter_notebooks'"
      ]
     },
     "execution_count": 4,
     "metadata": {},
     "output_type": "execute_result"
    }
   ],
   "execution_count": 4
  },
  {
   "metadata": {},
   "cell_type": "markdown",
   "source": [
    "We can see that current is **jupyter_notebooks**, as current notebook is in subfolder. We will go one step up to parent directory, what will be our project main directory.\n",
    "Print out to confirm working directory"
   ],
   "id": "36cb42d41d3602a4"
  },
  {
   "metadata": {
    "ExecuteTime": {
     "end_time": "2024-05-02T16:29:20.415882Z",
     "start_time": "2024-05-02T16:29:20.401742Z"
    }
   },
   "cell_type": "code",
   "source": [
    "os.chdir(os.path.dirname(current_dir))\n",
    "current_dir = os.getcwd()\n",
    "current_dir"
   ],
   "id": "14a35895387aca00",
   "outputs": [
    {
     "data": {
      "text/plain": [
       "'/Users/pecukevicius/DataspellProjects/heritage_houses_p5'"
      ]
     },
     "execution_count": 5,
     "metadata": {},
     "output_type": "execute_result"
    }
   ],
   "execution_count": 5
  },
  {
   "metadata": {},
   "cell_type": "markdown",
   "source": "",
   "id": "9c67382aa77af8a3"
  },
  {
   "metadata": {},
   "cell_type": "markdown",
   "source": "## Loading Dataset",
   "id": "891d66d7edd5b491"
  },
  {
   "metadata": {
    "ExecuteTime": {
     "end_time": "2024-05-02T16:29:41.613438Z",
     "start_time": "2024-05-02T16:29:23.826972Z"
    }
   },
   "cell_type": "code",
   "source": [
    "import pandas as pd\n",
    "\n",
    "df = pd.read_csv(\"outputs/datasets/collection/HousePricesRecords.csv\")\n",
    "df.head()"
   ],
   "id": "d983f77e553443e0",
   "outputs": [
    {
     "data": {
      "text/plain": [
       "   Unnamed: 0  1stFlrSF  2ndFlrSF  BedroomAbvGr BsmtExposure  BsmtFinSF1  \\\n",
       "0           0       856     854.0           3.0           No         706   \n",
       "1           1      1262       0.0           3.0           Gd         978   \n",
       "2           2       920     866.0           3.0           Mn         486   \n",
       "3           3       961       NaN           NaN           No         216   \n",
       "4           4      1145       NaN           4.0           Av         655   \n",
       "\n",
       "  BsmtFinType1  BsmtUnfSF  EnclosedPorch  GarageArea  ... LotFrontage  \\\n",
       "0          GLQ        150            0.0         548  ...        65.0   \n",
       "1          ALQ        284            NaN         460  ...        80.0   \n",
       "2          GLQ        434            0.0         608  ...        68.0   \n",
       "3          ALQ        540            NaN         642  ...        60.0   \n",
       "4          GLQ        490            0.0         836  ...        84.0   \n",
       "\n",
       "   MasVnrArea  OpenPorchSF OverallCond  OverallQual  TotalBsmtSF  WoodDeckSF  \\\n",
       "0       196.0           61           5            7          856         0.0   \n",
       "1         0.0            0           8            6         1262         NaN   \n",
       "2       162.0           42           5            7          920         NaN   \n",
       "3         0.0           35           5            7          756         NaN   \n",
       "4       350.0           84           5            8         1145         NaN   \n",
       "\n",
       "   YearBuilt  YearRemodAdd  SalePrice  \n",
       "0       2003          2003     208500  \n",
       "1       1976          1976     181500  \n",
       "2       2001          2002     223500  \n",
       "3       1915          1970     140000  \n",
       "4       2000          2000     250000  \n",
       "\n",
       "[5 rows x 25 columns]"
      ],
      "text/html": [
       "<div>\n",
       "<style scoped>\n",
       "    .dataframe tbody tr th:only-of-type {\n",
       "        vertical-align: middle;\n",
       "    }\n",
       "\n",
       "    .dataframe tbody tr th {\n",
       "        vertical-align: top;\n",
       "    }\n",
       "\n",
       "    .dataframe thead th {\n",
       "        text-align: right;\n",
       "    }\n",
       "</style>\n",
       "<table border=\"1\" class=\"dataframe\">\n",
       "  <thead>\n",
       "    <tr style=\"text-align: right;\">\n",
       "      <th></th>\n",
       "      <th>Unnamed: 0</th>\n",
       "      <th>1stFlrSF</th>\n",
       "      <th>2ndFlrSF</th>\n",
       "      <th>BedroomAbvGr</th>\n",
       "      <th>BsmtExposure</th>\n",
       "      <th>BsmtFinSF1</th>\n",
       "      <th>BsmtFinType1</th>\n",
       "      <th>BsmtUnfSF</th>\n",
       "      <th>EnclosedPorch</th>\n",
       "      <th>GarageArea</th>\n",
       "      <th>...</th>\n",
       "      <th>LotFrontage</th>\n",
       "      <th>MasVnrArea</th>\n",
       "      <th>OpenPorchSF</th>\n",
       "      <th>OverallCond</th>\n",
       "      <th>OverallQual</th>\n",
       "      <th>TotalBsmtSF</th>\n",
       "      <th>WoodDeckSF</th>\n",
       "      <th>YearBuilt</th>\n",
       "      <th>YearRemodAdd</th>\n",
       "      <th>SalePrice</th>\n",
       "    </tr>\n",
       "  </thead>\n",
       "  <tbody>\n",
       "    <tr>\n",
       "      <th>0</th>\n",
       "      <td>0</td>\n",
       "      <td>856</td>\n",
       "      <td>854.0</td>\n",
       "      <td>3.0</td>\n",
       "      <td>No</td>\n",
       "      <td>706</td>\n",
       "      <td>GLQ</td>\n",
       "      <td>150</td>\n",
       "      <td>0.0</td>\n",
       "      <td>548</td>\n",
       "      <td>...</td>\n",
       "      <td>65.0</td>\n",
       "      <td>196.0</td>\n",
       "      <td>61</td>\n",
       "      <td>5</td>\n",
       "      <td>7</td>\n",
       "      <td>856</td>\n",
       "      <td>0.0</td>\n",
       "      <td>2003</td>\n",
       "      <td>2003</td>\n",
       "      <td>208500</td>\n",
       "    </tr>\n",
       "    <tr>\n",
       "      <th>1</th>\n",
       "      <td>1</td>\n",
       "      <td>1262</td>\n",
       "      <td>0.0</td>\n",
       "      <td>3.0</td>\n",
       "      <td>Gd</td>\n",
       "      <td>978</td>\n",
       "      <td>ALQ</td>\n",
       "      <td>284</td>\n",
       "      <td>NaN</td>\n",
       "      <td>460</td>\n",
       "      <td>...</td>\n",
       "      <td>80.0</td>\n",
       "      <td>0.0</td>\n",
       "      <td>0</td>\n",
       "      <td>8</td>\n",
       "      <td>6</td>\n",
       "      <td>1262</td>\n",
       "      <td>NaN</td>\n",
       "      <td>1976</td>\n",
       "      <td>1976</td>\n",
       "      <td>181500</td>\n",
       "    </tr>\n",
       "    <tr>\n",
       "      <th>2</th>\n",
       "      <td>2</td>\n",
       "      <td>920</td>\n",
       "      <td>866.0</td>\n",
       "      <td>3.0</td>\n",
       "      <td>Mn</td>\n",
       "      <td>486</td>\n",
       "      <td>GLQ</td>\n",
       "      <td>434</td>\n",
       "      <td>0.0</td>\n",
       "      <td>608</td>\n",
       "      <td>...</td>\n",
       "      <td>68.0</td>\n",
       "      <td>162.0</td>\n",
       "      <td>42</td>\n",
       "      <td>5</td>\n",
       "      <td>7</td>\n",
       "      <td>920</td>\n",
       "      <td>NaN</td>\n",
       "      <td>2001</td>\n",
       "      <td>2002</td>\n",
       "      <td>223500</td>\n",
       "    </tr>\n",
       "    <tr>\n",
       "      <th>3</th>\n",
       "      <td>3</td>\n",
       "      <td>961</td>\n",
       "      <td>NaN</td>\n",
       "      <td>NaN</td>\n",
       "      <td>No</td>\n",
       "      <td>216</td>\n",
       "      <td>ALQ</td>\n",
       "      <td>540</td>\n",
       "      <td>NaN</td>\n",
       "      <td>642</td>\n",
       "      <td>...</td>\n",
       "      <td>60.0</td>\n",
       "      <td>0.0</td>\n",
       "      <td>35</td>\n",
       "      <td>5</td>\n",
       "      <td>7</td>\n",
       "      <td>756</td>\n",
       "      <td>NaN</td>\n",
       "      <td>1915</td>\n",
       "      <td>1970</td>\n",
       "      <td>140000</td>\n",
       "    </tr>\n",
       "    <tr>\n",
       "      <th>4</th>\n",
       "      <td>4</td>\n",
       "      <td>1145</td>\n",
       "      <td>NaN</td>\n",
       "      <td>4.0</td>\n",
       "      <td>Av</td>\n",
       "      <td>655</td>\n",
       "      <td>GLQ</td>\n",
       "      <td>490</td>\n",
       "      <td>0.0</td>\n",
       "      <td>836</td>\n",
       "      <td>...</td>\n",
       "      <td>84.0</td>\n",
       "      <td>350.0</td>\n",
       "      <td>84</td>\n",
       "      <td>5</td>\n",
       "      <td>8</td>\n",
       "      <td>1145</td>\n",
       "      <td>NaN</td>\n",
       "      <td>2000</td>\n",
       "      <td>2000</td>\n",
       "      <td>250000</td>\n",
       "    </tr>\n",
       "  </tbody>\n",
       "</table>\n",
       "<p>5 rows × 25 columns</p>\n",
       "</div>"
      ]
     },
     "execution_count": 6,
     "metadata": {},
     "output_type": "execute_result"
    }
   ],
   "execution_count": 6
  },
  {
   "metadata": {},
   "cell_type": "markdown",
   "source": [
    "## Exploring Data\n",
    "\n",
    "We will get all features that are missing data as a list"
   ],
   "id": "957218d717e97c5c"
  },
  {
   "metadata": {},
   "cell_type": "markdown",
   "source": "### Checking if there is any missing values in given features (1st and 2nd floor areas)",
   "id": "ff5536b76d457c69"
  },
  {
   "metadata": {},
   "cell_type": "markdown",
   "source": "First we will check features for missing values",
   "id": "c344bb6dd56f5f74"
  },
  {
   "metadata": {
    "ExecuteTime": {
     "end_time": "2024-05-02T16:29:57.886357Z",
     "start_time": "2024-05-02T16:29:57.874162Z"
    }
   },
   "cell_type": "code",
   "source": [
    "# List of column names to check for missing values\n",
    "features_to_check = ['1stFlrSF', '2ndFlrSF']\n",
    "\n",
    "# Loop through each column in the list\n",
    "for column in features_to_check:\n",
    "    # Check for missing values\n",
    "    if df[column].isna().sum() > 0:\n",
    "        print(f\"There are missing values in '{column}'.\")\n",
    "        # Fill missing values with a default value - 0\n",
    "        df[column] = df[column].fillna(0)\n",
    "    else:\n",
    "        print(f\"No missing values in '{column}'.\")\n"
   ],
   "id": "73ef105cbfcbba20",
   "outputs": [
    {
     "name": "stdout",
     "output_type": "stream",
     "text": [
      "No missing values in '1stFlrSF'.\n",
      "There are missing values in '2ndFlrSF'.\n"
     ]
    }
   ],
   "execution_count": 7
  },
  {
   "metadata": {},
   "cell_type": "markdown",
   "source": "### Checking Data Type",
   "id": "8eafedec13b68989"
  },
  {
   "metadata": {
    "ExecuteTime": {
     "end_time": "2024-05-02T16:30:04.084003Z",
     "start_time": "2024-05-02T16:30:04.072893Z"
    }
   },
   "cell_type": "code",
   "source": "df[['1stFlrSF', '2ndFlrSF']].dtypes",
   "id": "a699b0fb80cbb174",
   "outputs": [
    {
     "data": {
      "text/plain": [
       "1stFlrSF      int64\n",
       "2ndFlrSF    float64\n",
       "dtype: object"
      ]
     },
     "execution_count": 8,
     "metadata": {},
     "output_type": "execute_result"
    }
   ],
   "execution_count": 8
  },
  {
   "metadata": {},
   "cell_type": "markdown",
   "source": "2ndFlrSF is float, we need to convert to integer",
   "id": "a8ee6f056e36984e"
  },
  {
   "metadata": {
    "ExecuteTime": {
     "end_time": "2024-05-02T16:30:07.795298Z",
     "start_time": "2024-05-02T16:30:07.786409Z"
    }
   },
   "cell_type": "code",
   "source": "df['2ndFlrSF'] = df['2ndFlrSF'].astype(int)",
   "id": "5d4c29b9b9f95c00",
   "outputs": [],
   "execution_count": 9
  },
  {
   "metadata": {},
   "cell_type": "markdown",
   "source": "### Checking Values for lower than zero",
   "id": "ac9caa2fbf6b7c7"
  },
  {
   "metadata": {
    "ExecuteTime": {
     "end_time": "2024-05-02T16:30:15.763869Z",
     "start_time": "2024-05-02T16:30:15.756330Z"
    }
   },
   "cell_type": "code",
   "source": [
    "# Loop through each column in the list\n",
    "for column in features_to_check:\n",
    "    # Check if there are any negative values in the column\n",
    "    if (df[column] < 0).any():\n",
    "        print(f\"There are negative values in '{column}', which is not allowed.\")\n",
    "    else:\n",
    "        print(f\"No negative values in '{column}'.\")\n"
   ],
   "id": "80edf2a41fdf8a84",
   "outputs": [
    {
     "name": "stdout",
     "output_type": "stream",
     "text": [
      "No negative values in '1stFlrSF'.\n",
      "No negative values in '2ndFlrSF'.\n"
     ]
    }
   ],
   "execution_count": 10
  },
  {
   "metadata": {},
   "cell_type": "markdown",
   "source": "### Checking for wrong data values, where 1st or 2nd floor area is bigger than ground-floor",
   "id": "10e8bed90fc1e12e"
  },
  {
   "metadata": {
    "ExecuteTime": {
     "end_time": "2024-05-02T16:30:23.263620Z",
     "start_time": "2024-05-02T16:30:23.253832Z"
    }
   },
   "cell_type": "code",
   "source": [
    "for floor_col in features_to_check:\n",
    "    # Find entries where floor area exceeds 'GrLivArea'\n",
    "    invalid_areas = df[df[floor_col] > df['GrLivArea']]\n",
    "    if not invalid_areas.empty:\n",
    "        print(f\"There are entries where '{floor_col}' is greater than 'GrLivArea'.\")\n",
    "        # Display the problematic entries\n",
    "        print(invalid_areas[[floor_col, 'GrLivArea']])\n",
    "    else:\n",
    "        print(f\"All '{floor_col}' values are within the valid range of 'GrLivArea'.\")\n"
   ],
   "id": "4a0805fa64459970",
   "outputs": [
    {
     "name": "stdout",
     "output_type": "stream",
     "text": [
      "All '1stFlrSF' values are within the valid range of 'GrLivArea'.\n",
      "All '2ndFlrSF' values are within the valid range of 'GrLivArea'.\n"
     ]
    }
   ],
   "execution_count": 11
  },
  {
   "metadata": {},
   "cell_type": "markdown",
   "source": "We need also to inspect, is there any 2nd floor bigger then 1st",
   "id": "e9d89a39252d0462"
  },
  {
   "metadata": {
    "ExecuteTime": {
     "end_time": "2024-05-02T16:50:21.482704Z",
     "start_time": "2024-05-02T16:50:21.429456Z"
    }
   },
   "cell_type": "code",
   "source": [
    "invalid_areas = df[df['1stFlrSF'] < df['2ndFlrSF']]\n",
    "if not invalid_areas.empty:\n",
    "    print(\" There are records where 2nd floor is bigger than 1st floor, total number of records: \", invalid_areas.shape[0])\n",
    "else:\n",
    "    print(\"All values are correct\")"
   ],
   "id": "55c06767507a03c8",
   "outputs": [
    {
     "name": "stdout",
     "output_type": "stream",
     "text": [
      " There are records where 2nd floor is bigger than 1st floor, total number of records:  129\n"
     ]
    }
   ],
   "execution_count": 12
  },
  {
   "metadata": {},
   "cell_type": "markdown",
   "source": [
    "We have found 129 records, where 2nd floor is bigger than 1st.\n",
    "\n",
    "Such data is very unlikely.\n",
    "Our steps:\n",
    "1. Create extra column in dataset - to store which records are wrong\n",
    "2. Create a copy of current dataset\n",
    "3. Filter dataset where 2nd floor is bigger than 1st floor"
   ],
   "id": "dc554f028d43b9bb"
  },
  {
   "metadata": {
    "ExecuteTime": {
     "end_time": "2024-05-02T16:50:25.659Z",
     "start_time": "2024-05-02T16:50:25.619698Z"
    }
   },
   "cell_type": "code",
   "source": [
    "# Creating extra column in dataset to store where 2nd floor is bigger than 1st\n",
    "df['2nd_floor_larger'] = df['1stFlrSF'] < df['2ndFlrSF']\n",
    "\n",
    "# Filtering dataset for wrong records and making copy of such dataset\n",
    "bad_records = df[df['2nd_floor_larger']].copy()\n",
    "\n",
    "# Calculating ratios\n",
    "bad_records['floor_ratio'] = ((bad_records['2ndFlrSF'] - bad_records['1stFlrSF'])/bad_records['1stFlrSF']) * 100\n",
    "\n",
    "bad_records[['1stFlrSF', '2ndFlrSF', 'floor_ratio']]"
   ],
   "id": "194666ed4699a0ff",
   "outputs": [
    {
     "data": {
      "text/plain": [
       "      1stFlrSF  2ndFlrSF  floor_ratio\n",
       "20        1158      1218     5.181347\n",
       "30         649       668     2.927581\n",
       "35        1132      1320    16.607774\n",
       "58        1426      1519     6.521739\n",
       "65        1143      1330    16.360455\n",
       "...        ...       ...          ...\n",
       "1365       814       860     5.651106\n",
       "1366       882       908     2.947846\n",
       "1378       483       504     4.347826\n",
       "1395      1133      1349    19.064431\n",
       "1430       734      1104    50.408719\n",
       "\n",
       "[129 rows x 3 columns]"
      ],
      "text/html": [
       "<div>\n",
       "<style scoped>\n",
       "    .dataframe tbody tr th:only-of-type {\n",
       "        vertical-align: middle;\n",
       "    }\n",
       "\n",
       "    .dataframe tbody tr th {\n",
       "        vertical-align: top;\n",
       "    }\n",
       "\n",
       "    .dataframe thead th {\n",
       "        text-align: right;\n",
       "    }\n",
       "</style>\n",
       "<table border=\"1\" class=\"dataframe\">\n",
       "  <thead>\n",
       "    <tr style=\"text-align: right;\">\n",
       "      <th></th>\n",
       "      <th>1stFlrSF</th>\n",
       "      <th>2ndFlrSF</th>\n",
       "      <th>floor_ratio</th>\n",
       "    </tr>\n",
       "  </thead>\n",
       "  <tbody>\n",
       "    <tr>\n",
       "      <th>20</th>\n",
       "      <td>1158</td>\n",
       "      <td>1218</td>\n",
       "      <td>5.181347</td>\n",
       "    </tr>\n",
       "    <tr>\n",
       "      <th>30</th>\n",
       "      <td>649</td>\n",
       "      <td>668</td>\n",
       "      <td>2.927581</td>\n",
       "    </tr>\n",
       "    <tr>\n",
       "      <th>35</th>\n",
       "      <td>1132</td>\n",
       "      <td>1320</td>\n",
       "      <td>16.607774</td>\n",
       "    </tr>\n",
       "    <tr>\n",
       "      <th>58</th>\n",
       "      <td>1426</td>\n",
       "      <td>1519</td>\n",
       "      <td>6.521739</td>\n",
       "    </tr>\n",
       "    <tr>\n",
       "      <th>65</th>\n",
       "      <td>1143</td>\n",
       "      <td>1330</td>\n",
       "      <td>16.360455</td>\n",
       "    </tr>\n",
       "    <tr>\n",
       "      <th>...</th>\n",
       "      <td>...</td>\n",
       "      <td>...</td>\n",
       "      <td>...</td>\n",
       "    </tr>\n",
       "    <tr>\n",
       "      <th>1365</th>\n",
       "      <td>814</td>\n",
       "      <td>860</td>\n",
       "      <td>5.651106</td>\n",
       "    </tr>\n",
       "    <tr>\n",
       "      <th>1366</th>\n",
       "      <td>882</td>\n",
       "      <td>908</td>\n",
       "      <td>2.947846</td>\n",
       "    </tr>\n",
       "    <tr>\n",
       "      <th>1378</th>\n",
       "      <td>483</td>\n",
       "      <td>504</td>\n",
       "      <td>4.347826</td>\n",
       "    </tr>\n",
       "    <tr>\n",
       "      <th>1395</th>\n",
       "      <td>1133</td>\n",
       "      <td>1349</td>\n",
       "      <td>19.064431</td>\n",
       "    </tr>\n",
       "    <tr>\n",
       "      <th>1430</th>\n",
       "      <td>734</td>\n",
       "      <td>1104</td>\n",
       "      <td>50.408719</td>\n",
       "    </tr>\n",
       "  </tbody>\n",
       "</table>\n",
       "<p>129 rows × 3 columns</p>\n",
       "</div>"
      ]
     },
     "execution_count": 13,
     "metadata": {},
     "output_type": "execute_result"
    }
   ],
   "execution_count": 13
  },
  {
   "metadata": {},
   "cell_type": "markdown",
   "source": "We can see there are quite high differences. Let's check what is average, just for curiosity",
   "id": "9fc11011b35defbd"
  },
  {
   "metadata": {
    "ExecuteTime": {
     "end_time": "2024-05-02T16:50:30.653580Z",
     "start_time": "2024-05-02T16:50:30.641787Z"
    }
   },
   "cell_type": "code",
   "source": "bad_records['floor_ratio'].mean()",
   "id": "b1c0c57a0c6888d5",
   "outputs": [
    {
     "data": {
      "text/plain": [
       "14.76282609025632"
      ]
     },
     "execution_count": 14,
     "metadata": {},
     "output_type": "execute_result"
    }
   ],
   "execution_count": 14
  },
  {
   "metadata": {},
   "cell_type": "markdown",
   "source": [
    "This is sad, as average is so high, and there were many possibilities for such abnormalities to happen:\n",
    "* mistyping\n",
    "* entering values in wrong cells - 1st and 2nf floor areas were swapped when entering data\n",
    "* It is real to be 2nd floor bigger, but it is very unlikely and uncommon, so we reject this\n",
    "\n",
    "Let's check, is there any records, where 2nd floor is greater than 1st floor"
   ],
   "id": "6c52eab8111d5dec"
  },
  {
   "metadata": {
    "ExecuteTime": {
     "end_time": "2024-05-02T16:50:38.722584Z",
     "start_time": "2024-05-02T16:50:38.700183Z"
    }
   },
   "cell_type": "code",
   "source": [
    "test = bad_records[bad_records['2ndFlrSF'] > bad_records['GrLivArea']]\n",
    "test"
   ],
   "id": "5f1b089253e47f7b",
   "outputs": [
    {
     "data": {
      "text/plain": [
       "Empty DataFrame\n",
       "Columns: [Unnamed: 0, 1stFlrSF, 2ndFlrSF, BedroomAbvGr, BsmtExposure, BsmtFinSF1, BsmtFinType1, BsmtUnfSF, EnclosedPorch, GarageArea, GarageFinish, GarageYrBlt, GrLivArea, KitchenQual, LotArea, LotFrontage, MasVnrArea, OpenPorchSF, OverallCond, OverallQual, TotalBsmtSF, WoodDeckSF, YearBuilt, YearRemodAdd, SalePrice, 2nd_floor_larger, floor_ratio]\n",
       "Index: []\n",
       "\n",
       "[0 rows x 27 columns]"
      ],
      "text/html": [
       "<div>\n",
       "<style scoped>\n",
       "    .dataframe tbody tr th:only-of-type {\n",
       "        vertical-align: middle;\n",
       "    }\n",
       "\n",
       "    .dataframe tbody tr th {\n",
       "        vertical-align: top;\n",
       "    }\n",
       "\n",
       "    .dataframe thead th {\n",
       "        text-align: right;\n",
       "    }\n",
       "</style>\n",
       "<table border=\"1\" class=\"dataframe\">\n",
       "  <thead>\n",
       "    <tr style=\"text-align: right;\">\n",
       "      <th></th>\n",
       "      <th>Unnamed: 0</th>\n",
       "      <th>1stFlrSF</th>\n",
       "      <th>2ndFlrSF</th>\n",
       "      <th>BedroomAbvGr</th>\n",
       "      <th>BsmtExposure</th>\n",
       "      <th>BsmtFinSF1</th>\n",
       "      <th>BsmtFinType1</th>\n",
       "      <th>BsmtUnfSF</th>\n",
       "      <th>EnclosedPorch</th>\n",
       "      <th>GarageArea</th>\n",
       "      <th>...</th>\n",
       "      <th>OpenPorchSF</th>\n",
       "      <th>OverallCond</th>\n",
       "      <th>OverallQual</th>\n",
       "      <th>TotalBsmtSF</th>\n",
       "      <th>WoodDeckSF</th>\n",
       "      <th>YearBuilt</th>\n",
       "      <th>YearRemodAdd</th>\n",
       "      <th>SalePrice</th>\n",
       "      <th>2nd_floor_larger</th>\n",
       "      <th>floor_ratio</th>\n",
       "    </tr>\n",
       "  </thead>\n",
       "  <tbody>\n",
       "  </tbody>\n",
       "</table>\n",
       "<p>0 rows × 27 columns</p>\n",
       "</div>"
      ]
     },
     "execution_count": 15,
     "metadata": {},
     "output_type": "execute_result"
    }
   ],
   "execution_count": 15
  },
  {
   "metadata": {},
   "cell_type": "markdown",
   "source": [
    "We can see, after given test, there is no records where swapped, and instead of entering to 1st floor, it was entered to 2nd floor\n",
    "\n",
    "We will swap those given values back"
   ],
   "id": "1b09a5c807fc1b33"
  },
  {
   "metadata": {
    "ExecuteTime": {
     "end_time": "2024-05-02T16:50:41.282556Z",
     "start_time": "2024-05-02T16:50:41.267470Z"
    }
   },
   "cell_type": "code",
   "source": [
    "indexes = df['2ndFlrSF'] > df['1stFlrSF']\n",
    "df.loc[indexes, ['1stFlrSF', '2ndFlrSF']] = df.loc[indexes, ['2ndFlrSF', '1stFlrSF']].values"
   ],
   "id": "84a2befffb2bf0cc",
   "outputs": [],
   "execution_count": 16
  },
  {
   "metadata": {},
   "cell_type": "markdown",
   "source": "Let's check again, is there any records where 2nd floor is bigger than 1st, just to check if all is fixed",
   "id": "c102771824b24e3a"
  },
  {
   "metadata": {
    "ExecuteTime": {
     "end_time": "2024-05-02T16:50:43.148172Z",
     "start_time": "2024-05-02T16:50:43.127837Z"
    }
   },
   "cell_type": "code",
   "source": [
    "# Creating extra column in dataset to store where 2nd floor is bigger than 1st\n",
    "df['2nd_floor_larger'] = df['1stFlrSF'] < df['2ndFlrSF']\n",
    "\n",
    "# Filtering dataset for wrong records and making copy of such dataset\n",
    "bad_records = df[df['2nd_floor_larger']].copy()\n",
    "\n",
    "# Calculating ratios\n",
    "bad_records['floor_ratio'] = ((bad_records['2ndFlrSF'] - bad_records['1stFlrSF'])/bad_records['1stFlrSF']) * 100\n",
    "\n",
    "bad_records[['1stFlrSF', '2ndFlrSF', 'floor_ratio']]"
   ],
   "id": "ab71f28ef8c35709",
   "outputs": [
    {
     "data": {
      "text/plain": [
       "Empty DataFrame\n",
       "Columns: [1stFlrSF, 2ndFlrSF, floor_ratio]\n",
       "Index: []"
      ],
      "text/html": [
       "<div>\n",
       "<style scoped>\n",
       "    .dataframe tbody tr th:only-of-type {\n",
       "        vertical-align: middle;\n",
       "    }\n",
       "\n",
       "    .dataframe tbody tr th {\n",
       "        vertical-align: top;\n",
       "    }\n",
       "\n",
       "    .dataframe thead th {\n",
       "        text-align: right;\n",
       "    }\n",
       "</style>\n",
       "<table border=\"1\" class=\"dataframe\">\n",
       "  <thead>\n",
       "    <tr style=\"text-align: right;\">\n",
       "      <th></th>\n",
       "      <th>1stFlrSF</th>\n",
       "      <th>2ndFlrSF</th>\n",
       "      <th>floor_ratio</th>\n",
       "    </tr>\n",
       "  </thead>\n",
       "  <tbody>\n",
       "  </tbody>\n",
       "</table>\n",
       "</div>"
      ]
     },
     "execution_count": 17,
     "metadata": {},
     "output_type": "execute_result"
    }
   ],
   "execution_count": 17
  },
  {
   "metadata": {},
   "cell_type": "markdown",
   "source": "We can see all records are fixed now.",
   "id": "e4b9423d1572849c"
  },
  {
   "metadata": {},
   "cell_type": "markdown",
   "source": "As we have created extra columns in given dataset, before exporting it as csv, we will remove them, so amount of features will remain the same",
   "id": "d00d472828cf7b63"
  },
  {
   "metadata": {
    "ExecuteTime": {
     "end_time": "2024-05-02T16:51:45.394453Z",
     "start_time": "2024-05-02T16:51:45.334762Z"
    }
   },
   "cell_type": "code",
   "source": [
    "# Importing original dataset\n",
    "df_original = pd.read_csv('outputs/datasets/collection/HousePricesRecords.csv')\n",
    "\n",
    "# Identify features that are in current and original datasets\n",
    "matching_features = df.columns.intersection(df_original.columns)\n",
    "\n",
    "# Applying just existing features, remaining will be discarded\n",
    "df = df[matching_features]\n",
    "\n",
    "df.head()"
   ],
   "id": "dad110486ea7e6e0",
   "outputs": [
    {
     "data": {
      "text/plain": [
       "   Unnamed: 0  1stFlrSF  2ndFlrSF  BedroomAbvGr BsmtExposure  BsmtFinSF1  \\\n",
       "0           0       856       854           3.0           No         706   \n",
       "1           1      1262         0           3.0           Gd         978   \n",
       "2           2       920       866           3.0           Mn         486   \n",
       "3           3       961         0           NaN           No         216   \n",
       "4           4      1145         0           4.0           Av         655   \n",
       "\n",
       "  BsmtFinType1  BsmtUnfSF  EnclosedPorch  GarageArea  ... LotFrontage  \\\n",
       "0          GLQ        150            0.0         548  ...        65.0   \n",
       "1          ALQ        284            NaN         460  ...        80.0   \n",
       "2          GLQ        434            0.0         608  ...        68.0   \n",
       "3          ALQ        540            NaN         642  ...        60.0   \n",
       "4          GLQ        490            0.0         836  ...        84.0   \n",
       "\n",
       "   MasVnrArea  OpenPorchSF OverallCond  OverallQual  TotalBsmtSF  WoodDeckSF  \\\n",
       "0       196.0           61           5            7          856         0.0   \n",
       "1         0.0            0           8            6         1262         NaN   \n",
       "2       162.0           42           5            7          920         NaN   \n",
       "3         0.0           35           5            7          756         NaN   \n",
       "4       350.0           84           5            8         1145         NaN   \n",
       "\n",
       "   YearBuilt  YearRemodAdd  SalePrice  \n",
       "0       2003          2003     208500  \n",
       "1       1976          1976     181500  \n",
       "2       2001          2002     223500  \n",
       "3       1915          1970     140000  \n",
       "4       2000          2000     250000  \n",
       "\n",
       "[5 rows x 25 columns]"
      ],
      "text/html": [
       "<div>\n",
       "<style scoped>\n",
       "    .dataframe tbody tr th:only-of-type {\n",
       "        vertical-align: middle;\n",
       "    }\n",
       "\n",
       "    .dataframe tbody tr th {\n",
       "        vertical-align: top;\n",
       "    }\n",
       "\n",
       "    .dataframe thead th {\n",
       "        text-align: right;\n",
       "    }\n",
       "</style>\n",
       "<table border=\"1\" class=\"dataframe\">\n",
       "  <thead>\n",
       "    <tr style=\"text-align: right;\">\n",
       "      <th></th>\n",
       "      <th>Unnamed: 0</th>\n",
       "      <th>1stFlrSF</th>\n",
       "      <th>2ndFlrSF</th>\n",
       "      <th>BedroomAbvGr</th>\n",
       "      <th>BsmtExposure</th>\n",
       "      <th>BsmtFinSF1</th>\n",
       "      <th>BsmtFinType1</th>\n",
       "      <th>BsmtUnfSF</th>\n",
       "      <th>EnclosedPorch</th>\n",
       "      <th>GarageArea</th>\n",
       "      <th>...</th>\n",
       "      <th>LotFrontage</th>\n",
       "      <th>MasVnrArea</th>\n",
       "      <th>OpenPorchSF</th>\n",
       "      <th>OverallCond</th>\n",
       "      <th>OverallQual</th>\n",
       "      <th>TotalBsmtSF</th>\n",
       "      <th>WoodDeckSF</th>\n",
       "      <th>YearBuilt</th>\n",
       "      <th>YearRemodAdd</th>\n",
       "      <th>SalePrice</th>\n",
       "    </tr>\n",
       "  </thead>\n",
       "  <tbody>\n",
       "    <tr>\n",
       "      <th>0</th>\n",
       "      <td>0</td>\n",
       "      <td>856</td>\n",
       "      <td>854</td>\n",
       "      <td>3.0</td>\n",
       "      <td>No</td>\n",
       "      <td>706</td>\n",
       "      <td>GLQ</td>\n",
       "      <td>150</td>\n",
       "      <td>0.0</td>\n",
       "      <td>548</td>\n",
       "      <td>...</td>\n",
       "      <td>65.0</td>\n",
       "      <td>196.0</td>\n",
       "      <td>61</td>\n",
       "      <td>5</td>\n",
       "      <td>7</td>\n",
       "      <td>856</td>\n",
       "      <td>0.0</td>\n",
       "      <td>2003</td>\n",
       "      <td>2003</td>\n",
       "      <td>208500</td>\n",
       "    </tr>\n",
       "    <tr>\n",
       "      <th>1</th>\n",
       "      <td>1</td>\n",
       "      <td>1262</td>\n",
       "      <td>0</td>\n",
       "      <td>3.0</td>\n",
       "      <td>Gd</td>\n",
       "      <td>978</td>\n",
       "      <td>ALQ</td>\n",
       "      <td>284</td>\n",
       "      <td>NaN</td>\n",
       "      <td>460</td>\n",
       "      <td>...</td>\n",
       "      <td>80.0</td>\n",
       "      <td>0.0</td>\n",
       "      <td>0</td>\n",
       "      <td>8</td>\n",
       "      <td>6</td>\n",
       "      <td>1262</td>\n",
       "      <td>NaN</td>\n",
       "      <td>1976</td>\n",
       "      <td>1976</td>\n",
       "      <td>181500</td>\n",
       "    </tr>\n",
       "    <tr>\n",
       "      <th>2</th>\n",
       "      <td>2</td>\n",
       "      <td>920</td>\n",
       "      <td>866</td>\n",
       "      <td>3.0</td>\n",
       "      <td>Mn</td>\n",
       "      <td>486</td>\n",
       "      <td>GLQ</td>\n",
       "      <td>434</td>\n",
       "      <td>0.0</td>\n",
       "      <td>608</td>\n",
       "      <td>...</td>\n",
       "      <td>68.0</td>\n",
       "      <td>162.0</td>\n",
       "      <td>42</td>\n",
       "      <td>5</td>\n",
       "      <td>7</td>\n",
       "      <td>920</td>\n",
       "      <td>NaN</td>\n",
       "      <td>2001</td>\n",
       "      <td>2002</td>\n",
       "      <td>223500</td>\n",
       "    </tr>\n",
       "    <tr>\n",
       "      <th>3</th>\n",
       "      <td>3</td>\n",
       "      <td>961</td>\n",
       "      <td>0</td>\n",
       "      <td>NaN</td>\n",
       "      <td>No</td>\n",
       "      <td>216</td>\n",
       "      <td>ALQ</td>\n",
       "      <td>540</td>\n",
       "      <td>NaN</td>\n",
       "      <td>642</td>\n",
       "      <td>...</td>\n",
       "      <td>60.0</td>\n",
       "      <td>0.0</td>\n",
       "      <td>35</td>\n",
       "      <td>5</td>\n",
       "      <td>7</td>\n",
       "      <td>756</td>\n",
       "      <td>NaN</td>\n",
       "      <td>1915</td>\n",
       "      <td>1970</td>\n",
       "      <td>140000</td>\n",
       "    </tr>\n",
       "    <tr>\n",
       "      <th>4</th>\n",
       "      <td>4</td>\n",
       "      <td>1145</td>\n",
       "      <td>0</td>\n",
       "      <td>4.0</td>\n",
       "      <td>Av</td>\n",
       "      <td>655</td>\n",
       "      <td>GLQ</td>\n",
       "      <td>490</td>\n",
       "      <td>0.0</td>\n",
       "      <td>836</td>\n",
       "      <td>...</td>\n",
       "      <td>84.0</td>\n",
       "      <td>350.0</td>\n",
       "      <td>84</td>\n",
       "      <td>5</td>\n",
       "      <td>8</td>\n",
       "      <td>1145</td>\n",
       "      <td>NaN</td>\n",
       "      <td>2000</td>\n",
       "      <td>2000</td>\n",
       "      <td>250000</td>\n",
       "    </tr>\n",
       "  </tbody>\n",
       "</table>\n",
       "<p>5 rows × 25 columns</p>\n",
       "</div>"
      ]
     },
     "execution_count": 18,
     "metadata": {},
     "output_type": "execute_result"
    }
   ],
   "execution_count": 18
  },
  {
   "metadata": {},
   "cell_type": "markdown",
   "source": "## Exporting current dataset as csv",
   "id": "3e43c6e0847f557e"
  },
  {
   "metadata": {
    "ExecuteTime": {
     "end_time": "2024-05-02T16:51:52.491336Z",
     "start_time": "2024-05-02T16:51:52.445096Z"
    }
   },
   "cell_type": "code",
   "source": "df.to_csv('inputs/datasets/cleaning/floors.csv', index=False)",
   "id": "208798d63a8da02f",
   "outputs": [],
   "execution_count": 19
  },
  {
   "metadata": {},
   "cell_type": "markdown",
   "source": [
    "### Adding code to cleaning Pipeline:\n",
    "\n",
    "```python\n",
    "import pandas as pd\n",
    "\n",
    "def fill_missing_values(df, columns, fill_value=0):\n",
    "    \"\"\"\n",
    "    Fills missing values in specified columns with a given fill value.\n",
    "    \n",
    "    Args:\n",
    "    df (DataFrame): The pandas DataFrame to modify.\n",
    "    columns (list of str): List of column names to check for missing values.\n",
    "    fill_value (int, optional): The value to use when filling missing values. Defaults to 0.\n",
    "    \"\"\"\n",
    "    for column in columns:\n",
    "        missing_count = df[column].isna().sum()\n",
    "        if missing_count > 0:\n",
    "            print(f\"There are missing values in '{column}'.\")\n",
    "            df[column].fillna(fill_value, inplace=True)\n",
    "        else:\n",
    "            print(f\"No missing values in '{column}'.\")\n",
    "\n",
    "def analyze_floor_differences(df):\n",
    "    \"\"\"\n",
    "    Analyzes differences between the 1st and 2nd floors, creates new columns,\n",
    "    and filters data based on specific conditions.\n",
    "\n",
    "    Args:\n",
    "    df (DataFrame): The pandas DataFrame to analyze.\n",
    "\n",
    "    Returns:\n",
    "    DataFrame: A DataFrame containing bad records with additional analysis.\n",
    "    \"\"\"\n",
    "    df['2ndFlrSF'] = df['2ndFlrSF'].astype(int)\n",
    "    df['2nd_floor_larger'] = df['1stFlrSF'] < df['2ndFlrSF']\n",
    "    bad_records = df[df['2nd_floor_larger']].copy()\n",
    "    bad_records['floor_ratio'] = ((bad_records['2ndFlrSF'] - bad_records['1stFlrSF']) / bad_records['1stFlrSF']) * 100\n",
    "    print(\"Average floor ratio where 2nd floor is larger:\", bad_records['floor_ratio'].mean())\n",
    "    \n",
    "    # Swap floors if the second floor area is greater than the first\n",
    "    indexes = df['2ndFlrSF'] > df['1stFlrSF']\n",
    "    df.loc[indexes, ['1stFlrSF', '2ndFlrSF']] = df.loc[indexes, ['2ndFlrSF', '1stFlrSF']].values\n",
    "    return bad_records\n",
    "\n",
    "def synchronize_datasets(df, dataset_path):\n",
    "    \"\"\"\n",
    "    Loads an original dataset and synchronizes the features with the current DataFrame.\n",
    "\n",
    "    Args:\n",
    "    df (DataFrame): The current pandas DataFrame.\n",
    "    dataset_path (str): Path to the original dataset CSV file.\n",
    "\n",
    "    Returns:\n",
    "    DataFrame: The synchronized DataFrame with matching features only.\n",
    "    \"\"\"\n",
    "    df_original = pd.read_csv(dataset_path)\n",
    "    matching_features = df.columns.intersection(df_original.columns)\n",
    "    return df[matching_features]\n",
    "\n",
    "# Fill missing values for specified features\n",
    "features_to_check = ['1stFlrSF', '2ndFlrSF']\n",
    "fill_missing_values(df, features_to_check)\n",
    "\n",
    "# Analyze and adjust records based on floor areas\n",
    "bad_records = analyze_floor_differences(df)\n",
    "print(bad_records[['1stFlrSF', '2ndFlrSF', 'floor_ratio']])\n",
    "\n",
    "# Synchronize with an original dataset and display the first few rows\n",
    "df = synchronize_datasets(df, 'outputs/datasets/collection/HousePricesRecords.csv')\n",
    "print(df.head())\n",
    "```"
   ],
   "id": "954508a44958f2eb"
  },
  {
   "metadata": {},
   "cell_type": "markdown",
   "source": "## Next step is cleaning and fixing Bedrooms",
   "id": "3937b92044a3f433"
  },
  {
   "metadata": {},
   "cell_type": "code",
   "source": "",
   "id": "f6651d3e22ec58fb",
   "outputs": [],
   "execution_count": null
  }
 ],
 "metadata": {
  "kernelspec": {
   "display_name": "Python 3",
   "language": "python",
   "name": "python3"
  },
  "language_info": {
   "codemirror_mode": {
    "name": "ipython",
    "version": 2
   },
   "file_extension": ".py",
   "mimetype": "text/x-python",
   "name": "python",
   "nbconvert_exporter": "python",
   "pygments_lexer": "ipython2",
   "version": "2.7.6"
  }
 },
 "nbformat": 4,
 "nbformat_minor": 5
}
