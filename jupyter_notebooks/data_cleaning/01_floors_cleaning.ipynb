{
 "cells": [
  {
   "metadata": {},
   "cell_type": "markdown",
   "source": [
    "# Notebook 01 - Building 1st and 2nd floor data cleaning and fixing\n",
    "\n",
    "## Objectives\n",
    "* Clean data\n",
    "* Evaluate and process missing data\n",
    "* Fix potential issues with data in features (1stFlrSF and 2ndFlrSF)\n",
    "\n",
    "## Inputs\n",
    "* outputs/datasets/collection/HousePricesRecords.csv\n",
    "\n",
    "## Outputs\n",
    "* Clean and fix (missing and potentially wrong) data in given column\n",
    "* After cleaning is completed, we will save current dataset in inputs/datasets/cleaning/floors.parquet.gzip"
   ],
   "id": "a7875c24c43c0d1e"
  },
  {
   "metadata": {},
   "cell_type": "markdown",
   "source": [
    "## Change working directory\n",
    "In This section we will get location of current directory and move one step up, to parent folder, so App will be accessing project folder.\n",
    "\n",
    "We need to change the working directory from its current folder to its parent folder\n",
    "* We access the current directory with os.getcwd()"
   ],
   "id": "cb656678d593177e"
  },
  {
   "metadata": {},
   "cell_type": "code",
   "source": [
    "import os\n",
    "\n",
    "current_dir = os.getcwd()\n",
    "current_dir"
   ],
   "id": "aebc2a0372b47511",
   "execution_count": null,
   "outputs": []
  },
  {
   "metadata": {},
   "cell_type": "markdown",
   "source": [
    "We want to make the parent of the current directory the new current directory\n",
    "* os.path.dirname() gets the parent directory\n",
    "* os.chdir() defines the new current directory"
   ],
   "id": "61376d0e5ecf487c"
  },
  {
   "metadata": {},
   "cell_type": "code",
   "source": [
    "os.chdir(os.path.dirname(current_dir))\n",
    "print(\"you have set a new current directory\")"
   ],
   "id": "ad55fa3d2f5db8d0",
   "execution_count": null,
   "outputs": []
  },
  {
   "metadata": {},
   "cell_type": "markdown",
   "source": "Confirm new current directory",
   "id": "2ef02ca3ee0c6a3c"
  },
  {
   "metadata": {},
   "cell_type": "code",
   "source": [
    "current_dir = os.getcwd()\n",
    "current_dir"
   ],
   "id": "a4c9d92dbb8cc3a9",
   "execution_count": null,
   "outputs": []
  },
  {
   "metadata": {},
   "cell_type": "markdown",
   "source": "We need to check current working directory",
   "id": "22e5c3d0ef0ef283"
  },
  {
   "metadata": {},
   "cell_type": "code",
   "source": "current_dir",
   "id": "ba1df529a54df2f3",
   "execution_count": null,
   "outputs": []
  },
  {
   "metadata": {},
   "cell_type": "markdown",
   "source": [
    "We can see that current is **jupyter_notebooks**, as current notebook is in subfolder. We will go one step up to parent directory, what will be our project main directory.\n",
    "Print out to confirm working directory"
   ],
   "id": "36cb42d41d3602a4"
  },
  {
   "metadata": {},
   "cell_type": "code",
   "source": [
    "os.chdir(os.path.dirname(current_dir))\n",
    "current_dir = os.getcwd()\n",
    "current_dir"
   ],
   "id": "14a35895387aca00",
   "execution_count": null,
   "outputs": []
  },
  {
   "metadata": {},
   "cell_type": "markdown",
   "source": "",
   "id": "9c67382aa77af8a3"
  },
  {
   "metadata": {},
   "cell_type": "markdown",
   "source": "## Loading Dataset",
   "id": "891d66d7edd5b491"
  },
  {
   "metadata": {},
   "cell_type": "code",
   "source": [
    "import pandas as pd\n",
    "\n",
    "df = pd.read_csv(\"outputs/datasets/collection/HousePricesRecords.csv\")\n",
    "df.head()"
   ],
   "id": "d983f77e553443e0",
   "execution_count": null,
   "outputs": []
  },
  {
   "metadata": {},
   "cell_type": "markdown",
   "source": [
    "## Exploring Data\n",
    "\n",
    "We will get all features that are missing data as a list"
   ],
   "id": "957218d717e97c5c"
  },
  {
   "metadata": {},
   "cell_type": "markdown",
   "source": "### Checking if there is any missing values in given features (1st and 2nd floor areas)",
   "id": "ff5536b76d457c69"
  },
  {
   "metadata": {},
   "cell_type": "markdown",
   "source": "First we will check features for missing values",
   "id": "c344bb6dd56f5f74"
  },
  {
   "metadata": {},
   "cell_type": "code",
   "source": [
    "# List of column names to check for missing values\n",
    "features_to_check = ['1stFlrSF', '2ndFlrSF']\n",
    "\n",
    "# Loop through each column in the list\n",
    "for column in features_to_check:\n",
    "    # Check for missing values\n",
    "    if df[column].isna().sum() > 0:\n",
    "        print(f\"There are missing values in '{column}'.\")\n",
    "        # Fill missing values with a default value - 0\n",
    "        df[column] = df[column].fillna(0)\n",
    "    else:\n",
    "        print(f\"No missing values in '{column}'.\")\n"
   ],
   "id": "73ef105cbfcbba20",
   "execution_count": null,
   "outputs": []
  },
  {
   "metadata": {},
   "cell_type": "markdown",
   "source": "### Checking Data Type",
   "id": "8eafedec13b68989"
  },
  {
   "metadata": {},
   "cell_type": "code",
   "source": "df[['1stFlrSF', '2ndFlrSF']].dtypes",
   "id": "a699b0fb80cbb174",
   "execution_count": null,
   "outputs": []
  },
  {
   "metadata": {},
   "cell_type": "markdown",
   "source": "2ndFlrSF is float, we need to convert to integer",
   "id": "a8ee6f056e36984e"
  },
  {
   "metadata": {},
   "cell_type": "code",
   "source": "df['2ndFlrSF'] = df['2ndFlrSF'].astype(int)",
   "id": "5d4c29b9b9f95c00",
   "execution_count": null,
   "outputs": []
  },
  {
   "metadata": {},
   "cell_type": "markdown",
   "source": "### Checking Values for lower than zero",
   "id": "ac9caa2fbf6b7c7"
  },
  {
   "metadata": {},
   "cell_type": "code",
   "source": [
    "# Loop through each column in the list\n",
    "for column in features_to_check:\n",
    "    # Check if there are any negative values in the column\n",
    "    if (df[column] < 0).any():\n",
    "        print(f\"There are negative values in '{column}', which is not allowed.\")\n",
    "    else:\n",
    "        print(f\"No negative values in '{column}'.\")\n"
   ],
   "id": "80edf2a41fdf8a84",
   "execution_count": null,
   "outputs": []
  },
  {
   "metadata": {},
   "cell_type": "markdown",
   "source": "### Checking for wrong data values, where 1st or 2nd floor area is bigger than ground-floor",
   "id": "10e8bed90fc1e12e"
  },
  {
   "metadata": {},
   "cell_type": "code",
   "source": [
    "for floor_col in features_to_check:\n",
    "    # Find entries where floor area exceeds 'GrLivArea'\n",
    "    invalid_areas = df[df[floor_col] > df['GrLivArea']]\n",
    "    if not invalid_areas.empty:\n",
    "        print(f\"There are entries where '{floor_col}' is greater than 'GrLivArea'.\")\n",
    "        # Display the problematic entries\n",
    "        print(invalid_areas[[floor_col, 'GrLivArea']])\n",
    "    else:\n",
    "        print(f\"All '{floor_col}' values are within the valid range of 'GrLivArea'.\")\n"
   ],
   "id": "4a0805fa64459970",
   "execution_count": null,
   "outputs": []
  },
  {
   "metadata": {},
   "cell_type": "markdown",
   "source": "We need also to inspect, is there any 2nd floor bigger then 1st",
   "id": "e9d89a39252d0462"
  },
  {
   "metadata": {},
   "cell_type": "code",
   "source": [
    "invalid_areas = df[df['1stFlrSF'] < df['2ndFlrSF']]\n",
    "if not invalid_areas.empty:\n",
    "    print(\" There are records where 2nd floor is bigger than 1st floor, total number of records: \",\n",
    "          invalid_areas.shape[0])\n",
    "else:\n",
    "    print(\"All values are correct\")"
   ],
   "id": "55c06767507a03c8",
   "execution_count": null,
   "outputs": []
  },
  {
   "metadata": {},
   "cell_type": "markdown",
   "source": [
    "We have found 129 records, where 2nd floor is bigger than 1st.\n",
    "\n",
    "Such data is very unlikely.\n",
    "Our steps:\n",
    "1. Create extra column in dataset - to store which records are wrong\n",
    "2. Create a copy of current dataset\n",
    "3. Filter dataset where 2nd floor is bigger than 1st floor"
   ],
   "id": "dc554f028d43b9bb"
  },
  {
   "metadata": {},
   "cell_type": "code",
   "source": [
    "# Creating extra column in dataset to store where 2nd floor is bigger than 1st\n",
    "df['2nd_floor_larger'] = df['1stFlrSF'] < df['2ndFlrSF']\n",
    "\n",
    "# Filtering dataset for wrong records and making copy of such dataset\n",
    "bad_records = df[df['2nd_floor_larger']].copy()\n",
    "\n",
    "# Calculating ratios\n",
    "bad_records['floor_ratio'] = ((bad_records['2ndFlrSF'] - bad_records['1stFlrSF']) / bad_records['1stFlrSF']) * 100\n",
    "\n",
    "bad_records[['1stFlrSF', '2ndFlrSF', 'floor_ratio']]"
   ],
   "id": "194666ed4699a0ff",
   "execution_count": null,
   "outputs": []
  },
  {
   "metadata": {},
   "cell_type": "markdown",
   "source": "We can see there are quite high differences. Let's check what is average, just for curiosity",
   "id": "9fc11011b35defbd"
  },
  {
   "metadata": {},
   "cell_type": "code",
   "source": "bad_records['floor_ratio'].mean()",
   "id": "b1c0c57a0c6888d5",
   "execution_count": null,
   "outputs": []
  },
  {
   "metadata": {},
   "cell_type": "markdown",
   "source": [
    "This is sad, as average is so high, and there were many possibilities for such abnormalities to happen:\n",
    "* mistyping\n",
    "* entering values in wrong cells - 1st and 2nf floor areas were swapped when entering data\n",
    "* It is real to be 2nd floor bigger, but it is very unlikely and uncommon, so we reject this\n",
    "\n",
    "Let's check, is there any records, where 2nd floor is greater than 1st floor"
   ],
   "id": "6c52eab8111d5dec"
  },
  {
   "metadata": {},
   "cell_type": "code",
   "source": [
    "test = bad_records[bad_records['2ndFlrSF'] > bad_records['GrLivArea']]\n",
    "test"
   ],
   "id": "5f1b089253e47f7b",
   "execution_count": null,
   "outputs": []
  },
  {
   "metadata": {},
   "cell_type": "markdown",
   "source": [
    "We can see, after given test, there is no records where swapped, and instead of entering to 1st floor, it was entered to 2nd floor\n",
    "\n",
    "We will swap those given values back"
   ],
   "id": "1b09a5c807fc1b33"
  },
  {
   "metadata": {},
   "cell_type": "code",
   "source": [
    "indexes = df['2ndFlrSF'] > df['1stFlrSF']\n",
    "df.loc[indexes, ['1stFlrSF', '2ndFlrSF']] = df.loc[indexes, ['2ndFlrSF', '1stFlrSF']].values"
   ],
   "id": "84a2befffb2bf0cc",
   "execution_count": null,
   "outputs": []
  },
  {
   "metadata": {},
   "cell_type": "markdown",
   "source": "Let's check again, is there any records where 2nd floor is bigger than 1st, just to check if all is fixed",
   "id": "c102771824b24e3a"
  },
  {
   "metadata": {},
   "cell_type": "code",
   "source": [
    "# Creating extra column in dataset to store where 2nd floor is bigger than 1st\n",
    "df['2nd_floor_larger'] = df['1stFlrSF'] < df['2ndFlrSF']\n",
    "\n",
    "# Filtering dataset for wrong records and making copy of such dataset\n",
    "bad_records = df[df['2nd_floor_larger']].copy()\n",
    "\n",
    "# Calculating ratios\n",
    "bad_records['floor_ratio'] = ((bad_records['2ndFlrSF'] - bad_records['1stFlrSF']) / bad_records['1stFlrSF']) * 100\n",
    "\n",
    "bad_records[['1stFlrSF', '2ndFlrSF', 'floor_ratio']]"
   ],
   "id": "ab71f28ef8c35709",
   "execution_count": null,
   "outputs": []
  },
  {
   "metadata": {},
   "cell_type": "markdown",
   "source": "We can see all records are fixed now.",
   "id": "e4b9423d1572849c"
  },
  {
   "metadata": {},
   "cell_type": "markdown",
   "source": "As we have created extra columns in given dataset, before exporting it as csv, we will remove them, so amount of features will remain the same",
   "id": "d00d472828cf7b63"
  },
  {
   "metadata": {},
   "cell_type": "code",
   "source": [
    "# Importing original dataset\n",
    "df_original = pd.read_csv('outputs/datasets/collection/HousePricesRecords.csv')\n",
    "\n",
    "# Identify features that are in current and original datasets\n",
    "matching_features = df.columns.intersection(df_original.columns)\n",
    "\n",
    "# Applying just existing features, remaining will be discarded\n",
    "df = df[matching_features]\n",
    "\n",
    "df.head()"
   ],
   "id": "dad110486ea7e6e0",
   "execution_count": null,
   "outputs": []
  },
  {
   "metadata": {},
   "cell_type": "markdown",
   "source": "## Exporting current dataset as parquet",
   "id": "3e43c6e0847f557e"
  },
  {
   "metadata": {},
   "cell_type": "code",
   "source": "df.to_parquet('inputs/datasets/cleaning/floors.parquet.gzip', compression='gzip')",
   "id": "208798d63a8da02f",
   "execution_count": null,
   "outputs": []
  },
  {
   "metadata": {},
   "cell_type": "markdown",
   "source": [
    "### Adding code to cleaning Pipeline:\n",
    "\n",
    "```python\n",
    "# Fill missing values and convert data types\n",
    "df[['1stFlrSF', '2ndFlrSF']] = df[['1stFlrSF', '2ndFlrSF']].fillna(0).astype(int)\n",
    "\n",
    "# Swap values where '2ndFlrSF' is greater than '1stFlrSF'\n",
    "swap_idx = df['2ndFlrSF'] > df['1stFlrSF']\n",
    "df.loc[swap_idx, ['1stFlrSF', '2ndFlrSF']] = df.loc[swap_idx, ['2ndFlrSF', '1stFlrSF']].values\n",
    "```"
   ],
   "id": "954508a44958f2eb"
  },
  {
   "metadata": {},
   "cell_type": "markdown",
   "source": "## Next step is cleaning and fixing Bedrooms",
   "id": "3937b92044a3f433"
  }
 ],
 "metadata": {
  "kernelspec": {
   "display_name": "Python 3",
   "language": "python",
   "name": "python3"
  },
  "language_info": {
   "codemirror_mode": {
    "name": "ipython",
    "version": 2
   },
   "file_extension": ".py",
   "mimetype": "text/x-python",
   "name": "python",
   "nbconvert_exporter": "python",
   "pygments_lexer": "ipython2",
   "version": "2.7.6"
  }
 },
 "nbformat": 4,
 "nbformat_minor": 5
}
