{
 "cells": [
  {
   "metadata": {},
   "cell_type": "markdown",
   "source": [
    "# Notebook 02 - Bedrooms data cleaning and fixing\n",
    "\n",
    "## Objectives\n",
    "* Clean data\n",
    "* Evaluate and process missing data\n",
    "* Fix potential issues with data in feature (BedroomAbvGr)\n",
    "\n",
    "## Inputs\n",
    "* inputs/datasets/cleaning/floors.csv\n",
    "\n",
    "## Outputs\n",
    "* Clean and fix (missing and potentially wrong) data in given column\n",
    "* After cleaning is completed, we will save current dataset in outputs/data_cleaning/02_bedrooms.csv\n",
    "* Add cleaning steps to cleaning PipeLine in jupyter_notebooks/03_Data_Cleaning.ipynb"
   ],
   "id": "a7875c24c43c0d1e"
  },
  {
   "metadata": {},
   "cell_type": "markdown",
   "source": [
    "## Change working directory\n",
    "In This section we will get location of current directory and move one step up, to parent folder, so App will be accessing project folder.\n",
    "\n",
    "We need to change the working directory from its current folder to its parent folder\n",
    "* We access the current directory with os.getcwd()"
   ],
   "id": "cb656678d593177e"
  },
  {
   "metadata": {
    "ExecuteTime": {
     "end_time": "2024-04-28T22:03:50.387382Z",
     "start_time": "2024-04-28T22:03:50.373090Z"
    }
   },
   "cell_type": "code",
   "source": [
    "import os\n",
    "current_dir = os.getcwd()\n",
    "current_dir"
   ],
   "id": "aebc2a0372b47511",
   "outputs": [
    {
     "data": {
      "text/plain": [
       "'/Users/pecukevicius/DataspellProjects/heritage_houses_p5/jupyter_notebooks/data_cleaning'"
      ]
     },
     "execution_count": 1,
     "metadata": {},
     "output_type": "execute_result"
    }
   ],
   "execution_count": 1
  },
  {
   "metadata": {},
   "cell_type": "markdown",
   "source": [
    "We want to make the parent of the current directory the new current directory\n",
    "* os.path.dirname() gets the parent directory\n",
    "* os.chdir() defines the new current directory"
   ],
   "id": "61376d0e5ecf487c"
  },
  {
   "metadata": {
    "ExecuteTime": {
     "end_time": "2024-04-28T22:03:52.569589Z",
     "start_time": "2024-04-28T22:03:52.564367Z"
    }
   },
   "cell_type": "code",
   "source": [
    "os.chdir(os.path.dirname(current_dir))\n",
    "print(\"you have set a new current directory\")"
   ],
   "id": "ad55fa3d2f5db8d0",
   "outputs": [
    {
     "name": "stdout",
     "output_type": "stream",
     "text": [
      "you have set a new current directory\n"
     ]
    }
   ],
   "execution_count": 2
  },
  {
   "metadata": {},
   "cell_type": "markdown",
   "source": "Confirm new current directory",
   "id": "2ef02ca3ee0c6a3c"
  },
  {
   "metadata": {
    "ExecuteTime": {
     "end_time": "2024-04-28T22:03:55.377793Z",
     "start_time": "2024-04-28T22:03:55.370020Z"
    }
   },
   "cell_type": "code",
   "source": [
    "current_dir = os.getcwd()\n",
    "current_dir"
   ],
   "id": "a4c9d92dbb8cc3a9",
   "outputs": [
    {
     "data": {
      "text/plain": [
       "'/Users/pecukevicius/DataspellProjects/heritage_houses_p5/jupyter_notebooks'"
      ]
     },
     "execution_count": 3,
     "metadata": {},
     "output_type": "execute_result"
    }
   ],
   "execution_count": 3
  },
  {
   "metadata": {},
   "cell_type": "markdown",
   "source": "We need to check current working directory",
   "id": "22e5c3d0ef0ef283"
  },
  {
   "metadata": {
    "ExecuteTime": {
     "end_time": "2024-04-28T22:03:59.163993Z",
     "start_time": "2024-04-28T22:03:59.157774Z"
    }
   },
   "cell_type": "code",
   "source": "current_dir",
   "id": "ba1df529a54df2f3",
   "outputs": [
    {
     "data": {
      "text/plain": [
       "'/Users/pecukevicius/DataspellProjects/heritage_houses_p5/jupyter_notebooks'"
      ]
     },
     "execution_count": 4,
     "metadata": {},
     "output_type": "execute_result"
    }
   ],
   "execution_count": 4
  },
  {
   "metadata": {},
   "cell_type": "markdown",
   "source": [
    "We can see that current is **jupyter_notebooks**, as current notebook is in subfolder. We will go one step up to parent directory, what will be our project main directory.\n",
    "Print out to confirm working directory"
   ],
   "id": "36cb42d41d3602a4"
  },
  {
   "metadata": {
    "ExecuteTime": {
     "end_time": "2024-04-28T22:04:03.547754Z",
     "start_time": "2024-04-28T22:04:03.538719Z"
    }
   },
   "cell_type": "code",
   "source": [
    "os.chdir(os.path.dirname(current_dir))\n",
    "current_dir = os.getcwd()\n",
    "current_dir"
   ],
   "id": "14a35895387aca00",
   "outputs": [
    {
     "data": {
      "text/plain": [
       "'/Users/pecukevicius/DataspellProjects/heritage_houses_p5'"
      ]
     },
     "execution_count": 5,
     "metadata": {},
     "output_type": "execute_result"
    }
   ],
   "execution_count": 5
  },
  {
   "metadata": {},
   "cell_type": "markdown",
   "source": "",
   "id": "9c67382aa77af8a3"
  },
  {
   "metadata": {},
   "cell_type": "markdown",
   "source": "## Loading Dataset",
   "id": "891d66d7edd5b491"
  },
  {
   "metadata": {
    "ExecuteTime": {
     "end_time": "2024-04-28T22:04:11.764373Z",
     "start_time": "2024-04-28T22:04:11.709787Z"
    }
   },
   "cell_type": "code",
   "source": [
    "import pandas as pd\n",
    "\n",
    "df = pd.read_csv(\"inputs/datasets/cleaning/floors.csv\")\n",
    "df.head()"
   ],
   "id": "d983f77e553443e0",
   "outputs": [
    {
     "data": {
      "text/plain": [
       "   Unnamed: 0  1stFlrSF  2ndFlrSF  BedroomAbvGr BsmtExposure  BsmtFinSF1  \\\n",
       "0           0       856       854           3.0           No         706   \n",
       "1           1      1262         0           3.0           Gd         978   \n",
       "2           2       920       866           3.0           Mn         486   \n",
       "3           3       961         0           NaN           No         216   \n",
       "4           4      1145         0           4.0           Av         655   \n",
       "\n",
       "  BsmtFinType1  BsmtUnfSF  EnclosedPorch  GarageArea  ... LotFrontage  \\\n",
       "0          GLQ        150            0.0         548  ...        65.0   \n",
       "1          ALQ        284            NaN         460  ...        80.0   \n",
       "2          GLQ        434            0.0         608  ...        68.0   \n",
       "3          ALQ        540            NaN         642  ...        60.0   \n",
       "4          GLQ        490            0.0         836  ...        84.0   \n",
       "\n",
       "   MasVnrArea  OpenPorchSF OverallCond  OverallQual  TotalBsmtSF  WoodDeckSF  \\\n",
       "0       196.0           61           5            7          856         0.0   \n",
       "1         0.0            0           8            6         1262         NaN   \n",
       "2       162.0           42           5            7          920         NaN   \n",
       "3         0.0           35           5            7          756         NaN   \n",
       "4       350.0           84           5            8         1145         NaN   \n",
       "\n",
       "   YearBuilt  YearRemodAdd  SalePrice  \n",
       "0       2003          2003     208500  \n",
       "1       1976          1976     181500  \n",
       "2       2001          2002     223500  \n",
       "3       1915          1970     140000  \n",
       "4       2000          2000     250000  \n",
       "\n",
       "[5 rows x 25 columns]"
      ],
      "text/html": [
       "<div>\n",
       "<style scoped>\n",
       "    .dataframe tbody tr th:only-of-type {\n",
       "        vertical-align: middle;\n",
       "    }\n",
       "\n",
       "    .dataframe tbody tr th {\n",
       "        vertical-align: top;\n",
       "    }\n",
       "\n",
       "    .dataframe thead th {\n",
       "        text-align: right;\n",
       "    }\n",
       "</style>\n",
       "<table border=\"1\" class=\"dataframe\">\n",
       "  <thead>\n",
       "    <tr style=\"text-align: right;\">\n",
       "      <th></th>\n",
       "      <th>Unnamed: 0</th>\n",
       "      <th>1stFlrSF</th>\n",
       "      <th>2ndFlrSF</th>\n",
       "      <th>BedroomAbvGr</th>\n",
       "      <th>BsmtExposure</th>\n",
       "      <th>BsmtFinSF1</th>\n",
       "      <th>BsmtFinType1</th>\n",
       "      <th>BsmtUnfSF</th>\n",
       "      <th>EnclosedPorch</th>\n",
       "      <th>GarageArea</th>\n",
       "      <th>...</th>\n",
       "      <th>LotFrontage</th>\n",
       "      <th>MasVnrArea</th>\n",
       "      <th>OpenPorchSF</th>\n",
       "      <th>OverallCond</th>\n",
       "      <th>OverallQual</th>\n",
       "      <th>TotalBsmtSF</th>\n",
       "      <th>WoodDeckSF</th>\n",
       "      <th>YearBuilt</th>\n",
       "      <th>YearRemodAdd</th>\n",
       "      <th>SalePrice</th>\n",
       "    </tr>\n",
       "  </thead>\n",
       "  <tbody>\n",
       "    <tr>\n",
       "      <th>0</th>\n",
       "      <td>0</td>\n",
       "      <td>856</td>\n",
       "      <td>854</td>\n",
       "      <td>3.0</td>\n",
       "      <td>No</td>\n",
       "      <td>706</td>\n",
       "      <td>GLQ</td>\n",
       "      <td>150</td>\n",
       "      <td>0.0</td>\n",
       "      <td>548</td>\n",
       "      <td>...</td>\n",
       "      <td>65.0</td>\n",
       "      <td>196.0</td>\n",
       "      <td>61</td>\n",
       "      <td>5</td>\n",
       "      <td>7</td>\n",
       "      <td>856</td>\n",
       "      <td>0.0</td>\n",
       "      <td>2003</td>\n",
       "      <td>2003</td>\n",
       "      <td>208500</td>\n",
       "    </tr>\n",
       "    <tr>\n",
       "      <th>1</th>\n",
       "      <td>1</td>\n",
       "      <td>1262</td>\n",
       "      <td>0</td>\n",
       "      <td>3.0</td>\n",
       "      <td>Gd</td>\n",
       "      <td>978</td>\n",
       "      <td>ALQ</td>\n",
       "      <td>284</td>\n",
       "      <td>NaN</td>\n",
       "      <td>460</td>\n",
       "      <td>...</td>\n",
       "      <td>80.0</td>\n",
       "      <td>0.0</td>\n",
       "      <td>0</td>\n",
       "      <td>8</td>\n",
       "      <td>6</td>\n",
       "      <td>1262</td>\n",
       "      <td>NaN</td>\n",
       "      <td>1976</td>\n",
       "      <td>1976</td>\n",
       "      <td>181500</td>\n",
       "    </tr>\n",
       "    <tr>\n",
       "      <th>2</th>\n",
       "      <td>2</td>\n",
       "      <td>920</td>\n",
       "      <td>866</td>\n",
       "      <td>3.0</td>\n",
       "      <td>Mn</td>\n",
       "      <td>486</td>\n",
       "      <td>GLQ</td>\n",
       "      <td>434</td>\n",
       "      <td>0.0</td>\n",
       "      <td>608</td>\n",
       "      <td>...</td>\n",
       "      <td>68.0</td>\n",
       "      <td>162.0</td>\n",
       "      <td>42</td>\n",
       "      <td>5</td>\n",
       "      <td>7</td>\n",
       "      <td>920</td>\n",
       "      <td>NaN</td>\n",
       "      <td>2001</td>\n",
       "      <td>2002</td>\n",
       "      <td>223500</td>\n",
       "    </tr>\n",
       "    <tr>\n",
       "      <th>3</th>\n",
       "      <td>3</td>\n",
       "      <td>961</td>\n",
       "      <td>0</td>\n",
       "      <td>NaN</td>\n",
       "      <td>No</td>\n",
       "      <td>216</td>\n",
       "      <td>ALQ</td>\n",
       "      <td>540</td>\n",
       "      <td>NaN</td>\n",
       "      <td>642</td>\n",
       "      <td>...</td>\n",
       "      <td>60.0</td>\n",
       "      <td>0.0</td>\n",
       "      <td>35</td>\n",
       "      <td>5</td>\n",
       "      <td>7</td>\n",
       "      <td>756</td>\n",
       "      <td>NaN</td>\n",
       "      <td>1915</td>\n",
       "      <td>1970</td>\n",
       "      <td>140000</td>\n",
       "    </tr>\n",
       "    <tr>\n",
       "      <th>4</th>\n",
       "      <td>4</td>\n",
       "      <td>1145</td>\n",
       "      <td>0</td>\n",
       "      <td>4.0</td>\n",
       "      <td>Av</td>\n",
       "      <td>655</td>\n",
       "      <td>GLQ</td>\n",
       "      <td>490</td>\n",
       "      <td>0.0</td>\n",
       "      <td>836</td>\n",
       "      <td>...</td>\n",
       "      <td>84.0</td>\n",
       "      <td>350.0</td>\n",
       "      <td>84</td>\n",
       "      <td>5</td>\n",
       "      <td>8</td>\n",
       "      <td>1145</td>\n",
       "      <td>NaN</td>\n",
       "      <td>2000</td>\n",
       "      <td>2000</td>\n",
       "      <td>250000</td>\n",
       "    </tr>\n",
       "  </tbody>\n",
       "</table>\n",
       "<p>5 rows × 25 columns</p>\n",
       "</div>"
      ]
     },
     "execution_count": 6,
     "metadata": {},
     "output_type": "execute_result"
    }
   ],
   "execution_count": 6
  },
  {
   "metadata": {},
   "cell_type": "markdown",
   "source": [
    "## Exploring Data\n",
    "\n",
    "We check for missing data, it is we will replace with 0"
   ],
   "id": "957218d717e97c5c"
  },
  {
   "metadata": {
    "ExecuteTime": {
     "end_time": "2024-04-28T22:09:50.661422Z",
     "start_time": "2024-04-28T22:09:50.625288Z"
    }
   },
   "cell_type": "code",
   "source": "df['BedroomAbvGr'] = df['BedroomAbvGr'].fillna(0)",
   "id": "a1fa914cae74c4d2",
   "outputs": [],
   "execution_count": 12
  },
  {
   "metadata": {},
   "cell_type": "markdown",
   "source": [
    "Adding code to cleaning pipeline:\n",
    "```python\n",
    "# filling missing values with 0\n",
    "df['BedroomAbvGr'] = df['BedroomAbvGr'].fillna(0)\n",
    "```"
   ],
   "id": "1230cca46d4bf181"
  },
  {
   "metadata": {},
   "cell_type": "markdown",
   "source": "We need to convert it to integer",
   "id": "a1c8d993be2ec330"
  },
  {
   "metadata": {
    "ExecuteTime": {
     "end_time": "2024-04-28T22:09:54.994568Z",
     "start_time": "2024-04-28T22:09:54.988723Z"
    }
   },
   "cell_type": "code",
   "source": "df['BedroomAbvGr'] = df['BedroomAbvGr'].astype('int')",
   "id": "a5197bdbcd9613f4",
   "outputs": [],
   "execution_count": 13
  },
  {
   "metadata": {},
   "cell_type": "markdown",
   "source": [
    "Adding code to cleasning pipeline:\n",
    "\n",
    "```python\n",
    "# Converting datatype from float to integer\n",
    "df['BedroomAbvGr'] = df['BedroomAbvGr'].astype('int')\n",
    "```"
   ],
   "id": "19501c6109e3efce"
  },
  {
   "metadata": {},
   "cell_type": "markdown",
   "source": "Checking is there any buildings, where bedrooms quantity is 0, as it is very unlikely to build house and no bedrooms\n",
   "id": "8aeb88698e7e2119"
  },
  {
   "metadata": {
    "ExecuteTime": {
     "end_time": "2024-04-28T22:15:53.901702Z",
     "start_time": "2024-04-28T22:15:53.868047Z"
    }
   },
   "cell_type": "code",
   "source": [
    "issues_bedrooms = df[df['BedroomAbvGr'] == 0]\n",
    "issues_bedrooms"
   ],
   "id": "fcc8c8583d5c870b",
   "outputs": [
    {
     "data": {
      "text/plain": [
       "      Unnamed: 0  1stFlrSF  2ndFlrSF  BedroomAbvGr BsmtExposure  BsmtFinSF1  \\\n",
       "3              3       961         0             0           No         216   \n",
       "14            14      1253         0             0           No         733   \n",
       "18            18      1114         0             0           No         646   \n",
       "37            37      1297         0             0           No        1213   \n",
       "39            39      1152         0             0          NaN           0   \n",
       "...          ...       ...       ...           ...          ...         ...   \n",
       "1361        1361      1530         0             0           Av        1274   \n",
       "1372        1372      1108       989             0           Av         975   \n",
       "1394        1394      1500         0             0           Av        1070   \n",
       "1428        1428       804         0             0           No         510   \n",
       "1456        1456      2073         0             0           No         790   \n",
       "\n",
       "     BsmtFinType1  BsmtUnfSF  EnclosedPorch  GarageArea  ... LotFrontage  \\\n",
       "3             ALQ        540            NaN         642  ...        60.0   \n",
       "14            BLQ        520            NaN         352  ...         NaN   \n",
       "18            GLQ        468            NaN         576  ...        66.0   \n",
       "37            Rec         84            0.0         498  ...        74.0   \n",
       "39            NaN          0            NaN           0  ...        65.0   \n",
       "...           ...        ...            ...         ...  ...         ...   \n",
       "1361          ALQ        256            NaN         430  ...       124.0   \n",
       "1372          GLQ        133            NaN         583  ...        75.0   \n",
       "1394          GLQ        286            NaN         648  ...        53.0   \n",
       "1428          BLQ        278            NaN         240  ...        60.0   \n",
       "1456          ALQ        589            NaN         500  ...        85.0   \n",
       "\n",
       "      MasVnrArea  OpenPorchSF OverallCond  OverallQual  TotalBsmtSF  \\\n",
       "3            0.0           35           5            7          756   \n",
       "14         212.0          213           5            6         1253   \n",
       "18           0.0          102           5            5         1114   \n",
       "37         650.0            0           6            5         1297   \n",
       "39           0.0            0           5            4            0   \n",
       "...          ...          ...         ...          ...          ...   \n",
       "1361        16.0           36           5            7         1530   \n",
       "1372         0.0          170           6            7         1108   \n",
       "1394        45.0           20           5            7         1356   \n",
       "1428       294.0            0           7            5          788   \n",
       "1456       119.0            0           6            6         1542   \n",
       "\n",
       "      WoodDeckSF  YearBuilt  YearRemodAdd  SalePrice  \n",
       "3            NaN       1915          1970     140000  \n",
       "14           NaN       1960          1960     157000  \n",
       "18           NaN       2004          2004     159000  \n",
       "37           NaN       1954          1990     153000  \n",
       "39           NaN       1955          1955      82000  \n",
       "...          ...        ...           ...        ...  \n",
       "1361         NaN       2005          2005     260000  \n",
       "1372         NaN       1998          1998     274300  \n",
       "1394         NaN       2006          2006     246578  \n",
       "1428         NaN       1940          1992     119000  \n",
       "1456         NaN       1978          1988     210000  \n",
       "\n",
       "[105 rows x 25 columns]"
      ],
      "text/html": [
       "<div>\n",
       "<style scoped>\n",
       "    .dataframe tbody tr th:only-of-type {\n",
       "        vertical-align: middle;\n",
       "    }\n",
       "\n",
       "    .dataframe tbody tr th {\n",
       "        vertical-align: top;\n",
       "    }\n",
       "\n",
       "    .dataframe thead th {\n",
       "        text-align: right;\n",
       "    }\n",
       "</style>\n",
       "<table border=\"1\" class=\"dataframe\">\n",
       "  <thead>\n",
       "    <tr style=\"text-align: right;\">\n",
       "      <th></th>\n",
       "      <th>Unnamed: 0</th>\n",
       "      <th>1stFlrSF</th>\n",
       "      <th>2ndFlrSF</th>\n",
       "      <th>BedroomAbvGr</th>\n",
       "      <th>BsmtExposure</th>\n",
       "      <th>BsmtFinSF1</th>\n",
       "      <th>BsmtFinType1</th>\n",
       "      <th>BsmtUnfSF</th>\n",
       "      <th>EnclosedPorch</th>\n",
       "      <th>GarageArea</th>\n",
       "      <th>...</th>\n",
       "      <th>LotFrontage</th>\n",
       "      <th>MasVnrArea</th>\n",
       "      <th>OpenPorchSF</th>\n",
       "      <th>OverallCond</th>\n",
       "      <th>OverallQual</th>\n",
       "      <th>TotalBsmtSF</th>\n",
       "      <th>WoodDeckSF</th>\n",
       "      <th>YearBuilt</th>\n",
       "      <th>YearRemodAdd</th>\n",
       "      <th>SalePrice</th>\n",
       "    </tr>\n",
       "  </thead>\n",
       "  <tbody>\n",
       "    <tr>\n",
       "      <th>3</th>\n",
       "      <td>3</td>\n",
       "      <td>961</td>\n",
       "      <td>0</td>\n",
       "      <td>0</td>\n",
       "      <td>No</td>\n",
       "      <td>216</td>\n",
       "      <td>ALQ</td>\n",
       "      <td>540</td>\n",
       "      <td>NaN</td>\n",
       "      <td>642</td>\n",
       "      <td>...</td>\n",
       "      <td>60.0</td>\n",
       "      <td>0.0</td>\n",
       "      <td>35</td>\n",
       "      <td>5</td>\n",
       "      <td>7</td>\n",
       "      <td>756</td>\n",
       "      <td>NaN</td>\n",
       "      <td>1915</td>\n",
       "      <td>1970</td>\n",
       "      <td>140000</td>\n",
       "    </tr>\n",
       "    <tr>\n",
       "      <th>14</th>\n",
       "      <td>14</td>\n",
       "      <td>1253</td>\n",
       "      <td>0</td>\n",
       "      <td>0</td>\n",
       "      <td>No</td>\n",
       "      <td>733</td>\n",
       "      <td>BLQ</td>\n",
       "      <td>520</td>\n",
       "      <td>NaN</td>\n",
       "      <td>352</td>\n",
       "      <td>...</td>\n",
       "      <td>NaN</td>\n",
       "      <td>212.0</td>\n",
       "      <td>213</td>\n",
       "      <td>5</td>\n",
       "      <td>6</td>\n",
       "      <td>1253</td>\n",
       "      <td>NaN</td>\n",
       "      <td>1960</td>\n",
       "      <td>1960</td>\n",
       "      <td>157000</td>\n",
       "    </tr>\n",
       "    <tr>\n",
       "      <th>18</th>\n",
       "      <td>18</td>\n",
       "      <td>1114</td>\n",
       "      <td>0</td>\n",
       "      <td>0</td>\n",
       "      <td>No</td>\n",
       "      <td>646</td>\n",
       "      <td>GLQ</td>\n",
       "      <td>468</td>\n",
       "      <td>NaN</td>\n",
       "      <td>576</td>\n",
       "      <td>...</td>\n",
       "      <td>66.0</td>\n",
       "      <td>0.0</td>\n",
       "      <td>102</td>\n",
       "      <td>5</td>\n",
       "      <td>5</td>\n",
       "      <td>1114</td>\n",
       "      <td>NaN</td>\n",
       "      <td>2004</td>\n",
       "      <td>2004</td>\n",
       "      <td>159000</td>\n",
       "    </tr>\n",
       "    <tr>\n",
       "      <th>37</th>\n",
       "      <td>37</td>\n",
       "      <td>1297</td>\n",
       "      <td>0</td>\n",
       "      <td>0</td>\n",
       "      <td>No</td>\n",
       "      <td>1213</td>\n",
       "      <td>Rec</td>\n",
       "      <td>84</td>\n",
       "      <td>0.0</td>\n",
       "      <td>498</td>\n",
       "      <td>...</td>\n",
       "      <td>74.0</td>\n",
       "      <td>650.0</td>\n",
       "      <td>0</td>\n",
       "      <td>6</td>\n",
       "      <td>5</td>\n",
       "      <td>1297</td>\n",
       "      <td>NaN</td>\n",
       "      <td>1954</td>\n",
       "      <td>1990</td>\n",
       "      <td>153000</td>\n",
       "    </tr>\n",
       "    <tr>\n",
       "      <th>39</th>\n",
       "      <td>39</td>\n",
       "      <td>1152</td>\n",
       "      <td>0</td>\n",
       "      <td>0</td>\n",
       "      <td>NaN</td>\n",
       "      <td>0</td>\n",
       "      <td>NaN</td>\n",
       "      <td>0</td>\n",
       "      <td>NaN</td>\n",
       "      <td>0</td>\n",
       "      <td>...</td>\n",
       "      <td>65.0</td>\n",
       "      <td>0.0</td>\n",
       "      <td>0</td>\n",
       "      <td>5</td>\n",
       "      <td>4</td>\n",
       "      <td>0</td>\n",
       "      <td>NaN</td>\n",
       "      <td>1955</td>\n",
       "      <td>1955</td>\n",
       "      <td>82000</td>\n",
       "    </tr>\n",
       "    <tr>\n",
       "      <th>...</th>\n",
       "      <td>...</td>\n",
       "      <td>...</td>\n",
       "      <td>...</td>\n",
       "      <td>...</td>\n",
       "      <td>...</td>\n",
       "      <td>...</td>\n",
       "      <td>...</td>\n",
       "      <td>...</td>\n",
       "      <td>...</td>\n",
       "      <td>...</td>\n",
       "      <td>...</td>\n",
       "      <td>...</td>\n",
       "      <td>...</td>\n",
       "      <td>...</td>\n",
       "      <td>...</td>\n",
       "      <td>...</td>\n",
       "      <td>...</td>\n",
       "      <td>...</td>\n",
       "      <td>...</td>\n",
       "      <td>...</td>\n",
       "      <td>...</td>\n",
       "    </tr>\n",
       "    <tr>\n",
       "      <th>1361</th>\n",
       "      <td>1361</td>\n",
       "      <td>1530</td>\n",
       "      <td>0</td>\n",
       "      <td>0</td>\n",
       "      <td>Av</td>\n",
       "      <td>1274</td>\n",
       "      <td>ALQ</td>\n",
       "      <td>256</td>\n",
       "      <td>NaN</td>\n",
       "      <td>430</td>\n",
       "      <td>...</td>\n",
       "      <td>124.0</td>\n",
       "      <td>16.0</td>\n",
       "      <td>36</td>\n",
       "      <td>5</td>\n",
       "      <td>7</td>\n",
       "      <td>1530</td>\n",
       "      <td>NaN</td>\n",
       "      <td>2005</td>\n",
       "      <td>2005</td>\n",
       "      <td>260000</td>\n",
       "    </tr>\n",
       "    <tr>\n",
       "      <th>1372</th>\n",
       "      <td>1372</td>\n",
       "      <td>1108</td>\n",
       "      <td>989</td>\n",
       "      <td>0</td>\n",
       "      <td>Av</td>\n",
       "      <td>975</td>\n",
       "      <td>GLQ</td>\n",
       "      <td>133</td>\n",
       "      <td>NaN</td>\n",
       "      <td>583</td>\n",
       "      <td>...</td>\n",
       "      <td>75.0</td>\n",
       "      <td>0.0</td>\n",
       "      <td>170</td>\n",
       "      <td>6</td>\n",
       "      <td>7</td>\n",
       "      <td>1108</td>\n",
       "      <td>NaN</td>\n",
       "      <td>1998</td>\n",
       "      <td>1998</td>\n",
       "      <td>274300</td>\n",
       "    </tr>\n",
       "    <tr>\n",
       "      <th>1394</th>\n",
       "      <td>1394</td>\n",
       "      <td>1500</td>\n",
       "      <td>0</td>\n",
       "      <td>0</td>\n",
       "      <td>Av</td>\n",
       "      <td>1070</td>\n",
       "      <td>GLQ</td>\n",
       "      <td>286</td>\n",
       "      <td>NaN</td>\n",
       "      <td>648</td>\n",
       "      <td>...</td>\n",
       "      <td>53.0</td>\n",
       "      <td>45.0</td>\n",
       "      <td>20</td>\n",
       "      <td>5</td>\n",
       "      <td>7</td>\n",
       "      <td>1356</td>\n",
       "      <td>NaN</td>\n",
       "      <td>2006</td>\n",
       "      <td>2006</td>\n",
       "      <td>246578</td>\n",
       "    </tr>\n",
       "    <tr>\n",
       "      <th>1428</th>\n",
       "      <td>1428</td>\n",
       "      <td>804</td>\n",
       "      <td>0</td>\n",
       "      <td>0</td>\n",
       "      <td>No</td>\n",
       "      <td>510</td>\n",
       "      <td>BLQ</td>\n",
       "      <td>278</td>\n",
       "      <td>NaN</td>\n",
       "      <td>240</td>\n",
       "      <td>...</td>\n",
       "      <td>60.0</td>\n",
       "      <td>294.0</td>\n",
       "      <td>0</td>\n",
       "      <td>7</td>\n",
       "      <td>5</td>\n",
       "      <td>788</td>\n",
       "      <td>NaN</td>\n",
       "      <td>1940</td>\n",
       "      <td>1992</td>\n",
       "      <td>119000</td>\n",
       "    </tr>\n",
       "    <tr>\n",
       "      <th>1456</th>\n",
       "      <td>1456</td>\n",
       "      <td>2073</td>\n",
       "      <td>0</td>\n",
       "      <td>0</td>\n",
       "      <td>No</td>\n",
       "      <td>790</td>\n",
       "      <td>ALQ</td>\n",
       "      <td>589</td>\n",
       "      <td>NaN</td>\n",
       "      <td>500</td>\n",
       "      <td>...</td>\n",
       "      <td>85.0</td>\n",
       "      <td>119.0</td>\n",
       "      <td>0</td>\n",
       "      <td>6</td>\n",
       "      <td>6</td>\n",
       "      <td>1542</td>\n",
       "      <td>NaN</td>\n",
       "      <td>1978</td>\n",
       "      <td>1988</td>\n",
       "      <td>210000</td>\n",
       "    </tr>\n",
       "  </tbody>\n",
       "</table>\n",
       "<p>105 rows × 25 columns</p>\n",
       "</div>"
      ]
     },
     "execution_count": 16,
     "metadata": {},
     "output_type": "execute_result"
    }
   ],
   "execution_count": 16
  },
  {
   "metadata": {},
   "cell_type": "markdown",
   "source": [
    "We have 105 records, where building has no bedrooms.\n",
    "\n",
    "Before we proceed, we expect:\n",
    "1. All houses with NO 2nd floor, we expect to be at least 1 bedroom\n",
    "2. All houses with 2nd floor, we expect to be at least 2 bedrooms\n",
    "\n",
    "Based on our expectations we will:\n",
    "* get mean of bedrooms quantity of all houses with NO 2nd floor\n",
    "* get mean of bedrooms of all houses with 2nd floor\n",
    "* get mean of bedrooms in all houses (just to have basic picture)"
   ],
   "id": "8db48de7fde9bf7e"
  },
  {
   "metadata": {
    "ExecuteTime": {
     "end_time": "2024-04-28T22:25:17.535808Z",
     "start_time": "2024-04-28T22:25:17.521384Z"
    }
   },
   "cell_type": "code",
   "source": [
    "print(\"Mean of bedrooms in houses with NO 2nd floor is:\", df.loc[df['2ndFlrSF'] == 0, 'BedroomAbvGr'].mean())\n",
    "print(\"Mean of bedrooms in houses with  2nd floor is:\", df.loc[df['2ndFlrSF'] > 0, 'BedroomAbvGr'].mean())\n",
    "print(\"Mean of bedrooms in houses with NO 2nd floor is:\", df['BedroomAbvGr'].mean())\n"
   ],
   "id": "d1e288611841c022",
   "outputs": [
    {
     "name": "stdout",
     "output_type": "stream",
     "text": [
      "Mean of bedrooms in houses with NO 2nd floor is: 2.4313725490196076\n",
      "Mean of bedrooms in houses with  2nd floor is: 3.03035413153457\n",
      "Mean of bedrooms in houses with NO 2nd floor is: 2.6746575342465753\n"
     ]
    }
   ],
   "execution_count": 21
  },
  {
   "metadata": {},
   "cell_type": "markdown",
   "source": [
    "We can see that in avreage all houses has minimum 2 rooms, if there is 2nd floor, then it is 3\n",
    "\n",
    "Let's try to see how bedrooms are distributed across buildings (we compare bedrooms qty and GrLivArea - total living area)"
   ],
   "id": "b26d432ab0d04039"
  },
  {
   "metadata": {
    "ExecuteTime": {
     "end_time": "2024-04-28T22:27:58.465578Z",
     "start_time": "2024-04-28T22:27:57.680202Z"
    }
   },
   "cell_type": "code",
   "source": [
    "import seaborn as sns\n",
    "import matplotlib.pyplot as plt\n",
    "\n",
    "df['Has_2nd_Floor'] = (df['2ndFlrSF'] > 0).astype(int)  # 1 if there's a second floor, 0 otherwise\n",
    "\n",
    "plt.figure(figsize=(12, 8))\n",
    "sns.scatterplot(x='GrLivArea', y='BedroomAbvGr', hue='Has_2nd_Floor', data=df, palette={0: 'blue', 1: 'green'},\n",
    "                style='Has_2nd_Floor', markers=['o', 's'], alpha=0.6)\n",
    "plt.title('Distribution of Bedrooms vs. Living Area by Presence of Second Floor')\n",
    "plt.xlabel('Total Living Area (sq ft)')\n",
    "plt.ylabel('Number of Bedrooms')\n",
    "plt.legend(title='Has Second Floor?', labels=['No', 'Yes'])\n",
    "plt.show()"
   ],
   "id": "8d73b724bb0f00c4",
   "outputs": [
    {
     "data": {
      "text/plain": [
       "<Figure size 1200x800 with 1 Axes>"
      ],
      "image/png": "[encoded data removed]"
     },
     "metadata": {},
     "output_type": "display_data"
    }
   ],
   "execution_count": 22
  },
  {
   "metadata": {},
   "cell_type": "code",
   "outputs": [],
   "execution_count": null,
   "source": "",
   "id": "7a8dd23e8be56b48"
  }
 ],
 "metadata": {
  "kernelspec": {
   "display_name": "Python 3",
   "language": "python",
   "name": "python3"
  },
  "language_info": {
   "codemirror_mode": {
    "name": "ipython",
    "version": 2
   },
   "file_extension": ".py",
   "mimetype": "text/x-python",
   "name": "python",
   "nbconvert_exporter": "python",
   "pygments_lexer": "ipython2",
   "version": "2.7.6"
  }
 },
 "nbformat": 4,
 "nbformat_minor": 5
}
