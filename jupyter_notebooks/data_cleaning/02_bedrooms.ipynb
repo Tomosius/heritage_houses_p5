{
 "cells": [
  {
   "metadata": {},
   "cell_type": "markdown",
   "source": [
    "# Notebook 02 - Bedrooms data cleaning and fixing\n",
    "\n",
    "## Objectives\n",
    "* Clean data\n",
    "* Evaluate and process missing data\n",
    "* Fix potential issues with data in feature (BedroomAbvGr)\n",
    "\n",
    "## Inputs\n",
    "* inputs/datasets/cleaning/floors.parquet.gzip\n",
    "\n",
    "## Outputs\n",
    "* Clean and fix (missing and potentially wrong) data in given column\n",
    "* After cleaning is completed, we will save current dataset in inputs/datasets/cleaning/bedrooms.parquet.gzip"
   ],
   "id": "a7875c24c43c0d1e"
  },
  {
   "metadata": {},
   "cell_type": "markdown",
   "source": [
    "## Change working directory\n",
    "In This section we will get location of current directory and move one step up, to parent folder, so App will be accessing project folder.\n",
    "\n",
    "We need to change the working directory from its current folder to its parent folder\n",
    "* We access the current directory with os.getcwd()"
   ],
   "id": "cb656678d593177e"
  },
  {
   "metadata": {},
   "cell_type": "code",
   "source": "",
   "id": "db265ce1b53085aa",
   "outputs": [],
   "execution_count": null
  },
  {
   "metadata": {},
   "cell_type": "code",
   "source": [
    "import os\n",
    "\n",
    "current_dir = os.getcwd()\n",
    "current_dir"
   ],
   "id": "aebc2a0372b47511",
   "outputs": [],
   "execution_count": null
  },
  {
   "metadata": {},
   "cell_type": "markdown",
   "source": [
    "We want to make the parent of the current directory the new current directory\n",
    "* os.path.dirname() gets the parent directory\n",
    "* os.chdir() defines the new current directory"
   ],
   "id": "61376d0e5ecf487c"
  },
  {
   "metadata": {},
   "cell_type": "code",
   "source": [
    "os.chdir(os.path.dirname(current_dir))\n",
    "print(\"you have set a new current directory\")"
   ],
   "id": "ad55fa3d2f5db8d0",
   "outputs": [],
   "execution_count": null
  },
  {
   "metadata": {},
   "cell_type": "markdown",
   "source": "Confirm new current directory",
   "id": "2ef02ca3ee0c6a3c"
  },
  {
   "metadata": {},
   "cell_type": "code",
   "source": [
    "current_dir = os.getcwd()\n",
    "current_dir"
   ],
   "id": "a4c9d92dbb8cc3a9",
   "outputs": [],
   "execution_count": null
  },
  {
   "metadata": {},
   "cell_type": "markdown",
   "source": "We need to check current working directory",
   "id": "22e5c3d0ef0ef283"
  },
  {
   "metadata": {},
   "cell_type": "code",
   "source": "current_dir",
   "id": "ba1df529a54df2f3",
   "outputs": [],
   "execution_count": null
  },
  {
   "metadata": {},
   "cell_type": "markdown",
   "source": [
    "We can see that current is **jupyter_notebooks**, as current notebook is in subfolder. We will go one step up to parent directory, what will be our project main directory.\n",
    "Print out to confirm working directory"
   ],
   "id": "36cb42d41d3602a4"
  },
  {
   "metadata": {},
   "cell_type": "code",
   "source": [
    "os.chdir(os.path.dirname(current_dir))\n",
    "current_dir = os.getcwd()\n",
    "current_dir"
   ],
   "id": "14a35895387aca00",
   "outputs": [],
   "execution_count": null
  },
  {
   "metadata": {},
   "cell_type": "markdown",
   "source": "",
   "id": "9c67382aa77af8a3"
  },
  {
   "metadata": {},
   "cell_type": "markdown",
   "source": "## Loading Dataset",
   "id": "891d66d7edd5b491"
  },
  {
   "metadata": {},
   "cell_type": "code",
   "source": [
    "import pandas as pd\n",
    "\n",
    "df = pd.read_parquet(\"inputs/datasets/cleaning/floors.parquet.gzip\")\n",
    "df.head()"
   ],
   "id": "d983f77e553443e0",
   "outputs": [],
   "execution_count": null
  },
  {
   "metadata": {},
   "cell_type": "markdown",
   "source": [
    "## Exploring Data\n",
    "\n",
    "We check for missing data, it is we will replace with 0"
   ],
   "id": "957218d717e97c5c"
  },
  {
   "metadata": {},
   "cell_type": "code",
   "source": "df['BedroomAbvGr'] = df['BedroomAbvGr'].fillna(0)",
   "id": "d0575c15e445323b",
   "outputs": [],
   "execution_count": null
  },
  {
   "metadata": {},
   "cell_type": "markdown",
   "source": "We need to convert it to integer",
   "id": "a1c8d993be2ec330"
  },
  {
   "metadata": {},
   "cell_type": "code",
   "source": "df['BedroomAbvGr'] = df['BedroomAbvGr'].astype('int')",
   "id": "a5197bdbcd9613f4",
   "outputs": [],
   "execution_count": null
  },
  {
   "metadata": {},
   "cell_type": "markdown",
   "source": "Checking is there any buildings, where bedrooms quantity is 0, as it is very unlikely to build house and no bedrooms\n",
   "id": "8aeb88698e7e2119"
  },
  {
   "metadata": {},
   "cell_type": "code",
   "source": [
    "issues_bedrooms = df[df['BedroomAbvGr'] == 0]\n",
    "issues_bedrooms"
   ],
   "id": "fcc8c8583d5c870b",
   "outputs": [],
   "execution_count": null
  },
  {
   "metadata": {},
   "cell_type": "markdown",
   "source": [
    "We have 105 records, where building has no bedrooms.\n",
    "\n",
    "Before we proceed, we expect:\n",
    "1. All houses with NO 2nd floor, we expect to be at least 1 bedroom\n",
    "2. All houses with 2nd floor, we expect to be at least 2 bedrooms\n",
    "\n",
    "Based on our expectations we will:\n",
    "* get mean of bedrooms quantity of all houses with NO 2nd floor\n",
    "* get mean of bedrooms of all houses with 2nd floor\n",
    "* get mean of bedrooms in all houses (just to have basic picture)"
   ],
   "id": "8db48de7fde9bf7e"
  },
  {
   "metadata": {},
   "cell_type": "code",
   "source": [
    "print(\"Mean of bedrooms in houses with NO 2nd floor is:\", df.loc[df['2ndFlrSF'] == 0, 'BedroomAbvGr'].mean())\n",
    "print(\"Mean of bedrooms in houses with  2nd floor is:\", df.loc[df['2ndFlrSF'] > 0, 'BedroomAbvGr'].mean())\n",
    "print(\"Mean of bedrooms in houses with NO 2nd floor is:\", df['BedroomAbvGr'].mean())\n"
   ],
   "id": "d1e288611841c022",
   "outputs": [],
   "execution_count": null
  },
  {
   "metadata": {},
   "cell_type": "markdown",
   "source": [
    "We can see that in average all houses has minimum 2 rooms, if there is 2nd floor, then it is 3\n",
    "\n",
    "Let's try to see how bedrooms are distributed across buildings (we compare bedrooms qty and GrLivArea - total living area)"
   ],
   "id": "b26d432ab0d04039"
  },
  {
   "metadata": {},
   "cell_type": "code",
   "source": [
    "import seaborn as sns\n",
    "import matplotlib.pyplot as plt\n",
    "\n",
    "df['Has_2nd_Floor'] = (df['2ndFlrSF'] > 0).astype(int)  # 1 if there's a second floor, 0 otherwise\n",
    "\n",
    "plt.figure(figsize=(12, 8))\n",
    "sns.scatterplot(x='GrLivArea', y='BedroomAbvGr', hue='Has_2nd_Floor', data=df, palette={0: 'blue', 1: 'green'},\n",
    "                style='Has_2nd_Floor', markers=['o', 's'], alpha=0.6)\n",
    "plt.title('Distribution of Bedrooms vs. Living Area by Presence of Second Floor')\n",
    "plt.xlabel('Total Living Area (sq ft)')\n",
    "plt.ylabel('Number of Bedrooms')\n",
    "plt.legend(title='Has Second Floor?', labels=['No', 'Yes'])\n",
    "plt.show()"
   ],
   "id": "8d73b724bb0f00c4",
   "outputs": [],
   "execution_count": null
  },
  {
   "metadata": {},
   "cell_type": "markdown",
   "source": [
    "This plot does not give a lots of hints how might bedrooms be distributes across houses based on house living area.\n",
    "Clusters are not visible, as each room ir has wide range of living area in buildings.\n",
    "\n",
    "Let's try same plot, but also splitting it into bins (every 1000 square feet)"
   ],
   "id": "71a4ef6c8d60712"
  },
  {
   "metadata": {},
   "cell_type": "code",
   "source": [
    "import seaborn as sns\n",
    "import matplotlib.pyplot as plt\n",
    "from sklearn.cluster import KMeans\n",
    "\n",
    "# Splitting dataframe based on whether the house has bedrooms or not\n",
    "df_with_bedrooms = df[df['BedroomAbvGr'] > 0].copy()\n",
    "\n",
    "# Split data based on the presence of a second floor\n",
    "df_no_2nd_floor = df_with_bedrooms[df_with_bedrooms['2ndFlrSF'] == 0].copy()\n",
    "df_with_2nd_floor = df_with_bedrooms[df_with_bedrooms['2ndFlrSF'] > 0].copy()\n",
    "\n",
    "# Fit K-Means for houses without a second floor\n",
    "kmeans_no_2nd_floor = KMeans(n_clusters=4, random_state=0).fit(df_no_2nd_floor[['GrLivArea', 'BedroomAbvGr']])\n",
    "df_no_2nd_floor['Cluster'] = kmeans_no_2nd_floor.labels_\n",
    "\n",
    "# Fit K-Means for houses with a second floor\n",
    "kmeans_with_2nd_floor = KMeans(n_clusters=4, random_state=0).fit(df_with_2nd_floor[['GrLivArea', 'BedroomAbvGr']])\n",
    "df_with_2nd_floor['Cluster'] = kmeans_with_2nd_floor.labels_\n",
    "\n",
    "# Plotting houses without a second floor\n",
    "plt.figure(figsize=(12, 6))\n",
    "sns.scatterplot(data=df_no_2nd_floor, x='GrLivArea', y='BedroomAbvGr', hue='Cluster', palette='viridis', s=100,\n",
    "                marker='o')\n",
    "plt.title('Clustered Bedrooms vs. Total Living Area (No Second Floor)')\n",
    "plt.xlabel('Total Living Area (sq ft)')\n",
    "plt.ylabel('Number of Bedrooms')\n",
    "plt.grid(True)\n",
    "plt.legend(title='Cluster')\n",
    "plt.show()\n",
    "\n",
    "# Plotting houses with a second floor\n",
    "plt.figure(figsize=(12, 6))\n",
    "sns.scatterplot(data=df_with_2nd_floor, x='GrLivArea', y='BedroomAbvGr', hue='Cluster', palette='viridis', s=100,\n",
    "                marker='o')\n",
    "plt.title('Clustered Bedrooms vs. Total Living Area (With Second Floor)')\n",
    "plt.xlabel('Total Living Area (sq ft)')\n",
    "plt.ylabel('Number of Bedrooms')\n",
    "plt.grid(True)\n",
    "plt.legend(title='Cluster')\n",
    "plt.show()"
   ],
   "id": "c8c2e93776b261b0",
   "outputs": [],
   "execution_count": null
  },
  {
   "metadata": {},
   "cell_type": "markdown",
   "source": [
    "## Clustering evaluation using elbow and Silhouette Scores\n",
    "\n",
    "We will evaluate the optimal number of clusters (if possible) for dataset using distinct methods: Elbow Method and Silhouette Scores.\n",
    "\n",
    "These methods can help to determinate the most suitable number of clusters by analyzing intra-cluster variation and comparing it against a reference distribution:\n",
    "* **Elbow Method** - Identifies the point where decrease in the within-cluster sum of squares (inertia) with respect to the number of clusters becomes less pronounced\n",
    "* **Silhouette Scores** - Measures how similar an object is to its own cluster compared to other clusters. A higher silhouette value indicates that the object is well-matched to its own cluster and poorly matched to neighbouring clusters\n",
    "\n",
    "To proceed, we need to convert integers to float"
   ],
   "id": "dca2b1d584309da2"
  },
  {
   "metadata": {},
   "cell_type": "markdown",
   "source": "",
   "id": "53a6b0f313d14e00"
  },
  {
   "metadata": {},
   "cell_type": "code",
   "source": [
    "df_with_bedrooms['GrLivArea'] = df_with_bedrooms['GrLivArea'].astype(float)\n",
    "df_with_bedrooms['BedroomAbvGr'] = df_with_bedrooms['BedroomAbvGr'].astype(float)"
   ],
   "id": "d4a47b578e877999",
   "outputs": [],
   "execution_count": null
  },
  {
   "metadata": {},
   "cell_type": "code",
   "source": [
    "import numpy as np\n",
    "from gap_statistic import OptimalK\n",
    "\n",
    "# Split data based on the presence of a second floor\n",
    "df_no_2nd_floor = df_with_bedrooms[df_with_bedrooms['2ndFlrSF'] == 0].copy()\n",
    "df_with_2nd_floor = df_with_bedrooms[df_with_bedrooms['2ndFlrSF'] > 0].copy()\n",
    "\n",
    "\n",
    "# Function to apply KMeans and calculate the optimal number of clusters using Gap Statistic\n",
    "def apply_kmeans_and_plot(data, title):\n",
    "    if data.empty:\n",
    "        print(f\"The DataFrame for {title} is empty. No data to process.\")\n",
    "        return\n",
    "\n",
    "    try:\n",
    "        # Ensure that the data frame for clustering has no NaN values\n",
    "        valid_data = data[['GrLivArea', 'BedroomAbvGr']].dropna()\n",
    "        if valid_data.empty:\n",
    "            print(f\"No valid data available for clustering in {title}.\")\n",
    "            return\n",
    "\n",
    "        print(f\"Processing {title} with {len(valid_data)} entries.\")\n",
    "\n",
    "        optimal_k = OptimalK()\n",
    "        n_clusters = optimal_k(valid_data.to_numpy(), n_refs=10, cluster_array=np.arange(1, 9))\n",
    "\n",
    "        # Check gap statistics results\n",
    "        gap_df = optimal_k.gap_df\n",
    "        print(f\"Optimal number of clusters for {title}: {n_clusters}\")\n",
    "        print(\"Gap Statistic Results:\")\n",
    "        print(gap_df)\n",
    "\n",
    "    except Exception as e:\n",
    "        print(f\"An error occurred while processing {title}: {str(e)}\")\n",
    "\n",
    "\n",
    "# Apply to both dataframes\n",
    "apply_kmeans_and_plot(df_no_2nd_floor, 'Bedrooms vs. Total Living Area (No Second Floor)')\n",
    "apply_kmeans_and_plot(df_with_2nd_floor, 'Bedrooms vs. Total Living Area (With Second Floor)')"
   ],
   "id": "6e9d30d729a58bba",
   "outputs": [],
   "execution_count": null
  },
  {
   "metadata": {},
   "cell_type": "markdown",
   "source": "We were right... the best cluster is just one cluster from what we can see.",
   "id": "d537d1c40bce3970"
  },
  {
   "metadata": {},
   "cell_type": "markdown",
   "source": [
    "## Fixing missing data\n",
    "\n",
    "Knowing that there is just one cluster, we can apply mean numbers for each type of building:\n",
    "1. Bedrooms with NO 2nd floor mean for bedrooms quantity is 2.43\n",
    "2. Bedrooms with 2nd floor mean for bedrooms quantity is 3.03\n",
    "\n",
    "Based on this information each building with no bedrooms will receive 2 or 3 bedrooms accordingly "
   ],
   "id": "60c1e57b02ea188d"
  },
  {
   "metadata": {},
   "cell_type": "code",
   "source": [
    "df.loc[(df['2ndFlrSF'] == 0) & (df['BedroomAbvGr'] == 0), 'BedroomAbvGr'] = 2\n",
    "df.loc[(df['2ndFlrSF'] > 0) & (df['BedroomAbvGr'] == 0), 'BedroomAbvGr'] = 3"
   ],
   "id": "f3d1fd5922799898",
   "outputs": [],
   "execution_count": null
  },
  {
   "metadata": {},
   "cell_type": "markdown",
   "source": "## Removing any extra columns we have created in dataframe",
   "id": "c3fb1a274aa90189"
  },
  {
   "metadata": {},
   "cell_type": "code",
   "source": [
    "# Importing original dataset\n",
    "df_original = pd.read_csv('outputs/datasets/collection/HousePricesRecords.csv')\n",
    "\n",
    "# Identify features that are in current and original datasets\n",
    "matching_features = df.columns.intersection(df_original.columns)\n",
    "\n",
    "# Applying just existing features, remaining will be discarded\n",
    "df = df[matching_features]\n",
    "\n",
    "df.head()"
   ],
   "id": "e8399a19c96d77c5",
   "outputs": [],
   "execution_count": null
  },
  {
   "metadata": {},
   "cell_type": "markdown",
   "source": [
    "## Saving given dataframe\n",
    "\n",
    "We will save dataframe at this point as inputs/datasets/cleaning/bedrooms.csv"
   ],
   "id": "14e22d3a1c835bfc"
  },
  {
   "metadata": {},
   "cell_type": "code",
   "source": "df.to_parquet('inputs/datasets/cleaning/bedrooms.parquet.gzip', compression='gzip')",
   "id": "d0d794d63f04a7e",
   "outputs": [],
   "execution_count": null
  },
  {
   "metadata": {},
   "cell_type": "markdown",
   "source": [
    "### Adding code to cleaning pipeline\n",
    "\n",
    "```python\n",
    "# Fill missing values, convert types, and update values based on conditions\n",
    "df['BedroomAbvGr'] = df['BedroomAbvGr'].fillna(0).astype(int)\n",
    "df.loc[df['2ndFlrSF'] == 0, 'BedroomAbvGr'] = df['BedroomAbvGr'].replace(0, 2)\n",
    "df.loc[df['2ndFlrSF'] > 0, 'BedroomAbvGr'] = df['BedroomAbvGr'].replace(0, 3)\n",
    "```\n"
   ],
   "id": "9a20efa3af3f9f7e"
  },
  {
   "metadata": {},
   "cell_type": "markdown",
   "source": "## Next step is cleaning all basement features",
   "id": "b763898545f5dd77"
  },
  {
   "metadata": {},
   "cell_type": "markdown",
   "source": "",
   "id": "2cb2ae0a40dca2b1"
  }
 ],
 "metadata": {
  "kernelspec": {
   "display_name": "Python 3",
   "language": "python",
   "name": "python3"
  },
  "language_info": {
   "codemirror_mode": {
    "name": "ipython",
    "version": 2
   },
   "file_extension": ".py",
   "mimetype": "text/x-python",
   "name": "python",
   "nbconvert_exporter": "python",
   "pygments_lexer": "ipython2",
   "version": "2.7.6"
  }
 },
 "nbformat": 4,
 "nbformat_minor": 5
}
