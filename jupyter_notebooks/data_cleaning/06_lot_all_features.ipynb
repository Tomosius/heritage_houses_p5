{
 "cells": [
  {
   "metadata": {},
   "cell_type": "markdown",
   "source": [
    "# Notebook 06 - Lot Area and Frontage data cleaning and fixing\n",
    "\n",
    "## Objectives\n",
    "* Clean data\n",
    "* Evaluate and process missing data\n",
    "* Fix potential issues with data in feature (LotArea, LotFrontage)\n",
    "\n",
    "## Inputs\n",
    "* inputs/datasets/cleaning/kitchen.csv\n",
    "\n",
    "## Outputs\n",
    "* Clean and fix (missing and potentially wrong) data in given column\n",
    "* After cleaning is completed, we will save current dataset in inputs/datasets/cleaning/lot_features.csv"
   ],
   "id": "a7875c24c43c0d1e"
  },
  {
   "metadata": {},
   "cell_type": "markdown",
   "source": [
    "## Change working directory\n",
    "In This section we will get location of current directory and move one step up, to parent folder, so App will be accessing project folder.\n",
    "\n",
    "We need to change the working directory from its current folder to its parent folder\n",
    "* We access the current directory with os.getcwd()"
   ],
   "id": "cb656678d593177e"
  },
  {
   "metadata": {
    "ExecuteTime": {
     "end_time": "2024-04-29T22:23:00.223976Z",
     "start_time": "2024-04-29T22:23:00.202434Z"
    }
   },
   "cell_type": "code",
   "source": [
    "import os\n",
    "current_dir = os.getcwd()\n",
    "current_dir"
   ],
   "id": "aebc2a0372b47511",
   "execution_count": 1,
   "outputs": []
  },
  {
   "metadata": {},
   "cell_type": "markdown",
   "source": [
    "We want to make the parent of the current directory the new current directory\n",
    "* os.path.dirname() gets the parent directory\n",
    "* os.chdir() defines the new current directory"
   ],
   "id": "61376d0e5ecf487c"
  },
  {
   "metadata": {
    "ExecuteTime": {
     "end_time": "2024-04-29T22:23:00.241092Z",
     "start_time": "2024-04-29T22:23:00.229323Z"
    }
   },
   "cell_type": "code",
   "source": [
    "os.chdir(os.path.dirname(current_dir))\n",
    "print(\"you have set a new current directory\")"
   ],
   "id": "ad55fa3d2f5db8d0",
   "execution_count": 2,
   "outputs": []
  },
  {
   "metadata": {},
   "cell_type": "markdown",
   "source": "Confirm new current directory",
   "id": "2ef02ca3ee0c6a3c"
  },
  {
   "metadata": {
    "ExecuteTime": {
     "end_time": "2024-04-29T22:23:00.263847Z",
     "start_time": "2024-04-29T22:23:00.252852Z"
    }
   },
   "cell_type": "code",
   "source": [
    "current_dir = os.getcwd()\n",
    "current_dir"
   ],
   "id": "a4c9d92dbb8cc3a9",
   "execution_count": 3,
   "outputs": []
  },
  {
   "metadata": {},
   "cell_type": "markdown",
   "source": "We need to check current working directory",
   "id": "22e5c3d0ef0ef283"
  },
  {
   "metadata": {
    "ExecuteTime": {
     "end_time": "2024-04-29T22:23:00.279266Z",
     "start_time": "2024-04-29T22:23:00.268534Z"
    }
   },
   "cell_type": "code",
   "source": "current_dir",
   "id": "ba1df529a54df2f3",
   "execution_count": 4,
   "outputs": []
  },
  {
   "metadata": {},
   "cell_type": "markdown",
   "source": [
    "We can see that current is **jupyter_notebooks**, as current notebook is in subfolder. We will go one step up to parent directory, what will be our project main directory.\n",
    "Print out to confirm working directory"
   ],
   "id": "36cb42d41d3602a4"
  },
  {
   "metadata": {
    "ExecuteTime": {
     "end_time": "2024-04-29T22:23:00.304121Z",
     "start_time": "2024-04-29T22:23:00.290758Z"
    }
   },
   "cell_type": "code",
   "source": [
    "os.chdir(os.path.dirname(current_dir))\n",
    "current_dir = os.getcwd()\n",
    "current_dir"
   ],
   "id": "14a35895387aca00",
   "execution_count": 5,
   "outputs": []
  },
  {
   "metadata": {},
   "cell_type": "markdown",
   "source": "",
   "id": "9c67382aa77af8a3"
  },
  {
   "metadata": {},
   "cell_type": "markdown",
   "source": "## Loading Dataset",
   "id": "891d66d7edd5b491"
  },
  {
   "metadata": {
    "ExecuteTime": {
     "end_time": "2024-04-29T22:23:01.355796Z",
     "start_time": "2024-04-29T22:23:00.309874Z"
    }
   },
   "cell_type": "code",
   "source": [
    "import pandas as pd\n",
    "\n",
    "df = pd.read_csv(\"inputs/datasets/cleaning/kitchen.csv\")\n",
    "df.head()"
   ],
   "id": "d983f77e553443e0",
   "execution_count": 6,
   "outputs": []
  },
  {
   "metadata": {},
   "cell_type": "markdown",
   "source": [
    "## Exploring Data\n",
    "\n",
    "We will get all features that are missing data as a list"
   ],
   "id": "957218d717e97c5c"
  },
  {
   "metadata": {
    "ExecuteTime": {
     "end_time": "2024-04-29T22:23:01.367741Z",
     "start_time": "2024-04-29T22:23:01.357839Z"
    }
   },
   "cell_type": "code",
   "source": "df['LotArea'].isnull().sum()",
   "id": "94e3201d079f8dc1",
   "execution_count": 7,
   "outputs": []
  },
  {
   "metadata": {
    "ExecuteTime": {
     "end_time": "2024-04-29T22:23:01.382386Z",
     "start_time": "2024-04-29T22:23:01.372382Z"
    }
   },
   "cell_type": "code",
   "source": "df['LotFrontage'].isna().sum()",
   "id": "3341db5556c547e7",
   "execution_count": 8,
   "outputs": []
  },
  {
   "metadata": {},
   "cell_type": "markdown",
   "source": [
    "We can see that there is no missing values in LotArea, but LotFrontage - has 259\n",
    "\n",
    "As it is Linear feet of street connected to property, it is very hard to decide how it could be correlated to other features, as it does not depend on house owner, but on designer. \n",
    "\n",
    "We will replace all missing values with mean"
   ],
   "id": "11a42e247b75068"
  },
  {
   "metadata": {
    "ExecuteTime": {
     "end_time": "2024-04-29T22:23:01.397630Z",
     "start_time": "2024-04-29T22:23:01.385419Z"
    }
   },
   "cell_type": "code",
   "source": "df.loc[:, 'LotFrontage'] = df['LotFrontage'].fillna(value=df['LotFrontage'].mean())",
   "id": "17f48d3cdb1a23f0",
   "execution_count": 9,
   "outputs": []
  },
  {
   "metadata": {},
   "cell_type": "markdown",
   "source": "We will check if LotFrontage and LotArea data types",
   "id": "93bc8e4a88bc1e07"
  },
  {
   "metadata": {
    "ExecuteTime": {
     "end_time": "2024-04-29T22:23:01.420077Z",
     "start_time": "2024-04-29T22:23:01.411539Z"
    }
   },
   "cell_type": "code",
   "source": [
    "# Print the data type of 'LotFrontage'\n",
    "print(\"Data type of 'LotFrontage':\", df['LotFrontage'].dtype)\n",
    "\n",
    "# Print the data type of 'LotArea'\n",
    "print(\"Data type of 'LotArea':\", df['LotArea'].dtype)"
   ],
   "id": "18d8979b9737fd9f",
   "execution_count": 10,
   "outputs": []
  },
  {
   "metadata": {},
   "cell_type": "markdown",
   "source": "LotFrontage need converting to integer",
   "id": "4dadd5ab2e13cdf1"
  },
  {
   "metadata": {
    "ExecuteTime": {
     "end_time": "2024-04-29T22:23:01.432015Z",
     "start_time": "2024-04-29T22:23:01.424214Z"
    }
   },
   "cell_type": "code",
   "source": "df['LotFrontage'] = df['LotFrontage'].round().astype(int)",
   "id": "26d75277d4608caf",
   "execution_count": 11,
   "outputs": []
  },
  {
   "metadata": {},
   "cell_type": "markdown",
   "source": [
    "Now all we can do is check if LotArea values are correct:\n",
    "\n",
    "Lot size generally should be bigger than:\n",
    "* WoodDeckSF - Wood deck area in square feet\n",
    "* GarageArea - Size of garage in square feet\n",
    "* GrLivArea - above ground living area in square feet\n",
    "* EnclosedPorch - Enclosed porch area in square feet\n",
    "* OpenPorchSF - Open porch area in square feet\n",
    "\n",
    "So we have to summ all those features values, and they have to be smaller than lot area.\n",
    "You can not build a house that has features on too small plot area"
   ],
   "id": "6c7d768e6c50b63f"
  },
  {
   "metadata": {
    "ExecuteTime": {
     "end_time": "2024-04-29T22:23:01.471085Z",
     "start_time": "2024-04-29T22:23:01.439387Z"
    }
   },
   "cell_type": "code",
   "source": [
    "# Summing relevant area features\n",
    "df['SummedAreas'] = df['WoodDeckSF'] + df['GarageArea'] + df['GrLivArea'] + \\\n",
    "                    df['EnclosedPorch'] + df['OpenPorchSF']\n",
    "\n",
    "# Creating a boolean mask where summed areas exceed LotArea\n",
    "df['IsAreaExceeded'] = df['SummedAreas'] > df['LotArea']\n",
    "\n",
    "# Filtering rows where the built-up area exceeds the lot of area\n",
    "inconsistent_records = df[df['IsAreaExceeded']]\n",
    "\n",
    "# Display these records\n",
    "inconsistent_records"
   ],
   "id": "d5f7f9d1c1dcd947",
   "execution_count": 12,
   "outputs": []
  },
  {
   "metadata": {},
   "cell_type": "markdown",
   "source": "We can see that all  LotArea values are within range.",
   "id": "e388ebfc0298098e"
  },
  {
   "metadata": {},
   "cell_type": "markdown",
   "source": [
    "## Removing added columns\n",
    "\n",
    "We will use same code as in previous cleaning notebook 04_basement.ipynb"
   ],
   "id": "67ff9084cffbc1ce"
  },
  {
   "metadata": {
    "ExecuteTime": {
     "end_time": "2024-04-29T22:23:01.527929Z",
     "start_time": "2024-04-29T22:23:01.475758Z"
    }
   },
   "cell_type": "code",
   "source": [
    "# Removing Extra columns that originally do not belong to dataset, as we have created them\n",
    "\n",
    "df_original_features = pd.read_csv(\"outputs/datasets/collection/HousePricesRecords.csv\")\n",
    "\n",
    "# Identify columns in df that are also in df_original\n",
    "common_columns = df.columns.intersection(df_original_features.columns)\n",
    "\n",
    "# Filter df to only include those common columns\n",
    "df = df[common_columns]\n",
    "\n",
    "df"
   ],
   "id": "fd415d050b5bdcb5",
   "execution_count": 13,
   "outputs": []
  },
  {
   "metadata": {},
   "cell_type": "markdown",
   "source": [
    "## Saving current dataset\n",
    "\n",
    "We will save current dataset as inputs/datasets/cleaning/lot_features.csv"
   ],
   "id": "72228e540f71cec8"
  },
  {
   "metadata": {
    "ExecuteTime": {
     "end_time": "2024-04-29T22:23:01.578393Z",
     "start_time": "2024-04-29T22:23:01.533254Z"
    }
   },
   "cell_type": "code",
   "source": "df.to_csv('inputs/datasets/cleaning/lot_features.csv', index=False)",
   "id": "321c228e26a6f7ca",
   "execution_count": 14,
   "outputs": []
  },
  {
   "metadata": {},
   "cell_type": "markdown",
   "source": "## Next step is cleaning Masonry Veneer and Porch features- cleaning and fixing data in garages",
   "id": "3c2ac3989679b172"
  }
 ],
 "metadata": {
  "kernelspec": {
   "display_name": "Python 3",
   "language": "python",
   "name": "python3"
  },
  "language_info": {
   "codemirror_mode": {
    "name": "ipython",
    "version": 2
   },
   "file_extension": ".py",
   "mimetype": "text/x-python",
   "name": "python",
   "nbconvert_exporter": "python",
   "pygments_lexer": "ipython2",
   "version": "2.7.6"
  }
 },
 "nbformat": 4,
 "nbformat_minor": 5
}
