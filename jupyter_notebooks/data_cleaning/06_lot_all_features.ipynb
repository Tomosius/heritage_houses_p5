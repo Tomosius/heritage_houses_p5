{
 "cells": [
  {
   "metadata": {},
   "cell_type": "markdown",
   "source": [
    "# Notebook 06 - Lot Area and Frontage data cleaning and fixing\n",
    "\n",
    "## Objectives\n",
    "* Clean data\n",
    "* Evaluate and process missing data\n",
    "* Fix potential issues with data in feature (LotArea, LotFrontage)\n",
    "\n",
    "## Inputs\n",
    "* inputs/datasets/cleaning/kitchen.csv\n",
    "\n",
    "## Outputs\n",
    "* Clean and fix (missing and potentially wrong) data in given column\n",
    "* After cleaning is completed, we will save current dataset in inputs/datasets/cleaning/lot_features.csv"
   ],
   "id": "a7875c24c43c0d1e"
  },
  {
   "metadata": {},
   "cell_type": "markdown",
   "source": [
    "## Change working directory\n",
    "In This section we will get location of current directory and move one step up, to parent folder, so App will be accessing project folder.\n",
    "\n",
    "We need to change the working directory from its current folder to its parent folder\n",
    "* We access the current directory with os.getcwd()"
   ],
   "id": "cb656678d593177e"
  },
  {
   "metadata": {
    "ExecuteTime": {
     "end_time": "2024-05-02T20:23:22.562715Z",
     "start_time": "2024-05-02T20:23:22.551487Z"
    }
   },
   "cell_type": "code",
   "source": [
    "import os\n",
    "\n",
    "current_dir = os.getcwd()\n",
    "current_dir"
   ],
   "id": "aebc2a0372b47511",
   "outputs": [
    {
     "data": {
      "text/plain": [
       "'/Users/pecukevicius/DataspellProjects/heritage_houses_p5/jupyter_notebooks/data_cleaning'"
      ]
     },
     "execution_count": 1,
     "metadata": {},
     "output_type": "execute_result"
    }
   ],
   "execution_count": 1
  },
  {
   "metadata": {},
   "cell_type": "markdown",
   "source": [
    "We want to make the parent of the current directory the new current directory\n",
    "* os.path.dirname() gets the parent directory\n",
    "* os.chdir() defines the new current directory"
   ],
   "id": "61376d0e5ecf487c"
  },
  {
   "metadata": {
    "ExecuteTime": {
     "end_time": "2024-05-02T20:23:22.576806Z",
     "start_time": "2024-05-02T20:23:22.566693Z"
    }
   },
   "cell_type": "code",
   "source": [
    "os.chdir(os.path.dirname(current_dir))\n",
    "print(\"you have set a new current directory\")"
   ],
   "id": "ad55fa3d2f5db8d0",
   "outputs": [
    {
     "name": "stdout",
     "output_type": "stream",
     "text": [
      "you have set a new current directory\n"
     ]
    }
   ],
   "execution_count": 2
  },
  {
   "metadata": {},
   "cell_type": "markdown",
   "source": "Confirm new current directory",
   "id": "2ef02ca3ee0c6a3c"
  },
  {
   "metadata": {
    "ExecuteTime": {
     "end_time": "2024-05-02T20:23:22.593602Z",
     "start_time": "2024-05-02T20:23:22.585467Z"
    }
   },
   "cell_type": "code",
   "source": [
    "current_dir = os.getcwd()\n",
    "current_dir"
   ],
   "id": "a4c9d92dbb8cc3a9",
   "outputs": [
    {
     "data": {
      "text/plain": [
       "'/Users/pecukevicius/DataspellProjects/heritage_houses_p5/jupyter_notebooks'"
      ]
     },
     "execution_count": 3,
     "metadata": {},
     "output_type": "execute_result"
    }
   ],
   "execution_count": 3
  },
  {
   "metadata": {},
   "cell_type": "markdown",
   "source": "We need to check current working directory",
   "id": "22e5c3d0ef0ef283"
  },
  {
   "metadata": {
    "ExecuteTime": {
     "end_time": "2024-05-02T20:23:22.607427Z",
     "start_time": "2024-05-02T20:23:22.596914Z"
    }
   },
   "cell_type": "code",
   "source": "current_dir",
   "id": "ba1df529a54df2f3",
   "outputs": [
    {
     "data": {
      "text/plain": [
       "'/Users/pecukevicius/DataspellProjects/heritage_houses_p5/jupyter_notebooks'"
      ]
     },
     "execution_count": 4,
     "metadata": {},
     "output_type": "execute_result"
    }
   ],
   "execution_count": 4
  },
  {
   "metadata": {},
   "cell_type": "markdown",
   "source": [
    "We can see that current is **jupyter_notebooks**, as current notebook is in subfolder. We will go one step up to parent directory, what will be our project main directory.\n",
    "Print out to confirm working directory"
   ],
   "id": "36cb42d41d3602a4"
  },
  {
   "metadata": {
    "ExecuteTime": {
     "end_time": "2024-05-02T20:23:22.631399Z",
     "start_time": "2024-05-02T20:23:22.617635Z"
    }
   },
   "cell_type": "code",
   "source": [
    "os.chdir(os.path.dirname(current_dir))\n",
    "current_dir = os.getcwd()\n",
    "current_dir"
   ],
   "id": "14a35895387aca00",
   "outputs": [
    {
     "data": {
      "text/plain": [
       "'/Users/pecukevicius/DataspellProjects/heritage_houses_p5'"
      ]
     },
     "execution_count": 5,
     "metadata": {},
     "output_type": "execute_result"
    }
   ],
   "execution_count": 5
  },
  {
   "metadata": {},
   "cell_type": "markdown",
   "source": "",
   "id": "9c67382aa77af8a3"
  },
  {
   "metadata": {},
   "cell_type": "markdown",
   "source": "## Loading Dataset",
   "id": "891d66d7edd5b491"
  },
  {
   "metadata": {
    "ExecuteTime": {
     "end_time": "2024-05-02T20:23:22.793691Z",
     "start_time": "2024-05-02T20:23:22.634200Z"
    }
   },
   "cell_type": "code",
   "source": [
    "import pandas as pd\n",
    "\n",
    "df = pd.read_parquet(\"inputs/datasets/cleaning/kitchen.parquet.gzip\")\n",
    "df.head()"
   ],
   "id": "d983f77e553443e0",
   "outputs": [
    {
     "data": {
      "text/plain": [
       "   Unnamed: 0  1stFlrSF  2ndFlrSF  BedroomAbvGr BsmtExposure  BsmtFinSF1  \\\n",
       "0           0       856       854             3           No         706   \n",
       "1           1      1262         0             3           Gd         978   \n",
       "2           2       920       866             3           Mn         486   \n",
       "3           3       961         0             2           No         216   \n",
       "4           4      1145         0             4           Av         655   \n",
       "\n",
       "  BsmtFinType1  BsmtUnfSF  EnclosedPorch  GarageArea  ... LotFrontage  \\\n",
       "0          GLQ        150            0.0         548  ...        65.0   \n",
       "1          ALQ        284            NaN         460  ...        80.0   \n",
       "2          GLQ        434            0.0         608  ...        68.0   \n",
       "3          ALQ        540            NaN         642  ...        60.0   \n",
       "4          GLQ        490            0.0         836  ...        84.0   \n",
       "\n",
       "   MasVnrArea  OpenPorchSF OverallCond  OverallQual  TotalBsmtSF  WoodDeckSF  \\\n",
       "0       196.0           61           5            7          856         0.0   \n",
       "1         0.0            0           8            6         1262         NaN   \n",
       "2       162.0           42           5            7          920         NaN   \n",
       "3         0.0           35           5            7          756         NaN   \n",
       "4       350.0           84           5            8         1145         NaN   \n",
       "\n",
       "   YearBuilt  YearRemodAdd  SalePrice  \n",
       "0       2003          2003     208500  \n",
       "1       1976          1976     181500  \n",
       "2       2001          2002     223500  \n",
       "3       1915          1970     140000  \n",
       "4       2000          2000     250000  \n",
       "\n",
       "[5 rows x 25 columns]"
      ],
      "text/html": [
       "<div>\n",
       "<style scoped>\n",
       "    .dataframe tbody tr th:only-of-type {\n",
       "        vertical-align: middle;\n",
       "    }\n",
       "\n",
       "    .dataframe tbody tr th {\n",
       "        vertical-align: top;\n",
       "    }\n",
       "\n",
       "    .dataframe thead th {\n",
       "        text-align: right;\n",
       "    }\n",
       "</style>\n",
       "<table border=\"1\" class=\"dataframe\">\n",
       "  <thead>\n",
       "    <tr style=\"text-align: right;\">\n",
       "      <th></th>\n",
       "      <th>Unnamed: 0</th>\n",
       "      <th>1stFlrSF</th>\n",
       "      <th>2ndFlrSF</th>\n",
       "      <th>BedroomAbvGr</th>\n",
       "      <th>BsmtExposure</th>\n",
       "      <th>BsmtFinSF1</th>\n",
       "      <th>BsmtFinType1</th>\n",
       "      <th>BsmtUnfSF</th>\n",
       "      <th>EnclosedPorch</th>\n",
       "      <th>GarageArea</th>\n",
       "      <th>...</th>\n",
       "      <th>LotFrontage</th>\n",
       "      <th>MasVnrArea</th>\n",
       "      <th>OpenPorchSF</th>\n",
       "      <th>OverallCond</th>\n",
       "      <th>OverallQual</th>\n",
       "      <th>TotalBsmtSF</th>\n",
       "      <th>WoodDeckSF</th>\n",
       "      <th>YearBuilt</th>\n",
       "      <th>YearRemodAdd</th>\n",
       "      <th>SalePrice</th>\n",
       "    </tr>\n",
       "  </thead>\n",
       "  <tbody>\n",
       "    <tr>\n",
       "      <th>0</th>\n",
       "      <td>0</td>\n",
       "      <td>856</td>\n",
       "      <td>854</td>\n",
       "      <td>3</td>\n",
       "      <td>No</td>\n",
       "      <td>706</td>\n",
       "      <td>GLQ</td>\n",
       "      <td>150</td>\n",
       "      <td>0.0</td>\n",
       "      <td>548</td>\n",
       "      <td>...</td>\n",
       "      <td>65.0</td>\n",
       "      <td>196.0</td>\n",
       "      <td>61</td>\n",
       "      <td>5</td>\n",
       "      <td>7</td>\n",
       "      <td>856</td>\n",
       "      <td>0.0</td>\n",
       "      <td>2003</td>\n",
       "      <td>2003</td>\n",
       "      <td>208500</td>\n",
       "    </tr>\n",
       "    <tr>\n",
       "      <th>1</th>\n",
       "      <td>1</td>\n",
       "      <td>1262</td>\n",
       "      <td>0</td>\n",
       "      <td>3</td>\n",
       "      <td>Gd</td>\n",
       "      <td>978</td>\n",
       "      <td>ALQ</td>\n",
       "      <td>284</td>\n",
       "      <td>NaN</td>\n",
       "      <td>460</td>\n",
       "      <td>...</td>\n",
       "      <td>80.0</td>\n",
       "      <td>0.0</td>\n",
       "      <td>0</td>\n",
       "      <td>8</td>\n",
       "      <td>6</td>\n",
       "      <td>1262</td>\n",
       "      <td>NaN</td>\n",
       "      <td>1976</td>\n",
       "      <td>1976</td>\n",
       "      <td>181500</td>\n",
       "    </tr>\n",
       "    <tr>\n",
       "      <th>2</th>\n",
       "      <td>2</td>\n",
       "      <td>920</td>\n",
       "      <td>866</td>\n",
       "      <td>3</td>\n",
       "      <td>Mn</td>\n",
       "      <td>486</td>\n",
       "      <td>GLQ</td>\n",
       "      <td>434</td>\n",
       "      <td>0.0</td>\n",
       "      <td>608</td>\n",
       "      <td>...</td>\n",
       "      <td>68.0</td>\n",
       "      <td>162.0</td>\n",
       "      <td>42</td>\n",
       "      <td>5</td>\n",
       "      <td>7</td>\n",
       "      <td>920</td>\n",
       "      <td>NaN</td>\n",
       "      <td>2001</td>\n",
       "      <td>2002</td>\n",
       "      <td>223500</td>\n",
       "    </tr>\n",
       "    <tr>\n",
       "      <th>3</th>\n",
       "      <td>3</td>\n",
       "      <td>961</td>\n",
       "      <td>0</td>\n",
       "      <td>2</td>\n",
       "      <td>No</td>\n",
       "      <td>216</td>\n",
       "      <td>ALQ</td>\n",
       "      <td>540</td>\n",
       "      <td>NaN</td>\n",
       "      <td>642</td>\n",
       "      <td>...</td>\n",
       "      <td>60.0</td>\n",
       "      <td>0.0</td>\n",
       "      <td>35</td>\n",
       "      <td>5</td>\n",
       "      <td>7</td>\n",
       "      <td>756</td>\n",
       "      <td>NaN</td>\n",
       "      <td>1915</td>\n",
       "      <td>1970</td>\n",
       "      <td>140000</td>\n",
       "    </tr>\n",
       "    <tr>\n",
       "      <th>4</th>\n",
       "      <td>4</td>\n",
       "      <td>1145</td>\n",
       "      <td>0</td>\n",
       "      <td>4</td>\n",
       "      <td>Av</td>\n",
       "      <td>655</td>\n",
       "      <td>GLQ</td>\n",
       "      <td>490</td>\n",
       "      <td>0.0</td>\n",
       "      <td>836</td>\n",
       "      <td>...</td>\n",
       "      <td>84.0</td>\n",
       "      <td>350.0</td>\n",
       "      <td>84</td>\n",
       "      <td>5</td>\n",
       "      <td>8</td>\n",
       "      <td>1145</td>\n",
       "      <td>NaN</td>\n",
       "      <td>2000</td>\n",
       "      <td>2000</td>\n",
       "      <td>250000</td>\n",
       "    </tr>\n",
       "  </tbody>\n",
       "</table>\n",
       "<p>5 rows × 25 columns</p>\n",
       "</div>"
      ]
     },
     "execution_count": 6,
     "metadata": {},
     "output_type": "execute_result"
    }
   ],
   "execution_count": 6
  },
  {
   "metadata": {},
   "cell_type": "markdown",
   "source": [
    "## Exploring Data\n",
    "\n",
    "We will get all features that are missing data as a list"
   ],
   "id": "957218d717e97c5c"
  },
  {
   "metadata": {
    "ExecuteTime": {
     "end_time": "2024-05-02T20:23:22.808632Z",
     "start_time": "2024-05-02T20:23:22.796853Z"
    }
   },
   "cell_type": "code",
   "source": "df['LotArea'].isnull().sum()",
   "id": "94e3201d079f8dc1",
   "outputs": [
    {
     "data": {
      "text/plain": [
       "0"
      ]
     },
     "execution_count": 7,
     "metadata": {},
     "output_type": "execute_result"
    }
   ],
   "execution_count": 7
  },
  {
   "metadata": {
    "ExecuteTime": {
     "end_time": "2024-05-02T20:23:22.831195Z",
     "start_time": "2024-05-02T20:23:22.813979Z"
    }
   },
   "cell_type": "code",
   "source": "df['LotFrontage'].isna().sum()",
   "id": "3341db5556c547e7",
   "outputs": [
    {
     "data": {
      "text/plain": [
       "259"
      ]
     },
     "execution_count": 8,
     "metadata": {},
     "output_type": "execute_result"
    }
   ],
   "execution_count": 8
  },
  {
   "metadata": {},
   "cell_type": "markdown",
   "source": [
    "We can see that there is no missing values in LotArea, but LotFrontage - has 259\n",
    "\n",
    "As it is Linear feet of street connected to property, it is very hard to decide how it could be correlated to other features, as it does not depend on house owner, but on designer. \n",
    "\n",
    "We will replace all missing values with mean"
   ],
   "id": "11a42e247b75068"
  },
  {
   "metadata": {
    "ExecuteTime": {
     "end_time": "2024-05-02T20:23:22.844906Z",
     "start_time": "2024-05-02T20:23:22.834237Z"
    }
   },
   "cell_type": "code",
   "source": "df['LotFrontage'].mean()",
   "id": "3f6892df316fcc05",
   "outputs": [
    {
     "data": {
      "text/plain": [
       "70.04995836802665"
      ]
     },
     "execution_count": 9,
     "metadata": {},
     "output_type": "execute_result"
    }
   ],
   "execution_count": 9
  },
  {
   "metadata": {
    "ExecuteTime": {
     "end_time": "2024-05-02T20:23:22.856259Z",
     "start_time": "2024-05-02T20:23:22.847714Z"
    }
   },
   "cell_type": "code",
   "source": "df.loc[:, 'LotFrontage'] = df['LotFrontage'].fillna(70)",
   "id": "17f48d3cdb1a23f0",
   "outputs": [],
   "execution_count": 10
  },
  {
   "metadata": {},
   "cell_type": "markdown",
   "source": "We will check if LotFrontage and LotArea data types",
   "id": "93bc8e4a88bc1e07"
  },
  {
   "metadata": {
    "ExecuteTime": {
     "end_time": "2024-05-02T20:23:27.329881Z",
     "start_time": "2024-05-02T20:23:27.308062Z"
    }
   },
   "cell_type": "code",
   "source": [
    "# Print the data type of 'LotFrontage'\n",
    "print(\"Data type of 'LotFrontage':\", df['LotFrontage'].dtype)\n",
    "\n",
    "# Print the data type of 'LotArea'\n",
    "print(\"Data type of 'LotArea':\", df['LotArea'].dtype)"
   ],
   "id": "18d8979b9737fd9f",
   "outputs": [
    {
     "name": "stdout",
     "output_type": "stream",
     "text": [
      "Data type of 'LotFrontage': int64\n",
      "Data type of 'LotArea': int64\n"
     ]
    }
   ],
   "execution_count": 16
  },
  {
   "metadata": {},
   "cell_type": "markdown",
   "source": "LotFrontage need converting to integer",
   "id": "4dadd5ab2e13cdf1"
  },
  {
   "metadata": {
    "ExecuteTime": {
     "end_time": "2024-05-02T20:23:22.889812Z",
     "start_time": "2024-05-02T20:23:22.878575Z"
    }
   },
   "cell_type": "code",
   "source": "df['LotFrontage'] = df['LotFrontage'].round().astype(int)",
   "id": "26d75277d4608caf",
   "outputs": [],
   "execution_count": 12
  },
  {
   "metadata": {},
   "cell_type": "markdown",
   "source": [
    "Now all we can do is check if LotArea values are correct:\n",
    "\n",
    "Lot size generally should be bigger than:\n",
    "* WoodDeckSF - Wood deck area in square feet\n",
    "* GarageArea - Size of garage in square feet\n",
    "* GrLivArea - above ground living area in square feet\n",
    "* EnclosedPorch - Enclosed porch area in square feet\n",
    "* OpenPorchSF - Open porch area in square feet\n",
    "\n",
    "So we have to summ all those features values, and they have to be smaller than lot area.\n",
    "You can not build a house that has features on too small plot area"
   ],
   "id": "6c7d768e6c50b63f"
  },
  {
   "metadata": {
    "ExecuteTime": {
     "end_time": "2024-05-02T20:23:22.937237Z",
     "start_time": "2024-05-02T20:23:22.895591Z"
    }
   },
   "cell_type": "code",
   "source": [
    "# Summing relevant area features\n",
    "df['SummedAreas'] = df['WoodDeckSF'] + df['GarageArea'] + df['GrLivArea'] + \\\n",
    "                    df['EnclosedPorch'] + df['OpenPorchSF']\n",
    "\n",
    "# Creating a boolean mask where summed areas exceed LotArea\n",
    "df['IsAreaExceeded'] = df['SummedAreas'] > df['LotArea']\n",
    "\n",
    "# Filtering rows where the built-up area exceeds the lot of area\n",
    "inconsistent_records = df[df['IsAreaExceeded']]\n",
    "\n",
    "# Display these records\n",
    "inconsistent_records"
   ],
   "id": "d5f7f9d1c1dcd947",
   "outputs": [
    {
     "data": {
      "text/plain": [
       "Empty DataFrame\n",
       "Columns: [Unnamed: 0, 1stFlrSF, 2ndFlrSF, BedroomAbvGr, BsmtExposure, BsmtFinSF1, BsmtFinType1, BsmtUnfSF, EnclosedPorch, GarageArea, GarageFinish, GarageYrBlt, GrLivArea, KitchenQual, LotArea, LotFrontage, MasVnrArea, OpenPorchSF, OverallCond, OverallQual, TotalBsmtSF, WoodDeckSF, YearBuilt, YearRemodAdd, SalePrice, SummedAreas, IsAreaExceeded]\n",
       "Index: []\n",
       "\n",
       "[0 rows x 27 columns]"
      ],
      "text/html": [
       "<div>\n",
       "<style scoped>\n",
       "    .dataframe tbody tr th:only-of-type {\n",
       "        vertical-align: middle;\n",
       "    }\n",
       "\n",
       "    .dataframe tbody tr th {\n",
       "        vertical-align: top;\n",
       "    }\n",
       "\n",
       "    .dataframe thead th {\n",
       "        text-align: right;\n",
       "    }\n",
       "</style>\n",
       "<table border=\"1\" class=\"dataframe\">\n",
       "  <thead>\n",
       "    <tr style=\"text-align: right;\">\n",
       "      <th></th>\n",
       "      <th>Unnamed: 0</th>\n",
       "      <th>1stFlrSF</th>\n",
       "      <th>2ndFlrSF</th>\n",
       "      <th>BedroomAbvGr</th>\n",
       "      <th>BsmtExposure</th>\n",
       "      <th>BsmtFinSF1</th>\n",
       "      <th>BsmtFinType1</th>\n",
       "      <th>BsmtUnfSF</th>\n",
       "      <th>EnclosedPorch</th>\n",
       "      <th>GarageArea</th>\n",
       "      <th>...</th>\n",
       "      <th>OpenPorchSF</th>\n",
       "      <th>OverallCond</th>\n",
       "      <th>OverallQual</th>\n",
       "      <th>TotalBsmtSF</th>\n",
       "      <th>WoodDeckSF</th>\n",
       "      <th>YearBuilt</th>\n",
       "      <th>YearRemodAdd</th>\n",
       "      <th>SalePrice</th>\n",
       "      <th>SummedAreas</th>\n",
       "      <th>IsAreaExceeded</th>\n",
       "    </tr>\n",
       "  </thead>\n",
       "  <tbody>\n",
       "  </tbody>\n",
       "</table>\n",
       "<p>0 rows × 27 columns</p>\n",
       "</div>"
      ]
     },
     "execution_count": 13,
     "metadata": {},
     "output_type": "execute_result"
    }
   ],
   "execution_count": 13
  },
  {
   "metadata": {},
   "cell_type": "markdown",
   "source": "We can see that all  LotArea values are within range.",
   "id": "e388ebfc0298098e"
  },
  {
   "metadata": {},
   "cell_type": "markdown",
   "source": [
    "## Removing added columns\n",
    "\n",
    "We will use same code as in previous cleaning notebook 04_basement.ipynb"
   ],
   "id": "67ff9084cffbc1ce"
  },
  {
   "metadata": {
    "ExecuteTime": {
     "end_time": "2024-05-02T20:23:23.003964Z",
     "start_time": "2024-05-02T20:23:22.942156Z"
    }
   },
   "cell_type": "code",
   "source": [
    "# Removing Extra columns that originally do not belong to dataset, as we have created them\n",
    "\n",
    "df_original_features = pd.read_csv(\"outputs/datasets/collection/HousePricesRecords.csv\")\n",
    "\n",
    "# Identify columns in df that are also in df_original\n",
    "common_columns = df.columns.intersection(df_original_features.columns)\n",
    "\n",
    "# Filter df to only include those common columns\n",
    "df = df[common_columns]\n",
    "\n",
    "df"
   ],
   "id": "fd415d050b5bdcb5",
   "outputs": [
    {
     "data": {
      "text/plain": [
       "      Unnamed: 0  1stFlrSF  2ndFlrSF  BedroomAbvGr BsmtExposure  BsmtFinSF1  \\\n",
       "0              0       856       854             3           No         706   \n",
       "1              1      1262         0             3           Gd         978   \n",
       "2              2       920       866             3           Mn         486   \n",
       "3              3       961         0             2           No         216   \n",
       "4              4      1145         0             4           Av         655   \n",
       "...          ...       ...       ...           ...          ...         ...   \n",
       "1455        1455       953       694             3           No           0   \n",
       "1456        1456      2073         0             2           No        1028   \n",
       "1457        1457      1188      1152             4           No         275   \n",
       "1458        1458      1078         0             2           Mn          49   \n",
       "1459        1459      1256         0             3           No         838   \n",
       "\n",
       "     BsmtFinType1  BsmtUnfSF  EnclosedPorch  GarageArea  ... LotFrontage  \\\n",
       "0             GLQ        150            0.0         548  ...          65   \n",
       "1             ALQ        284            NaN         460  ...          80   \n",
       "2             GLQ        434            0.0         608  ...          68   \n",
       "3             ALQ        540            NaN         642  ...          60   \n",
       "4             GLQ        490            0.0         836  ...          84   \n",
       "...           ...        ...            ...         ...  ...         ...   \n",
       "1455          Unf        953            NaN         460  ...          62   \n",
       "1456          ALQ        514            NaN         500  ...          85   \n",
       "1457          GLQ        877            NaN         252  ...          66   \n",
       "1458          Unf       1029          112.0         240  ...          68   \n",
       "1459          BLQ        418            0.0         276  ...          75   \n",
       "\n",
       "      MasVnrArea  OpenPorchSF OverallCond  OverallQual  TotalBsmtSF  \\\n",
       "0          196.0           61           5            7          856   \n",
       "1            0.0            0           8            6         1262   \n",
       "2          162.0           42           5            7          920   \n",
       "3            0.0           35           5            7          756   \n",
       "4          350.0           84           5            8         1145   \n",
       "...          ...          ...         ...          ...          ...   \n",
       "1455         0.0           40           5            6          953   \n",
       "1456       119.0            0           6            6         1542   \n",
       "1457         0.0           60           9            7         1152   \n",
       "1458         0.0            0           6            5         1078   \n",
       "1459         0.0           68           6            5         1256   \n",
       "\n",
       "      WoodDeckSF  YearBuilt  YearRemodAdd  SalePrice  \n",
       "0            0.0       2003          2003     208500  \n",
       "1            NaN       1976          1976     181500  \n",
       "2            NaN       2001          2002     223500  \n",
       "3            NaN       1915          1970     140000  \n",
       "4            NaN       2000          2000     250000  \n",
       "...          ...        ...           ...        ...  \n",
       "1455         0.0       1999          2000     175000  \n",
       "1456         NaN       1978          1988     210000  \n",
       "1457         NaN       1941          2006     266500  \n",
       "1458         NaN       1950          1996     142125  \n",
       "1459       736.0       1965          1965     147500  \n",
       "\n",
       "[1460 rows x 25 columns]"
      ],
      "text/html": [
       "<div>\n",
       "<style scoped>\n",
       "    .dataframe tbody tr th:only-of-type {\n",
       "        vertical-align: middle;\n",
       "    }\n",
       "\n",
       "    .dataframe tbody tr th {\n",
       "        vertical-align: top;\n",
       "    }\n",
       "\n",
       "    .dataframe thead th {\n",
       "        text-align: right;\n",
       "    }\n",
       "</style>\n",
       "<table border=\"1\" class=\"dataframe\">\n",
       "  <thead>\n",
       "    <tr style=\"text-align: right;\">\n",
       "      <th></th>\n",
       "      <th>Unnamed: 0</th>\n",
       "      <th>1stFlrSF</th>\n",
       "      <th>2ndFlrSF</th>\n",
       "      <th>BedroomAbvGr</th>\n",
       "      <th>BsmtExposure</th>\n",
       "      <th>BsmtFinSF1</th>\n",
       "      <th>BsmtFinType1</th>\n",
       "      <th>BsmtUnfSF</th>\n",
       "      <th>EnclosedPorch</th>\n",
       "      <th>GarageArea</th>\n",
       "      <th>...</th>\n",
       "      <th>LotFrontage</th>\n",
       "      <th>MasVnrArea</th>\n",
       "      <th>OpenPorchSF</th>\n",
       "      <th>OverallCond</th>\n",
       "      <th>OverallQual</th>\n",
       "      <th>TotalBsmtSF</th>\n",
       "      <th>WoodDeckSF</th>\n",
       "      <th>YearBuilt</th>\n",
       "      <th>YearRemodAdd</th>\n",
       "      <th>SalePrice</th>\n",
       "    </tr>\n",
       "  </thead>\n",
       "  <tbody>\n",
       "    <tr>\n",
       "      <th>0</th>\n",
       "      <td>0</td>\n",
       "      <td>856</td>\n",
       "      <td>854</td>\n",
       "      <td>3</td>\n",
       "      <td>No</td>\n",
       "      <td>706</td>\n",
       "      <td>GLQ</td>\n",
       "      <td>150</td>\n",
       "      <td>0.0</td>\n",
       "      <td>548</td>\n",
       "      <td>...</td>\n",
       "      <td>65</td>\n",
       "      <td>196.0</td>\n",
       "      <td>61</td>\n",
       "      <td>5</td>\n",
       "      <td>7</td>\n",
       "      <td>856</td>\n",
       "      <td>0.0</td>\n",
       "      <td>2003</td>\n",
       "      <td>2003</td>\n",
       "      <td>208500</td>\n",
       "    </tr>\n",
       "    <tr>\n",
       "      <th>1</th>\n",
       "      <td>1</td>\n",
       "      <td>1262</td>\n",
       "      <td>0</td>\n",
       "      <td>3</td>\n",
       "      <td>Gd</td>\n",
       "      <td>978</td>\n",
       "      <td>ALQ</td>\n",
       "      <td>284</td>\n",
       "      <td>NaN</td>\n",
       "      <td>460</td>\n",
       "      <td>...</td>\n",
       "      <td>80</td>\n",
       "      <td>0.0</td>\n",
       "      <td>0</td>\n",
       "      <td>8</td>\n",
       "      <td>6</td>\n",
       "      <td>1262</td>\n",
       "      <td>NaN</td>\n",
       "      <td>1976</td>\n",
       "      <td>1976</td>\n",
       "      <td>181500</td>\n",
       "    </tr>\n",
       "    <tr>\n",
       "      <th>2</th>\n",
       "      <td>2</td>\n",
       "      <td>920</td>\n",
       "      <td>866</td>\n",
       "      <td>3</td>\n",
       "      <td>Mn</td>\n",
       "      <td>486</td>\n",
       "      <td>GLQ</td>\n",
       "      <td>434</td>\n",
       "      <td>0.0</td>\n",
       "      <td>608</td>\n",
       "      <td>...</td>\n",
       "      <td>68</td>\n",
       "      <td>162.0</td>\n",
       "      <td>42</td>\n",
       "      <td>5</td>\n",
       "      <td>7</td>\n",
       "      <td>920</td>\n",
       "      <td>NaN</td>\n",
       "      <td>2001</td>\n",
       "      <td>2002</td>\n",
       "      <td>223500</td>\n",
       "    </tr>\n",
       "    <tr>\n",
       "      <th>3</th>\n",
       "      <td>3</td>\n",
       "      <td>961</td>\n",
       "      <td>0</td>\n",
       "      <td>2</td>\n",
       "      <td>No</td>\n",
       "      <td>216</td>\n",
       "      <td>ALQ</td>\n",
       "      <td>540</td>\n",
       "      <td>NaN</td>\n",
       "      <td>642</td>\n",
       "      <td>...</td>\n",
       "      <td>60</td>\n",
       "      <td>0.0</td>\n",
       "      <td>35</td>\n",
       "      <td>5</td>\n",
       "      <td>7</td>\n",
       "      <td>756</td>\n",
       "      <td>NaN</td>\n",
       "      <td>1915</td>\n",
       "      <td>1970</td>\n",
       "      <td>140000</td>\n",
       "    </tr>\n",
       "    <tr>\n",
       "      <th>4</th>\n",
       "      <td>4</td>\n",
       "      <td>1145</td>\n",
       "      <td>0</td>\n",
       "      <td>4</td>\n",
       "      <td>Av</td>\n",
       "      <td>655</td>\n",
       "      <td>GLQ</td>\n",
       "      <td>490</td>\n",
       "      <td>0.0</td>\n",
       "      <td>836</td>\n",
       "      <td>...</td>\n",
       "      <td>84</td>\n",
       "      <td>350.0</td>\n",
       "      <td>84</td>\n",
       "      <td>5</td>\n",
       "      <td>8</td>\n",
       "      <td>1145</td>\n",
       "      <td>NaN</td>\n",
       "      <td>2000</td>\n",
       "      <td>2000</td>\n",
       "      <td>250000</td>\n",
       "    </tr>\n",
       "    <tr>\n",
       "      <th>...</th>\n",
       "      <td>...</td>\n",
       "      <td>...</td>\n",
       "      <td>...</td>\n",
       "      <td>...</td>\n",
       "      <td>...</td>\n",
       "      <td>...</td>\n",
       "      <td>...</td>\n",
       "      <td>...</td>\n",
       "      <td>...</td>\n",
       "      <td>...</td>\n",
       "      <td>...</td>\n",
       "      <td>...</td>\n",
       "      <td>...</td>\n",
       "      <td>...</td>\n",
       "      <td>...</td>\n",
       "      <td>...</td>\n",
       "      <td>...</td>\n",
       "      <td>...</td>\n",
       "      <td>...</td>\n",
       "      <td>...</td>\n",
       "      <td>...</td>\n",
       "    </tr>\n",
       "    <tr>\n",
       "      <th>1455</th>\n",
       "      <td>1455</td>\n",
       "      <td>953</td>\n",
       "      <td>694</td>\n",
       "      <td>3</td>\n",
       "      <td>No</td>\n",
       "      <td>0</td>\n",
       "      <td>Unf</td>\n",
       "      <td>953</td>\n",
       "      <td>NaN</td>\n",
       "      <td>460</td>\n",
       "      <td>...</td>\n",
       "      <td>62</td>\n",
       "      <td>0.0</td>\n",
       "      <td>40</td>\n",
       "      <td>5</td>\n",
       "      <td>6</td>\n",
       "      <td>953</td>\n",
       "      <td>0.0</td>\n",
       "      <td>1999</td>\n",
       "      <td>2000</td>\n",
       "      <td>175000</td>\n",
       "    </tr>\n",
       "    <tr>\n",
       "      <th>1456</th>\n",
       "      <td>1456</td>\n",
       "      <td>2073</td>\n",
       "      <td>0</td>\n",
       "      <td>2</td>\n",
       "      <td>No</td>\n",
       "      <td>1028</td>\n",
       "      <td>ALQ</td>\n",
       "      <td>514</td>\n",
       "      <td>NaN</td>\n",
       "      <td>500</td>\n",
       "      <td>...</td>\n",
       "      <td>85</td>\n",
       "      <td>119.0</td>\n",
       "      <td>0</td>\n",
       "      <td>6</td>\n",
       "      <td>6</td>\n",
       "      <td>1542</td>\n",
       "      <td>NaN</td>\n",
       "      <td>1978</td>\n",
       "      <td>1988</td>\n",
       "      <td>210000</td>\n",
       "    </tr>\n",
       "    <tr>\n",
       "      <th>1457</th>\n",
       "      <td>1457</td>\n",
       "      <td>1188</td>\n",
       "      <td>1152</td>\n",
       "      <td>4</td>\n",
       "      <td>No</td>\n",
       "      <td>275</td>\n",
       "      <td>GLQ</td>\n",
       "      <td>877</td>\n",
       "      <td>NaN</td>\n",
       "      <td>252</td>\n",
       "      <td>...</td>\n",
       "      <td>66</td>\n",
       "      <td>0.0</td>\n",
       "      <td>60</td>\n",
       "      <td>9</td>\n",
       "      <td>7</td>\n",
       "      <td>1152</td>\n",
       "      <td>NaN</td>\n",
       "      <td>1941</td>\n",
       "      <td>2006</td>\n",
       "      <td>266500</td>\n",
       "    </tr>\n",
       "    <tr>\n",
       "      <th>1458</th>\n",
       "      <td>1458</td>\n",
       "      <td>1078</td>\n",
       "      <td>0</td>\n",
       "      <td>2</td>\n",
       "      <td>Mn</td>\n",
       "      <td>49</td>\n",
       "      <td>Unf</td>\n",
       "      <td>1029</td>\n",
       "      <td>112.0</td>\n",
       "      <td>240</td>\n",
       "      <td>...</td>\n",
       "      <td>68</td>\n",
       "      <td>0.0</td>\n",
       "      <td>0</td>\n",
       "      <td>6</td>\n",
       "      <td>5</td>\n",
       "      <td>1078</td>\n",
       "      <td>NaN</td>\n",
       "      <td>1950</td>\n",
       "      <td>1996</td>\n",
       "      <td>142125</td>\n",
       "    </tr>\n",
       "    <tr>\n",
       "      <th>1459</th>\n",
       "      <td>1459</td>\n",
       "      <td>1256</td>\n",
       "      <td>0</td>\n",
       "      <td>3</td>\n",
       "      <td>No</td>\n",
       "      <td>838</td>\n",
       "      <td>BLQ</td>\n",
       "      <td>418</td>\n",
       "      <td>0.0</td>\n",
       "      <td>276</td>\n",
       "      <td>...</td>\n",
       "      <td>75</td>\n",
       "      <td>0.0</td>\n",
       "      <td>68</td>\n",
       "      <td>6</td>\n",
       "      <td>5</td>\n",
       "      <td>1256</td>\n",
       "      <td>736.0</td>\n",
       "      <td>1965</td>\n",
       "      <td>1965</td>\n",
       "      <td>147500</td>\n",
       "    </tr>\n",
       "  </tbody>\n",
       "</table>\n",
       "<p>1460 rows × 25 columns</p>\n",
       "</div>"
      ]
     },
     "execution_count": 14,
     "metadata": {},
     "output_type": "execute_result"
    }
   ],
   "execution_count": 14
  },
  {
   "metadata": {},
   "cell_type": "markdown",
   "source": [
    "## Saving current dataset\n",
    "\n",
    "We will save current dataset as inputs/datasets/cleaning/lot_features.parquet.gzip"
   ],
   "id": "72228e540f71cec8"
  },
  {
   "metadata": {
    "ExecuteTime": {
     "end_time": "2024-05-02T20:23:23.060780Z",
     "start_time": "2024-05-02T20:23:23.008087Z"
    }
   },
   "cell_type": "code",
   "source": "df.to_parquet('inputs/datasets/cleaning/lot_features.parquet.gzip', compression='gzip')",
   "id": "321c228e26a6f7ca",
   "outputs": [],
   "execution_count": 15
  },
  {
   "metadata": {},
   "cell_type": "markdown",
   "source": [
    "### Adding cleaning code to pipeline\n",
    "\n",
    "```python\n",
    "df.loc[:, 'LotFrontage'] = df['LotFrontage'].fillna(70)\n",
    "df['LotFrontage'] = df['LotFrontage'].round().astype(int)\n",
    "```"
   ],
   "id": "ab7d203d1fcd2c92"
  },
  {
   "metadata": {},
   "cell_type": "markdown",
   "source": "## Next step is cleaning Masonry Veneer and Porch features - cleaning and fixing data in garages",
   "id": "3c2ac3989679b172"
  }
 ],
 "metadata": {
  "kernelspec": {
   "display_name": "Python 3",
   "language": "python",
   "name": "python3"
  },
  "language_info": {
   "codemirror_mode": {
    "name": "ipython",
    "version": 2
   },
   "file_extension": ".py",
   "mimetype": "text/x-python",
   "name": "python",
   "nbconvert_exporter": "python",
   "pygments_lexer": "ipython2",
   "version": "2.7.6"
  }
 },
 "nbformat": 4,
 "nbformat_minor": 5
}
