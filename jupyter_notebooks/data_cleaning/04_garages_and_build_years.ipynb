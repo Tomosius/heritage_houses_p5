{
 "cells": [
  {
   "metadata": {},
   "cell_type": "markdown",
   "source": [
    "# Notebook 04 - Garages & Years for Build Dates  - Cleaning and fixing all Features\n",
    "\n",
    "## Objectives\n",
    "* Clean data\n",
    "* Evaluate and process missing data\n",
    "* Fix potential issues with data in given features:\n",
    "    * GarageArea - Size of garage in square feet\n",
    "    * GarageFinish - Interior Finish of the garage\n",
    "    * GarageYrBlt - Year garage was built\n",
    "\n",
    "## Inputs\n",
    "* inputs/datasets/cleaning/basement.parquet.gzip\n",
    "\n",
    "## Outputs\n",
    "* Clean and fix (missing and potentially wrong) data in given column\n",
    "* After cleaning is completed, we will save current dataset in inputs/datasets/cleaning/garages_and_build_years.parquet.gzip"
   ],
   "id": "a7875c24c43c0d1e"
  },
  {
   "metadata": {},
   "cell_type": "markdown",
   "source": [
    "## Change working directory\n",
    "In This section we will get location of current directory and move one step up, to parent folder, so App will be accessing project folder.\n",
    "\n",
    "We need to change the working directory from its current folder to its parent folder\n",
    "* We access the current directory with os.getcwd()"
   ],
   "id": "cb656678d593177e"
  },
  {
   "metadata": {},
   "cell_type": "code",
   "source": [
    "import os\n",
    "\n",
    "current_dir = os.getcwd()\n",
    "current_dir"
   ],
   "id": "aebc2a0372b47511",
   "execution_count": null,
   "outputs": []
  },
  {
   "metadata": {},
   "cell_type": "markdown",
   "source": [
    "We want to make the parent of the current directory the new current directory\n",
    "* os.path.dirname() gets the parent directory\n",
    "* os.chdir() defines the new current directory"
   ],
   "id": "61376d0e5ecf487c"
  },
  {
   "metadata": {},
   "cell_type": "code",
   "source": [
    "os.chdir(os.path.dirname(current_dir))\n",
    "print(\"you have set a new current directory\")"
   ],
   "id": "ad55fa3d2f5db8d0",
   "execution_count": null,
   "outputs": []
  },
  {
   "metadata": {},
   "cell_type": "markdown",
   "source": "Confirm new current directory",
   "id": "2ef02ca3ee0c6a3c"
  },
  {
   "metadata": {},
   "cell_type": "code",
   "source": [
    "current_dir = os.getcwd()\n",
    "current_dir"
   ],
   "id": "a4c9d92dbb8cc3a9",
   "execution_count": null,
   "outputs": []
  },
  {
   "metadata": {},
   "cell_type": "markdown",
   "source": "We need to check current working directory",
   "id": "22e5c3d0ef0ef283"
  },
  {
   "metadata": {},
   "cell_type": "code",
   "source": "current_dir",
   "id": "ba1df529a54df2f3",
   "execution_count": null,
   "outputs": []
  },
  {
   "metadata": {},
   "cell_type": "markdown",
   "source": [
    "We can see that current is **jupyter_notebooks**, as current notebook is in subfolder. We will go one step up to parent directory, what will be our project main directory.\n",
    "Print out to confirm working directory"
   ],
   "id": "36cb42d41d3602a4"
  },
  {
   "metadata": {},
   "cell_type": "code",
   "source": [
    "os.chdir(os.path.dirname(current_dir))\n",
    "current_dir = os.getcwd()\n",
    "current_dir"
   ],
   "id": "14a35895387aca00",
   "execution_count": null,
   "outputs": []
  },
  {
   "metadata": {},
   "cell_type": "markdown",
   "source": "",
   "id": "9c67382aa77af8a3"
  },
  {
   "metadata": {},
   "cell_type": "markdown",
   "source": "## Loading Dataset",
   "id": "891d66d7edd5b491"
  },
  {
   "metadata": {},
   "cell_type": "code",
   "source": [
    "import pandas as pd\n",
    "\n",
    "df = pd.read_parquet(\"inputs/datasets/cleaning/basement.parquet.gzip\")\n",
    "df.head()"
   ],
   "id": "d983f77e553443e0",
   "execution_count": null,
   "outputs": []
  },
  {
   "metadata": {},
   "cell_type": "markdown",
   "source": [
    "## Exploring Data\n",
    "\n",
    "We will get all features that are missing data as a list, first we get given features datatypes"
   ],
   "id": "957218d717e97c5c"
  },
  {
   "metadata": {},
   "cell_type": "markdown",
   "source": "",
   "id": "e01d14e33e32e424"
  },
  {
   "metadata": {},
   "cell_type": "code",
   "source": [
    "columns_of_interest = ['GarageArea', 'GarageFinish', 'GarageYrBlt']\n",
    "column_types = df[columns_of_interest].dtypes\n",
    "\n",
    "# Display the data types of these columns\n",
    "df[columns_of_interest].dtypes"
   ],
   "id": "8a09515f36857844",
   "execution_count": null,
   "outputs": []
  },
  {
   "metadata": {},
   "cell_type": "markdown",
   "source": [
    "We will fix missing values:\n",
    "1. GarageArea and GarageYrBlt missing values will be replaced with 0\n",
    "2. GarageFinish missing values will be replaced with None\n",
    "\n",
    "Also, we will convert GarageYrBlt from float to int"
   ],
   "id": "20de91f13489a83d"
  },
  {
   "metadata": {},
   "cell_type": "code",
   "source": [
    "# Fill missing values for 'GarageArea' and 'GarageYrBlt' with 0\n",
    "df[['GarageArea', 'GarageYrBlt']] = df[['GarageArea', 'GarageYrBlt']].fillna(0)\n",
    "\n",
    "# Fill missing values for 'GarageFinish' with the string 'None'\n",
    "df['GarageFinish'] = df['GarageFinish'].fillna('None')\n",
    "\n",
    "# Convert 'GarageYrBlt' to integer\n",
    "df['GarageYrBlt'] = df['GarageYrBlt'].astype(int)\n",
    "\n",
    "df[columns_of_interest].head()"
   ],
   "id": "e5ef4a8fda973ca7",
   "execution_count": null,
   "outputs": []
  },
  {
   "metadata": {},
   "cell_type": "markdown",
   "source": [
    "Now we will check, if there is no garage, all values should be 0 or None accordingly\n",
    "\n",
    "We will reuse function from previous cleaning notebook - 03_basement.ipynb\n",
    "Also we need to change features values to be inspected"
   ],
   "id": "e34c9c471b8dffef"
  },
  {
   "metadata": {},
   "cell_type": "code",
   "source": [
    "def check_consistency(df, primary_feature):\n",
    "    \"\"\"\n",
    "    Checks consistency of a primary feature against a set of expected values for related features.\n",
    "    \n",
    "    Parameters:\n",
    "        df (pd.DataFrame): The DataFrame containing the data.\n",
    "        primary_feature (str): The primary feature to be checked.\n",
    "    \n",
    "    Returns:\n",
    "        None: Outputs inconsistency results directly.\n",
    "    \"\"\"\n",
    "    # Directly define features and their values indicating 'no presence' in a dictionary\n",
    "    features_and_values = {\n",
    "        \"GarageArea\": 0,\n",
    "        \"GarageFinish\": 'None',\n",
    "        \"GarageYrBlt\": 0\n",
    "    }\n",
    "\n",
    "    # Ensure primary feature is valid\n",
    "    if primary_feature not in features_and_values:\n",
    "        print(f\"Feature {primary_feature} not defined in feature settings.\")\n",
    "        return\n",
    "\n",
    "    # Determine the primary value to check against\n",
    "    primary_value = features_and_values[primary_feature]\n",
    "\n",
    "    # Check each feature against the primary feature's condition\n",
    "    df['Consistency'] = df.apply(\n",
    "        lambda row: True if row[primary_feature] != primary_value else all(\n",
    "            row[feature] == value for feature, value in features_and_values.items() if feature != primary_feature\n",
    "        ), axis=1\n",
    "    )\n",
    "\n",
    "    # Filter and display inconsistent records\n",
    "    inconsistent_records = df[df['Consistency'] == False]\n",
    "    return inconsistent_records"
   ],
   "id": "1625fd1c24a0a3e1",
   "execution_count": null,
   "outputs": []
  },
  {
   "metadata": {},
   "cell_type": "markdown",
   "source": [
    "We loop through each feature and print the results\n",
    "\n",
    "Again we will reuse code from previous notebook"
   ],
   "id": "3019b7e36c77342a"
  },
  {
   "metadata": {},
   "cell_type": "code",
   "source": [
    "def loop_check_consistency(df, basement_features):\n",
    "    for feature in basement_features:\n",
    "        errors = check_consistency(df, feature)\n",
    "        error_count = errors.shape[0]  # Get the number of rows in the errors DataFrame\n",
    "        print(f\"Feature {feature} has {error_count} inconsistent rows.\")\n",
    "\n",
    "\n",
    "# Run the loop check consistency function\n",
    "loop_check_consistency(df, columns_of_interest)"
   ],
   "id": "5f2e092988a7c2d7",
   "execution_count": null,
   "outputs": []
  },
  {
   "metadata": {},
   "cell_type": "markdown",
   "source": [
    "We can see that all features are consistent except GarageFinish\n",
    "\n",
    "Let's check that feature separately"
   ],
   "id": "7f85f2b32acd9ecb"
  },
  {
   "metadata": {},
   "cell_type": "code",
   "source": [
    "garage_finish_check = check_consistency(df, 'GarageFinish')\n",
    "garage_finish_check[columns_of_interest]"
   ],
   "id": "4d089c629b140989",
   "execution_count": null,
   "outputs": []
  },
  {
   "metadata": {},
   "cell_type": "markdown",
   "source": [
    "We can see that there is a lot of None, when we see that garage exist. Let's check is there any correlation between Garage Finish and other columns.\n",
    "To achieve that, we will make a copy of dataframe, encode all objects as integers, then we will check correlations\n",
    "Before that we need to encode it to numbers, to get correlations"
   ],
   "id": "4ab23c36436657fb"
  },
  {
   "metadata": {},
   "cell_type": "code",
   "source": [
    "from sklearn.preprocessing import LabelEncoder\n",
    "import pandas as pd\n",
    "\n",
    "# Create a copy of the DataFrame\n",
    "df_encoded = df.copy()\n",
    "\n",
    "# Initialize a LabelEncoder\n",
    "encoder = LabelEncoder()\n",
    "\n",
    "# Apply LabelEncoder to each categorical column\n",
    "for column in df_encoded.select_dtypes(include=['object']).columns:\n",
    "    df_encoded[column] = encoder.fit_transform(df_encoded[column])\n",
    "\n",
    "# Check the transformed DataFrame\n",
    "print(df_encoded.head())\n"
   ],
   "id": "a8e69254d5191a5",
   "execution_count": null,
   "outputs": []
  },
  {
   "metadata": {},
   "cell_type": "code",
   "source": [
    "# Calculate Pearson correlation for 'GarageFinish' assuming it's still relevant\n",
    "# If 'GarageFinish' is no longer a column, replace it with an appropriate column name\n",
    "if 'GarageFinish' in df_encoded.columns:\n",
    "    corr_pearson = df_encoded.corr(method='pearson')['GarageFinish'].sort_values(ascending=False, key=abs)[1:].head(10)\n",
    "    print(corr_pearson)\n",
    "else:\n",
    "    print(\"'GarageFinish' is not in the DataFrame. Please replace it with a relevant column.\")\n"
   ],
   "id": "8e2568d1b534d345",
   "execution_count": null,
   "outputs": []
  },
  {
   "metadata": {},
   "cell_type": "code",
   "source": [
    "# Calculate Pearson correlation for 'GarageFinish' assuming it's still relevant\n",
    "# If 'GarageFinish' is no longer a column, replace it with an appropriate column name\n",
    "if 'GarageFinish' in df_encoded.columns:\n",
    "    corr_spearman = df_encoded.corr(method='spearman')['GarageFinish'].sort_values(ascending=False, key=abs)[1:].head(\n",
    "        10)\n",
    "    print(corr_spearman)\n",
    "else:\n",
    "    print(\"'GarageFinish' is not in the DataFrame. Please replace it with a relevant column.\")\n"
   ],
   "id": "384d0f88357b981c",
   "execution_count": null,
   "outputs": []
  },
  {
   "metadata": {},
   "cell_type": "code",
   "source": [
    "# Calculate Pearson correlation for 'GarageFinish' assuming it's still relevant\n",
    "# If 'GarageFinish' is no longer a column, replace it with an appropriate column name\n",
    "if 'GarageFinish' in df_encoded.columns:\n",
    "    corr_kendall = df_encoded.corr(method='kendall')['GarageFinish'].sort_values(ascending=False, key=abs)[1:].head(10)\n",
    "    print(corr_kendall)\n",
    "else:\n",
    "    print(\"'GarageFinish' is not in the DataFrame. Please replace it with a relevant column.\")\n"
   ],
   "id": "96786b67e09ed426",
   "execution_count": null,
   "outputs": []
  },
  {
   "metadata": {},
   "cell_type": "markdown",
   "source": [
    "We can not see any correlations between GarageFinish and other features. \n",
    "\n",
    "Now we will apply most common value in all dataset - GarageFinish"
   ],
   "id": "38f5fe967d8a707c"
  },
  {
   "metadata": {},
   "cell_type": "code",
   "source": [
    "mode_value = df['GarageFinish'].mode()[0]  # mode() returns a Series; [0] accesses the first mode\n",
    "mode_value"
   ],
   "id": "72daab0bc58f7e87",
   "execution_count": null,
   "outputs": []
  },
  {
   "metadata": {},
   "cell_type": "code",
   "source": "df.loc[garage_finish_check.index, 'GarageFinish'] = 'Unf'",
   "id": "4d6d5e2f6ce5c51f",
   "execution_count": null,
   "outputs": []
  },
  {
   "metadata": {},
   "cell_type": "markdown",
   "source": "Now lets check if there is anymore values that do not match",
   "id": "dcb111630e8f9ef7"
  },
  {
   "metadata": {},
   "cell_type": "code",
   "source": [
    "garage_finish_check = check_consistency(df, 'GarageFinish')\n",
    "garage_finish_check[columns_of_interest]"
   ],
   "id": "545c236097e8a292",
   "execution_count": null,
   "outputs": []
  },
  {
   "metadata": {},
   "cell_type": "markdown",
   "source": [
    "## GarageYrBlt fixing\n",
    "\n",
    "We want to check when garages were build. Usually garages can not be built later than a house was build or remodeling:\n",
    "1. We will filter buildings that have garage\n",
    "2. We will filter buildings where garage build date is earlier that house build date"
   ],
   "id": "a114e77fd6804f2c"
  },
  {
   "metadata": {},
   "cell_type": "code",
   "source": [
    "garage_year_mistake = df[\n",
    "    (df['GarageYrBlt'] < df['YearBuilt']) & ((df['GarageFinish'] != 'None') | (df['GarageArea'] != 0))]\n",
    "garage_year_mistake[['GarageYrBlt', 'YearBuilt', 'GarageFinish', 'GarageArea']]"
   ],
   "id": "a4ad281c39b5989",
   "execution_count": null,
   "outputs": []
  },
  {
   "metadata": {},
   "cell_type": "markdown",
   "source": [
    "We can see that there is 9 records, where garage was built (GarageYrblt) before House was built.\n",
    "It is possible that garage was built on remodeling. Let's check Garage Year built lines up with house building and renovating dates (YearBuilt and YearRemodAdd accordingly)"
   ],
   "id": "308c63b9cee818cc"
  },
  {
   "metadata": {},
   "cell_type": "code",
   "source": "garage_year_mistake[['GarageYrBlt', 'YearBuilt', 'GarageFinish', 'GarageArea', 'YearRemodAdd']]",
   "id": "8058f2dfa6e90458",
   "execution_count": null,
   "outputs": []
  },
  {
   "metadata": {},
   "cell_type": "markdown",
   "source": "Let's check, when most of the garages were built: on date of building or renovation",
   "id": "6b827ed0bb323329"
  },
  {
   "metadata": {},
   "cell_type": "code",
   "source": [
    "garages_built_same_as_house_year = df[(df['GarageYrBlt'] == df['YearBuilt']) & (df['GarageArea'] > 0)]\n",
    "garages_built_same_as_renovation_year = df[(df['GarageYrBlt'] == df['YearRemodAdd']) & (df['GarageArea'] > 0)]\n",
    "\n",
    "# Printing output\n",
    "print(\"Garages built same as building: \", garages_built_same_as_house_year.shape[0])\n",
    "print(\"Garages added during renovation: \", garages_built_same_as_renovation_year.shape[0])"
   ],
   "id": "276d1dd14c578e70",
   "execution_count": null,
   "outputs": []
  },
  {
   "metadata": {},
   "cell_type": "markdown",
   "source": [
    "We can see that most of them were built same time as building. but if we look more closely, we can see, that we have:\n",
    "1088 + 725 = 1813, what is more than all records in dataset. It is possible, that renovation happened same year as house was built.\n",
    "Let's check how many houses were renovated same yar as built"
   ],
   "id": "3e50e51b16f16304"
  },
  {
   "metadata": {},
   "cell_type": "code",
   "source": "df[(df['GarageYrBlt'] == df['YearRemodAdd'])].shape[0]",
   "id": "b05322e072abebf8",
   "execution_count": null,
   "outputs": []
  },
  {
   "metadata": {},
   "cell_type": "markdown",
   "source": [
    "This is very interesting, as we have 725 houses, which were renovated same date as they were built.\n",
    "Let's check was there any renovations before houses were built"
   ],
   "id": "86b48041436a551c"
  },
  {
   "metadata": {},
   "cell_type": "code",
   "source": "df[(df['GarageYrBlt'] > df['YearRemodAdd'])].shape[0]",
   "id": "c61cd7cdba637c50",
   "execution_count": null,
   "outputs": []
  },
  {
   "metadata": {},
   "cell_type": "markdown",
   "source": [
    "We can see that there is 127 houses, which were renovated before they were built.\n",
    "\n",
    "We need to check is there any NaN or zero values in House were build and renovated"
   ],
   "id": "e3781df249fe6782"
  },
  {
   "metadata": {},
   "cell_type": "code",
   "source": [
    "print(df['YearBuilt'].isna().sum())  # Counts how many NaN values are in the 'YearBuilt' column\n",
    "print(df['YearBuilt'].isnull().sum())  # Equivalent to isna(), also counts NaN values\n",
    "\n",
    "print(df['YearRemodAdd'].isna().sum())  # Counts how many NaN values are in the 'YearRemodAdd' column\n",
    "print(df['YearRemodAdd'].isnull().sum())  # Equivalent to isna(), also counts NaN values\n"
   ],
   "id": "18042fb53383e3d0",
   "execution_count": null,
   "outputs": []
  },
  {
   "metadata": {},
   "cell_type": "markdown",
   "source": [
    "We can see that there is no missing values or equal to 0, and we know that:\n",
    "* All buildings were built between 1872 and 2010\n",
    "* Same time we have information that renovation dates are also within same limits\n",
    "\n",
    "We have to do next steps:\n",
    "1. If Renovation date was between 1872 and 2010, but is smaller than build date, there was an error and data was entered in wrong cells, they need swapping\n",
    "2. Filter out all buildings that have garage, and build date is NOT the same as renovation, then:\n",
    "* we count how many garages were build same day as building\n",
    "* we count how many garages were build during renovation\n",
    "* Based on that, which ever is more - that is more common, and we will apply that date to garage build date for garages with wrong dates"
   ],
   "id": "b5564a0d3beaa868"
  },
  {
   "metadata": {},
   "cell_type": "code",
   "source": [
    "df_tmp = df[(df['GarageYrBlt'] != df['YearRemodAdd'])]\n",
    "df_tmp.shape[0]"
   ],
   "id": "4e2e689346611096",
   "execution_count": null,
   "outputs": []
  },
  {
   "metadata": {},
   "cell_type": "code",
   "source": [
    "garages_built_same_as_house_year = df[\n",
    "    (df['GarageYrBlt'] == df['YearBuilt']) & (df['GarageArea'] > 0) & (df['GarageYrBlt'] != df['YearRemodAdd'])]\n",
    "garages_built_same_as_renovation_year = df[\n",
    "    (df['GarageYrBlt'] == df['YearRemodAdd']) & (df['GarageArea'] > 0) & (df['GarageYrBlt'] != df['YearRemodAdd'])]\n",
    "\n",
    "# Printing output\n",
    "print(\"Garages built same as building: \", garages_built_same_as_house_year.shape[0])\n",
    "print(\"Garages added during renovation: \", garages_built_same_as_renovation_year.shape[0])"
   ],
   "id": "74b205d6bcfd0fe3",
   "execution_count": null,
   "outputs": []
  },
  {
   "metadata": {},
   "cell_type": "markdown",
   "source": [
    "We can see, that all Garages were build same time as building, none were added during Renovation.\n",
    "\n",
    "Based on that, if garage year is lower than house build date, we will change garage build date to house build date"
   ],
   "id": "e2f561933e048281"
  },
  {
   "metadata": {},
   "cell_type": "code",
   "source": [
    "# Correcting garage build years that are earlier than the house build year\n",
    "df.loc[df['GarageYrBlt'] < df['YearBuilt'], 'GarageYrBlt'] = df['YearBuilt']"
   ],
   "id": "20db2b0f149b4a86",
   "execution_count": null,
   "outputs": []
  },
  {
   "metadata": {},
   "cell_type": "markdown",
   "source": "Checking again is there any remaining Garage dates mistakes.",
   "id": "218ddbaf5dba1082"
  },
  {
   "metadata": {},
   "cell_type": "code",
   "source": [
    "garage_year_mistake = df[\n",
    "    (df['GarageYrBlt'] < df['YearBuilt']) & ((df['GarageFinish'] != 'None') | (df['GarageArea'] != 0))]\n",
    "garage_year_mistake[['GarageYrBlt', 'YearBuilt', 'GarageFinish', 'GarageArea']]"
   ],
   "id": "9ff0389e09a27cc0",
   "execution_count": null,
   "outputs": []
  },
  {
   "metadata": {},
   "cell_type": "markdown",
   "source": "All Information with Garages is cleaned and fixed, same time we have fixed house Build and Renovation dates.",
   "id": "9fbbd073a2a5aa2"
  },
  {
   "metadata": {},
   "cell_type": "markdown",
   "source": [
    "## Removing added columns\n",
    "\n",
    "We will use same code as in previous cleaning notebook 04_basement.ipynb"
   ],
   "id": "f2c3c704e08356f1"
  },
  {
   "metadata": {},
   "cell_type": "code",
   "source": [
    "# Removing Extra columns that originally do not belong to dataset, as we have created them\n",
    "\n",
    "df_original_features = pd.read_csv(\"outputs/datasets/collection/HousePricesRecords.csv\")\n",
    "import pandas as pd\n",
    "\n",
    "# Identify columns in df that are also in df_original\n",
    "common_columns = df.columns.intersection(df_original_features.columns)\n",
    "\n",
    "# Filter df to only include those common columns\n",
    "df = df[common_columns]\n",
    "\n",
    "df"
   ],
   "id": "3ee0ba476657ecc6",
   "execution_count": null,
   "outputs": []
  },
  {
   "metadata": {},
   "cell_type": "markdown",
   "source": [
    "## Saving current dataset\n",
    "\n",
    "We will save current dataset as inputs/datasets/cleaning/garages_and_build_years.parquet.gzip"
   ],
   "id": "f3db0eaeffd56a85"
  },
  {
   "metadata": {},
   "cell_type": "code",
   "source": "df.to_parquet('inputs/datasets/cleaning/garages_and_build_years.parquet.gzip', compression='gzip')",
   "id": "e1ab7f20a52fff18",
   "execution_count": null,
   "outputs": []
  },
  {
   "metadata": {},
   "cell_type": "markdown",
   "source": "",
   "id": "7e6ab1b58e0e0698"
  },
  {
   "metadata": {},
   "cell_type": "markdown",
   "source": [
    "### Adding Cleaning code to pipeline\n",
    "```python\n",
    "# Direct assignments to fill missing values and convert data types for garage-related columns\n",
    "df['GarageArea'] = df['GarageArea'].fillna(0)\n",
    "df['GarageYrBlt'] = df['GarageYrBlt'].fillna(0).astype(int)\n",
    "df['GarageFinish'] = df['GarageFinish'].fillna('None')\n",
    "\n",
    "# Define a dictionary for checking consistency based on 'GarageFinish'\n",
    "features_and_values = {\"GarageArea\": 0, \"GarageFinish\": 'None', \"GarageYrBlt\": 0}\n",
    "\n",
    "def check_consistency(df, primary_feature):\n",
    "    primary_value = features_and_values[primary_feature]\n",
    "    return df.apply(\n",
    "        lambda row: all(row[feature] == value for feature, value in features_and_values.items()) \n",
    "        if row[primary_feature] == primary_value else True, axis=1\n",
    "    )\n",
    "\n",
    "# Apply consistency check and correct 'GarageFinish'\n",
    "consistency_mask = check_consistency(df, 'GarageFinish')\n",
    "df.loc[~consistency_mask, 'GarageFinish'] = 'Unf'\n",
    "\n",
    "# Correct garage years that are earlier than the house build year\n",
    "df.loc[df['GarageYrBlt'] < df['YearBuilt'], 'GarageYrBlt'] = df['YearBuilt']\n",
    "```"
   ],
   "id": "b3e60c710678d7d5"
  },
  {
   "metadata": {},
   "cell_type": "markdown",
   "source": "## Next step is cleaning Kitchen Quality - cleaning and fixing data in garages",
   "id": "b83b0db2cbf3e3bf"
  }
 ],
 "metadata": {
  "kernelspec": {
   "display_name": "Python 3",
   "language": "python",
   "name": "python3"
  },
  "language_info": {
   "codemirror_mode": {
    "name": "ipython",
    "version": 2
   },
   "file_extension": ".py",
   "mimetype": "text/x-python",
   "name": "python",
   "nbconvert_exporter": "python",
   "pygments_lexer": "ipython2",
   "version": "2.7.6"
  }
 },
 "nbformat": 4,
 "nbformat_minor": 5
}
