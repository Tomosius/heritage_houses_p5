{
 "cells": [
  {
   "metadata": {},
   "cell_type": "markdown",
   "source": [
    "# Notebook 04 - Garages & Years for Build Dates  - Cleaning and fixing all Features\n",
    "\n",
    "## Objectives\n",
    "* Clean data\n",
    "* Evaluate and process missing data\n",
    "* Fix potential issues with data in given features:\n",
    "    * GarageArea - Size of garage in square feet\n",
    "    * GarageFinish - Interior Finish of the garage\n",
    "    * GarageYrBlt - Year garage was built\n",
    "\n",
    "## Inputs\n",
    "* inputs/datasets/cleaning/basement.csv\n",
    "\n",
    "## Outputs\n",
    "* Clean and fix (missing and potentially wrong) data in given column\n",
    "* After cleaning is completed, we will save current dataset in inputs/datasets/cleaning/garages_and_build_years.csv"
   ],
   "id": "a7875c24c43c0d1e"
  },
  {
   "metadata": {},
   "cell_type": "markdown",
   "source": [
    "## Change working directory\n",
    "In This section we will get location of current directory and move one step up, to parent folder, so App will be accessing project folder.\n",
    "\n",
    "We need to change the working directory from its current folder to its parent folder\n",
    "* We access the current directory with os.getcwd()"
   ],
   "id": "cb656678d593177e"
  },
  {
   "metadata": {
    "ExecuteTime": {
     "end_time": "2024-05-02T20:02:27.803668Z",
     "start_time": "2024-05-02T20:02:27.781688Z"
    }
   },
   "cell_type": "code",
   "source": [
    "import os\n",
    "\n",
    "current_dir = os.getcwd()\n",
    "current_dir"
   ],
   "id": "aebc2a0372b47511",
   "outputs": [
    {
     "data": {
      "text/plain": [
       "'/Users/pecukevicius/DataspellProjects/heritage_houses_p5/jupyter_notebooks/data_cleaning'"
      ]
     },
     "execution_count": 1,
     "metadata": {},
     "output_type": "execute_result"
    }
   ],
   "execution_count": 1
  },
  {
   "metadata": {},
   "cell_type": "markdown",
   "source": [
    "We want to make the parent of the current directory the new current directory\n",
    "* os.path.dirname() gets the parent directory\n",
    "* os.chdir() defines the new current directory"
   ],
   "id": "61376d0e5ecf487c"
  },
  {
   "metadata": {
    "ExecuteTime": {
     "end_time": "2024-05-02T20:02:27.839326Z",
     "start_time": "2024-05-02T20:02:27.809707Z"
    }
   },
   "cell_type": "code",
   "source": [
    "os.chdir(os.path.dirname(current_dir))\n",
    "print(\"you have set a new current directory\")"
   ],
   "id": "ad55fa3d2f5db8d0",
   "outputs": [
    {
     "name": "stdout",
     "output_type": "stream",
     "text": [
      "you have set a new current directory\n"
     ]
    }
   ],
   "execution_count": 2
  },
  {
   "metadata": {},
   "cell_type": "markdown",
   "source": "Confirm new current directory",
   "id": "2ef02ca3ee0c6a3c"
  },
  {
   "metadata": {
    "ExecuteTime": {
     "end_time": "2024-05-02T20:02:27.868523Z",
     "start_time": "2024-05-02T20:02:27.850921Z"
    }
   },
   "cell_type": "code",
   "source": [
    "current_dir = os.getcwd()\n",
    "current_dir"
   ],
   "id": "a4c9d92dbb8cc3a9",
   "outputs": [
    {
     "data": {
      "text/plain": [
       "'/Users/pecukevicius/DataspellProjects/heritage_houses_p5/jupyter_notebooks'"
      ]
     },
     "execution_count": 3,
     "metadata": {},
     "output_type": "execute_result"
    }
   ],
   "execution_count": 3
  },
  {
   "metadata": {},
   "cell_type": "markdown",
   "source": "We need to check current working directory",
   "id": "22e5c3d0ef0ef283"
  },
  {
   "metadata": {
    "ExecuteTime": {
     "end_time": "2024-05-02T20:02:27.902012Z",
     "start_time": "2024-05-02T20:02:27.874698Z"
    }
   },
   "cell_type": "code",
   "source": "current_dir",
   "id": "ba1df529a54df2f3",
   "outputs": [
    {
     "data": {
      "text/plain": [
       "'/Users/pecukevicius/DataspellProjects/heritage_houses_p5/jupyter_notebooks'"
      ]
     },
     "execution_count": 4,
     "metadata": {},
     "output_type": "execute_result"
    }
   ],
   "execution_count": 4
  },
  {
   "metadata": {},
   "cell_type": "markdown",
   "source": [
    "We can see that current is **jupyter_notebooks**, as current notebook is in subfolder. We will go one step up to parent directory, what will be our project main directory.\n",
    "Print out to confirm working directory"
   ],
   "id": "36cb42d41d3602a4"
  },
  {
   "metadata": {
    "ExecuteTime": {
     "end_time": "2024-05-02T20:02:27.929092Z",
     "start_time": "2024-05-02T20:02:27.907047Z"
    }
   },
   "cell_type": "code",
   "source": [
    "os.chdir(os.path.dirname(current_dir))\n",
    "current_dir = os.getcwd()\n",
    "current_dir"
   ],
   "id": "14a35895387aca00",
   "outputs": [
    {
     "data": {
      "text/plain": [
       "'/Users/pecukevicius/DataspellProjects/heritage_houses_p5'"
      ]
     },
     "execution_count": 5,
     "metadata": {},
     "output_type": "execute_result"
    }
   ],
   "execution_count": 5
  },
  {
   "metadata": {},
   "cell_type": "markdown",
   "source": "",
   "id": "9c67382aa77af8a3"
  },
  {
   "metadata": {},
   "cell_type": "markdown",
   "source": "## Loading Dataset",
   "id": "891d66d7edd5b491"
  },
  {
   "metadata": {
    "ExecuteTime": {
     "end_time": "2024-05-02T20:02:28.147592Z",
     "start_time": "2024-05-02T20:02:27.936300Z"
    }
   },
   "cell_type": "code",
   "source": [
    "import pandas as pd\n",
    "\n",
    "df = pd.read_parquet(\"inputs/datasets/cleaning/basement.parquet.gzip\")\n",
    "df.head()"
   ],
   "id": "d983f77e553443e0",
   "outputs": [
    {
     "data": {
      "text/plain": [
       "   Unnamed: 0  1stFlrSF  2ndFlrSF  BedroomAbvGr BsmtExposure  BsmtFinSF1  \\\n",
       "0           0       856       854             3           No         706   \n",
       "1           1      1262         0             3           Gd         978   \n",
       "2           2       920       866             3           Mn         486   \n",
       "3           3       961         0             2           No         216   \n",
       "4           4      1145         0             4           Av         655   \n",
       "\n",
       "  BsmtFinType1  BsmtUnfSF  EnclosedPorch  GarageArea  ... LotFrontage  \\\n",
       "0          GLQ        150            0.0         548  ...        65.0   \n",
       "1          ALQ        284            NaN         460  ...        80.0   \n",
       "2          GLQ        434            0.0         608  ...        68.0   \n",
       "3          ALQ        540            NaN         642  ...        60.0   \n",
       "4          GLQ        490            0.0         836  ...        84.0   \n",
       "\n",
       "   MasVnrArea  OpenPorchSF OverallCond  OverallQual  TotalBsmtSF  WoodDeckSF  \\\n",
       "0       196.0           61           5            7          856         0.0   \n",
       "1         0.0            0           8            6         1262         NaN   \n",
       "2       162.0           42           5            7          920         NaN   \n",
       "3         0.0           35           5            7          756         NaN   \n",
       "4       350.0           84           5            8         1145         NaN   \n",
       "\n",
       "   YearBuilt  YearRemodAdd  SalePrice  \n",
       "0       2003          2003     208500  \n",
       "1       1976          1976     181500  \n",
       "2       2001          2002     223500  \n",
       "3       1915          1970     140000  \n",
       "4       2000          2000     250000  \n",
       "\n",
       "[5 rows x 25 columns]"
      ],
      "text/html": [
       "<div>\n",
       "<style scoped>\n",
       "    .dataframe tbody tr th:only-of-type {\n",
       "        vertical-align: middle;\n",
       "    }\n",
       "\n",
       "    .dataframe tbody tr th {\n",
       "        vertical-align: top;\n",
       "    }\n",
       "\n",
       "    .dataframe thead th {\n",
       "        text-align: right;\n",
       "    }\n",
       "</style>\n",
       "<table border=\"1\" class=\"dataframe\">\n",
       "  <thead>\n",
       "    <tr style=\"text-align: right;\">\n",
       "      <th></th>\n",
       "      <th>Unnamed: 0</th>\n",
       "      <th>1stFlrSF</th>\n",
       "      <th>2ndFlrSF</th>\n",
       "      <th>BedroomAbvGr</th>\n",
       "      <th>BsmtExposure</th>\n",
       "      <th>BsmtFinSF1</th>\n",
       "      <th>BsmtFinType1</th>\n",
       "      <th>BsmtUnfSF</th>\n",
       "      <th>EnclosedPorch</th>\n",
       "      <th>GarageArea</th>\n",
       "      <th>...</th>\n",
       "      <th>LotFrontage</th>\n",
       "      <th>MasVnrArea</th>\n",
       "      <th>OpenPorchSF</th>\n",
       "      <th>OverallCond</th>\n",
       "      <th>OverallQual</th>\n",
       "      <th>TotalBsmtSF</th>\n",
       "      <th>WoodDeckSF</th>\n",
       "      <th>YearBuilt</th>\n",
       "      <th>YearRemodAdd</th>\n",
       "      <th>SalePrice</th>\n",
       "    </tr>\n",
       "  </thead>\n",
       "  <tbody>\n",
       "    <tr>\n",
       "      <th>0</th>\n",
       "      <td>0</td>\n",
       "      <td>856</td>\n",
       "      <td>854</td>\n",
       "      <td>3</td>\n",
       "      <td>No</td>\n",
       "      <td>706</td>\n",
       "      <td>GLQ</td>\n",
       "      <td>150</td>\n",
       "      <td>0.0</td>\n",
       "      <td>548</td>\n",
       "      <td>...</td>\n",
       "      <td>65.0</td>\n",
       "      <td>196.0</td>\n",
       "      <td>61</td>\n",
       "      <td>5</td>\n",
       "      <td>7</td>\n",
       "      <td>856</td>\n",
       "      <td>0.0</td>\n",
       "      <td>2003</td>\n",
       "      <td>2003</td>\n",
       "      <td>208500</td>\n",
       "    </tr>\n",
       "    <tr>\n",
       "      <th>1</th>\n",
       "      <td>1</td>\n",
       "      <td>1262</td>\n",
       "      <td>0</td>\n",
       "      <td>3</td>\n",
       "      <td>Gd</td>\n",
       "      <td>978</td>\n",
       "      <td>ALQ</td>\n",
       "      <td>284</td>\n",
       "      <td>NaN</td>\n",
       "      <td>460</td>\n",
       "      <td>...</td>\n",
       "      <td>80.0</td>\n",
       "      <td>0.0</td>\n",
       "      <td>0</td>\n",
       "      <td>8</td>\n",
       "      <td>6</td>\n",
       "      <td>1262</td>\n",
       "      <td>NaN</td>\n",
       "      <td>1976</td>\n",
       "      <td>1976</td>\n",
       "      <td>181500</td>\n",
       "    </tr>\n",
       "    <tr>\n",
       "      <th>2</th>\n",
       "      <td>2</td>\n",
       "      <td>920</td>\n",
       "      <td>866</td>\n",
       "      <td>3</td>\n",
       "      <td>Mn</td>\n",
       "      <td>486</td>\n",
       "      <td>GLQ</td>\n",
       "      <td>434</td>\n",
       "      <td>0.0</td>\n",
       "      <td>608</td>\n",
       "      <td>...</td>\n",
       "      <td>68.0</td>\n",
       "      <td>162.0</td>\n",
       "      <td>42</td>\n",
       "      <td>5</td>\n",
       "      <td>7</td>\n",
       "      <td>920</td>\n",
       "      <td>NaN</td>\n",
       "      <td>2001</td>\n",
       "      <td>2002</td>\n",
       "      <td>223500</td>\n",
       "    </tr>\n",
       "    <tr>\n",
       "      <th>3</th>\n",
       "      <td>3</td>\n",
       "      <td>961</td>\n",
       "      <td>0</td>\n",
       "      <td>2</td>\n",
       "      <td>No</td>\n",
       "      <td>216</td>\n",
       "      <td>ALQ</td>\n",
       "      <td>540</td>\n",
       "      <td>NaN</td>\n",
       "      <td>642</td>\n",
       "      <td>...</td>\n",
       "      <td>60.0</td>\n",
       "      <td>0.0</td>\n",
       "      <td>35</td>\n",
       "      <td>5</td>\n",
       "      <td>7</td>\n",
       "      <td>756</td>\n",
       "      <td>NaN</td>\n",
       "      <td>1915</td>\n",
       "      <td>1970</td>\n",
       "      <td>140000</td>\n",
       "    </tr>\n",
       "    <tr>\n",
       "      <th>4</th>\n",
       "      <td>4</td>\n",
       "      <td>1145</td>\n",
       "      <td>0</td>\n",
       "      <td>4</td>\n",
       "      <td>Av</td>\n",
       "      <td>655</td>\n",
       "      <td>GLQ</td>\n",
       "      <td>490</td>\n",
       "      <td>0.0</td>\n",
       "      <td>836</td>\n",
       "      <td>...</td>\n",
       "      <td>84.0</td>\n",
       "      <td>350.0</td>\n",
       "      <td>84</td>\n",
       "      <td>5</td>\n",
       "      <td>8</td>\n",
       "      <td>1145</td>\n",
       "      <td>NaN</td>\n",
       "      <td>2000</td>\n",
       "      <td>2000</td>\n",
       "      <td>250000</td>\n",
       "    </tr>\n",
       "  </tbody>\n",
       "</table>\n",
       "<p>5 rows × 25 columns</p>\n",
       "</div>"
      ]
     },
     "execution_count": 6,
     "metadata": {},
     "output_type": "execute_result"
    }
   ],
   "execution_count": 6
  },
  {
   "metadata": {},
   "cell_type": "markdown",
   "source": [
    "## Exploring Data\n",
    "\n",
    "We will get all features that are missing data as a list, first we get given features datatypes"
   ],
   "id": "957218d717e97c5c"
  },
  {
   "metadata": {},
   "cell_type": "markdown",
   "source": "",
   "id": "e01d14e33e32e424"
  },
  {
   "metadata": {
    "ExecuteTime": {
     "end_time": "2024-05-02T20:02:28.178260Z",
     "start_time": "2024-05-02T20:02:28.153415Z"
    }
   },
   "cell_type": "code",
   "source": [
    "columns_of_interest = ['GarageArea', 'GarageFinish', 'GarageYrBlt']\n",
    "column_types = df[columns_of_interest].dtypes\n",
    "\n",
    "# Display the data types of these columns\n",
    "df[columns_of_interest].dtypes"
   ],
   "id": "8a09515f36857844",
   "outputs": [
    {
     "data": {
      "text/plain": [
       "GarageArea        int64\n",
       "GarageFinish     object\n",
       "GarageYrBlt     float64\n",
       "dtype: object"
      ]
     },
     "execution_count": 7,
     "metadata": {},
     "output_type": "execute_result"
    }
   ],
   "execution_count": 7
  },
  {
   "metadata": {},
   "cell_type": "markdown",
   "source": [
    "We will fix missing values:\n",
    "1. GarageArea and GarageYrBlt missing values will be replaced with 0\n",
    "2. GarageFinish missing values will be replaced with None\n",
    "\n",
    "Also, we will convert GarageYrBlt from float to int"
   ],
   "id": "20de91f13489a83d"
  },
  {
   "metadata": {
    "ExecuteTime": {
     "end_time": "2024-05-02T20:02:28.213046Z",
     "start_time": "2024-05-02T20:02:28.186478Z"
    }
   },
   "cell_type": "code",
   "source": [
    "# Fill missing values for 'GarageArea' and 'GarageYrBlt' with 0\n",
    "df[['GarageArea', 'GarageYrBlt']] = df[['GarageArea', 'GarageYrBlt']].fillna(0)\n",
    "\n",
    "# Fill missing values for 'GarageFinish' with the string 'None'\n",
    "df['GarageFinish'] = df['GarageFinish'].fillna('None')\n",
    "\n",
    "# Convert 'GarageYrBlt' to integer\n",
    "df['GarageYrBlt'] = df['GarageYrBlt'].astype(int)\n",
    "\n",
    "df[columns_of_interest].head()"
   ],
   "id": "e5ef4a8fda973ca7",
   "outputs": [
    {
     "data": {
      "text/plain": [
       "   GarageArea GarageFinish  GarageYrBlt\n",
       "0         548          RFn         2003\n",
       "1         460          RFn         1976\n",
       "2         608          RFn         2001\n",
       "3         642          Unf         1998\n",
       "4         836          RFn         2000"
      ],
      "text/html": [
       "<div>\n",
       "<style scoped>\n",
       "    .dataframe tbody tr th:only-of-type {\n",
       "        vertical-align: middle;\n",
       "    }\n",
       "\n",
       "    .dataframe tbody tr th {\n",
       "        vertical-align: top;\n",
       "    }\n",
       "\n",
       "    .dataframe thead th {\n",
       "        text-align: right;\n",
       "    }\n",
       "</style>\n",
       "<table border=\"1\" class=\"dataframe\">\n",
       "  <thead>\n",
       "    <tr style=\"text-align: right;\">\n",
       "      <th></th>\n",
       "      <th>GarageArea</th>\n",
       "      <th>GarageFinish</th>\n",
       "      <th>GarageYrBlt</th>\n",
       "    </tr>\n",
       "  </thead>\n",
       "  <tbody>\n",
       "    <tr>\n",
       "      <th>0</th>\n",
       "      <td>548</td>\n",
       "      <td>RFn</td>\n",
       "      <td>2003</td>\n",
       "    </tr>\n",
       "    <tr>\n",
       "      <th>1</th>\n",
       "      <td>460</td>\n",
       "      <td>RFn</td>\n",
       "      <td>1976</td>\n",
       "    </tr>\n",
       "    <tr>\n",
       "      <th>2</th>\n",
       "      <td>608</td>\n",
       "      <td>RFn</td>\n",
       "      <td>2001</td>\n",
       "    </tr>\n",
       "    <tr>\n",
       "      <th>3</th>\n",
       "      <td>642</td>\n",
       "      <td>Unf</td>\n",
       "      <td>1998</td>\n",
       "    </tr>\n",
       "    <tr>\n",
       "      <th>4</th>\n",
       "      <td>836</td>\n",
       "      <td>RFn</td>\n",
       "      <td>2000</td>\n",
       "    </tr>\n",
       "  </tbody>\n",
       "</table>\n",
       "</div>"
      ]
     },
     "execution_count": 8,
     "metadata": {},
     "output_type": "execute_result"
    }
   ],
   "execution_count": 8
  },
  {
   "metadata": {},
   "cell_type": "markdown",
   "source": [
    "Now we will check, if there is no garage, all values should be 0 or None accordingly\n",
    "\n",
    "We will reuse function from previous cleaning notebook - 03_basement.ipynb\n",
    "Also we need to change features values to be inspected"
   ],
   "id": "e34c9c471b8dffef"
  },
  {
   "metadata": {
    "ExecuteTime": {
     "end_time": "2024-05-02T20:02:28.243290Z",
     "start_time": "2024-05-02T20:02:28.231409Z"
    }
   },
   "cell_type": "code",
   "source": [
    "def check_consistency(df, primary_feature):\n",
    "    \"\"\"\n",
    "    Checks consistency of a primary feature against a set of expected values for related features.\n",
    "    \n",
    "    Parameters:\n",
    "        df (pd.DataFrame): The DataFrame containing the data.\n",
    "        primary_feature (str): The primary feature to be checked.\n",
    "    \n",
    "    Returns:\n",
    "        None: Outputs inconsistency results directly.\n",
    "    \"\"\"\n",
    "    # Directly define features and their values indicating 'no presence' in a dictionary\n",
    "    features_and_values = {\n",
    "        \"GarageArea\": 0,\n",
    "        \"GarageFinish\": 'None',\n",
    "        \"GarageYrBlt\": 0\n",
    "    }\n",
    "\n",
    "    # Ensure primary feature is valid\n",
    "    if primary_feature not in features_and_values:\n",
    "        print(f\"Feature {primary_feature} not defined in feature settings.\")\n",
    "        return\n",
    "\n",
    "    # Determine the primary value to check against\n",
    "    primary_value = features_and_values[primary_feature]\n",
    "\n",
    "    # Check each feature against the primary feature's condition\n",
    "    df['Consistency'] = df.apply(\n",
    "        lambda row: True if row[primary_feature] != primary_value else all(\n",
    "            row[feature] == value for feature, value in features_and_values.items() if feature != primary_feature\n",
    "        ), axis=1\n",
    "    )\n",
    "\n",
    "    # Filter and display inconsistent records\n",
    "    inconsistent_records = df[df['Consistency'] == False]\n",
    "    return inconsistent_records"
   ],
   "id": "1625fd1c24a0a3e1",
   "outputs": [],
   "execution_count": 9
  },
  {
   "metadata": {},
   "cell_type": "markdown",
   "source": [
    "We loop through each feature and print the results\n",
    "\n",
    "Again we will reuse code from previous notebook"
   ],
   "id": "3019b7e36c77342a"
  },
  {
   "metadata": {
    "ExecuteTime": {
     "end_time": "2024-05-02T20:02:28.348204Z",
     "start_time": "2024-05-02T20:02:28.251643Z"
    }
   },
   "cell_type": "code",
   "source": [
    "def loop_check_consistency(df, basement_features):\n",
    "    for feature in basement_features:\n",
    "        errors = check_consistency(df, feature)\n",
    "        error_count = errors.shape[0]  # Get the number of rows in the errors DataFrame\n",
    "        print(f\"Feature {feature} has {error_count} inconsistent rows.\")\n",
    "\n",
    "\n",
    "# Run the loop check consistency function\n",
    "loop_check_consistency(df, columns_of_interest)"
   ],
   "id": "5f2e092988a7c2d7",
   "outputs": [
    {
     "name": "stdout",
     "output_type": "stream",
     "text": [
      "Feature GarageArea has 0 inconsistent rows.\n",
      "Feature GarageFinish has 154 inconsistent rows.\n",
      "Feature GarageYrBlt has 0 inconsistent rows.\n"
     ]
    }
   ],
   "execution_count": 10
  },
  {
   "metadata": {},
   "cell_type": "markdown",
   "source": [
    "We can see that all features are consistent except GarageFinish\n",
    "\n",
    "Let's check that feature separately"
   ],
   "id": "7f85f2b32acd9ecb"
  },
  {
   "metadata": {
    "ExecuteTime": {
     "end_time": "2024-05-02T20:02:28.411950Z",
     "start_time": "2024-05-02T20:02:28.351720Z"
    }
   },
   "cell_type": "code",
   "source": [
    "garage_finish_check = check_consistency(df, 'GarageFinish')\n",
    "garage_finish_check[columns_of_interest]"
   ],
   "id": "4d089c629b140989",
   "outputs": [
    {
     "data": {
      "text/plain": [
       "      GarageArea GarageFinish  GarageYrBlt\n",
       "7            484         None         1973\n",
       "12           352         None         1962\n",
       "23           572         None         1976\n",
       "27           772         None         2008\n",
       "35           691         None         2004\n",
       "...          ...          ...          ...\n",
       "1401         398         None         2004\n",
       "1415         660         None         2007\n",
       "1438         923         None         1957\n",
       "1442         812         None         2008\n",
       "1451         840         None         2008\n",
       "\n",
       "[154 rows x 3 columns]"
      ],
      "text/html": [
       "<div>\n",
       "<style scoped>\n",
       "    .dataframe tbody tr th:only-of-type {\n",
       "        vertical-align: middle;\n",
       "    }\n",
       "\n",
       "    .dataframe tbody tr th {\n",
       "        vertical-align: top;\n",
       "    }\n",
       "\n",
       "    .dataframe thead th {\n",
       "        text-align: right;\n",
       "    }\n",
       "</style>\n",
       "<table border=\"1\" class=\"dataframe\">\n",
       "  <thead>\n",
       "    <tr style=\"text-align: right;\">\n",
       "      <th></th>\n",
       "      <th>GarageArea</th>\n",
       "      <th>GarageFinish</th>\n",
       "      <th>GarageYrBlt</th>\n",
       "    </tr>\n",
       "  </thead>\n",
       "  <tbody>\n",
       "    <tr>\n",
       "      <th>7</th>\n",
       "      <td>484</td>\n",
       "      <td>None</td>\n",
       "      <td>1973</td>\n",
       "    </tr>\n",
       "    <tr>\n",
       "      <th>12</th>\n",
       "      <td>352</td>\n",
       "      <td>None</td>\n",
       "      <td>1962</td>\n",
       "    </tr>\n",
       "    <tr>\n",
       "      <th>23</th>\n",
       "      <td>572</td>\n",
       "      <td>None</td>\n",
       "      <td>1976</td>\n",
       "    </tr>\n",
       "    <tr>\n",
       "      <th>27</th>\n",
       "      <td>772</td>\n",
       "      <td>None</td>\n",
       "      <td>2008</td>\n",
       "    </tr>\n",
       "    <tr>\n",
       "      <th>35</th>\n",
       "      <td>691</td>\n",
       "      <td>None</td>\n",
       "      <td>2004</td>\n",
       "    </tr>\n",
       "    <tr>\n",
       "      <th>...</th>\n",
       "      <td>...</td>\n",
       "      <td>...</td>\n",
       "      <td>...</td>\n",
       "    </tr>\n",
       "    <tr>\n",
       "      <th>1401</th>\n",
       "      <td>398</td>\n",
       "      <td>None</td>\n",
       "      <td>2004</td>\n",
       "    </tr>\n",
       "    <tr>\n",
       "      <th>1415</th>\n",
       "      <td>660</td>\n",
       "      <td>None</td>\n",
       "      <td>2007</td>\n",
       "    </tr>\n",
       "    <tr>\n",
       "      <th>1438</th>\n",
       "      <td>923</td>\n",
       "      <td>None</td>\n",
       "      <td>1957</td>\n",
       "    </tr>\n",
       "    <tr>\n",
       "      <th>1442</th>\n",
       "      <td>812</td>\n",
       "      <td>None</td>\n",
       "      <td>2008</td>\n",
       "    </tr>\n",
       "    <tr>\n",
       "      <th>1451</th>\n",
       "      <td>840</td>\n",
       "      <td>None</td>\n",
       "      <td>2008</td>\n",
       "    </tr>\n",
       "  </tbody>\n",
       "</table>\n",
       "<p>154 rows × 3 columns</p>\n",
       "</div>"
      ]
     },
     "execution_count": 11,
     "metadata": {},
     "output_type": "execute_result"
    }
   ],
   "execution_count": 11
  },
  {
   "metadata": {},
   "cell_type": "markdown",
   "source": [
    "We can see that there is a lot of None, when we see that garage exist. Let's check is there any correlation between Garage Finish and other columns.\n",
    "To achieve that, we will make a copy of dataframe, encode all objects as integers, then we will check correlations\n",
    "Before that we need to encode it to numbers, to get correlations"
   ],
   "id": "4ab23c36436657fb"
  },
  {
   "metadata": {
    "ExecuteTime": {
     "end_time": "2024-05-02T20:02:28.685630Z",
     "start_time": "2024-05-02T20:02:28.417320Z"
    }
   },
   "cell_type": "code",
   "source": [
    "from sklearn.preprocessing import LabelEncoder\n",
    "import pandas as pd\n",
    "\n",
    "# Create a copy of the DataFrame\n",
    "df_encoded = df.copy()\n",
    "\n",
    "# Initialize a LabelEncoder\n",
    "encoder = LabelEncoder()\n",
    "\n",
    "# Apply LabelEncoder to each categorical column\n",
    "for column in df_encoded.select_dtypes(include=['object']).columns:\n",
    "    df_encoded[column] = encoder.fit_transform(df_encoded[column])\n",
    "\n",
    "# Check the transformed DataFrame\n",
    "print(df_encoded.head())\n"
   ],
   "id": "a8e69254d5191a5",
   "outputs": [
    {
     "name": "stdout",
     "output_type": "stream",
     "text": [
      "   Unnamed: 0  1stFlrSF  2ndFlrSF  BedroomAbvGr  BsmtExposure  BsmtFinSF1  \\\n",
      "0           0       856       854             3             3         706   \n",
      "1           1      1262         0             3             1         978   \n",
      "2           2       920       866             3             2         486   \n",
      "3           3       961         0             2             3         216   \n",
      "4           4      1145         0             4             0         655   \n",
      "\n",
      "   BsmtFinType1  BsmtUnfSF  EnclosedPorch  GarageArea  ...  MasVnrArea  \\\n",
      "0             2        150            0.0         548  ...       196.0   \n",
      "1             0        284            NaN         460  ...         0.0   \n",
      "2             2        434            0.0         608  ...       162.0   \n",
      "3             0        540            NaN         642  ...         0.0   \n",
      "4             2        490            0.0         836  ...       350.0   \n",
      "\n",
      "   OpenPorchSF  OverallCond  OverallQual  TotalBsmtSF  WoodDeckSF  YearBuilt  \\\n",
      "0           61            5            7          856         0.0       2003   \n",
      "1            0            8            6         1262         NaN       1976   \n",
      "2           42            5            7          920         NaN       2001   \n",
      "3           35            5            7          756         NaN       1915   \n",
      "4           84            5            8         1145         NaN       2000   \n",
      "\n",
      "   YearRemodAdd  SalePrice  Consistency  \n",
      "0          2003     208500         True  \n",
      "1          1976     181500         True  \n",
      "2          2002     223500         True  \n",
      "3          1970     140000         True  \n",
      "4          2000     250000         True  \n",
      "\n",
      "[5 rows x 26 columns]\n"
     ]
    }
   ],
   "execution_count": 12
  },
  {
   "metadata": {
    "ExecuteTime": {
     "end_time": "2024-05-02T20:02:28.710100Z",
     "start_time": "2024-05-02T20:02:28.690801Z"
    }
   },
   "cell_type": "code",
   "source": [
    "# Calculate Pearson correlation for 'GarageFinish' assuming it's still relevant\n",
    "# If 'GarageFinish' is no longer a column, replace it with an appropriate column name\n",
    "if 'GarageFinish' in df_encoded.columns:\n",
    "    corr_pearson = df_encoded.corr(method='pearson')['GarageFinish'].sort_values(ascending=False, key=abs)[1:].head(10)\n",
    "    print(corr_pearson)\n",
    "else:\n",
    "    print(\"'GarageFinish' is not in the DataFrame. Please replace it with a relevant column.\")\n"
   ],
   "id": "8e2568d1b534d345",
   "outputs": [
    {
     "name": "stdout",
     "output_type": "stream",
     "text": [
      "YearBuilt       -0.422518\n",
      "SalePrice       -0.403530\n",
      "OverallQual     -0.382931\n",
      "YearRemodAdd    -0.350866\n",
      "KitchenQual      0.320148\n",
      "GrLivArea       -0.277248\n",
      "TotalBsmtSF     -0.266671\n",
      "1stFlrSF        -0.263415\n",
      "Consistency      0.232131\n",
      "EnclosedPorch    0.205479\n",
      "Name: GarageFinish, dtype: float64\n"
     ]
    }
   ],
   "execution_count": 13
  },
  {
   "metadata": {
    "ExecuteTime": {
     "end_time": "2024-05-02T20:02:28.780210Z",
     "start_time": "2024-05-02T20:02:28.713963Z"
    }
   },
   "cell_type": "code",
   "source": [
    "# Calculate Pearson correlation for 'GarageFinish' assuming it's still relevant\n",
    "# If 'GarageFinish' is no longer a column, replace it with an appropriate column name\n",
    "if 'GarageFinish' in df_encoded.columns:\n",
    "    corr_spearman = df_encoded.corr(method='spearman')['GarageFinish'].sort_values(ascending=False, key=abs)[1:].head(\n",
    "        10)\n",
    "    print(corr_spearman)\n",
    "else:\n",
    "    print(\"'GarageFinish' is not in the DataFrame. Please replace it with a relevant column.\")\n"
   ],
   "id": "384d0f88357b981c",
   "outputs": [
    {
     "name": "stdout",
     "output_type": "stream",
     "text": [
      "YearBuilt      -0.464056\n",
      "SalePrice      -0.447545\n",
      "OverallQual    -0.401935\n",
      "YearRemodAdd   -0.370415\n",
      "GarageYrBlt    -0.358334\n",
      "KitchenQual     0.325532\n",
      "GrLivArea      -0.291687\n",
      "OpenPorchSF    -0.272318\n",
      "TotalBsmtSF    -0.260371\n",
      "Consistency     0.254695\n",
      "Name: GarageFinish, dtype: float64\n"
     ]
    }
   ],
   "execution_count": 14
  },
  {
   "metadata": {
    "ExecuteTime": {
     "end_time": "2024-05-02T20:02:29.484266Z",
     "start_time": "2024-05-02T20:02:28.784939Z"
    }
   },
   "cell_type": "code",
   "source": [
    "# Calculate Pearson correlation for 'GarageFinish' assuming it's still relevant\n",
    "# If 'GarageFinish' is no longer a column, replace it with an appropriate column name\n",
    "if 'GarageFinish' in df_encoded.columns:\n",
    "    corr_kendall = df_encoded.corr(method='kendall')['GarageFinish'].sort_values(ascending=False, key=abs)[1:].head(10)\n",
    "    print(corr_kendall)\n",
    "else:\n",
    "    print(\"'GarageFinish' is not in the DataFrame. Please replace it with a relevant column.\")\n"
   ],
   "id": "96786b67e09ed426",
   "outputs": [
    {
     "name": "stdout",
     "output_type": "stream",
     "text": [
      "YearBuilt      -0.353673\n",
      "SalePrice      -0.341773\n",
      "OverallQual    -0.335080\n",
      "KitchenQual     0.291661\n",
      "YearRemodAdd   -0.284825\n",
      "GarageYrBlt    -0.271543\n",
      "Consistency     0.233926\n",
      "GrLivArea      -0.221186\n",
      "OpenPorchSF    -0.218395\n",
      "MasVnrArea     -0.202810\n",
      "Name: GarageFinish, dtype: float64\n"
     ]
    }
   ],
   "execution_count": 15
  },
  {
   "metadata": {},
   "cell_type": "markdown",
   "source": [
    "We can not see any correlations between GarageFinish and other features. \n",
    "\n",
    "Now we will apply most common value in all dataset - GarageFinish"
   ],
   "id": "38f5fe967d8a707c"
  },
  {
   "metadata": {
    "ExecuteTime": {
     "end_time": "2024-05-02T20:02:29.499978Z",
     "start_time": "2024-05-02T20:02:29.490484Z"
    }
   },
   "cell_type": "code",
   "source": [
    "mode_value = df['GarageFinish'].mode()[0]  # mode() returns a Series; [0] accesses the first mode\n",
    "mode_value"
   ],
   "id": "72daab0bc58f7e87",
   "outputs": [
    {
     "data": {
      "text/plain": [
       "'Unf'"
      ]
     },
     "execution_count": 16,
     "metadata": {},
     "output_type": "execute_result"
    }
   ],
   "execution_count": 16
  },
  {
   "metadata": {
    "ExecuteTime": {
     "end_time": "2024-05-02T20:02:29.511994Z",
     "start_time": "2024-05-02T20:02:29.505079Z"
    }
   },
   "cell_type": "code",
   "source": "df.loc[garage_finish_check.index, 'GarageFinish'] = 'Unf'",
   "id": "4d6d5e2f6ce5c51f",
   "outputs": [],
   "execution_count": 17
  },
  {
   "metadata": {},
   "cell_type": "markdown",
   "source": "Now lets check if there is anymore values that do not match",
   "id": "dcb111630e8f9ef7"
  },
  {
   "metadata": {
    "ExecuteTime": {
     "end_time": "2024-05-02T20:02:29.554232Z",
     "start_time": "2024-05-02T20:02:29.516095Z"
    }
   },
   "cell_type": "code",
   "source": [
    "garage_finish_check = check_consistency(df, 'GarageFinish')\n",
    "garage_finish_check[columns_of_interest]"
   ],
   "id": "545c236097e8a292",
   "outputs": [
    {
     "data": {
      "text/plain": [
       "Empty DataFrame\n",
       "Columns: [GarageArea, GarageFinish, GarageYrBlt]\n",
       "Index: []"
      ],
      "text/html": [
       "<div>\n",
       "<style scoped>\n",
       "    .dataframe tbody tr th:only-of-type {\n",
       "        vertical-align: middle;\n",
       "    }\n",
       "\n",
       "    .dataframe tbody tr th {\n",
       "        vertical-align: top;\n",
       "    }\n",
       "\n",
       "    .dataframe thead th {\n",
       "        text-align: right;\n",
       "    }\n",
       "</style>\n",
       "<table border=\"1\" class=\"dataframe\">\n",
       "  <thead>\n",
       "    <tr style=\"text-align: right;\">\n",
       "      <th></th>\n",
       "      <th>GarageArea</th>\n",
       "      <th>GarageFinish</th>\n",
       "      <th>GarageYrBlt</th>\n",
       "    </tr>\n",
       "  </thead>\n",
       "  <tbody>\n",
       "  </tbody>\n",
       "</table>\n",
       "</div>"
      ]
     },
     "execution_count": 18,
     "metadata": {},
     "output_type": "execute_result"
    }
   ],
   "execution_count": 18
  },
  {
   "metadata": {},
   "cell_type": "markdown",
   "source": [
    "## GarageYrBlt fixing\n",
    "\n",
    "We want to check when garages were build. Usually garages can not be built later than a house was build or remodeling:\n",
    "1. We will filter buildings that have garage\n",
    "2. We will filter buildings where garage build date is earlier that house build date"
   ],
   "id": "a114e77fd6804f2c"
  },
  {
   "metadata": {
    "ExecuteTime": {
     "end_time": "2024-05-02T20:02:29.579904Z",
     "start_time": "2024-05-02T20:02:29.557446Z"
    }
   },
   "cell_type": "code",
   "source": [
    "garage_year_mistake = df[\n",
    "    (df['GarageYrBlt'] < df['YearBuilt']) & ((df['GarageFinish'] != 'None') | (df['GarageArea'] != 0))]\n",
    "garage_year_mistake[['GarageYrBlt', 'YearBuilt', 'GarageFinish', 'GarageArea']]"
   ],
   "id": "a4ad281c39b5989",
   "outputs": [
    {
     "data": {
      "text/plain": [
       "      GarageYrBlt  YearBuilt GarageFinish  GarageArea\n",
       "29           1920       1927          Unf         240\n",
       "93           1900       1910          Unf         506\n",
       "324          1961       1967          Fin         564\n",
       "600          2003       2005          Fin         736\n",
       "736          1949       1950          Unf         400\n",
       "1103         1954       1959          Fin         539\n",
       "1376         1925       1930          Unf         160\n",
       "1414         1922       1923          Unf         370\n",
       "1418         1962       1963          Unf         336"
      ],
      "text/html": [
       "<div>\n",
       "<style scoped>\n",
       "    .dataframe tbody tr th:only-of-type {\n",
       "        vertical-align: middle;\n",
       "    }\n",
       "\n",
       "    .dataframe tbody tr th {\n",
       "        vertical-align: top;\n",
       "    }\n",
       "\n",
       "    .dataframe thead th {\n",
       "        text-align: right;\n",
       "    }\n",
       "</style>\n",
       "<table border=\"1\" class=\"dataframe\">\n",
       "  <thead>\n",
       "    <tr style=\"text-align: right;\">\n",
       "      <th></th>\n",
       "      <th>GarageYrBlt</th>\n",
       "      <th>YearBuilt</th>\n",
       "      <th>GarageFinish</th>\n",
       "      <th>GarageArea</th>\n",
       "    </tr>\n",
       "  </thead>\n",
       "  <tbody>\n",
       "    <tr>\n",
       "      <th>29</th>\n",
       "      <td>1920</td>\n",
       "      <td>1927</td>\n",
       "      <td>Unf</td>\n",
       "      <td>240</td>\n",
       "    </tr>\n",
       "    <tr>\n",
       "      <th>93</th>\n",
       "      <td>1900</td>\n",
       "      <td>1910</td>\n",
       "      <td>Unf</td>\n",
       "      <td>506</td>\n",
       "    </tr>\n",
       "    <tr>\n",
       "      <th>324</th>\n",
       "      <td>1961</td>\n",
       "      <td>1967</td>\n",
       "      <td>Fin</td>\n",
       "      <td>564</td>\n",
       "    </tr>\n",
       "    <tr>\n",
       "      <th>600</th>\n",
       "      <td>2003</td>\n",
       "      <td>2005</td>\n",
       "      <td>Fin</td>\n",
       "      <td>736</td>\n",
       "    </tr>\n",
       "    <tr>\n",
       "      <th>736</th>\n",
       "      <td>1949</td>\n",
       "      <td>1950</td>\n",
       "      <td>Unf</td>\n",
       "      <td>400</td>\n",
       "    </tr>\n",
       "    <tr>\n",
       "      <th>1103</th>\n",
       "      <td>1954</td>\n",
       "      <td>1959</td>\n",
       "      <td>Fin</td>\n",
       "      <td>539</td>\n",
       "    </tr>\n",
       "    <tr>\n",
       "      <th>1376</th>\n",
       "      <td>1925</td>\n",
       "      <td>1930</td>\n",
       "      <td>Unf</td>\n",
       "      <td>160</td>\n",
       "    </tr>\n",
       "    <tr>\n",
       "      <th>1414</th>\n",
       "      <td>1922</td>\n",
       "      <td>1923</td>\n",
       "      <td>Unf</td>\n",
       "      <td>370</td>\n",
       "    </tr>\n",
       "    <tr>\n",
       "      <th>1418</th>\n",
       "      <td>1962</td>\n",
       "      <td>1963</td>\n",
       "      <td>Unf</td>\n",
       "      <td>336</td>\n",
       "    </tr>\n",
       "  </tbody>\n",
       "</table>\n",
       "</div>"
      ]
     },
     "execution_count": 19,
     "metadata": {},
     "output_type": "execute_result"
    }
   ],
   "execution_count": 19
  },
  {
   "metadata": {},
   "cell_type": "markdown",
   "source": [
    "We can see that there is 9 records, where garage was built (GarageYrblt) before House was built.\n",
    "It is possible that garage was built on remodeling. Let's check Garage Year built lines up with house building and renovating dates (YearBuilt and YearRemodAdd accordingly)"
   ],
   "id": "308c63b9cee818cc"
  },
  {
   "metadata": {
    "ExecuteTime": {
     "end_time": "2024-05-02T20:02:29.602331Z",
     "start_time": "2024-05-02T20:02:29.583850Z"
    }
   },
   "cell_type": "code",
   "source": "garage_year_mistake[['GarageYrBlt', 'YearBuilt', 'GarageFinish', 'GarageArea', 'YearRemodAdd']]",
   "id": "8058f2dfa6e90458",
   "outputs": [
    {
     "data": {
      "text/plain": [
       "      GarageYrBlt  YearBuilt GarageFinish  GarageArea  YearRemodAdd\n",
       "29           1920       1927          Unf         240          1950\n",
       "93           1900       1910          Unf         506          1998\n",
       "324          1961       1967          Fin         564          2007\n",
       "600          2003       2005          Fin         736          2005\n",
       "736          1949       1950          Unf         400          1950\n",
       "1103         1954       1959          Fin         539          1959\n",
       "1376         1925       1930          Unf         160          1950\n",
       "1414         1922       1923          Unf         370          2000\n",
       "1418         1962       1963          Unf         336          1963"
      ],
      "text/html": [
       "<div>\n",
       "<style scoped>\n",
       "    .dataframe tbody tr th:only-of-type {\n",
       "        vertical-align: middle;\n",
       "    }\n",
       "\n",
       "    .dataframe tbody tr th {\n",
       "        vertical-align: top;\n",
       "    }\n",
       "\n",
       "    .dataframe thead th {\n",
       "        text-align: right;\n",
       "    }\n",
       "</style>\n",
       "<table border=\"1\" class=\"dataframe\">\n",
       "  <thead>\n",
       "    <tr style=\"text-align: right;\">\n",
       "      <th></th>\n",
       "      <th>GarageYrBlt</th>\n",
       "      <th>YearBuilt</th>\n",
       "      <th>GarageFinish</th>\n",
       "      <th>GarageArea</th>\n",
       "      <th>YearRemodAdd</th>\n",
       "    </tr>\n",
       "  </thead>\n",
       "  <tbody>\n",
       "    <tr>\n",
       "      <th>29</th>\n",
       "      <td>1920</td>\n",
       "      <td>1927</td>\n",
       "      <td>Unf</td>\n",
       "      <td>240</td>\n",
       "      <td>1950</td>\n",
       "    </tr>\n",
       "    <tr>\n",
       "      <th>93</th>\n",
       "      <td>1900</td>\n",
       "      <td>1910</td>\n",
       "      <td>Unf</td>\n",
       "      <td>506</td>\n",
       "      <td>1998</td>\n",
       "    </tr>\n",
       "    <tr>\n",
       "      <th>324</th>\n",
       "      <td>1961</td>\n",
       "      <td>1967</td>\n",
       "      <td>Fin</td>\n",
       "      <td>564</td>\n",
       "      <td>2007</td>\n",
       "    </tr>\n",
       "    <tr>\n",
       "      <th>600</th>\n",
       "      <td>2003</td>\n",
       "      <td>2005</td>\n",
       "      <td>Fin</td>\n",
       "      <td>736</td>\n",
       "      <td>2005</td>\n",
       "    </tr>\n",
       "    <tr>\n",
       "      <th>736</th>\n",
       "      <td>1949</td>\n",
       "      <td>1950</td>\n",
       "      <td>Unf</td>\n",
       "      <td>400</td>\n",
       "      <td>1950</td>\n",
       "    </tr>\n",
       "    <tr>\n",
       "      <th>1103</th>\n",
       "      <td>1954</td>\n",
       "      <td>1959</td>\n",
       "      <td>Fin</td>\n",
       "      <td>539</td>\n",
       "      <td>1959</td>\n",
       "    </tr>\n",
       "    <tr>\n",
       "      <th>1376</th>\n",
       "      <td>1925</td>\n",
       "      <td>1930</td>\n",
       "      <td>Unf</td>\n",
       "      <td>160</td>\n",
       "      <td>1950</td>\n",
       "    </tr>\n",
       "    <tr>\n",
       "      <th>1414</th>\n",
       "      <td>1922</td>\n",
       "      <td>1923</td>\n",
       "      <td>Unf</td>\n",
       "      <td>370</td>\n",
       "      <td>2000</td>\n",
       "    </tr>\n",
       "    <tr>\n",
       "      <th>1418</th>\n",
       "      <td>1962</td>\n",
       "      <td>1963</td>\n",
       "      <td>Unf</td>\n",
       "      <td>336</td>\n",
       "      <td>1963</td>\n",
       "    </tr>\n",
       "  </tbody>\n",
       "</table>\n",
       "</div>"
      ]
     },
     "execution_count": 20,
     "metadata": {},
     "output_type": "execute_result"
    }
   ],
   "execution_count": 20
  },
  {
   "metadata": {},
   "cell_type": "markdown",
   "source": "Let's check, when most of the garages were built: on date of building or renovation",
   "id": "6b827ed0bb323329"
  },
  {
   "metadata": {
    "ExecuteTime": {
     "end_time": "2024-05-02T20:02:29.622585Z",
     "start_time": "2024-05-02T20:02:29.606701Z"
    }
   },
   "cell_type": "code",
   "source": [
    "garages_built_same_as_house_year = df[(df['GarageYrBlt'] == df['YearBuilt']) & (df['GarageArea'] > 0)]\n",
    "garages_built_same_as_renovation_year = df[(df['GarageYrBlt'] == df['YearRemodAdd']) & (df['GarageArea'] > 0)]\n",
    "\n",
    "# Printing output\n",
    "print(\"Garages built same as building: \", garages_built_same_as_house_year.shape[0])\n",
    "print(\"Garages added during renovation: \", garages_built_same_as_renovation_year.shape[0])"
   ],
   "id": "276d1dd14c578e70",
   "outputs": [
    {
     "name": "stdout",
     "output_type": "stream",
     "text": [
      "Garages built same as building:  1089\n",
      "Garages added during renovation:  725\n"
     ]
    }
   ],
   "execution_count": 21
  },
  {
   "metadata": {},
   "cell_type": "markdown",
   "source": [
    "We can see that most of them were built same time as building. but if we look more closely, we can see, that we have:\n",
    "1088 + 725 = 1813, what is more than all records in dataset. It is possible, that renovation happened same year as house was built.\n",
    "Let's check how many houses were renovated same yar as built"
   ],
   "id": "3e50e51b16f16304"
  },
  {
   "metadata": {
    "ExecuteTime": {
     "end_time": "2024-05-02T20:02:29.639114Z",
     "start_time": "2024-05-02T20:02:29.626948Z"
    }
   },
   "cell_type": "code",
   "source": "df[(df['GarageYrBlt'] == df['YearRemodAdd'])].shape[0]",
   "id": "b05322e072abebf8",
   "outputs": [
    {
     "data": {
      "text/plain": [
       "725"
      ]
     },
     "execution_count": 22,
     "metadata": {},
     "output_type": "execute_result"
    }
   ],
   "execution_count": 22
  },
  {
   "metadata": {},
   "cell_type": "markdown",
   "source": [
    "This is very interesting, as we have 725 houses, which were renovated same date as they were built.\n",
    "Let's check was there any renovations before houses were built"
   ],
   "id": "86b48041436a551c"
  },
  {
   "metadata": {
    "ExecuteTime": {
     "end_time": "2024-05-02T20:02:29.655846Z",
     "start_time": "2024-05-02T20:02:29.644041Z"
    }
   },
   "cell_type": "code",
   "source": "df[(df['GarageYrBlt'] > df['YearRemodAdd'])].shape[0]",
   "id": "c61cd7cdba637c50",
   "outputs": [
    {
     "data": {
      "text/plain": [
       "127"
      ]
     },
     "execution_count": 23,
     "metadata": {},
     "output_type": "execute_result"
    }
   ],
   "execution_count": 23
  },
  {
   "metadata": {},
   "cell_type": "markdown",
   "source": [
    "We can see that there is 127 houses, which were renovated before they were built.\n",
    "\n",
    "We need to check is there any NaN or zero values in House were build and renovated"
   ],
   "id": "e3781df249fe6782"
  },
  {
   "metadata": {
    "ExecuteTime": {
     "end_time": "2024-05-02T20:02:29.671189Z",
     "start_time": "2024-05-02T20:02:29.659913Z"
    }
   },
   "cell_type": "code",
   "source": [
    "print(df['YearBuilt'].isna().sum())  # Counts how many NaN values are in the 'YearBuilt' column\n",
    "print(df['YearBuilt'].isnull().sum())  # Equivalent to isna(), also counts NaN values\n",
    "\n",
    "print(df['YearRemodAdd'].isna().sum())  # Counts how many NaN values are in the 'YearRemodAdd' column\n",
    "print(df['YearRemodAdd'].isnull().sum())  # Equivalent to isna(), also counts NaN values\n"
   ],
   "id": "18042fb53383e3d0",
   "outputs": [
    {
     "name": "stdout",
     "output_type": "stream",
     "text": [
      "0\n",
      "0\n",
      "0\n",
      "0\n"
     ]
    }
   ],
   "execution_count": 24
  },
  {
   "metadata": {},
   "cell_type": "markdown",
   "source": [
    "We can see that there is no missing values or equal to 0, and we know that:\n",
    "* All buildings were built between 1872 and 2010\n",
    "* Same time we have information that renovation dates are also within same limits\n",
    "\n",
    "We have to do next steps:\n",
    "1. If Renovation date was between 1872 and 2010, but is smaller than build date, there was an error and data was entered in wrong cells, they need swapping\n",
    "2. Filter out all buildings that have garage, and build date is NOT the same as renovation, then:\n",
    "* we count how many garages were build same day as building\n",
    "* we count how many garages were build during renovation\n",
    "* Based on that, which ever is more - that is more common, and we will apply that date to garage build date for garages with wrong dates"
   ],
   "id": "b5564a0d3beaa868"
  },
  {
   "metadata": {
    "ExecuteTime": {
     "end_time": "2024-05-02T20:02:29.695449Z",
     "start_time": "2024-05-02T20:02:29.677617Z"
    }
   },
   "cell_type": "code",
   "source": [
    "df_tmp = df[(df['GarageYrBlt'] != df['YearRemodAdd'])]\n",
    "df_tmp.shape[0]"
   ],
   "id": "4e2e689346611096",
   "outputs": [
    {
     "data": {
      "text/plain": [
       "735"
      ]
     },
     "execution_count": 25,
     "metadata": {},
     "output_type": "execute_result"
    }
   ],
   "execution_count": 25
  },
  {
   "metadata": {
    "ExecuteTime": {
     "end_time": "2024-05-02T20:02:29.717829Z",
     "start_time": "2024-05-02T20:02:29.699972Z"
    }
   },
   "cell_type": "code",
   "source": [
    "garages_built_same_as_house_year = df[\n",
    "    (df['GarageYrBlt'] == df['YearBuilt']) & (df['GarageArea'] > 0) & (df['GarageYrBlt'] != df['YearRemodAdd'])]\n",
    "garages_built_same_as_renovation_year = df[\n",
    "    (df['GarageYrBlt'] == df['YearRemodAdd']) & (df['GarageArea'] > 0) & (df['GarageYrBlt'] != df['YearRemodAdd'])]\n",
    "\n",
    "# Printing output\n",
    "print(\"Garages built same as building: \", garages_built_same_as_house_year.shape[0])\n",
    "print(\"Garages added during renovation: \", garages_built_same_as_renovation_year.shape[0])"
   ],
   "id": "74b205d6bcfd0fe3",
   "outputs": [
    {
     "name": "stdout",
     "output_type": "stream",
     "text": [
      "Garages built same as building:  418\n",
      "Garages added during renovation:  0\n"
     ]
    }
   ],
   "execution_count": 26
  },
  {
   "metadata": {},
   "cell_type": "markdown",
   "source": [
    "We can see, that all Garages were build same time as building, none were added during Renovation.\n",
    "\n",
    "Based on that, if garage year is lower than house build date, we will change garage build date to house build date"
   ],
   "id": "e2f561933e048281"
  },
  {
   "metadata": {
    "ExecuteTime": {
     "end_time": "2024-05-02T20:02:29.782602Z",
     "start_time": "2024-05-02T20:02:29.770190Z"
    }
   },
   "cell_type": "code",
   "source": [
    "# Correcting garage build years that are earlier than the house build year\n",
    "df.loc[df['GarageYrBlt'] < df['YearBuilt'], 'GarageYrBlt'] = df['YearBuilt']"
   ],
   "id": "20db2b0f149b4a86",
   "outputs": [],
   "execution_count": 27
  },
  {
   "metadata": {},
   "cell_type": "markdown",
   "source": "Checking again is there any remaining Garage dates mistakes.",
   "id": "218ddbaf5dba1082"
  },
  {
   "metadata": {
    "ExecuteTime": {
     "end_time": "2024-05-02T20:02:29.810172Z",
     "start_time": "2024-05-02T20:02:29.786841Z"
    }
   },
   "cell_type": "code",
   "source": [
    "garage_year_mistake = df[\n",
    "    (df['GarageYrBlt'] < df['YearBuilt']) & ((df['GarageFinish'] != 'None') | (df['GarageArea'] != 0))]\n",
    "garage_year_mistake[['GarageYrBlt', 'YearBuilt', 'GarageFinish', 'GarageArea']]"
   ],
   "id": "9ff0389e09a27cc0",
   "outputs": [
    {
     "data": {
      "text/plain": [
       "Empty DataFrame\n",
       "Columns: [GarageYrBlt, YearBuilt, GarageFinish, GarageArea]\n",
       "Index: []"
      ],
      "text/html": [
       "<div>\n",
       "<style scoped>\n",
       "    .dataframe tbody tr th:only-of-type {\n",
       "        vertical-align: middle;\n",
       "    }\n",
       "\n",
       "    .dataframe tbody tr th {\n",
       "        vertical-align: top;\n",
       "    }\n",
       "\n",
       "    .dataframe thead th {\n",
       "        text-align: right;\n",
       "    }\n",
       "</style>\n",
       "<table border=\"1\" class=\"dataframe\">\n",
       "  <thead>\n",
       "    <tr style=\"text-align: right;\">\n",
       "      <th></th>\n",
       "      <th>GarageYrBlt</th>\n",
       "      <th>YearBuilt</th>\n",
       "      <th>GarageFinish</th>\n",
       "      <th>GarageArea</th>\n",
       "    </tr>\n",
       "  </thead>\n",
       "  <tbody>\n",
       "  </tbody>\n",
       "</table>\n",
       "</div>"
      ]
     },
     "execution_count": 28,
     "metadata": {},
     "output_type": "execute_result"
    }
   ],
   "execution_count": 28
  },
  {
   "metadata": {},
   "cell_type": "markdown",
   "source": "All Information with Garages is cleaned and fixed, same time we have fixed house Build and Renovation dates.",
   "id": "9fbbd073a2a5aa2"
  },
  {
   "metadata": {},
   "cell_type": "markdown",
   "source": [
    "## Removing added columns\n",
    "\n",
    "We will use same code as in previous cleaning notebook 04_basement.ipynb"
   ],
   "id": "f2c3c704e08356f1"
  },
  {
   "metadata": {
    "ExecuteTime": {
     "end_time": "2024-05-02T20:02:29.895006Z",
     "start_time": "2024-05-02T20:02:29.815636Z"
    }
   },
   "cell_type": "code",
   "source": [
    "# Removing Extra columns that originally do not belong to dataset, as we have created them\n",
    "\n",
    "df_original_features = pd.read_csv(\"outputs/datasets/collection/HousePricesRecords.csv\")\n",
    "import pandas as pd\n",
    "\n",
    "# Identify columns in df that are also in df_original\n",
    "common_columns = df.columns.intersection(df_original_features.columns)\n",
    "\n",
    "# Filter df to only include those common columns\n",
    "df = df[common_columns]\n",
    "\n",
    "df"
   ],
   "id": "3ee0ba476657ecc6",
   "outputs": [
    {
     "data": {
      "text/plain": [
       "      Unnamed: 0  1stFlrSF  2ndFlrSF  BedroomAbvGr BsmtExposure  BsmtFinSF1  \\\n",
       "0              0       856       854             3           No         706   \n",
       "1              1      1262         0             3           Gd         978   \n",
       "2              2       920       866             3           Mn         486   \n",
       "3              3       961         0             2           No         216   \n",
       "4              4      1145         0             4           Av         655   \n",
       "...          ...       ...       ...           ...          ...         ...   \n",
       "1455        1455       953       694             3           No           0   \n",
       "1456        1456      2073         0             2           No        1028   \n",
       "1457        1457      1188      1152             4           No         275   \n",
       "1458        1458      1078         0             2           Mn          49   \n",
       "1459        1459      1256         0             3           No         838   \n",
       "\n",
       "     BsmtFinType1  BsmtUnfSF  EnclosedPorch  GarageArea  ... LotFrontage  \\\n",
       "0             GLQ        150            0.0         548  ...        65.0   \n",
       "1             ALQ        284            NaN         460  ...        80.0   \n",
       "2             GLQ        434            0.0         608  ...        68.0   \n",
       "3             ALQ        540            NaN         642  ...        60.0   \n",
       "4             GLQ        490            0.0         836  ...        84.0   \n",
       "...           ...        ...            ...         ...  ...         ...   \n",
       "1455          Unf        953            NaN         460  ...        62.0   \n",
       "1456          ALQ        514            NaN         500  ...        85.0   \n",
       "1457          GLQ        877            NaN         252  ...        66.0   \n",
       "1458          Unf       1029          112.0         240  ...        68.0   \n",
       "1459          BLQ        418            0.0         276  ...        75.0   \n",
       "\n",
       "      MasVnrArea  OpenPorchSF OverallCond  OverallQual  TotalBsmtSF  \\\n",
       "0          196.0           61           5            7          856   \n",
       "1            0.0            0           8            6         1262   \n",
       "2          162.0           42           5            7          920   \n",
       "3            0.0           35           5            7          756   \n",
       "4          350.0           84           5            8         1145   \n",
       "...          ...          ...         ...          ...          ...   \n",
       "1455         0.0           40           5            6          953   \n",
       "1456       119.0            0           6            6         1542   \n",
       "1457         0.0           60           9            7         1152   \n",
       "1458         0.0            0           6            5         1078   \n",
       "1459         0.0           68           6            5         1256   \n",
       "\n",
       "      WoodDeckSF  YearBuilt  YearRemodAdd  SalePrice  \n",
       "0            0.0       2003          2003     208500  \n",
       "1            NaN       1976          1976     181500  \n",
       "2            NaN       2001          2002     223500  \n",
       "3            NaN       1915          1970     140000  \n",
       "4            NaN       2000          2000     250000  \n",
       "...          ...        ...           ...        ...  \n",
       "1455         0.0       1999          2000     175000  \n",
       "1456         NaN       1978          1988     210000  \n",
       "1457         NaN       1941          2006     266500  \n",
       "1458         NaN       1950          1996     142125  \n",
       "1459       736.0       1965          1965     147500  \n",
       "\n",
       "[1460 rows x 25 columns]"
      ],
      "text/html": [
       "<div>\n",
       "<style scoped>\n",
       "    .dataframe tbody tr th:only-of-type {\n",
       "        vertical-align: middle;\n",
       "    }\n",
       "\n",
       "    .dataframe tbody tr th {\n",
       "        vertical-align: top;\n",
       "    }\n",
       "\n",
       "    .dataframe thead th {\n",
       "        text-align: right;\n",
       "    }\n",
       "</style>\n",
       "<table border=\"1\" class=\"dataframe\">\n",
       "  <thead>\n",
       "    <tr style=\"text-align: right;\">\n",
       "      <th></th>\n",
       "      <th>Unnamed: 0</th>\n",
       "      <th>1stFlrSF</th>\n",
       "      <th>2ndFlrSF</th>\n",
       "      <th>BedroomAbvGr</th>\n",
       "      <th>BsmtExposure</th>\n",
       "      <th>BsmtFinSF1</th>\n",
       "      <th>BsmtFinType1</th>\n",
       "      <th>BsmtUnfSF</th>\n",
       "      <th>EnclosedPorch</th>\n",
       "      <th>GarageArea</th>\n",
       "      <th>...</th>\n",
       "      <th>LotFrontage</th>\n",
       "      <th>MasVnrArea</th>\n",
       "      <th>OpenPorchSF</th>\n",
       "      <th>OverallCond</th>\n",
       "      <th>OverallQual</th>\n",
       "      <th>TotalBsmtSF</th>\n",
       "      <th>WoodDeckSF</th>\n",
       "      <th>YearBuilt</th>\n",
       "      <th>YearRemodAdd</th>\n",
       "      <th>SalePrice</th>\n",
       "    </tr>\n",
       "  </thead>\n",
       "  <tbody>\n",
       "    <tr>\n",
       "      <th>0</th>\n",
       "      <td>0</td>\n",
       "      <td>856</td>\n",
       "      <td>854</td>\n",
       "      <td>3</td>\n",
       "      <td>No</td>\n",
       "      <td>706</td>\n",
       "      <td>GLQ</td>\n",
       "      <td>150</td>\n",
       "      <td>0.0</td>\n",
       "      <td>548</td>\n",
       "      <td>...</td>\n",
       "      <td>65.0</td>\n",
       "      <td>196.0</td>\n",
       "      <td>61</td>\n",
       "      <td>5</td>\n",
       "      <td>7</td>\n",
       "      <td>856</td>\n",
       "      <td>0.0</td>\n",
       "      <td>2003</td>\n",
       "      <td>2003</td>\n",
       "      <td>208500</td>\n",
       "    </tr>\n",
       "    <tr>\n",
       "      <th>1</th>\n",
       "      <td>1</td>\n",
       "      <td>1262</td>\n",
       "      <td>0</td>\n",
       "      <td>3</td>\n",
       "      <td>Gd</td>\n",
       "      <td>978</td>\n",
       "      <td>ALQ</td>\n",
       "      <td>284</td>\n",
       "      <td>NaN</td>\n",
       "      <td>460</td>\n",
       "      <td>...</td>\n",
       "      <td>80.0</td>\n",
       "      <td>0.0</td>\n",
       "      <td>0</td>\n",
       "      <td>8</td>\n",
       "      <td>6</td>\n",
       "      <td>1262</td>\n",
       "      <td>NaN</td>\n",
       "      <td>1976</td>\n",
       "      <td>1976</td>\n",
       "      <td>181500</td>\n",
       "    </tr>\n",
       "    <tr>\n",
       "      <th>2</th>\n",
       "      <td>2</td>\n",
       "      <td>920</td>\n",
       "      <td>866</td>\n",
       "      <td>3</td>\n",
       "      <td>Mn</td>\n",
       "      <td>486</td>\n",
       "      <td>GLQ</td>\n",
       "      <td>434</td>\n",
       "      <td>0.0</td>\n",
       "      <td>608</td>\n",
       "      <td>...</td>\n",
       "      <td>68.0</td>\n",
       "      <td>162.0</td>\n",
       "      <td>42</td>\n",
       "      <td>5</td>\n",
       "      <td>7</td>\n",
       "      <td>920</td>\n",
       "      <td>NaN</td>\n",
       "      <td>2001</td>\n",
       "      <td>2002</td>\n",
       "      <td>223500</td>\n",
       "    </tr>\n",
       "    <tr>\n",
       "      <th>3</th>\n",
       "      <td>3</td>\n",
       "      <td>961</td>\n",
       "      <td>0</td>\n",
       "      <td>2</td>\n",
       "      <td>No</td>\n",
       "      <td>216</td>\n",
       "      <td>ALQ</td>\n",
       "      <td>540</td>\n",
       "      <td>NaN</td>\n",
       "      <td>642</td>\n",
       "      <td>...</td>\n",
       "      <td>60.0</td>\n",
       "      <td>0.0</td>\n",
       "      <td>35</td>\n",
       "      <td>5</td>\n",
       "      <td>7</td>\n",
       "      <td>756</td>\n",
       "      <td>NaN</td>\n",
       "      <td>1915</td>\n",
       "      <td>1970</td>\n",
       "      <td>140000</td>\n",
       "    </tr>\n",
       "    <tr>\n",
       "      <th>4</th>\n",
       "      <td>4</td>\n",
       "      <td>1145</td>\n",
       "      <td>0</td>\n",
       "      <td>4</td>\n",
       "      <td>Av</td>\n",
       "      <td>655</td>\n",
       "      <td>GLQ</td>\n",
       "      <td>490</td>\n",
       "      <td>0.0</td>\n",
       "      <td>836</td>\n",
       "      <td>...</td>\n",
       "      <td>84.0</td>\n",
       "      <td>350.0</td>\n",
       "      <td>84</td>\n",
       "      <td>5</td>\n",
       "      <td>8</td>\n",
       "      <td>1145</td>\n",
       "      <td>NaN</td>\n",
       "      <td>2000</td>\n",
       "      <td>2000</td>\n",
       "      <td>250000</td>\n",
       "    </tr>\n",
       "    <tr>\n",
       "      <th>...</th>\n",
       "      <td>...</td>\n",
       "      <td>...</td>\n",
       "      <td>...</td>\n",
       "      <td>...</td>\n",
       "      <td>...</td>\n",
       "      <td>...</td>\n",
       "      <td>...</td>\n",
       "      <td>...</td>\n",
       "      <td>...</td>\n",
       "      <td>...</td>\n",
       "      <td>...</td>\n",
       "      <td>...</td>\n",
       "      <td>...</td>\n",
       "      <td>...</td>\n",
       "      <td>...</td>\n",
       "      <td>...</td>\n",
       "      <td>...</td>\n",
       "      <td>...</td>\n",
       "      <td>...</td>\n",
       "      <td>...</td>\n",
       "      <td>...</td>\n",
       "    </tr>\n",
       "    <tr>\n",
       "      <th>1455</th>\n",
       "      <td>1455</td>\n",
       "      <td>953</td>\n",
       "      <td>694</td>\n",
       "      <td>3</td>\n",
       "      <td>No</td>\n",
       "      <td>0</td>\n",
       "      <td>Unf</td>\n",
       "      <td>953</td>\n",
       "      <td>NaN</td>\n",
       "      <td>460</td>\n",
       "      <td>...</td>\n",
       "      <td>62.0</td>\n",
       "      <td>0.0</td>\n",
       "      <td>40</td>\n",
       "      <td>5</td>\n",
       "      <td>6</td>\n",
       "      <td>953</td>\n",
       "      <td>0.0</td>\n",
       "      <td>1999</td>\n",
       "      <td>2000</td>\n",
       "      <td>175000</td>\n",
       "    </tr>\n",
       "    <tr>\n",
       "      <th>1456</th>\n",
       "      <td>1456</td>\n",
       "      <td>2073</td>\n",
       "      <td>0</td>\n",
       "      <td>2</td>\n",
       "      <td>No</td>\n",
       "      <td>1028</td>\n",
       "      <td>ALQ</td>\n",
       "      <td>514</td>\n",
       "      <td>NaN</td>\n",
       "      <td>500</td>\n",
       "      <td>...</td>\n",
       "      <td>85.0</td>\n",
       "      <td>119.0</td>\n",
       "      <td>0</td>\n",
       "      <td>6</td>\n",
       "      <td>6</td>\n",
       "      <td>1542</td>\n",
       "      <td>NaN</td>\n",
       "      <td>1978</td>\n",
       "      <td>1988</td>\n",
       "      <td>210000</td>\n",
       "    </tr>\n",
       "    <tr>\n",
       "      <th>1457</th>\n",
       "      <td>1457</td>\n",
       "      <td>1188</td>\n",
       "      <td>1152</td>\n",
       "      <td>4</td>\n",
       "      <td>No</td>\n",
       "      <td>275</td>\n",
       "      <td>GLQ</td>\n",
       "      <td>877</td>\n",
       "      <td>NaN</td>\n",
       "      <td>252</td>\n",
       "      <td>...</td>\n",
       "      <td>66.0</td>\n",
       "      <td>0.0</td>\n",
       "      <td>60</td>\n",
       "      <td>9</td>\n",
       "      <td>7</td>\n",
       "      <td>1152</td>\n",
       "      <td>NaN</td>\n",
       "      <td>1941</td>\n",
       "      <td>2006</td>\n",
       "      <td>266500</td>\n",
       "    </tr>\n",
       "    <tr>\n",
       "      <th>1458</th>\n",
       "      <td>1458</td>\n",
       "      <td>1078</td>\n",
       "      <td>0</td>\n",
       "      <td>2</td>\n",
       "      <td>Mn</td>\n",
       "      <td>49</td>\n",
       "      <td>Unf</td>\n",
       "      <td>1029</td>\n",
       "      <td>112.0</td>\n",
       "      <td>240</td>\n",
       "      <td>...</td>\n",
       "      <td>68.0</td>\n",
       "      <td>0.0</td>\n",
       "      <td>0</td>\n",
       "      <td>6</td>\n",
       "      <td>5</td>\n",
       "      <td>1078</td>\n",
       "      <td>NaN</td>\n",
       "      <td>1950</td>\n",
       "      <td>1996</td>\n",
       "      <td>142125</td>\n",
       "    </tr>\n",
       "    <tr>\n",
       "      <th>1459</th>\n",
       "      <td>1459</td>\n",
       "      <td>1256</td>\n",
       "      <td>0</td>\n",
       "      <td>3</td>\n",
       "      <td>No</td>\n",
       "      <td>838</td>\n",
       "      <td>BLQ</td>\n",
       "      <td>418</td>\n",
       "      <td>0.0</td>\n",
       "      <td>276</td>\n",
       "      <td>...</td>\n",
       "      <td>75.0</td>\n",
       "      <td>0.0</td>\n",
       "      <td>68</td>\n",
       "      <td>6</td>\n",
       "      <td>5</td>\n",
       "      <td>1256</td>\n",
       "      <td>736.0</td>\n",
       "      <td>1965</td>\n",
       "      <td>1965</td>\n",
       "      <td>147500</td>\n",
       "    </tr>\n",
       "  </tbody>\n",
       "</table>\n",
       "<p>1460 rows × 25 columns</p>\n",
       "</div>"
      ]
     },
     "execution_count": 29,
     "metadata": {},
     "output_type": "execute_result"
    }
   ],
   "execution_count": 29
  },
  {
   "metadata": {},
   "cell_type": "markdown",
   "source": [
    "## Saving current dataset\n",
    "\n",
    "We will save current dataset as inputs/datasets/cleaning/garages_and_build_years.parquet.gzip"
   ],
   "id": "f3db0eaeffd56a85"
  },
  {
   "metadata": {
    "ExecuteTime": {
     "end_time": "2024-05-02T20:02:29.937614Z",
     "start_time": "2024-05-02T20:02:29.898022Z"
    }
   },
   "cell_type": "code",
   "source": "df.to_parquet('inputs/datasets/cleaning/garages_and_build_years.parquet.gzip', compression='gzip')",
   "id": "e1ab7f20a52fff18",
   "outputs": [],
   "execution_count": 30
  },
  {
   "metadata": {},
   "cell_type": "markdown",
   "source": "",
   "id": "7e6ab1b58e0e0698"
  },
  {
   "metadata": {},
   "cell_type": "markdown",
   "source": [
    "### Adding Cleaning code to pipeline\n",
    "```python\n",
    "# Direct assignments to fill missing values and convert data types for garage-related columns\n",
    "df['GarageArea'] = df['GarageArea'].fillna(0)\n",
    "df['GarageYrBlt'] = df['GarageYrBlt'].fillna(0).astype(int)\n",
    "df['GarageFinish'] = df['GarageFinish'].fillna('None')\n",
    "\n",
    "# Define a dictionary for checking consistency based on 'GarageFinish'\n",
    "features_and_values = {\"GarageArea\": 0, \"GarageFinish\": 'None', \"GarageYrBlt\": 0}\n",
    "\n",
    "def check_consistency(df, primary_feature):\n",
    "    primary_value = features_and_values[primary_feature]\n",
    "    return df.apply(\n",
    "        lambda row: all(row[feature] == value for feature, value in features_and_values.items()) \n",
    "        if row[primary_feature] == primary_value else True, axis=1\n",
    "    )\n",
    "\n",
    "# Apply consistency check and correct 'GarageFinish'\n",
    "consistency_mask = check_consistency(df, 'GarageFinish')\n",
    "df.loc[~consistency_mask, 'GarageFinish'] = 'Unf'\n",
    "\n",
    "# Correct garage years that are earlier than the house build year\n",
    "df.loc[df['GarageYrBlt'] < df['YearBuilt'], 'GarageYrBlt'] = df['YearBuilt']\n",
    "```"
   ],
   "id": "b3e60c710678d7d5"
  },
  {
   "metadata": {},
   "cell_type": "markdown",
   "source": "## Next step is cleaning Kitchen Quality - cleaning and fixing data in garages",
   "id": "b83b0db2cbf3e3bf"
  }
 ],
 "metadata": {
  "kernelspec": {
   "display_name": "Python 3",
   "language": "python",
   "name": "python3"
  },
  "language_info": {
   "codemirror_mode": {
    "name": "ipython",
    "version": 2
   },
   "file_extension": ".py",
   "mimetype": "text/x-python",
   "name": "python",
   "nbconvert_exporter": "python",
   "pygments_lexer": "ipython2",
   "version": "2.7.6"
  }
 },
 "nbformat": 4,
 "nbformat_minor": 5
}
