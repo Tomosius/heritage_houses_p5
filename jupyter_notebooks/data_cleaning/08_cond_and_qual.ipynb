{
 "cells": [
  {
   "metadata": {},
   "cell_type": "markdown",
   "source": [
    "# Notebook 08 - Overall Quality and Overall Condition data cleaning and fixing\n",
    "\n",
    "## Objectives\n",
    "* Clean data\n",
    "* Evaluate and process missing data\n",
    "* Fix potential issues with data in feature (OverallCond, OverallQual)\n",
    "\n",
    "## Inputs\n",
    "* inputs/datasets/cleaning/masonry_and_porch.parquet.gzip\n",
    "\n",
    "## Outputs\n",
    "* Clean and fix (missing and potentially wrong) data in given column\n",
    "* After cleaning is completed, we will save current dataset in inputs/datasets/cleaning/clean_finished.parquet.gzip"
   ],
   "id": "a7875c24c43c0d1e"
  },
  {
   "metadata": {},
   "cell_type": "markdown",
   "source": [
    "## Change working directory\n",
    "In This section we will get location of current directory and move one step up, to parent folder, so App will be accessing project folder.\n",
    "\n",
    "We need to change the working directory from its current folder to its parent folder\n",
    "* We access the current directory with os.getcwd()"
   ],
   "id": "cb656678d593177e"
  },
  {
   "metadata": {},
   "cell_type": "code",
   "source": [
    "import os\n",
    "\n",
    "current_dir = os.getcwd()\n",
    "current_dir"
   ],
   "id": "aebc2a0372b47511",
   "execution_count": null,
   "outputs": []
  },
  {
   "metadata": {},
   "cell_type": "markdown",
   "source": [
    "We want to make the parent of the current directory the new current directory\n",
    "* os.path.dirname() gets the parent directory\n",
    "* os.chdir() defines the new current directory"
   ],
   "id": "61376d0e5ecf487c"
  },
  {
   "metadata": {},
   "cell_type": "code",
   "source": [
    "os.chdir(os.path.dirname(current_dir))\n",
    "print(\"you have set a new current directory\")"
   ],
   "id": "ad55fa3d2f5db8d0",
   "execution_count": null,
   "outputs": []
  },
  {
   "metadata": {},
   "cell_type": "markdown",
   "source": "Confirm new current directory",
   "id": "2ef02ca3ee0c6a3c"
  },
  {
   "metadata": {},
   "cell_type": "code",
   "source": [
    "current_dir = os.getcwd()\n",
    "current_dir"
   ],
   "id": "a4c9d92dbb8cc3a9",
   "execution_count": null,
   "outputs": []
  },
  {
   "metadata": {},
   "cell_type": "markdown",
   "source": "We need to check current working directory",
   "id": "22e5c3d0ef0ef283"
  },
  {
   "metadata": {},
   "cell_type": "code",
   "source": "current_dir",
   "id": "ba1df529a54df2f3",
   "execution_count": null,
   "outputs": []
  },
  {
   "metadata": {},
   "cell_type": "markdown",
   "source": [
    "We can see that current is **jupyter_notebooks**, as current notebook is in subfolder. We will go one step up to parent directory, what will be our project main directory.\n",
    "Print out to confirm working directory"
   ],
   "id": "36cb42d41d3602a4"
  },
  {
   "metadata": {},
   "cell_type": "code",
   "source": [
    "os.chdir(os.path.dirname(current_dir))\n",
    "current_dir = os.getcwd()\n",
    "current_dir"
   ],
   "id": "14a35895387aca00",
   "execution_count": null,
   "outputs": []
  },
  {
   "metadata": {},
   "cell_type": "markdown",
   "source": "## Loading Dataset",
   "id": "891d66d7edd5b491"
  },
  {
   "metadata": {},
   "cell_type": "code",
   "source": [
    "import pandas as pd\n",
    "\n",
    "df = pd.read_parquet(\"inputs/datasets/cleaning/masonry_and_porch.parquet.gzip\")\n",
    "df.head()"
   ],
   "id": "d983f77e553443e0",
   "execution_count": null,
   "outputs": []
  },
  {
   "metadata": {},
   "cell_type": "markdown",
   "source": [
    "## Exploring Data\n",
    "\n",
    "We will get all features that are missing data as a list"
   ],
   "id": "957218d717e97c5c"
  },
  {
   "metadata": {},
   "cell_type": "code",
   "source": [
    "print(\"Overall Condition of house records missing: \", df['OverallCond'].isnull().sum())\n",
    "print(\"Overall Quality of house records missing: \", df['OverallQual'].isnull().sum())"
   ],
   "id": "ebdff38bddc0df6d",
   "execution_count": null,
   "outputs": []
  },
  {
   "metadata": {},
   "cell_type": "markdown",
   "source": [
    "We can see that there is no missing data\n",
    "\n",
    "Now we will check what is data types of these features"
   ],
   "id": "9df022ac7f4bf678"
  },
  {
   "metadata": {},
   "cell_type": "code",
   "source": "df[['OverallCond', 'OverallQual']].dtypes",
   "id": "ddf7979536af8c9",
   "execution_count": null,
   "outputs": []
  },
  {
   "metadata": {},
   "cell_type": "markdown",
   "source": [
    "Both Features have no missing data and are integers.\n",
    "\n",
    "We will not create one more notebook to check last feature - Wood deck Area, we will include it here\n",
    "Lets check how many features are missing data"
   ],
   "id": "7ced867bf05ef905"
  },
  {
   "metadata": {},
   "cell_type": "code",
   "source": "df['WoodDeckSF'].isnull().sum()",
   "id": "2630bcf54db19232",
   "execution_count": null,
   "outputs": []
  },
  {
   "metadata": {},
   "cell_type": "markdown",
   "source": [
    "We have in total 1305 records with missing data, what means that quantity of buildings that has deck, is very low.\n",
    "We will replace missing values with 0"
   ],
   "id": "db25bd22ec2d4c93"
  },
  {
   "metadata": {},
   "cell_type": "code",
   "source": "df.loc[:, 'WoodDeckSF'] = df['WoodDeckSF'].fillna(value=0)",
   "id": "5c9221bd119774cd",
   "execution_count": null,
   "outputs": []
  },
  {
   "metadata": {},
   "cell_type": "markdown",
   "source": "Let's check what is data type for this feature",
   "id": "9f47bed55fb3673b"
  },
  {
   "metadata": {},
   "cell_type": "code",
   "source": "df['WoodDeckSF'].dtypes",
   "id": "d85fa5dd36e13e16",
   "execution_count": null,
   "outputs": []
  },
  {
   "metadata": {},
   "cell_type": "markdown",
   "source": "This is float, we will change it to integer",
   "id": "f2cb7c669a75c6d7"
  },
  {
   "metadata": {},
   "cell_type": "code",
   "source": "df['WoodDeckSF'] = df['WoodDeckSF'].astype(int)",
   "id": "3c15967225883f3d",
   "execution_count": null,
   "outputs": []
  },
  {
   "metadata": {},
   "cell_type": "markdown",
   "source": [
    "We have Completed cleaning all dataset.\n",
    "\n",
    "Now LOUD and PROUD we will check last feature in here - Sales Price. Is there any missing data and what type it is"
   ],
   "id": "953c370f240673a1"
  },
  {
   "metadata": {},
   "cell_type": "code",
   "source": [
    "print(\"Sales Price is missing data in so many records: \", df['SalePrice'].isnull().sum())\n",
    "print(\"Sales Price is this type of data: \", df['SalePrice'].dtypes)"
   ],
   "id": "eab1773b323c0633",
   "execution_count": null,
   "outputs": []
  },
  {
   "metadata": {},
   "cell_type": "markdown",
   "source": "Well DONE! All features are valid and correct.",
   "id": "2c32533f43e6a1fb"
  },
  {
   "metadata": {},
   "cell_type": "markdown",
   "source": [
    "# Exporting dataframe for analysis, modeling, etc\n",
    "\n",
    "We will export it in inputs/datasets/cleaning/clean_finished.parquet.gzip"
   ],
   "id": "51072928db6edf53"
  },
  {
   "metadata": {},
   "cell_type": "code",
   "source": "df.to_parquet(\"inputs/datasets/cleaning/clean_finished.parquet.gzip\", compression='gzip')",
   "id": "170c9c2de23639f2",
   "execution_count": null,
   "outputs": []
  },
  {
   "metadata": {},
   "cell_type": "markdown",
   "source": [
    "### Adding Cleaning code to pipeline\n",
    "\n",
    "```python\n",
    "# Fill missing values and immediately convert to integers for specified columns\n",
    "df.loc[:, 'WoodDeckSF'] = df['WoodDeckSF'].fillna(value=0)\n",
    "df['WoodDeckSF'] = df['WoodDeckSF'].astype(int)\n",
    "```"
   ],
   "id": "551dbda164e5e29"
  }
 ],
 "metadata": {
  "kernelspec": {
   "display_name": "Python 3",
   "language": "python",
   "name": "python3"
  },
  "language_info": {
   "codemirror_mode": {
    "name": "ipython",
    "version": 2
   },
   "file_extension": ".py",
   "mimetype": "text/x-python",
   "name": "python",
   "nbconvert_exporter": "python",
   "pygments_lexer": "ipython2",
   "version": "2.7.6"
  }
 },
 "nbformat": 4,
 "nbformat_minor": 5
}
