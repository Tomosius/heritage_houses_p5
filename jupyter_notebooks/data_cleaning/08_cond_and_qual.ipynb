{
 "cells": [
  {
   "metadata": {},
   "cell_type": "markdown",
   "source": [
    "# Notebook 08 - Overall Quality and Overall Condition data cleaning and fixing\n",
    "\n",
    "## Objectives\n",
    "* Clean data\n",
    "* Evaluate and process missing data\n",
    "* Fix potential issues with data in feature (OverallCond, OverallQual)\n",
    "\n",
    "## Inputs\n",
    "* inputs/datasets/cleaning/masonry_and_porch.csv\n",
    "\n",
    "## Outputs\n",
    "* Clean and fix (missing and potentially wrong) data in given column\n",
    "* After cleaning is completed, we will save current dataset in inputs/datasets/cleaning/clean_finished.csv"
   ],
   "id": "a7875c24c43c0d1e"
  },
  {
   "metadata": {},
   "cell_type": "markdown",
   "source": [
    "## Change working directory\n",
    "In This section we will get location of current directory and move one step up, to parent folder, so App will be accessing project folder.\n",
    "\n",
    "We need to change the working directory from its current folder to its parent folder\n",
    "* We access the current directory with os.getcwd()"
   ],
   "id": "cb656678d593177e"
  },
  {
   "metadata": {
    "ExecuteTime": {
     "end_time": "2024-04-29T22:24:31.523872Z",
     "start_time": "2024-04-29T22:24:31.499416Z"
    }
   },
   "cell_type": "code",
   "source": [
    "import os\n",
    "current_dir = os.getcwd()\n",
    "current_dir"
   ],
   "id": "aebc2a0372b47511",
   "outputs": [
    {
     "data": {
      "text/plain": [
       "'/Users/pecukevicius/DataspellProjects/heritage_houses_p5/jupyter_notebooks/data_cleaning'"
      ]
     },
     "execution_count": 1,
     "metadata": {},
     "output_type": "execute_result"
    }
   ],
   "execution_count": 1
  },
  {
   "metadata": {},
   "cell_type": "markdown",
   "source": [
    "We want to make the parent of the current directory the new current directory\n",
    "* os.path.dirname() gets the parent directory\n",
    "* os.chdir() defines the new current directory"
   ],
   "id": "61376d0e5ecf487c"
  },
  {
   "metadata": {
    "ExecuteTime": {
     "end_time": "2024-04-29T22:24:31.552873Z",
     "start_time": "2024-04-29T22:24:31.535005Z"
    }
   },
   "cell_type": "code",
   "source": [
    "os.chdir(os.path.dirname(current_dir))\n",
    "print(\"you have set a new current directory\")"
   ],
   "id": "ad55fa3d2f5db8d0",
   "outputs": [
    {
     "name": "stdout",
     "output_type": "stream",
     "text": [
      "you have set a new current directory\n"
     ]
    }
   ],
   "execution_count": 2
  },
  {
   "metadata": {},
   "cell_type": "markdown",
   "source": "Confirm new current directory",
   "id": "2ef02ca3ee0c6a3c"
  },
  {
   "metadata": {
    "ExecuteTime": {
     "end_time": "2024-04-29T22:24:31.572902Z",
     "start_time": "2024-04-29T22:24:31.560986Z"
    }
   },
   "cell_type": "code",
   "source": [
    "current_dir = os.getcwd()\n",
    "current_dir"
   ],
   "id": "a4c9d92dbb8cc3a9",
   "outputs": [
    {
     "data": {
      "text/plain": [
       "'/Users/pecukevicius/DataspellProjects/heritage_houses_p5/jupyter_notebooks'"
      ]
     },
     "execution_count": 3,
     "metadata": {},
     "output_type": "execute_result"
    }
   ],
   "execution_count": 3
  },
  {
   "metadata": {},
   "cell_type": "markdown",
   "source": "We need to check current working directory",
   "id": "22e5c3d0ef0ef283"
  },
  {
   "metadata": {
    "ExecuteTime": {
     "end_time": "2024-04-29T22:24:31.588203Z",
     "start_time": "2024-04-29T22:24:31.579795Z"
    }
   },
   "cell_type": "code",
   "source": "current_dir",
   "id": "ba1df529a54df2f3",
   "outputs": [
    {
     "data": {
      "text/plain": [
       "'/Users/pecukevicius/DataspellProjects/heritage_houses_p5/jupyter_notebooks'"
      ]
     },
     "execution_count": 4,
     "metadata": {},
     "output_type": "execute_result"
    }
   ],
   "execution_count": 4
  },
  {
   "metadata": {},
   "cell_type": "markdown",
   "source": [
    "We can see that current is **jupyter_notebooks**, as current notebook is in subfolder. We will go one step up to parent directory, what will be our project main directory.\n",
    "Print out to confirm working directory"
   ],
   "id": "36cb42d41d3602a4"
  },
  {
   "metadata": {
    "ExecuteTime": {
     "end_time": "2024-04-29T22:24:31.604759Z",
     "start_time": "2024-04-29T22:24:31.596672Z"
    }
   },
   "cell_type": "code",
   "source": [
    "os.chdir(os.path.dirname(current_dir))\n",
    "current_dir = os.getcwd()\n",
    "current_dir"
   ],
   "id": "14a35895387aca00",
   "outputs": [
    {
     "data": {
      "text/plain": [
       "'/Users/pecukevicius/DataspellProjects/heritage_houses_p5'"
      ]
     },
     "execution_count": 5,
     "metadata": {},
     "output_type": "execute_result"
    }
   ],
   "execution_count": 5
  },
  {
   "metadata": {},
   "cell_type": "markdown",
   "source": "",
   "id": "9c67382aa77af8a3"
  },
  {
   "metadata": {},
   "cell_type": "markdown",
   "source": "## Loading Dataset",
   "id": "891d66d7edd5b491"
  },
  {
   "metadata": {
    "ExecuteTime": {
     "end_time": "2024-04-29T22:24:32.643722Z",
     "start_time": "2024-04-29T22:24:31.608936Z"
    }
   },
   "cell_type": "code",
   "source": [
    "import pandas as pd\n",
    "\n",
    "df = pd.read_csv(\"inputs/datasets/cleaning/masonry_and_porch.csv\")\n",
    "df.head()"
   ],
   "id": "d983f77e553443e0",
   "outputs": [
    {
     "data": {
      "text/plain": [
       "   Unnamed: 0  1stFlrSF  2ndFlrSF  BedroomAbvGr  BsmtExposure  BsmtFinSF1  \\\n",
       "0           0       856       854             3             3         706   \n",
       "1           1      1262         0             3             1         978   \n",
       "2           2       920       866             3             2         486   \n",
       "3           3       961         0             2             3         216   \n",
       "4           4      1145         0             4             0         655   \n",
       "\n",
       "   BsmtFinType1  BsmtUnfSF  EnclosedPorch  GarageArea  ...  LotFrontage  \\\n",
       "0             2        150             65         548  ...           65   \n",
       "1             0        284             80         460  ...           80   \n",
       "2             2        434             68         608  ...           68   \n",
       "3             0        540             60         642  ...           60   \n",
       "4             2        490             84         836  ...           84   \n",
       "\n",
       "   MasVnrArea  OpenPorchSF  OverallCond  OverallQual  TotalBsmtSF  WoodDeckSF  \\\n",
       "0         196           61            5            7          856         0.0   \n",
       "1           0            0            8            6         1262         NaN   \n",
       "2         162           42            5            7          920         NaN   \n",
       "3           0           35            5            7          756         NaN   \n",
       "4         350           84            5            8         1145         NaN   \n",
       "\n",
       "   YearBuilt  YearRemodAdd  SalePrice  \n",
       "0       2003          2003     208500  \n",
       "1       1976          1976     181500  \n",
       "2       2001          2002     223500  \n",
       "3       1915          1970     140000  \n",
       "4       2000          2000     250000  \n",
       "\n",
       "[5 rows x 25 columns]"
      ],
      "text/html": [
       "<div>\n",
       "<style scoped>\n",
       "    .dataframe tbody tr th:only-of-type {\n",
       "        vertical-align: middle;\n",
       "    }\n",
       "\n",
       "    .dataframe tbody tr th {\n",
       "        vertical-align: top;\n",
       "    }\n",
       "\n",
       "    .dataframe thead th {\n",
       "        text-align: right;\n",
       "    }\n",
       "</style>\n",
       "<table border=\"1\" class=\"dataframe\">\n",
       "  <thead>\n",
       "    <tr style=\"text-align: right;\">\n",
       "      <th></th>\n",
       "      <th>Unnamed: 0</th>\n",
       "      <th>1stFlrSF</th>\n",
       "      <th>2ndFlrSF</th>\n",
       "      <th>BedroomAbvGr</th>\n",
       "      <th>BsmtExposure</th>\n",
       "      <th>BsmtFinSF1</th>\n",
       "      <th>BsmtFinType1</th>\n",
       "      <th>BsmtUnfSF</th>\n",
       "      <th>EnclosedPorch</th>\n",
       "      <th>GarageArea</th>\n",
       "      <th>...</th>\n",
       "      <th>LotFrontage</th>\n",
       "      <th>MasVnrArea</th>\n",
       "      <th>OpenPorchSF</th>\n",
       "      <th>OverallCond</th>\n",
       "      <th>OverallQual</th>\n",
       "      <th>TotalBsmtSF</th>\n",
       "      <th>WoodDeckSF</th>\n",
       "      <th>YearBuilt</th>\n",
       "      <th>YearRemodAdd</th>\n",
       "      <th>SalePrice</th>\n",
       "    </tr>\n",
       "  </thead>\n",
       "  <tbody>\n",
       "    <tr>\n",
       "      <th>0</th>\n",
       "      <td>0</td>\n",
       "      <td>856</td>\n",
       "      <td>854</td>\n",
       "      <td>3</td>\n",
       "      <td>3</td>\n",
       "      <td>706</td>\n",
       "      <td>2</td>\n",
       "      <td>150</td>\n",
       "      <td>65</td>\n",
       "      <td>548</td>\n",
       "      <td>...</td>\n",
       "      <td>65</td>\n",
       "      <td>196</td>\n",
       "      <td>61</td>\n",
       "      <td>5</td>\n",
       "      <td>7</td>\n",
       "      <td>856</td>\n",
       "      <td>0.0</td>\n",
       "      <td>2003</td>\n",
       "      <td>2003</td>\n",
       "      <td>208500</td>\n",
       "    </tr>\n",
       "    <tr>\n",
       "      <th>1</th>\n",
       "      <td>1</td>\n",
       "      <td>1262</td>\n",
       "      <td>0</td>\n",
       "      <td>3</td>\n",
       "      <td>1</td>\n",
       "      <td>978</td>\n",
       "      <td>0</td>\n",
       "      <td>284</td>\n",
       "      <td>80</td>\n",
       "      <td>460</td>\n",
       "      <td>...</td>\n",
       "      <td>80</td>\n",
       "      <td>0</td>\n",
       "      <td>0</td>\n",
       "      <td>8</td>\n",
       "      <td>6</td>\n",
       "      <td>1262</td>\n",
       "      <td>NaN</td>\n",
       "      <td>1976</td>\n",
       "      <td>1976</td>\n",
       "      <td>181500</td>\n",
       "    </tr>\n",
       "    <tr>\n",
       "      <th>2</th>\n",
       "      <td>2</td>\n",
       "      <td>920</td>\n",
       "      <td>866</td>\n",
       "      <td>3</td>\n",
       "      <td>2</td>\n",
       "      <td>486</td>\n",
       "      <td>2</td>\n",
       "      <td>434</td>\n",
       "      <td>68</td>\n",
       "      <td>608</td>\n",
       "      <td>...</td>\n",
       "      <td>68</td>\n",
       "      <td>162</td>\n",
       "      <td>42</td>\n",
       "      <td>5</td>\n",
       "      <td>7</td>\n",
       "      <td>920</td>\n",
       "      <td>NaN</td>\n",
       "      <td>2001</td>\n",
       "      <td>2002</td>\n",
       "      <td>223500</td>\n",
       "    </tr>\n",
       "    <tr>\n",
       "      <th>3</th>\n",
       "      <td>3</td>\n",
       "      <td>961</td>\n",
       "      <td>0</td>\n",
       "      <td>2</td>\n",
       "      <td>3</td>\n",
       "      <td>216</td>\n",
       "      <td>0</td>\n",
       "      <td>540</td>\n",
       "      <td>60</td>\n",
       "      <td>642</td>\n",
       "      <td>...</td>\n",
       "      <td>60</td>\n",
       "      <td>0</td>\n",
       "      <td>35</td>\n",
       "      <td>5</td>\n",
       "      <td>7</td>\n",
       "      <td>756</td>\n",
       "      <td>NaN</td>\n",
       "      <td>1915</td>\n",
       "      <td>1970</td>\n",
       "      <td>140000</td>\n",
       "    </tr>\n",
       "    <tr>\n",
       "      <th>4</th>\n",
       "      <td>4</td>\n",
       "      <td>1145</td>\n",
       "      <td>0</td>\n",
       "      <td>4</td>\n",
       "      <td>0</td>\n",
       "      <td>655</td>\n",
       "      <td>2</td>\n",
       "      <td>490</td>\n",
       "      <td>84</td>\n",
       "      <td>836</td>\n",
       "      <td>...</td>\n",
       "      <td>84</td>\n",
       "      <td>350</td>\n",
       "      <td>84</td>\n",
       "      <td>5</td>\n",
       "      <td>8</td>\n",
       "      <td>1145</td>\n",
       "      <td>NaN</td>\n",
       "      <td>2000</td>\n",
       "      <td>2000</td>\n",
       "      <td>250000</td>\n",
       "    </tr>\n",
       "  </tbody>\n",
       "</table>\n",
       "<p>5 rows × 25 columns</p>\n",
       "</div>"
      ]
     },
     "execution_count": 6,
     "metadata": {},
     "output_type": "execute_result"
    }
   ],
   "execution_count": 6
  },
  {
   "metadata": {},
   "cell_type": "markdown",
   "source": [
    "## Exploring Data\n",
    "\n",
    "We will get all features that are missing data as a list"
   ],
   "id": "957218d717e97c5c"
  },
  {
   "metadata": {
    "ExecuteTime": {
     "end_time": "2024-04-29T22:24:32.657500Z",
     "start_time": "2024-04-29T22:24:32.646910Z"
    }
   },
   "cell_type": "code",
   "source": [
    "print(\"Overall Condition of house records missing: \", df['OverallCond'].isnull().sum())\n",
    "print(\"Overall Quality of house records missing: \", df['OverallQual'].isnull().sum())"
   ],
   "id": "ebdff38bddc0df6d",
   "outputs": [
    {
     "name": "stdout",
     "output_type": "stream",
     "text": [
      "Overall Condition of house records missing:  0\n",
      "Overall Quality of house records missing:  0\n"
     ]
    }
   ],
   "execution_count": 7
  },
  {
   "metadata": {},
   "cell_type": "markdown",
   "source": [
    "We can see that there is no missing data\n",
    "\n",
    "Now we will check what is data types of these features"
   ],
   "id": "9df022ac7f4bf678"
  },
  {
   "metadata": {
    "ExecuteTime": {
     "end_time": "2024-04-29T22:24:32.684848Z",
     "start_time": "2024-04-29T22:24:32.665985Z"
    }
   },
   "cell_type": "code",
   "source": "df[['OverallCond', 'OverallQual']].dtypes",
   "id": "ddf7979536af8c9",
   "outputs": [
    {
     "data": {
      "text/plain": [
       "OverallCond    int64\n",
       "OverallQual    int64\n",
       "dtype: object"
      ]
     },
     "execution_count": 8,
     "metadata": {},
     "output_type": "execute_result"
    }
   ],
   "execution_count": 8
  },
  {
   "metadata": {},
   "cell_type": "markdown",
   "source": [
    "Both Features have no missing data and are integers.\n",
    "\n",
    "We will not create one more notebook to check last feature - Wood deck Area, we will include it here\n",
    "Lets check how many features are missing data"
   ],
   "id": "7ced867bf05ef905"
  },
  {
   "metadata": {
    "ExecuteTime": {
     "end_time": "2024-04-29T22:24:32.697951Z",
     "start_time": "2024-04-29T22:24:32.689193Z"
    }
   },
   "cell_type": "code",
   "source": "df['WoodDeckSF'].isnull().sum()",
   "id": "2630bcf54db19232",
   "outputs": [
    {
     "data": {
      "text/plain": [
       "1305"
      ]
     },
     "execution_count": 9,
     "metadata": {},
     "output_type": "execute_result"
    }
   ],
   "execution_count": 9
  },
  {
   "metadata": {},
   "cell_type": "markdown",
   "source": [
    "We have in total 1305 records with missing data, what means that quantity of buildings that has deck, is very low.\n",
    "We will replace missing values with 0"
   ],
   "id": "db25bd22ec2d4c93"
  },
  {
   "metadata": {
    "ExecuteTime": {
     "end_time": "2024-04-29T22:24:32.709856Z",
     "start_time": "2024-04-29T22:24:32.702783Z"
    }
   },
   "cell_type": "code",
   "source": "df.loc[:, 'WoodDeckSF'] = df['WoodDeckSF'].fillna(value=0)",
   "id": "5c9221bd119774cd",
   "outputs": [],
   "execution_count": 10
  },
  {
   "metadata": {},
   "cell_type": "markdown",
   "source": "Let's check what is data type for this feature",
   "id": "9f47bed55fb3673b"
  },
  {
   "metadata": {
    "ExecuteTime": {
     "end_time": "2024-04-29T22:24:32.722886Z",
     "start_time": "2024-04-29T22:24:32.713535Z"
    }
   },
   "cell_type": "code",
   "source": "df['WoodDeckSF'].dtypes",
   "id": "d85fa5dd36e13e16",
   "outputs": [
    {
     "data": {
      "text/plain": [
       "dtype('float64')"
      ]
     },
     "execution_count": 11,
     "metadata": {},
     "output_type": "execute_result"
    }
   ],
   "execution_count": 11
  },
  {
   "metadata": {},
   "cell_type": "markdown",
   "source": "This is float, we will change it to integer",
   "id": "f2cb7c669a75c6d7"
  },
  {
   "metadata": {
    "ExecuteTime": {
     "end_time": "2024-04-29T22:24:32.746817Z",
     "start_time": "2024-04-29T22:24:32.737257Z"
    }
   },
   "cell_type": "code",
   "source": "df['WoodDeckSF'] = df['WoodDeckSF'].astype(int)",
   "id": "3c15967225883f3d",
   "outputs": [],
   "execution_count": 12
  },
  {
   "metadata": {},
   "cell_type": "markdown",
   "source": [
    "We have Completed cleaning all dataset.\n",
    "\n",
    "Now LOUD and PROUD we will check last feature in here - Sales Price. Is there any missing data and what type it is"
   ],
   "id": "953c370f240673a1"
  },
  {
   "metadata": {
    "ExecuteTime": {
     "end_time": "2024-04-29T22:24:32.761588Z",
     "start_time": "2024-04-29T22:24:32.753644Z"
    }
   },
   "cell_type": "code",
   "source": [
    "print(\"Sales Price is missing data in so many records: \", df['SalePrice'].isnull().sum())\n",
    "print(\"Sales Price is this type of data: \", df['SalePrice'].dtypes)"
   ],
   "id": "eab1773b323c0633",
   "outputs": [
    {
     "name": "stdout",
     "output_type": "stream",
     "text": [
      "Sales Price is missing data in so many records:  0\n",
      "Sales Price is this type of data:  int64\n"
     ]
    }
   ],
   "execution_count": 13
  },
  {
   "metadata": {},
   "cell_type": "markdown",
   "source": "Well DONE! All features are valid and correct.",
   "id": "2c32533f43e6a1fb"
  },
  {
   "metadata": {},
   "cell_type": "markdown",
   "source": [
    "# Exporting dataframe for analysis, modeling, etc\n",
    "\n",
    "We will export it in inputs/datasets/cleaning/clean_finished.csv"
   ],
   "id": "51072928db6edf53"
  },
  {
   "metadata": {
    "ExecuteTime": {
     "end_time": "2024-04-29T22:24:32.808815Z",
     "start_time": "2024-04-29T22:24:32.766894Z"
    }
   },
   "cell_type": "code",
   "source": "df.to_csv(\"inputs/datasets/cleaning/clean_finished.csv\", index=False)",
   "id": "170c9c2de23639f2",
   "outputs": [],
   "execution_count": 14
  }
 ],
 "metadata": {
  "kernelspec": {
   "display_name": "Python 3",
   "language": "python",
   "name": "python3"
  },
  "language_info": {
   "codemirror_mode": {
    "name": "ipython",
    "version": 2
   },
   "file_extension": ".py",
   "mimetype": "text/x-python",
   "name": "python",
   "nbconvert_exporter": "python",
   "pygments_lexer": "ipython2",
   "version": "2.7.6"
  }
 },
 "nbformat": 4,
 "nbformat_minor": 5
}
